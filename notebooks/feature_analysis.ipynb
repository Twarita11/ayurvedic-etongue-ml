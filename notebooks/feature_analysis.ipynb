{
 "cells": [
  {
   "cell_type": "markdown",
   "id": "26818c26",
   "metadata": {},
   "source": [
    "# E-tongue Feature Analysis and Model Optimization\n",
    "\n",
    "This notebook analyzes different feature combinations and preprocessing techniques for the E-tongue system with the new hardware configuration:\n",
    "\n",
    "1. Original Features (7):\n",
    "   - alcohol_ppm\n",
    "   - as7263_r through as7263_w (6 NIR wavelengths)\n",
    "\n",
    "2. Feature Engineering Methods:\n",
    "   - Original features only\n",
    "   - Original + Ratio features\n",
    "   - Original + Ratio + Derivatives\n",
    "   - PCA components\n",
    "\n",
    "3. Scaling Comparison:\n",
    "   - StandardScaler\n",
    "   - MinMaxScaler\n",
    "\n",
    "4. Data Processing:\n",
    "   - Weighted averaging for 10 readings\n",
    "   - Handling missing values\n",
    "   - Removing duplicates\n",
    "   - Feature correlation analysis\n",
    "\n",
    "## Setup and Dependencies"
   ]
  },
  {
   "cell_type": "code",
   "execution_count": 2,
   "id": "7c66aab7",
   "metadata": {},
   "outputs": [
    {
     "name": "stdout",
     "output_type": "stream",
     "text": [
      "Libraries and configurations loaded successfully!\n"
     ]
    }
   ],
   "source": [
    "# Import required libraries\n",
    "import numpy as np\n",
    "import pandas as pd\n",
    "import matplotlib.pyplot as plt\n",
    "import seaborn as sns\n",
    "from sklearn.preprocessing import StandardScaler, MinMaxScaler\n",
    "from sklearn.decomposition import PCA\n",
    "from sklearn.model_selection import train_test_split, cross_val_score\n",
    "from sklearn.ensemble import RandomForestRegressor\n",
    "from sklearn.metrics import mean_squared_error, r2_score\n",
    "import plotly.express as px\n",
    "import plotly.graph_objects as go\n",
    "from plotly.subplots import make_subplots\n",
    "import warnings\n",
    "\n",
    "# Configure settings\n",
    "warnings.filterwarnings('ignore')\n",
    "pd.set_option('display.max_columns', None)\n",
    "plt.style.use('default')  # Using default style instead of seaborn\n",
    "sns.set_theme()  # This will set up seaborn's default theme\n",
    "np.random.seed(42)\n",
    "\n",
    "# Define constants\n",
    "SENSOR_COLUMNS = [\n",
    "    'alcohol_ppm',\n",
    "    'as7263_r', 'as7263_s', 'as7263_t', \n",
    "    'as7263_u', 'as7263_v', 'as7263_w'\n",
    "]\n",
    "\n",
    "TASTE_COLUMNS = [\n",
    "    'sweet',     # Madhura\n",
    "    'sour',      # Amla\n",
    "    'salty',     # Lavana\n",
    "    'bitter',    # Tikta\n",
    "    'pungent',   # Katu\n",
    "    'astringent' # Kashaya\n",
    "]\n",
    "\n",
    "print(\"Libraries and configurations loaded successfully!\")"
   ]
  },
  {
   "cell_type": "markdown",
   "id": "c1a06de5",
   "metadata": {},
   "source": [
    "## Data Preprocessing Functions\n",
    "\n",
    "Implementing preprocessing pipeline for the new hardware configuration:\n",
    "1. Weighted averaging for 10 readings\n",
    "2. Feature engineering\n",
    "3. Scaling methods\n",
    "4. Duplicate detection and removal"
   ]
  },
  {
   "cell_type": "code",
   "execution_count": 3,
   "id": "d66804ad",
   "metadata": {},
   "outputs": [
    {
     "name": "stdout",
     "output_type": "stream",
     "text": [
      "Generating sample data...\n",
      "\n",
      "Shape of raw data: (100, 7)\n",
      "\n",
      "Number of features:\n",
      "Original features: 7\n",
      "Ratio features: 21\n",
      "Derivative features: 6\n",
      "\n",
      "Comparing scalers on original features:\n",
      "Correlation differences:\n",
      "StandardScaler: 0.0000\n",
      "MinMaxScaler: 0.0000\n"
     ]
    },
    {
     "data": {
      "application/vnd.plotly.v1+json": {
       "config": {
        "plotlyServerURL": "https://plot.ly"
       },
       "data": [
        {
         "name": "alcohol_ppm",
         "showlegend": true,
         "type": "box",
         "xaxis": "x",
         "y": {
          "bdata": "BNPUcV5+RkALiKZQGStJQBfex9cgO0JATbOzV/1/P0B9f+/iVadEQPGIW07fj0BAxQHuo6YUSUChCGF2PdpDQKF5O7tI30xAEChRCowtTEAop2fEp2BNQHzY9xe+rkNAhN0Hj+KtS0BZrN0C49ZEQBmLh0SIl0JAdiuk7TooTECrt6dreQFRQCIi3Zd6e0tAjrQanwVjTkAH16BQfkNLQLDoTIoj9khAEDCVi/lQSkBQFG/phUBCQBpR3/U2z0lA7mkT67GRUEAR6uekb4w/QLvsEPzNCVBAoEEtZ4xoSUCoqpC7BzpBQPWgrsNPUkJAyJwG27AiQ0CPr1gO+VdPQNM96ZiSQUVARS2Aj+YuR0AWZQjGO9hGQJWV0qoF1UNAiE9AZV0YSEA+nxObF7xBQE6eGnT8tVBAAgxMQN8FTkAGM50RCzJIQMiSFyaITURAtqO90vU5R0C6GFi4s0hNQNuA1VRTwktA47TY6bHmUECBXaxUQmdCQLvEKLF3qUFAhKw8VGOPR0Doinn4Dm0+QGa3IriBSUJAqt7+GNueQEA0ojZKzUBRQKohaEFEs0BApaz9K7/3QUDflXZHo0ZQQLCxikazc05A7mWt5wsfSUDgMGPc7O9QQLRv3VmHgkxA0vrazyKaUEBrsjK8XR9JQEVDwYo4skxAe+9lZw21Q0D9mjpDqwVCQAifeBPbVEZARvpm2hg7RkDKhnjsPFNQQJshzcDxBENAbyaEBbJTQUCQwaMvdTlMQK80Rh95M0FAcK859cYCQ0DUloqykYdGQI7yhiJVIkZAAi8aW11uTkCGBVR+ZiNDQO6vMjzafUVAcIhJc/1bT0A7u3xPzENMQHDGVTb3j0hA2jJhoCr4TUBxlqdkGORIQARBNNsGp09ALL38e+4aUUB5Z68DN3hPQChuhJBy+j5AQIDn2KlZSECPTyLvAxRMQPAgHTCxeEVAOza+f5hjP0CFxVQPxeVPQHqgvfB3nz9AgyyC8pSgUED/JBXfdVlPQLXQQ+67xUFAHyNj1B0ZUUCa4O9H+GBCQOJ60hWuKUBAhVnI4f6aQ0A=",
          "dtype": "f8"
         },
         "yaxis": "y"
        },
        {
         "name": "as7263_r",
         "showlegend": true,
         "type": "box",
         "xaxis": "x",
         "y": {
          "bdata": "Z6bU7zGM5j+wavezhAXmP12hFJilcOU/ubIOHbP/5D/lkeBvox/XP+6hQtHeoeU/pvIuaDB44j9WngFWcsnVP6g/PfAAgeA/ZU49bzrm0z8OXUBmdbfbP4weDJTtDdU/PhAywrNy4D9Wb4A6cdDiPwPOW1RTt9o/nZzNzMLJ5j9yI8To2VjhP/egXdNx3dQ/pAN260Q90z+oKq7OKOPmP8jFKOw75tI/JBYS5FTD3j9exvnoW8rSP2VDYipakNY/1/NStIZq4j9+vJBdjqXVPzOqkbO+Yt0/oG4NFT0v1z9RKtARs9PgP/xS4foVRd0/A8xoIV2J1D+ddP4wfCHfP40BL3J4i9o/WDx+0I8I4j8NdTgK0S/mP5Pd1DYtEtk/46ClaX++4T8vNWr76DrhP2PfCy8V+9I/ibCpQeLW4z/UgSzfmfraP9C9nvbgY+U/g2gOdEvo2T8He2mYkMPcP00ZX6cKPuQ/1NV3nzC74z+e/lM1wPbUP0rbc6N5JNs/9G07Wzf04T9xsLPbPLzfPxwmZAFZiuM/h1z6ss6p0z9m89eidKzhP6bmnr4o/OU/epHlHzpH5D9aFHenIl3XP2FlpQ/i4Nc/ujzVx+cg4z9BvwAREFfiP9iBlVajWdo/dvjsYuZw3D9bWcg8tVnXP4j65QG+09k/7LRE2g9r4j/YKJwemA7aP3U/s1x1FN4/nBZhLeME4T/8QCY3tbzWP88ekGo75tM/YJ2Gj8ka2D/6TTpKnP/aP89X6msDK9k/gCmRemyy1z/xr5g1jz7hP4sdIf+fOeE/K0wkP67Z2D89/2duN3DgP5CkIDcWltQ//1ZOfaV30j85y9aHkknXP585/fs+reE/jCxog8z62T89stNNY2LdP7Mg5PncE9Y/GygkxkKV4j8bRQGGJj7XP8NwlicH29w/fHFLR+l85j9cA2hjPwPdPwwaNcqAp9c/5h5WeWeZ3j+yBeklQJngP4pbRpy1C9c/KnrrTRQ75D/g/KAYi0XhP4RqOZGjCN8/qho/TGDZ5D+cA1agXE3jP95n4lgKieY/4Cheyn8U1D8=",
          "dtype": "f8"
         },
         "yaxis": "y"
        },
        {
         "name": "as7263_s",
         "showlegend": true,
         "type": "box",
         "xaxis": "x",
         "y": {
          "bdata": "wFyOclNj4j+jbZS6OBzZP5Q1YNXloeE/hiIWFkuQ2z+UecuaOc7jP0pTD81MquY/b3XlxLFP0j+FsEFEJOThP1OyAYelv9c/0/S7JL3h1j/SGKgNlJ/gP7AuEgdtoNU/mIGpVB+p4z/rt16SHSPmP0KjFrj96eU/oBNglnjx0z+QysK6l9XjP+1T6sOKBeM/itn6qHIt3z9KtG2RcJHZP2OVYlsfddM/AGRJhvfZ5j+MkUIpfE7gPz2PzNw0hdk/biL+ZwfG4T/lRmkEOwrcPwkrfOjW6+Q/luILelZB4z8c9/rRUWTaPy6ZO9K0jNg/FM0yWsHo1z+K8ISQzuXlP/K71BpFreA/08YG0Tzc2j/kT7tTUgbZP5JzEAmlF90/xxrp6BJf4j/SEttL6j7gP/xccpERDNo/EezgtnUk4D8f19rI5ATmP7mLUw9jHdQ/zj67heoF4j95tC218u/gP6umzkeUmNI/W65frI+q4D+KgJcnnkLWPyC0xML2VN4/4gZ1Fbxg4z8IB6NoVeHlP1gC8l8cJtU/unGeMBOl2j+0d2DzYAXbPzJtK/GYBOA/dmx35N4P1z9+j9iDns7jP2u01zCrTNs/6Cu0OSw85D/vdNQNHh3jP7P+NhwJtdk/U+JWAaal4j96HvkvuRnmP0lCfLolCtk/5pO+gjU65D/Cr4WkkPfaP7SKylLUEdY/cmQJ1XTI4T9YYudyaFflP169M9p+teA/3l3Na/9D4D/ZIw++BkbjPxz4ZyOOrt0/lzfYftEG3D/axp3+CaHUP0gph8e/cOQ/RMDhC+D15T9axzJKYQ3fP3BSebB2iuU/Xvd5mECw5D/EHiwWMyriP9aND65ntdQ/F7TdnEbr5D+nYNQ+lzTdP3BoF9hOYtM/WQJ8Vc6O4z/FQY6i1BXmP91PznAUkds/PWzHrsJQ4j8VX4R3NbTYP0Nehl8e2+Q/aC+hfWDC2j9wHn36I7/iPxe/SknEwdc/VHZA+39C5D8a3fyLXSjXPxpU8dT/Rec/xXEX+yTe5D8zEQKGvwjXP4pJulaHauI/oxR7YYNt4j8=",
          "dtype": "f8"
         },
         "yaxis": "y"
        },
        {
         "name": "as7263_t",
         "showlegend": true,
         "type": "box",
         "xaxis": "x",
         "y": {
          "bdata": "/DCuj4dv4T9WccoWgurdP/ibW0MyPdM/sn8UcszO1j+a+HexLejjP90X11dTMOI/1EYhuyTn4j8usf+cxjTbP7ouhdqGBt4/AUWGR+6E2D8FVXuZ0rPdP/sJZ9QlDuc//KkA0pjg1j/6y82sURfjPxgsFkSyVNk/fl8Z+vFU5T/GzNs4jRflP0Yge1r/bdY/IHhwp/i33z8OpVczeujYP9cYNfEAv9s/Z5HyV1IB4T8IQ7kGbU/gP/p0a8WGytI/vheJcxAc3D9i7hFBFXTYP0MxejstLOU/PHuSgKJr2T/wqvmVUHrkP/7rjhN6IdQ/b2iTjccH5j9bg3QJWpLUP2iyhjajW+Q/9Y9cphr01T+Ty6nT7j/gP5Mvc6tvZeY/ihb+7i9K2z85LZ1uHFXWP5Lhdn/GGdc/FYiOJzI85T/V+6khmJ/VP799vCF2ieA/g7h1ZfY95D8umyvxWRLjPyYkgmkhp+A/waAbV3NB4z9Al8qVR9DgP738RgtWCuE/v25u3//82T+4BVwDzurbP2i/2zoNwuE/PFo3We2m1T9smIQOdRbiPwcQvXHKaeE/WA8C+SoY1T8XlJsXtGXgP0BpCaIar9o/0V7tDpnV5D9oTnG8LX/iPypOUI36CtY/su3tpDTn3D89HiPzUL7jP/Rfgis88tk/rC0GQESU1T/BoJXSbG7jP/YJth88uuM/Pn9IfQy02D+UJJHLuSPUP0n3WECcF9M/yNaqoago5T/TAQNJSx/bP44MYJ26K90/xDp9xvGG1z+eDQAgbQ/YPySZO3pPvtU/dXhvKfup4D+kx7LlnB3bP2hXDjU7Wdg/8R/x/jUG4T+7OKIXODTgPzPED3ey9eA/9JuNKuyP5T9ISSmB20baP3G/YMgqVuQ/j5YV9KYa3j9ekV1TRGfiP21VIg8g2eE/FoeCc1zM4j+5ViZaIcvhPwbMuBs+Pt8/fP9/AEg04z/qwMXYE4jkP9ZERhZDu90/fRJFV+J74D835SbN9BnWPz7SEEbFPdc/c1NVorNE2T93smdsQrXfPxcdwogzAOU/fajAfoCE1j8=",
          "dtype": "f8"
         },
         "yaxis": "y"
        },
        {
         "name": "as7263_u",
         "showlegend": true,
         "type": "box",
         "xaxis": "x",
         "y": {
          "bdata": "9WxIfGdT2D9kDAunCKniP7UY2jp17dY/9wLfmsGN3z/TJRvsbDvnP/hbaqT2COA/Ah0TMVd74T9kUv6Ukp3gP6nPcaTB9NU/liCvJs2C4T88DijrRXbiPyYFYZHtft8/jCh1TBji4j80Y3ugYffTP7mI20ZZqOQ/pHtAAyX23j+gnn0ptn/bP+N1jYJNEuQ/iKjZ3VDM0T8uaRYh//jXP+4euQlSaOM/db9dlglf3T857OSODd3iP8Ofrw2QDd4/qRpXiwyj4z+xNgtNVQ3VP2JcRkfVWNY/F/ugNge03z/PwVc/+/7PPyZZqtwDWuQ/Zhp0OT+I3z8T+dR6VRXePzyWPzkyVeY//pFSeCiV1z/vLnvm+ynfP1BBqL9UZuA/VSPDwYDf5T9Pe+yLCg7hPwWeke0ejdk/C2r0e8Pk4j9gyhBoJYzlP196DODus+E/Q1O1Of3m4T91Whl6/DflP1hsv9eoteE/w1w1pWoq1j8NLc/ZU0bZP2xp3cNcFuA/FBSiblN43T/tV3CR4pDaP+/BE8H5UNY/7HVa0fSF5T/88QW5scvVP+fVOk+ul9g/9rIb48h82T+2NX6HMDDTP5LBXgepMN0/KAxLZegY2z+8VYNDakPXP57BWb4ZiNY/EnL1Nr2w3j96QAWfrhPlP2DtC13Re90/zNvQItCm5D91yF2o7IbgP9XdLtm9C+I/LKPJQgUL2T82mHoiAojlP/R5EOVkbdM/f2CALh752j/XOSecW+7gP3h2JVXqIOQ/nG10Hovf3T82rvH9UyvaP5WgUb2/I9g/FBRFDryS3D9olSlpu/bkPw7sBJf+4d4/Ykt+FctI3z9EtYAWF2/lP7XAFaMXaOM/Goey7Dvx1T8lt8LFyrzVP4ouloGAtts/czYuTfxW2z+ku94PbADWPw5uW10Q2tk/qTj55Lad1T+Fqz6VgangP2pjqa5tD+U/4C6/st045D//JW41xADgP0D5KDFzc+Q/BRKx/UhQ4j9wMrnSoizcPyNVq2r9L+E/eP4MuAoy2j84bbaGDJrgP6Cd05CNG+E/dhXiir0P1j8=",
          "dtype": "f8"
         },
         "yaxis": "y"
        },
        {
         "name": "as7263_v",
         "showlegend": true,
         "type": "box",
         "xaxis": "x",
         "y": {
          "bdata": "N9cBtyYr1z8cqaQM99HYP3CtwrLMKOI/NswqiklF5D9sDwxwLmzfP8LSHr0lbdo/PsoQqGfx1D+NNODb57/XP9r5Uy42ZuU/NXpbGVOU0j/LNUYApB3lP0cXW5RHuNw/OV4VtNec4T9uc6EkeUXgPzqtWaPVVd8/+yrAO3+q5D985lCkoZjZPxcEXMHlbOM/+vclvpne2T9c4pCzND3lP+Wpqp0YPOI/mLuM+oUd1T9xr9dT04vlP8XkAJ+BGdk/di0ykImC5T8dnhHQFI7jP/M8HLvzXuQ/EI/kgTE12z90zy21ZZjcP0eZhMGX4+Y/Mwq8XcHH3T/SoWJwFgfjP0dJKEAUCdg/hN5e3oAZ1T/BthZjLCPTPwYZFSfJN9g/2rA4nKpk1z8f0dxLy/vZP+Tr/srTTuU/fIUPYx+P4z/qIUxaZLviP2pSdoRZseE/8XRYHFzV5D813ouaSFTjP+juJloMAdk/tsO5bnGE3j/Ckgd6YYraP/RPjJPIitk/xlWPu9u02T9tGwq2wazbP41J4LbJodQ/XHJNS7gr1T85ArFHvMPkP5avFxi/xt8/Qvr+hjtY4z8FR0dfUr3lPx1puW7u3eI/BXVYZMRA4j8jQGeZrVLiP7jvcehzBOI/nhVplZ3b2j+i7T7AUPDdP23Xwfb8kdo/PBE/sh1/4D9v0x0uqMDUP2QsqKjM9Ng/YqRM78dY5T/2SPw8KLnbP6t5dOEbWuM/A44iinaM5T9vf2V+gBTjP/q2y1GGSeI/8+6mzpOI5D9cIA5KQ+DXP7PbJ76nK+U/3Da8ePm33T+PcPfQ1mjkP03H9zofMOE/oqawRlVO4D+LV31+ejbmP6zncoiJ8N4/8BiJKtPn4T/a2MbdF5XXP8Z6/SfQpdc/LnbZXLdO2j+pOVAJ1M/iP+oimp49OOA/9D4i0QFB3j/8CN0fgB/kPypBn8lgn+A/lFy1UFGB3z9ufvP9iwnbP+Yn/72Pfts/wU16pVmB4T8bAx8F1qPeP1dSwJeP8t0/KyYARpNA2j+qmMoBTMXiPwL5VXaV2+Q/xjxayvpa1z8=",
          "dtype": "f8"
         },
         "yaxis": "y"
        },
        {
         "name": "as7263_w",
         "showlegend": true,
         "type": "box",
         "xaxis": "x",
         "y": {
          "bdata": "wAOWH8HS1D+efVT7WcDUP5f1WT6Vs9M/yPacsQzt1j/57NCpVaLbPzmsjgpD/OI/ZELbhbe85D/k1YYEUEbfP9gp4iw5TOA/kzsMVvZ01j8dTJpjljziP91m+iPh4+I/tp59NV/b5D+KR1S21VfXP8gj48cNQ9k/xNP9+Qos4z9Jzo6qrTjhPz7jy4tZ7OE/3K/KwQ0I4z+zl3sWFSviPxsozGt21eM/QlA4/nUU2D8G0H0gBjHUP0UJ5LQz/OA/k5DQU3fU5D+mfVpmY5TePzIHfSAD/94/s8akmekW1T+I3+9gPnnbP1bTIR12hOM/5nCBYHdP4z987aE8OufkP3WeRglqeNY/XzCuGaCs1z8zQs5ghgrkP8RYtG+zmNU/VBmwV9Td3z9MJH52LPzfP6KqbPWng90/psYuxJAm1D/gm5171nXgP3GqGiYwxdU/lPPFMSTc3D94Mu6nXvrhP0UUE4N/S9o/DwyJYSVY4j+KZSphA+TmP1VisPp0gdQ/nelwae5k2T/luqumkXfeP3RYy5P4XeU/QWs++gKA4D9lVhmfr1DXP4/zLG9nD94/chgwkXgq3z8axHA+J//fPzKsaEVOUt4/shv9QVTw2T+kNkBldurZP82ojPK7A+U/0Qbv3R/j4z+zCyBOIUXjP4QjJKRvTtM/gjG3MHZD1z+yndLU0qPTP7pLgocBj90/gajCny0q4z+N9BFFKTnaP4J9LIjugOQ/dC8bWYTg4z+nZCiJcNraP1UftYTsK94/DNR8SC1l4T9DDKYjwfDjPw1BwvJ6otM/ClL5eK3/4D/82gft9OjjP3C7zyd3C9I/lhzYabhe4z/1+mnRisPTPyAvGPqvq9w/fpmpJbAi1j//1mXJforWPxTAadN/IN8/nJpZqQ0b3j+F3GPT9ibdPz2+QXD4vuU/525Qnbaq4T8csk153RjYPwB59DftgOI/9m9sqR9I4T8xQ2PnGkTiPxZL2YbJPOI/65Fme45h4T/IE1B/KlvcP/bev6VuItU/nLj34qt52j98Rt4ESR7iP7BCQFood9Y/JDqFuUCm2z8=",
          "dtype": "f8"
         },
         "yaxis": "y"
        },
        {
         "name": "alcohol_ppm",
         "showlegend": false,
         "type": "box",
         "xaxis": "x2",
         "y": {
          "bdata": "xQvPb0LW07+Mn6uoas3CPz/w7uy5m/C/VguOG25j97/xP45goPnjv0bYB8NWK/W/9ncIwqXiwD8zZ4timlrovzppT87J8eg/BkAWpVcm5T/JVGtc4rTrP01Dhj5YSOm/uVH5mZZs4j/DVt2FuvXiv90fFPBnPu+/duK8TUgJ5T+34NFuXYT6P3aOCz0WWeE/DVCHyoKc8D+J6009FyfgP60V5Iwmj7w/RRk3HyXz1T/fOFu3+4zwvzF/pNCzaNA/sEAwjGsh+D9SKkNRbFL3vxyfFWixOvU/8Lb6L9wMyD+tVOMRVFrzv/4SaN5eXPC/qxVB89BF7L+5ZXnC6jnzP1PF+12fruC/aJljdxaZyL81K6n32f/Pv+didlofd+i/0KhLxN6jor+6YEOH5Pbxv8MXdzjG5/g/PtLJB+Y77z9VNtYClLyTv7FaPeN15OW/Z2Ec4Eunx7+BGLPU9jHrPyVPogZP3OI//hgevP/x+T8zNj30HyPwv0fhs13KKfK/MWYb8qBbwL97p3YxGdv4v0ADMcNudPC/vjpxPmQC9b86hieXfd77P13kcdecyvS/35B2IN5T8b+xOuNYL4f2P2l63fkWyvA/PhKzwuvFwT8t/Ba+ciT6PwCsgDrS9uY/o+IJNI5P+D8WKI7G6MzBP8nOLTV9++c/Rj1VjNsl6b9NJBUe0i3xv8xqdhENnNW/jskETKC11r/BqtuKDcz2P5FZtlFm6Oy/zQ2LqzAU8788Q4kpcWflP9rS6Gc/bPO/nFKToD707L/1DZ6IsHHTv2pecndVxNe/lOu8KoK78D+zagwv8EHsv6h/IFdPyt6/h/lqLOVE8z+op6Zg9Z/lPyoTyRw+N6Y/HxFUK/3w7j+96J/7MXq5P5Gr7Pj0EfQ/Qx7aUoEP+z8KfxpSB5LzP7J3/DfnGfi/MmfMgwxUfT/la+asy5rkP38DQhC4At+/czObUTqK97+NSL8KbL30P5Fs+8RqOPe/vGiVPcly+D/yomN1+z3zP7GbBgyL3PG/OafYsJUF+z9lFBHtTzTwv01d+5mcQva/B8BgL0a06b8=",
          "dtype": "f8"
         },
         "yaxis": "y2"
        },
        {
         "name": "as7263_r",
         "showlegend": false,
         "type": "box",
         "xaxis": "x2",
         "y": {
          "bdata": "2Ct7qoIV/T9MElkg6/f6P2/18zw+ofg/hR7c4Qjb9j9lKHIbfDDuv3kpQxYxZ/k/VRHD2z1e6T+LMsmXSsjxv8QD78llHtM/1cmBcueT9b8TC0t4B3DXv+GWYU9WQfO/jwCMLVk40j8VK9xwDCTsP5EzMnARfN+/kK1MwxcN/j+qQCwyOlfgPxAifMPSovO/AUgtyaHn9r9M55wVO3P+P6dbWnGilve/46BapOgFkT/a7abnrs73v9/V0oFZOPC/TAcnYFrw6D/DJ1rzdBDyv3SmoK7cBsS/LLx9+L/x7b+ojIL+nVDYP3tR+tvy48W/hdkVt+JL9L8AQOmvhhawP6oMIcRkbuC/uaFhunDc5T/IrfRyBKL7PzWcmuCmW+a/ZNdyI8GI4z9qaWm81MzeP6ArEsC2bPe/38hUomkx8j+DSlAv+17dv7F7CbHlbfg/oqxFo5f+4r/jwIBUYgfOvyv1HPhA0PM/pPcKOAvC8T/CnfCa8G/zv/5IwsAxDty/Oy8M58045T+iOUXWkMTBP/YzceKg/fA/7IKymWQN9r81NLoHpffiP9n63fZH0vo/9WxUOjH18z+AC/H4LTntv8mdzM1dJ+u/h97PazOr7j/qwEHJz1PoP3wSCH7KNuG/27TxjI2c0b884qpv9kbtv9SIICM+UeO/a1UGcKn06D/8Bo/tkmTiv6ZGvi5vuLG/X171wdZn2z8xnFqOU77vvxb/Knnlk/W/2PMcPoI+6r+GeJzksDbdv0w5GtbF9+W/GaPO7TLi678iBY9tiAffP9Gr2sYouN4/D91Fltg+57/mH71pXRDSP3HARahNMvS/v4ktjv50+L87GGHB2YftvxT9W3wA/uI/qx2G6i204r934H7fmgzEv9l0h0CpMvG/Tj1rqw9I6j/rXcdsyLXtv5qPK6v2jcy/j+Q8NgzY/D+tw4KgAAfKvwB2k5MdDuy/ghCZaSs2cL9OcOEMbaTUP5yarrWggO6/3QtPU1fE8z+opiPT33ffP7Om1zdh7qk/pHBkcetA9j+A3J7nYAjwPwLBpgHTCP0/ZNel2t029b8=",
          "dtype": "f8"
         },
         "yaxis": "y2"
        },
        {
         "name": "as7263_s",
         "showlegend": false,
         "type": "box",
         "xaxis": "x2",
         "y": {
          "bdata": "S5FEWzUa4T+AIUHhodntv3d//gddCtY/LX6r78H547/w/LkKaoPsP0GGcx0txPk/wquiKXib/L8C5TeC1zTaP16w+7FKqvG/+tBJa9xo87/fknATbi63P3jerWV57/W/ci1GYcBY6z8XnVZKFaT3PxAHKe8qvvY/NSKIVbtS+b8gVc6puL7sP9sZvjX9M+Y/SQuCVLa4xb+DBizE2QHsv6JGQdP4TPq/bbeI3QaE+j8gPZHUCUKGPxUtSFAWM+y/V7oOcgxQ2D/O6PR4+w7ivzRf7ulAv/I/99zRvFIV6D+xhXvpGLHovzETlqygDfC/iI2Ic5BX8b+XSjO7U632PymPfjkhoLo/pShHBHPO5r8mZ3WhxjHuv7f4bE1Hpdu/pKTYBfv34D+cYA6ITiZyv8LQqKFKFOq/p/kiLC4on79Pk9sfcir3PzjMkOBa+vi/bmgU9ZVU3D+sZ8ESAbPFP1PzfZnLCPy/3DKyP7LxuT8pfWfkE6n0v1AxP0P5qtG/+pOFjw4S6T+EL9CvUpv2Py9J50Wf5fa/0bYEAXis579Xb/MV3Sjmv/5wkAvIm6+/+QqjXgYM87+jNmxVlobsP6xvby3vCeW/AySDInT47z/TvKEYw/HmP9uTnW+Vcuu//89TlxQw4z+Ck0MUSH73P5kdubdgIu6//9S+dqXo7z/2U6QVdmDmv5UsrYtCC/W/XUDr8yB32D8KzwOGMnD0P2s/WkLVsbw/hRjkmuBzQj9uie1wEDvoP9I7b9SA5ta/gz06Pbcc4r/S7JHGavH3v+kPH1XWz/A/zXYNwP/t9j80pRk9+7zHv8SvUt+vPfU/HlkoEm3P8T+1vUUbuZzeP+Mi27RuyPe/BxmpJvy88j+QaVfMRbzav8xE7p7Vcvq/6GaK/+mE6j/NH+cinW73P/7Ad4WX9uO/D7fBUsOE4D+r1l7IQ3zvv1PqTIn0e/I/bJy9oIg2578FNFFPSP3jP8JOLXEGpvG/vUW5SrEV8D9t+f0+u9ryv9hHKX3WNvw/6o0cMSKI8j8wVge8Wxrzv3o7UgMwVOE/aKksRjZs4T8=",
          "dtype": "f8"
         },
         "yaxis": "y2"
        },
        {
         "name": "as7263_t",
         "showlegend": false,
         "type": "box",
         "xaxis": "x2",
         "y": {
          "bdata": "QRfqYoTv3z9DEVtQTo/FvxD2AUdXtPm/88gkInsD8r9StD5SqaLyP/RRWDKzdeY/aDwxzKCd7D/o6GZd4hHhv0FWCuZArMO/B4LwNpGm7L/vIkdHGz7JvzbCt2o8GgBAOfFM6R/d8b+0Zp9Q6TzuP4IFHIQTJ+m/F5V39dfG+D/3IZEgO773P8/ArakX1PK/bMiyewQJsz8b/fXjgvnqvyRth0k3fN2/6auz5HyD2D8NNnCn+xDJP3LcsN91q/q//VKguwNa2r/zvB/MLu/svwPz04MgF/g/H0O2kjXE6L+V0M8ehhj1Pz7JnXhiyPe/U9f+Q6PJ+z8HREcwItX2v6NdV0ZNlPQ/G2XQZ8fa8790kHHUxfrGP3K+F8xOXf0/3k9eT5m14L/JaIlTuQnzvzBJavbmYfG/Nuhs6Stc+D/hwwbo5pD0v9kt9HEMcdA/To12NmYU9D+FEw+3FhLuP7hs6TSOcNI/oqFv+Beo7z+W6vqv+zXVP8M0vZnmHtk/ocJKHaxR5r/H65JOpALcvzDPs84dv+I/hvs1aBmB9L/6bVu5tZblP8ewdTSUjN8/HTN6usC09b9CM9gQIhHMP/cd4gAGUuO/tcqOpPah9j949KEPbh3pP1kBiaJ7qfO/AWRx4eSC07/fPK0NO+7xPzJuMXoRgOa/hKTRTFCp9L/XC5BH5JXwP9vLDL+j3PE/T5352Hvb67/qc33EicP3v8dRRDVXBfq/ixIr1fYH+D82P/sIeW7hv/ZujXs1NNG/i8oRJKN28L+MklkWBqHuv6nQr/20TvS/b39vZLOh0j/6pioNuHXhv5JJvKXqYu2/8KsX5cfX2D+W4Zn+3mbFP24i6IUTu9c/rpKNtQrF+T/3zlVGVhPlvxpWsEa5fPQ/+Hk5k0hRwr8G/Ao+Tk/oP8JoO+QDhuM/c7kPQcK26z8QXDw4YA3jP860h+OxHYU/LAIHV5I27z9NPdu811P1P328SiHZvci/95fswfANzz9CkU+hNInzvy3ndqVUFPG/MxQJzQNs6b9zqhXXgquyP99OSq2WWfc/HvEaG5ij8r8=",
          "dtype": "f8"
         },
         "yaxis": "y2"
        },
        {
         "name": "as7263_u",
         "showlegend": false,
         "type": "box",
         "xaxis": "x2",
         "y": {
          "bdata": "wz1PIhcb7r8UT/SnDH3qPzrfH1UAGfK/JA31F7j3pT+TnynC4ZMAQLMES4HZ+Lw/gm23BjU54D8qal2iE1vRPyhxJH2RNvS/n6nuXjF64D9haEJ06MLoP7hbTLhy7qE/GbEZ1BFu7D/ggD+7xYv4v6krT59h8fU/CVMOkvZMo78dmX5gXUngv98XBl3oY/M/ebgzjXhE/b9KXedt1KTvv95aVqubf/A/SoQnp6ZD0L9IeyATJ0LsP1FwoXH2psS/6w9iTGF/8T9JUTGugi72v2YswLmkXPO/t35G/0wxsD8XqpsV+pcAwE2lYdw5nPQ/sxiPPtF3pD8Nbw1klR/EvxQTdkEUPf0/S080MtKr8L+TEah/p8KEv8gLkRR4Mcs/K5zetYE8+z8udpmwWQLZPx/EEDrOxOi/DVCmllCF7D8/1Y1/edH5P2A0T0klJuI/oJxEIdzi4z+P+uH08WL4P2cAXPYuNeI/2MrhFrjB878vwM0QH/npv/kjfYdCT8A/yxf938LOzr/pS7jhfVnkv4b+HvrAbfO/owDEXYS2+T9S0EoE/I/0vznhXx688ey/+hZqq/ML6b8e0pUxhz36v8FaK1uc19G/UPPQXhcJ4r8BQwqm0l3xv8YX8gO39fK/x2Dqn6cYs7+SvGvC1cT3P5/3Igjukc6/Mb6/brHq9T/hiYdSEKHPP+/NpC78IuU/9+s9n2n76r9xxB80dL/5P89i4xlAuPm/5w4WkYqT4r9zJR8YaNrWP8OHTjuMo/M/evKLs6XIx79YNm3AyRPmv2W2F/Ci6u6/4BQ5XzE317/iMR7HwEb3PybXq2QSyai/hGkBuqaReT+iGMB07lL5Pw2b91KdfvA/rJzDDD0+9L+Wpp1eb7D0v4sKc+d8td6/EQfbobv64L/lkIdTKh30v+azUM60dee/Yc296hv09L/VlCuq9yrSPwmukUJPsvc/XYn8SdsL9D9Rxi9mqb26P94jCbn/CvU/MLcSSgV45z9Dp1zagLDav7PsFRfCUds/XdEybYz25b/wrutBsR3RP2PvSvi77dk/qJDV/s77878=",
          "dtype": "f8"
         },
         "yaxis": "y2"
        },
        {
         "name": "as7263_v",
         "showlegend": false,
         "type": "box",
         "xaxis": "x2",
         "y": {
          "bdata": "L9NuIyEN9L/joxjxi27wv2bKZkOqiOE/5pThSkEF8j8wKAic32e/v5sWD1Ho0um/VyGMybXt+L99kpqKI8fyv+8IXomX9/Y/2cvwWrkb/r/a2QiThLn1P3VW6A0Xi9+/WOMi2aN72T/wy6MDbnyfPxXhiGK3O8G/US5XztnA8z8ow2D1WXbtvy0q8kuqoew/Fq6gYK5D7L9BLRDD3UP2P4iWVPHQMeI/YDogpQaN+L9wibp2c5z3P9xKh0yIo++/J5xw4L1z9z9wk2jfjMTtPxEoGAS+dfI/pld4cR5m5r+BbOB7SFHgvyrzHjApf/0/k8DCb14/1r8/ujOiNiXpPyUtLRzIJvK/HvcQ6NWV+L98xhzxrOL8v3G4CfJswPG/kmyEMhaP87+2NmVGusPrv5nTrJUZkfY/Di+ooK3N7T/w5EfVrI3mPxnV7joq49o//0zqN7d89D/jiT4358nrP7Ryo4RdB/C/BZ7fdraSz78P46iTx1Lpv09dZsALs+2/EB0qeKL67L9n/fSpFFrkv8OatScwnPm/tYH+KOpt+L+fE/IneC/0P77apMxYALO/RoZ714Ts6z/wWH7VY3X4P/YvslxxvOc//JQd9sJa4j8p3rVLxPfiP9JKgawNSuA/sHRjlbvu57+kqOcG09vUvx9tu91vMem/B6/Mz2uptz92ehgoilj5v/au7Uk1IvC/zTj07Lm89j9L5aPquiPkv8UBo473/Os/7y/Rzz6f9z+4qxgdzZrpP+PmlGiHp+I/BS7+6C4s8z8dhtqrOoDyv16IH2rx9vU/PO1HobPJ1r91Q4SZE6HyPxcOSB+UCdI/x9UXltmYpD8QdxV+aYj6P2BajFmiK8i/WJRhvTWe3j+kFtgC9iTzv/2d4eRRAPO/EdsWCElY6r9O1pcY0UDnP22F1gOb/JA/9qIW230Y0r86+qJWo1/xP2NaOWruP8A/jOv9ZMOCvL/9fUY9ayXnvzZ2Ix+NJOW/LxVic6aZ1z+8luUWV2zNv5DhsQkkyNS/HogfpkOW6r/MzAQNgOTmP2dIdMb+l/Q/LihvpFCk878=",
          "dtype": "f8"
         },
         "yaxis": "y2"
        },
        {
         "name": "as7263_w",
         "showlegend": false,
         "type": "box",
         "xaxis": "x2",
         "y": {
          "bdata": "G5oapb4I9r+jv0kTTDH2vxKY9ZeNgfi/nuKQ549m8b+yQCMjbRrcvypW63UGge8/Dn+vh+949z/PhIGA8OKvPyvFDR2cQc8/Apqcfi9v8r++wOFziefoP0bB4REcqu4//C3ttgkA+D9rpU9KQHvwvxrHeUScgei/b6bmmReT8D+JpVr9NOnfP+SNUPdKJOY/NGnkhfbo7z+6dsOgPU3oPzH0unjBffM/0JzDUDG37b8TzNjsIW33v8fNbbQVv9s/KwWGVprh9z+F2TOgYB+hv5DPisBmfpg/zP6YVY1y9b/3FZbznYTdvzdZEMjEGPI/RKxbsjUv8T+RG+aiSTT4PwoqRi6UZ/K/Y6Q8kdCA778PivpynGf0P/srQiyNVPS/BBMcB8lnwj8JaHsft37EP5ry8DnED8e/hbvGuy2E97+yso5Wan7SP7EmFhuF8vO/4+wOQ2tM0b+dk8mw3p/mP+3TSAMo9OO/f/jpuXLa6T81mhWwTHsAQPXFdxrku/a/P8VZZk7s57/7KJX8kQ+pvzwnd6ucP/o/ldtLRcQx0z+KpewPAYvwv7W+Sw9g4Lq/sGlc5rA3qD8zQ+j7PbPEP+ORPkyXqbG/j9x5XfSF5b9aKp5Yz5/lvwc+ifrrsfg/qEWIWve58z/O/bb5pwHxP9BkSYJwYPm/8w0wKyWo8L/s0/zJR6T4v+3hzLSuR8a/JI1e0t+K8D8WnxJl+ETkv+ZbYaRzcfY/ND7qeXmu8z/dYjbhL37hv2CtU2HW8ra/XEYcXdR84T9J5KY2CfbzP41bFJE9p/i/ECL+JVv82z9Fr3eJq9PzP5wtsoAiKPy/QWyx529y8T+69VGoYl74v6lE2Y+C99K/lGMh83sk87/tFYhOvD/yv3GKPI2KeKU/iK5zTaZFub/aNrSzznHNvxF0lzYb6/s/P9N/y7/h4z8uKEhNyKPtv8cQwkPnQes/+QVudL584D9G/Q3UzCnpP20I5zJM6eg/gQdNM+tc4T+Dr1BLQb3Vv/v/79YqWfW/TPcQd6ko47+sz3IpcdznPz5YRQpZavK/fZvayeP3278=",
          "dtype": "f8"
         },
         "yaxis": "y2"
        },
        {
         "name": "alcohol_ppm",
         "showlegend": false,
         "type": "box",
         "xaxis": "x3",
         "y": {
          "bdata": "0Eb/dMQm2D8kR+J4FYPgP7Tm5lPDBcQ/gGde1g6AnD/UujLgPgzSP7DGwPpQ5rE/Cjx1+tld4D/oAp08zMfOP1a4SO/Ap+Y/bMAJBfWA5T8KeT6CVH7nP4BqgUk3p80/JMl2LTet5D8YQuPQ+6nSP3CnWtrPasY/+tobdyN45T9Q7CGn7S3vP7Y9CIecWeQ/yNPcEdwq6T8wSfLcwPzjP5avP2g+K+A/fqWibIJq4j+IX9TyjSnEP2QfwrxJk+E/GjEWuCG77T/Amc4oXMqdP1hrAnha+Os/gCmCNwHp4D+g3osoH7i6P8QXKTeSn8Q/lG9CFg0Gyj8aoUxEI8HqPwzySV/iC9Q/TNbUrFxw2j/EGkk13lDZP+hHgPstpc4/WEGfc9B23T98BIQX87rAP4zhX3mEM+4/1rH2O1yQ6D8MFbLG/svdP7zvH9hY4tA/aDkTmQyV2j96Aw7VmVbnP/jy6U4ez+Q/xj5ubBjV7j9c3sjYiyrFP1BRAKZiP8A/vNHJkm6w2z8AAAAAAAAAAOTLv+InZcQ/YDmLpSGtsj8AAAAAAADwP1hg46b1u7M/9E4xZrlGwj/YJbSFJsLsP0QKEcOFRuk/0oGz+hdv4D8MPWnXtvPuPzK8KproDeY/6DZO4SHX7T/2KiK0n2/gP8TCZOQCXeY/mMXa9xPRzT8wJWAmF6PCP1hYhCEPndc/jFWFo5xH1z9MK2ey8uvsP6wsMiOzQMk/KGmGjKsMvD+IK0NdtpTlP0CMdN8dYbo/3LeXYVIyyT8QJZ1ZSUXYP/iwCmV29dY/RKLHO6w96T8cySUnwgrKP3ju7YTY09Q/5ojg+MzH6j9KiYDp3KXlP5gyFoGOA98/8LIOy6B56D++39UKUQ3gP2YSCeRBROs/7G3xMGCC7z/AcP5dnfbqP0DW71FMUI0/KDsknGxP3j+mqKcqnFblP/yUclC6wtQ/AA23+YuOmT/KPcLTUqzrP8Bf0wJww58/fuA9voPs7T+mIB/kmsPqPzgMdQzr+sA/do4+1Fp87z+MBP8Q0gDFP4Cmz6GtNKk/CG9UyDQkzT8=",
          "dtype": "f8"
         },
         "yaxis": "y3"
        },
        {
         "name": "as7263_r",
         "showlegend": false,
         "type": "box",
         "xaxis": "x3",
         "y": {
          "bdata": "cTlPoi407z/J5VKIivjtP4GA97yhm+w/fVLXB+uS6z98R555VNPFP1G1xSf/Du0/CaJT5Vml5T+4FgEYsB6/P7MTK8wJCuE/IC5CAz/Zqj+en2idba3VP5hcdCi+QLg/mTdSHIXo4D/jU/SQMHTmPwqm+2chVdM/V7sRSHnE7z/5sM9A6wPjP9i2H7w4erY/wJX2qq3ynD/////////vP4BmFhPwMpA/MjH+VDbR3D8AqvDmSzuIPxgxMxexM8M/xTKGWVSF5T8AYYrpOM69P7os/Vbbltk/WAdJPnQcxj/Vv8gd2svhP4rmGlJYUdk/WI0+gPtlsz+Gpn4a4a3dP8qqjAVZ7tI/nQc1GLuf5D/pUXzYrFvuP5Q+IiAs9M4/u//OtCXy4z9h0oYBv73iP2B94qC+QJM/AbBCvkXb6D9aOWbIzfLTPytkBxG1few/wFEE5Olv0T/a/t6KySHYPycbEvUKzek/o0Lxzl2a6D8IT/0hdme3PyC1+aPxVNQ/gQZzDwxw5D/69C13khjfPxlgRSblJ+g/kFop2WFspj89pYy03MfjP/d3XiOb4u0/wTQcFpLi6T/QSWYOl/PGP2zZbockXck/AWJBR8Uw5z/x85mRtlflP14MSkKOedI/+v54ygtg1z/IG0hDhuPGP7AMSau+P9E/l32ByJWG5T8icFAIrcnRP15BYuxcN9s/Lf1PKyI/4j8YoRCgmgPEP+BZdmtR2ao/RPA9CZBsyj+qoBFhi/7TP7DtHYSXaM8/CJLqrl6DyD/tfZqMTMbiPwVC6fa7uuI/NAJ2klrrzT9fUf3AseLgP8B7kfJB3bM/AAAAAAAAAABMXpkI5JfGPwFQm/K2yeM/5F2gHEib0T9asNQhBZbZP1z0Wc4p7MA/V7eyh3zp5T9YfysTWmLGPwYhBBXHWNg/8ZDyjlwQ7z+OislOCrfYP2i3vzMuUMg/+hV7e/Ju3D+36q6Z3ULhP0wf2DrqdcU/mQ80nhnG6T8dvUjPqtbiP0Iifr6lc90/8UX3eRk56z9jp9SA9pjnP3WtA+TJLO8/UIs8LM48rj8=",
          "dtype": "f8"
         },
         "yaxis": "y3"
        },
        {
         "name": "as7263_s",
         "showlegend": false,
         "type": "box",
         "xaxis": "x3",
         "y": {
          "bdata": "HHnH2irt5D+o02SKUNLOP9D7LQC8NuM/WM+B3sX41D+e42URuyPoP44LyrkVn+4/AAAAAAAAAADazLu/4szjP9T35Hwfpsg/+C71mia4xD+4lEhDN+3gP+h+PosXD74/knA62qHP5z8W5N1rq2ztP+IUnFYw6+w/QBiKVJyXrT/E2Vc+bjToPyIiGYvaXOY/4PgBHcUp3T+85+Fj2XLQP1CNsELHyKQ/8vHt9yAL7z8gtc/0ZzXgP1BN3eweV9A/XtWwf6GI4z+kLNlNKQ3WP0q0dwoeq+o/SvcGsWPk5j+CMUDL1lDSP7BC2+G3R8w/oKYCCntgyT+cVEBptOHsP/wIZ/g/DOE/wlx9haZg0z+A4F8YCW/OP7hid9rTb9g/8lythofj5D9m/V1qHRLgP0pbjC3OiNE/zEmlwEys3z+kUALfKijtP+hrVfH4WbA/YhfdvXAZ5D+QKnezYqPhP0Be/BuHpoQ/3psSNRwG4T+AQroVz+bBP9BFsN8TP9s/Mn37F44r5z8Q79u/kNfsP3DiF94curk/ItB/zp3j0j/Mno8h573TPxwa1rzbG98/mGN7n0eJxT/qS8HLnyToP/TIfPJ9X9Q/CqZTd/Ec6T/O1YxmSpLmP0ik3kmIw9A/+A3eN3+D5T+K6xSJYVftPxhAegFhgM4/QDuJ/X0Y6T94JnmTl57TP7QXjw6jCcE/TBEEDSKO4z+iweze757rP3x72fPkHuE/qOCBmqId4D+c8opEBO/mP3x7X2Ljxdk/Em8iV20F1j+wXylNmwO1P0LtU38dlOk/LOvkNiAG7T8cLJBiFeHcPxxrcHepEuw/1pPa7Q0k6j8Ua6CermvkPxjn55hBvLU/xKx2+dap6j+ks0wrcLHYP2DuI6mcc6M/6pjdePuT5z86PXS0jk7tP75un0SO+tQ/Lv4iBhbD5D84TjZwy/rMP04pZZY3heo/zMbIlwgm0z/UuHdIR73lPxDNtfi7r8g/YqHM4Egr6T88e3ZRUvjFPwAAAAAAAPA/CKEfWROM6j88sDLD/WjFPy5aOU1+/eQ/qp8ZHUIE5T8=",
          "dtype": "f8"
         },
         "yaxis": "y3"
        },
        {
         "name": "as7263_t",
         "showlegend": false,
         "type": "box",
         "xaxis": "x3",
         "y": {
          "bdata": "TCAJtc/V4j9kM6Lq1w/aP8CItG8dypA/VMBcAMfRwj9wVnEC5J/oPwhDLVx3meQ/jLLX8b5F5j+ea6OvqrbTP1DG0T17Udo/AMLeV5DWyj8s+TLru4/ZPwAAAAAAAPA//EV4Cyslwz/SHXPMmrbmP6gEoboCpM4/VHva9Gn26z/Ivdf+lmbrPyxxftE7DME/1ON2peRI3j/QGheA+KjMP+zn3rR8+tQ/PCHk0qHT4T+cOeQm4jLgPwAAAAAAAAAA4AV3An/U1T+Ikex3oIfKPyouLj/olus/PDoL/3sPzz+gFjrjPPbpP6DczxNSG6k/6F3jeFyZ7T+wK+lMXq+wP2bUkCFfruk/wGNiAUCivT9cN021lg7gP3KlVEjEdO4/ytiqidPo0z8s4iAOopfAP0S00CYRMcQ/MJ+zTG+86z/YuR8CV4q6P/jB6D/XuuA/VszOZdpo6T8soJ+Q96rmPy5SUGJYAOE/zFLY6E0Z5z+Oh7xVvmDhP7J4Tfm/6OE/loFaJkjc0D+8+wgVGWHVPxJ+deUhl+M/GORMtQ3Puj9y0s+d3VzkPzpXCxJeyOI/MAGZQk+VtT/al0F6EmfgPyQbIgWFfdI/ID40MhXM6j8YHhQmMVLlP4jon3qZeL4/UPD++mKw1z8qYNFb0j3oP9548XsQw9A/iPtKTTEguj/IZcgLqoLnP55MuLBCNOg/QPTHk1Ozyz8Q9ePEd0WpP8AstJ+YkoY/5O/AcqqO6z+WRvqlV4TTP4S7isvpUNg/qJ6m544wxj98Ty21BLDIP5i3GX0rqrs/8G7l7wUH4T/C3qtlZ4DTP1A9gWfRCco/WOX2Axbf4T8wMtJnS+bfPz6LuFxmuOE/ogmm1JOA7D+WFm49TonRP8jKXWeOoek/5E6816CA2j9enxnJLBrlP9ASvpEvzeM/9lj1CAEH5j+IK0+EZqzjPyzH9H+5K90/aoxyBXT65j9ED6ytehbqP0ydpHopodk/mvUzqgib4D+4BoDM8gS/P1TBlkO32cQ/2Bd4GBJZzj+ofGhNikLeP0Z5LVPjL+s/tOiXkqx1wT8=",
          "dtype": "f8"
         },
         "yaxis": "y3"
        },
        {
         "name": "as7263_u",
         "showlegend": false,
         "type": "box",
         "xaxis": "x3",
         "y": {
          "bdata": "Vjm1oHp+0T92s1IoYGXmP9jzMNIXHc0/xL/rNL5W4D8BAAAAAADwPxT+z0KR4eA/OMm/+Zzr4z+QT2KZvxniPyzUqLY0CMk/pBbrMkn74z+GNjRQvvrlP6xUQhErR+A/OsbwOD7d5j+U0hX4IazAP35+mb98l+o/kHTeYP9u3z9kgRWF4SjYP+QWsLhJXOk/UB/9eWNArj/0cH2fj8DQP/pOu2o19+c/VLStLssX3D/WKnnIptLmP5I0PpJqht0/avU9LpRy6D8I8PJM6TvFP+CdPkqqrMo/JpJFDfF+4D8AAAAAAAAAAPB5nNbu8uk/INHy0vRQ4D/Wx8a6vZbdP1TOSlpcHO4/SP8O26ndzz+AcaRV5dvfP4glbg+0peE/vhmK1B8l7T+CS2JzAgbjPz4cGa5/EdQ/iBNPYdni5j9G3wyTBHbsP9LDZgl/YuQ/dh8bur/N5D9wPSN2OcXrP0y3r3gfZuQ//Mj08qbpyT8Wgy7NyHzTP+jjd962/eA/qo0XsepM3D9mMw18LjPWP/QBzyGni8o/dnc72gNp7D/cKE0/sFvIPxwoHyLoDdI/OHBwhy7v0z8AoC0sgs66PxxZ2axetts/KHr5LexQ1z+Il4cdO4bOP1zb+9JAc8s/8EFY1DLd3j/sPDf/9XjrP/7+WI9AVNw/cqIo4kKU6j+MSV38K+rhP0Yz/Uf0GuU/yAjz9TIA0z+ITbtgU23sP0g+umHL0Lw/xnO+WiQO1z/wMkjtc8PiP9hqCgP8euk/NvKWib4l3T/81pmp113VPyRYj81eGtE/aFARIp5q2j9o0adgJTzrPyxWCiirRN8/hCh06U4O4D+WBVsC+zjsP+gHJry69uc/DEtqQ2j5yD8ce5U6FB3IP9AJx3P6m9g/4hbVEVTT1z+IrqDENznJP66bzcohs9Q/YMKzo4Kaxz+EI7sx0TLiPwodrHoGcOs/0kCWFEyt6T90x+UcWdDgP0pvrRddKOo/QgJ3TfGq5T+m6ZYJJJTZP6TIcjtTTeM/goasKvJr1T+MYfupWBLiP/qbwsJkIuM/7OUQXJN5yT8=",
          "dtype": "f8"
         },
         "yaxis": "y3"
        },
        {
         "name": "as7263_v",
         "showlegend": false,
         "type": "box",
         "xaxis": "x3",
         "y": {
          "bdata": "zHOCdN2YxT/kWhqJrF7NP1/kC6bv3uQ/BaQr1bvW6T/+iVCigjjePyajND7fdtI/uPEJlSY/tj/0dGKQ61TIP90Wl8GWfuw/AAAAAAAAAAD5QG5D09PrP76ZmUNt3Nc/c3rYBpyV4z+frBZnpG3gP1bAEkbtA94/T4Y9yeLE6j8wROFez4LQPzXe3naO2ec/6LfdinMn0T8XDgyaGR7sP0/00YxXDOU/yKLHQmfetz9nRbusGNfsPww6o/Nar84/cwq2qT3B7D8vdNvOoyfoP3/k19sfE+o/Fs2YY5dN1D9SasHsZ5HXP////////+8/rgIAbjlb2j/VJ0IH/unmP/D9pElIrck/OOMhDJG4tz+AI/4qGQKVP0DtN80Wico/hDuCv4mnxj9i/wU7JWzRP/kPmHOQR+w/Z7NrEhcq6D+TQ61P4DfmP/W5syHdxeM/f7z6k74p6z+fWN2Ao5/nP8Tv17hAPM4/Tp8ZlzcX3D/O6TzlqLvSP0bbR6I5YtA/5nfZwzrF0D/O6Mky7mbVPzAJ0TLHUbM/eCKBPwZkuD+bYy39RQDrPyIMQmydDd8/9eBVQ+6o5z914V5ZkEvtP0etwzcmieY/400iR1UX5T9ZXq+GekHlP9NXW/VoieQ/LuhUS8960z/OqOYcqrraPxiwAXGPzdI/xSUUZUf14D/47+P3UnS0P8SKtMybAs4/OSYKX/xe7D/KU6UJHITVPyH4rY9Yrec/a2fLuJjY7D87aPCMjgnnP+dFiKjwK+U/ZblIMxJ16j8Uf5FPMu3IP+9UbmvN9Os/LukqVRc22j8FhsukYyrqP01wi6rIleI/Idg3cn2C4D8vDUQDp2juP4o/xpWRFd0/M+g4BQxG5D9c1P6dcIvHP+xheSMg2sc/ErbMDUQv0j//5CXB9mfmP8OK916BTuA/YjsrV4l42z8JJVi/0X3pP0kHPn8xQeE/5rwHuz5q3j/6Ngp84+bTP0rLzAg7+tQ/AZgRFutU4z9G/eYgFmHcP9Jxa7/yv9o/mK04yP0N0j+77tnYLk/mP9egr9JjOOs/XHaNcPN5xj8=",
          "dtype": "f8"
         },
         "yaxis": "y3"
        },
        {
         "name": "as7263_w",
         "showlegend": false,
         "type": "box",
         "xaxis": "x3",
         "y": {
          "bdata": "UL5+j/qkuT+AsworIPu4P9CMJBLzlK4/tJKKoKOGxj/GlFsibCDWP1I+loUm/eY/KqGrD+0H6z9wdcXa44beP3xtjuaNyeA/DCFFXHRcxD8Oqnde4ELlP1h5hNDjxOY/LsvB/qhO6z+YknrGb3PIP6RWAyUrp9A/sBZSxmZr5z9ELn/7J+viP7Zl2/K7ieQ/TGQc+lsY5z/SOCYcfBrlPxDlxw5T8ug/WG5uyerZyz/IN72ZQdCzP9qKK4ycX+I/bu93vrk+6z8U1DnpV+zcP2CYY7Ve4t0/cPl0pg4avD92mvmwm8HVPwzuVp5rN+g/WtvXaSO95z9K/90WBGrrP0D5PIBibMQ/0NmLbbv6yT+Qr0f/wmzpP+wY2Xb7Y8A/3JS28IDk3z8K0ySkQhXgP+hxVecId9o/YOgqYrpvsz9IakuXkynhP6AiSKBIMcE/pMTN54H02D/EWGmLFarkP+pGD3haCdM/rnjTOHeC5T8AAAAAAADwP1huU9qgtrY/suRqk1b10D98rkhS2KncP/7p6e0BfOw/cu0/Qw1B4T+oM+kvclLIP5CgGBJ+uds/eH0Uz6VG3j+w+aqrshjgPzw+Ae/cU9w/YNXh7fw20j/qgEl/cynSPxjjPv/Kq+s/dDFYJdkR6T8i5z7OSaXnPyDnhg3XSac/RGD88GoVyD9g5bhLCnKtP8S6/kg5kdo/sJ8KUhln5z86rXDdCt/SP9Jx0Pf5feo/eOi05dQL6T8cDNUQLlPUP7w3M8NM+9s/rjPaQ9VR4z+edc5fTDHpPzAH5mw+Wa0/iIg/naFn4j+SA9ZDTh/pPwAAAAAAAAAA1KlY/FXg5z/AbgFFjLuvP7Q26B+0hNg/2H97lsXgwj8ALIB507/EPwCb1o2jL94/HCbXVF/U2z9g46i/J6HZPz4kkYvTW+0/8p7qeEjy4z/8NxXwPe7LP/jaxViQ4OU/YCsnhssO4z/0dhEKOVTlP9SZg11WQ+U//LoVvnpJ4z+UD9EZ6MrXP8glyXNhhLw/XvS6E+Vz0z+wmhXV9PzkPzTb4vqVZsQ/TmYRn3Yp1j8=",
          "dtype": "f8"
         },
         "yaxis": "y3"
        }
       ],
       "layout": {
        "annotations": [
         {
          "font": {
           "size": 16
          },
          "showarrow": false,
          "text": "Original Data",
          "x": 0.5,
          "xanchor": "center",
          "xref": "paper",
          "y": 1,
          "yanchor": "bottom",
          "yref": "paper"
         },
         {
          "font": {
           "size": 16
          },
          "showarrow": false,
          "text": "StandardScaler",
          "x": 0.5,
          "xanchor": "center",
          "xref": "paper",
          "y": 0.6111111111111112,
          "yanchor": "bottom",
          "yref": "paper"
         },
         {
          "font": {
           "size": 16
          },
          "showarrow": false,
          "text": "MinMaxScaler",
          "x": 0.5,
          "xanchor": "center",
          "xref": "paper",
          "y": 0.22222222222222224,
          "yanchor": "bottom",
          "yref": "paper"
         }
        ],
        "height": 800,
        "template": {
         "data": {
          "bar": [
           {
            "error_x": {
             "color": "#2a3f5f"
            },
            "error_y": {
             "color": "#2a3f5f"
            },
            "marker": {
             "line": {
              "color": "#E5ECF6",
              "width": 0.5
             },
             "pattern": {
              "fillmode": "overlay",
              "size": 10,
              "solidity": 0.2
             }
            },
            "type": "bar"
           }
          ],
          "barpolar": [
           {
            "marker": {
             "line": {
              "color": "#E5ECF6",
              "width": 0.5
             },
             "pattern": {
              "fillmode": "overlay",
              "size": 10,
              "solidity": 0.2
             }
            },
            "type": "barpolar"
           }
          ],
          "carpet": [
           {
            "aaxis": {
             "endlinecolor": "#2a3f5f",
             "gridcolor": "white",
             "linecolor": "white",
             "minorgridcolor": "white",
             "startlinecolor": "#2a3f5f"
            },
            "baxis": {
             "endlinecolor": "#2a3f5f",
             "gridcolor": "white",
             "linecolor": "white",
             "minorgridcolor": "white",
             "startlinecolor": "#2a3f5f"
            },
            "type": "carpet"
           }
          ],
          "choropleth": [
           {
            "colorbar": {
             "outlinewidth": 0,
             "ticks": ""
            },
            "type": "choropleth"
           }
          ],
          "contour": [
           {
            "colorbar": {
             "outlinewidth": 0,
             "ticks": ""
            },
            "colorscale": [
             [
              0,
              "#0d0887"
             ],
             [
              0.1111111111111111,
              "#46039f"
             ],
             [
              0.2222222222222222,
              "#7201a8"
             ],
             [
              0.3333333333333333,
              "#9c179e"
             ],
             [
              0.4444444444444444,
              "#bd3786"
             ],
             [
              0.5555555555555556,
              "#d8576b"
             ],
             [
              0.6666666666666666,
              "#ed7953"
             ],
             [
              0.7777777777777778,
              "#fb9f3a"
             ],
             [
              0.8888888888888888,
              "#fdca26"
             ],
             [
              1,
              "#f0f921"
             ]
            ],
            "type": "contour"
           }
          ],
          "contourcarpet": [
           {
            "colorbar": {
             "outlinewidth": 0,
             "ticks": ""
            },
            "type": "contourcarpet"
           }
          ],
          "heatmap": [
           {
            "colorbar": {
             "outlinewidth": 0,
             "ticks": ""
            },
            "colorscale": [
             [
              0,
              "#0d0887"
             ],
             [
              0.1111111111111111,
              "#46039f"
             ],
             [
              0.2222222222222222,
              "#7201a8"
             ],
             [
              0.3333333333333333,
              "#9c179e"
             ],
             [
              0.4444444444444444,
              "#bd3786"
             ],
             [
              0.5555555555555556,
              "#d8576b"
             ],
             [
              0.6666666666666666,
              "#ed7953"
             ],
             [
              0.7777777777777778,
              "#fb9f3a"
             ],
             [
              0.8888888888888888,
              "#fdca26"
             ],
             [
              1,
              "#f0f921"
             ]
            ],
            "type": "heatmap"
           }
          ],
          "histogram": [
           {
            "marker": {
             "pattern": {
              "fillmode": "overlay",
              "size": 10,
              "solidity": 0.2
             }
            },
            "type": "histogram"
           }
          ],
          "histogram2d": [
           {
            "colorbar": {
             "outlinewidth": 0,
             "ticks": ""
            },
            "colorscale": [
             [
              0,
              "#0d0887"
             ],
             [
              0.1111111111111111,
              "#46039f"
             ],
             [
              0.2222222222222222,
              "#7201a8"
             ],
             [
              0.3333333333333333,
              "#9c179e"
             ],
             [
              0.4444444444444444,
              "#bd3786"
             ],
             [
              0.5555555555555556,
              "#d8576b"
             ],
             [
              0.6666666666666666,
              "#ed7953"
             ],
             [
              0.7777777777777778,
              "#fb9f3a"
             ],
             [
              0.8888888888888888,
              "#fdca26"
             ],
             [
              1,
              "#f0f921"
             ]
            ],
            "type": "histogram2d"
           }
          ],
          "histogram2dcontour": [
           {
            "colorbar": {
             "outlinewidth": 0,
             "ticks": ""
            },
            "colorscale": [
             [
              0,
              "#0d0887"
             ],
             [
              0.1111111111111111,
              "#46039f"
             ],
             [
              0.2222222222222222,
              "#7201a8"
             ],
             [
              0.3333333333333333,
              "#9c179e"
             ],
             [
              0.4444444444444444,
              "#bd3786"
             ],
             [
              0.5555555555555556,
              "#d8576b"
             ],
             [
              0.6666666666666666,
              "#ed7953"
             ],
             [
              0.7777777777777778,
              "#fb9f3a"
             ],
             [
              0.8888888888888888,
              "#fdca26"
             ],
             [
              1,
              "#f0f921"
             ]
            ],
            "type": "histogram2dcontour"
           }
          ],
          "mesh3d": [
           {
            "colorbar": {
             "outlinewidth": 0,
             "ticks": ""
            },
            "type": "mesh3d"
           }
          ],
          "parcoords": [
           {
            "line": {
             "colorbar": {
              "outlinewidth": 0,
              "ticks": ""
             }
            },
            "type": "parcoords"
           }
          ],
          "pie": [
           {
            "automargin": true,
            "type": "pie"
           }
          ],
          "scatter": [
           {
            "fillpattern": {
             "fillmode": "overlay",
             "size": 10,
             "solidity": 0.2
            },
            "type": "scatter"
           }
          ],
          "scatter3d": [
           {
            "line": {
             "colorbar": {
              "outlinewidth": 0,
              "ticks": ""
             }
            },
            "marker": {
             "colorbar": {
              "outlinewidth": 0,
              "ticks": ""
             }
            },
            "type": "scatter3d"
           }
          ],
          "scattercarpet": [
           {
            "marker": {
             "colorbar": {
              "outlinewidth": 0,
              "ticks": ""
             }
            },
            "type": "scattercarpet"
           }
          ],
          "scattergeo": [
           {
            "marker": {
             "colorbar": {
              "outlinewidth": 0,
              "ticks": ""
             }
            },
            "type": "scattergeo"
           }
          ],
          "scattergl": [
           {
            "marker": {
             "colorbar": {
              "outlinewidth": 0,
              "ticks": ""
             }
            },
            "type": "scattergl"
           }
          ],
          "scattermap": [
           {
            "marker": {
             "colorbar": {
              "outlinewidth": 0,
              "ticks": ""
             }
            },
            "type": "scattermap"
           }
          ],
          "scattermapbox": [
           {
            "marker": {
             "colorbar": {
              "outlinewidth": 0,
              "ticks": ""
             }
            },
            "type": "scattermapbox"
           }
          ],
          "scatterpolar": [
           {
            "marker": {
             "colorbar": {
              "outlinewidth": 0,
              "ticks": ""
             }
            },
            "type": "scatterpolar"
           }
          ],
          "scatterpolargl": [
           {
            "marker": {
             "colorbar": {
              "outlinewidth": 0,
              "ticks": ""
             }
            },
            "type": "scatterpolargl"
           }
          ],
          "scatterternary": [
           {
            "marker": {
             "colorbar": {
              "outlinewidth": 0,
              "ticks": ""
             }
            },
            "type": "scatterternary"
           }
          ],
          "surface": [
           {
            "colorbar": {
             "outlinewidth": 0,
             "ticks": ""
            },
            "colorscale": [
             [
              0,
              "#0d0887"
             ],
             [
              0.1111111111111111,
              "#46039f"
             ],
             [
              0.2222222222222222,
              "#7201a8"
             ],
             [
              0.3333333333333333,
              "#9c179e"
             ],
             [
              0.4444444444444444,
              "#bd3786"
             ],
             [
              0.5555555555555556,
              "#d8576b"
             ],
             [
              0.6666666666666666,
              "#ed7953"
             ],
             [
              0.7777777777777778,
              "#fb9f3a"
             ],
             [
              0.8888888888888888,
              "#fdca26"
             ],
             [
              1,
              "#f0f921"
             ]
            ],
            "type": "surface"
           }
          ],
          "table": [
           {
            "cells": {
             "fill": {
              "color": "#EBF0F8"
             },
             "line": {
              "color": "white"
             }
            },
            "header": {
             "fill": {
              "color": "#C8D4E3"
             },
             "line": {
              "color": "white"
             }
            },
            "type": "table"
           }
          ]
         },
         "layout": {
          "annotationdefaults": {
           "arrowcolor": "#2a3f5f",
           "arrowhead": 0,
           "arrowwidth": 1
          },
          "autotypenumbers": "strict",
          "coloraxis": {
           "colorbar": {
            "outlinewidth": 0,
            "ticks": ""
           }
          },
          "colorscale": {
           "diverging": [
            [
             0,
             "#8e0152"
            ],
            [
             0.1,
             "#c51b7d"
            ],
            [
             0.2,
             "#de77ae"
            ],
            [
             0.3,
             "#f1b6da"
            ],
            [
             0.4,
             "#fde0ef"
            ],
            [
             0.5,
             "#f7f7f7"
            ],
            [
             0.6,
             "#e6f5d0"
            ],
            [
             0.7,
             "#b8e186"
            ],
            [
             0.8,
             "#7fbc41"
            ],
            [
             0.9,
             "#4d9221"
            ],
            [
             1,
             "#276419"
            ]
           ],
           "sequential": [
            [
             0,
             "#0d0887"
            ],
            [
             0.1111111111111111,
             "#46039f"
            ],
            [
             0.2222222222222222,
             "#7201a8"
            ],
            [
             0.3333333333333333,
             "#9c179e"
            ],
            [
             0.4444444444444444,
             "#bd3786"
            ],
            [
             0.5555555555555556,
             "#d8576b"
            ],
            [
             0.6666666666666666,
             "#ed7953"
            ],
            [
             0.7777777777777778,
             "#fb9f3a"
            ],
            [
             0.8888888888888888,
             "#fdca26"
            ],
            [
             1,
             "#f0f921"
            ]
           ],
           "sequentialminus": [
            [
             0,
             "#0d0887"
            ],
            [
             0.1111111111111111,
             "#46039f"
            ],
            [
             0.2222222222222222,
             "#7201a8"
            ],
            [
             0.3333333333333333,
             "#9c179e"
            ],
            [
             0.4444444444444444,
             "#bd3786"
            ],
            [
             0.5555555555555556,
             "#d8576b"
            ],
            [
             0.6666666666666666,
             "#ed7953"
            ],
            [
             0.7777777777777778,
             "#fb9f3a"
            ],
            [
             0.8888888888888888,
             "#fdca26"
            ],
            [
             1,
             "#f0f921"
            ]
           ]
          },
          "colorway": [
           "#636efa",
           "#EF553B",
           "#00cc96",
           "#ab63fa",
           "#FFA15A",
           "#19d3f3",
           "#FF6692",
           "#B6E880",
           "#FF97FF",
           "#FECB52"
          ],
          "font": {
           "color": "#2a3f5f"
          },
          "geo": {
           "bgcolor": "white",
           "lakecolor": "white",
           "landcolor": "#E5ECF6",
           "showlakes": true,
           "showland": true,
           "subunitcolor": "white"
          },
          "hoverlabel": {
           "align": "left"
          },
          "hovermode": "closest",
          "mapbox": {
           "style": "light"
          },
          "paper_bgcolor": "white",
          "plot_bgcolor": "#E5ECF6",
          "polar": {
           "angularaxis": {
            "gridcolor": "white",
            "linecolor": "white",
            "ticks": ""
           },
           "bgcolor": "#E5ECF6",
           "radialaxis": {
            "gridcolor": "white",
            "linecolor": "white",
            "ticks": ""
           }
          },
          "scene": {
           "xaxis": {
            "backgroundcolor": "#E5ECF6",
            "gridcolor": "white",
            "gridwidth": 2,
            "linecolor": "white",
            "showbackground": true,
            "ticks": "",
            "zerolinecolor": "white"
           },
           "yaxis": {
            "backgroundcolor": "#E5ECF6",
            "gridcolor": "white",
            "gridwidth": 2,
            "linecolor": "white",
            "showbackground": true,
            "ticks": "",
            "zerolinecolor": "white"
           },
           "zaxis": {
            "backgroundcolor": "#E5ECF6",
            "gridcolor": "white",
            "gridwidth": 2,
            "linecolor": "white",
            "showbackground": true,
            "ticks": "",
            "zerolinecolor": "white"
           }
          },
          "shapedefaults": {
           "line": {
            "color": "#2a3f5f"
           }
          },
          "ternary": {
           "aaxis": {
            "gridcolor": "white",
            "linecolor": "white",
            "ticks": ""
           },
           "baxis": {
            "gridcolor": "white",
            "linecolor": "white",
            "ticks": ""
           },
           "bgcolor": "#E5ECF6",
           "caxis": {
            "gridcolor": "white",
            "linecolor": "white",
            "ticks": ""
           }
          },
          "title": {
           "x": 0.05
          },
          "xaxis": {
           "automargin": true,
           "gridcolor": "white",
           "linecolor": "white",
           "ticks": "",
           "title": {
            "standoff": 15
           },
           "zerolinecolor": "white",
           "zerolinewidth": 2
          },
          "yaxis": {
           "automargin": true,
           "gridcolor": "white",
           "linecolor": "white",
           "ticks": "",
           "title": {
            "standoff": 15
           },
           "zerolinecolor": "white",
           "zerolinewidth": 2
          }
         }
        },
        "title": {
         "text": "Feature Distributions After Scaling"
        },
        "xaxis": {
         "anchor": "y",
         "domain": [
          0,
          1
         ]
        },
        "xaxis2": {
         "anchor": "y2",
         "domain": [
          0,
          1
         ]
        },
        "xaxis3": {
         "anchor": "y3",
         "domain": [
          0,
          1
         ]
        },
        "yaxis": {
         "anchor": "x",
         "domain": [
          0.7777777777777778,
          1
         ]
        },
        "yaxis2": {
         "anchor": "x2",
         "domain": [
          0.3888888888888889,
          0.6111111111111112
         ]
        },
        "yaxis3": {
         "anchor": "x3",
         "domain": [
          0,
          0.22222222222222224
         ]
        }
       }
      }
     },
     "metadata": {},
     "output_type": "display_data"
    }
   ],
   "source": [
    "# Data preprocessing functions\n",
    "def weighted_average_readings(readings_list, num_samples=10):\n",
    "    \"\"\"\n",
    "    Calculate weighted average of sensor readings with increasing weights.\n",
    "    Last reading has highest weight (1.0).\n",
    "    \"\"\"\n",
    "    if len(readings_list) < num_samples:\n",
    "        raise ValueError(f\"Need at least {num_samples} readings. Got {len(readings_list)}\")\n",
    "    \n",
    "    # Use last num_samples readings\n",
    "    readings = readings_list[-num_samples:]\n",
    "    \n",
    "    # Generate weights with increasing values\n",
    "    weights = np.linspace(0.1, 1.0, num_samples)\n",
    "    weights = weights / np.sum(weights)  # Normalize weights\n",
    "    \n",
    "    # Initialize result dictionary\n",
    "    result = {}\n",
    "    \n",
    "    # Calculate weighted average for each sensor\n",
    "    for column in SENSOR_COLUMNS:\n",
    "        values = [reading[column] for reading in readings]\n",
    "        result[column] = np.average(values, weights=weights)\n",
    "    \n",
    "    return result\n",
    "\n",
    "def calculate_ratios(X):\n",
    "    \"\"\"Calculate ratios between sensor channels.\"\"\"\n",
    "    ratios = pd.DataFrame(index=X.index)\n",
    "    \n",
    "    # Calculate ratios between NIR channels\n",
    "    nir_channels = ['as7263_r', 'as7263_s', 'as7263_t', \n",
    "                   'as7263_u', 'as7263_v', 'as7263_w']\n",
    "    \n",
    "    for i in range(len(nir_channels)):\n",
    "        for j in range(i+1, len(nir_channels)):\n",
    "            col1 = nir_channels[i]\n",
    "            col2 = nir_channels[j]\n",
    "            ratio_name = f'ratio_{col1[-1]}_{col2[-1]}'\n",
    "            ratios[ratio_name] = X[col1] / X[col2]\n",
    "    \n",
    "    # Calculate alcohol/NIR ratios\n",
    "    for channel in nir_channels:\n",
    "        ratio_name = f'ratio_alcohol_{channel[-1]}'\n",
    "        ratios[ratio_name] = X['alcohol_ppm'] / X[channel]\n",
    "    \n",
    "    return ratios\n",
    "\n",
    "def calculate_derivatives(X):\n",
    "    \"\"\"Calculate first-order differences between adjacent wavelengths.\"\"\"\n",
    "    derivatives = pd.DataFrame(index=X.index)\n",
    "    \n",
    "    channels = ['as7263_r', 'as7263_s', 'as7263_t', \n",
    "               'as7263_u', 'as7263_v', 'as7263_w']\n",
    "    \n",
    "    for i in range(len(channels)-1):\n",
    "        col1 = channels[i]\n",
    "        col2 = channels[i+1]\n",
    "        deriv_name = f'deriv_{col1[-1]}_{col2[-1]}'\n",
    "        derivatives[deriv_name] = X[col2] - X[col1]\n",
    "    \n",
    "    # Add alcohol rate of change\n",
    "    derivatives['alcohol_rate'] = np.gradient(X['alcohol_ppm'])\n",
    "    \n",
    "    return derivatives\n",
    "\n",
    "def remove_duplicates(X, threshold=1e-6):\n",
    "    \"\"\"Remove duplicate readings within a threshold.\"\"\"\n",
    "    # Calculate pairwise differences\n",
    "    diff_matrix = np.abs(X.values[:, np.newaxis] - X.values) < threshold\n",
    "    diff_matrix = diff_matrix.all(axis=2)\n",
    "    np.fill_diagonal(diff_matrix, False)\n",
    "    \n",
    "    # Find unique indices\n",
    "    unique_idx = ~diff_matrix.any(axis=1)\n",
    "    \n",
    "    return X[unique_idx]\n",
    "\n",
    "def compare_scalers(X, scaler1=StandardScaler(), scaler2=MinMaxScaler()):\n",
    "    \"\"\"Compare different scaling methods.\"\"\"\n",
    "    X_standard = pd.DataFrame(\n",
    "        scaler1.fit_transform(X),\n",
    "        columns=X.columns,\n",
    "        index=X.index\n",
    "    )\n",
    "    \n",
    "    X_minmax = pd.DataFrame(\n",
    "        scaler2.fit_transform(X),\n",
    "        columns=X.columns,\n",
    "        index=X.index\n",
    "    )\n",
    "    \n",
    "    # Calculate correlation preservation\n",
    "    corr_orig = X.corr()\n",
    "    corr_standard = X_standard.corr()\n",
    "    corr_minmax = X_minmax.corr()\n",
    "    \n",
    "    corr_diff_standard = np.abs(corr_orig - corr_standard).mean().mean()\n",
    "    corr_diff_minmax = np.abs(corr_orig - corr_minmax).mean().mean()\n",
    "    \n",
    "    print(\"Correlation differences:\")\n",
    "    print(f\"StandardScaler: {corr_diff_standard:.4f}\")\n",
    "    print(f\"MinMaxScaler: {corr_diff_minmax:.4f}\")\n",
    "    \n",
    "    return X_standard, X_minmax\n",
    "\n",
    "# Test preprocessing functions with sample data\n",
    "def generate_sample_data(n_samples=100, n_readings=10):\n",
    "    \"\"\"Generate sample data for testing.\"\"\"\n",
    "    samples = []\n",
    "    for _ in range(n_samples):\n",
    "        readings = []\n",
    "        base_values = {\n",
    "            'alcohol_ppm': np.random.uniform(30, 70),\n",
    "            'as7263_r': np.random.uniform(0.3, 0.7),\n",
    "            'as7263_s': np.random.uniform(0.3, 0.7),\n",
    "            'as7263_t': np.random.uniform(0.3, 0.7),\n",
    "            'as7263_u': np.random.uniform(0.3, 0.7),\n",
    "            'as7263_v': np.random.uniform(0.3, 0.7),\n",
    "            'as7263_w': np.random.uniform(0.3, 0.7)\n",
    "        }\n",
    "        \n",
    "        for _ in range(n_readings):\n",
    "            reading = {\n",
    "                key: value + np.random.normal(0, 0.05) \n",
    "                for key, value in base_values.items()\n",
    "            }\n",
    "            readings.append(reading)\n",
    "        \n",
    "        # Get weighted average\n",
    "        avg_reading = weighted_average_readings(readings)\n",
    "        samples.append(avg_reading)\n",
    "    \n",
    "    return pd.DataFrame(samples)\n",
    "\n",
    "# Generate and process sample data\n",
    "print(\"Generating sample data...\")\n",
    "X_raw = generate_sample_data()\n",
    "print(\"\\nShape of raw data:\", X_raw.shape)\n",
    "\n",
    "# Calculate derived features\n",
    "X_ratios = calculate_ratios(X_raw)\n",
    "X_derivatives = calculate_derivatives(X_raw)\n",
    "\n",
    "print(\"\\nNumber of features:\")\n",
    "print(f\"Original features: {X_raw.shape[1]}\")\n",
    "print(f\"Ratio features: {X_ratios.shape[1]}\")\n",
    "print(f\"Derivative features: {X_derivatives.shape[1]}\")\n",
    "\n",
    "# Compare scalers\n",
    "print(\"\\nComparing scalers on original features:\")\n",
    "X_standard, X_minmax = compare_scalers(X_raw)\n",
    "\n",
    "# Visualize preprocessing effects\n",
    "fig = make_subplots(\n",
    "    rows=3, cols=1,\n",
    "    subplot_titles=('Original Data', 'StandardScaler', 'MinMaxScaler')\n",
    ")\n",
    "\n",
    "for i, data in enumerate([X_raw, X_standard, X_minmax], 1):\n",
    "    for col in data.columns:\n",
    "        fig.add_trace(\n",
    "            go.Box(y=data[col], name=col, showlegend=i==1),\n",
    "            row=i, col=1\n",
    "        )\n",
    "\n",
    "fig.update_layout(height=800, title_text=\"Feature Distributions After Scaling\")\n",
    "fig.show()"
   ]
  },
  {
   "cell_type": "markdown",
   "id": "a9a2dcc3",
   "metadata": {},
   "source": [
    "## Feature Set Comparison\n",
    "\n",
    "Let's compare the performance of different feature combinations:\n",
    "1. Original features only (7 features)\n",
    "2. Original + Ratio features\n",
    "3. Original + Ratio + Derivatives\n",
    "4. PCA components\n",
    "\n",
    "We'll evaluate each combination using:\n",
    "- Cross-validation\n",
    "- Feature importance analysis\n",
    "- Correlation analysis\n",
    "- Performance metrics (R², MSE, confidence)"
   ]
  },
  {
   "cell_type": "code",
   "execution_count": 4,
   "id": "6186462f",
   "metadata": {},
   "outputs": [
    {
     "name": "stdout",
     "output_type": "stream",
     "text": [
      "Comparing feature sets...\n"
     ]
    },
    {
     "data": {
      "application/vnd.plotly.v1+json": {
       "config": {
        "plotlyServerURL": "https://plot.ly"
       },
       "data": [
        {
         "error_y": {
          "array": {
           "bdata": "Fk31VeP0oj8WTfVV4/SiPzgjyeF6I7s/OCPJ4Xojuz9UMfIdpOm2P1Qx8h2k6bY/Rv77N6ACvT9s6LD6vcK0Pw==",
           "dtype": "f8"
          },
          "type": "data"
         },
         "name": "R² Score",
         "type": "bar",
         "x": [
          "Original (Standard)",
          "Original (MinMax)",
          "Original + Ratios (Standard)",
          "Original + Ratios (MinMax)",
          "All Features (Standard)",
          "All Features (MinMax)",
          "PCA (Standard)",
          "PCA (MinMax)"
         ],
         "y": {
          "bdata": "JvdTztIgub8m91PO0iC5v1Pt9v6Uf72/U+32/pR/vb84uK8LAGi3vzi4rwsAaLe/WzmE/H/wwr+Ao3aXgyx1vw==",
          "dtype": "f8"
         }
        }
       ],
       "layout": {
        "barmode": "group",
        "template": {
         "data": {
          "bar": [
           {
            "error_x": {
             "color": "#2a3f5f"
            },
            "error_y": {
             "color": "#2a3f5f"
            },
            "marker": {
             "line": {
              "color": "#E5ECF6",
              "width": 0.5
             },
             "pattern": {
              "fillmode": "overlay",
              "size": 10,
              "solidity": 0.2
             }
            },
            "type": "bar"
           }
          ],
          "barpolar": [
           {
            "marker": {
             "line": {
              "color": "#E5ECF6",
              "width": 0.5
             },
             "pattern": {
              "fillmode": "overlay",
              "size": 10,
              "solidity": 0.2
             }
            },
            "type": "barpolar"
           }
          ],
          "carpet": [
           {
            "aaxis": {
             "endlinecolor": "#2a3f5f",
             "gridcolor": "white",
             "linecolor": "white",
             "minorgridcolor": "white",
             "startlinecolor": "#2a3f5f"
            },
            "baxis": {
             "endlinecolor": "#2a3f5f",
             "gridcolor": "white",
             "linecolor": "white",
             "minorgridcolor": "white",
             "startlinecolor": "#2a3f5f"
            },
            "type": "carpet"
           }
          ],
          "choropleth": [
           {
            "colorbar": {
             "outlinewidth": 0,
             "ticks": ""
            },
            "type": "choropleth"
           }
          ],
          "contour": [
           {
            "colorbar": {
             "outlinewidth": 0,
             "ticks": ""
            },
            "colorscale": [
             [
              0,
              "#0d0887"
             ],
             [
              0.1111111111111111,
              "#46039f"
             ],
             [
              0.2222222222222222,
              "#7201a8"
             ],
             [
              0.3333333333333333,
              "#9c179e"
             ],
             [
              0.4444444444444444,
              "#bd3786"
             ],
             [
              0.5555555555555556,
              "#d8576b"
             ],
             [
              0.6666666666666666,
              "#ed7953"
             ],
             [
              0.7777777777777778,
              "#fb9f3a"
             ],
             [
              0.8888888888888888,
              "#fdca26"
             ],
             [
              1,
              "#f0f921"
             ]
            ],
            "type": "contour"
           }
          ],
          "contourcarpet": [
           {
            "colorbar": {
             "outlinewidth": 0,
             "ticks": ""
            },
            "type": "contourcarpet"
           }
          ],
          "heatmap": [
           {
            "colorbar": {
             "outlinewidth": 0,
             "ticks": ""
            },
            "colorscale": [
             [
              0,
              "#0d0887"
             ],
             [
              0.1111111111111111,
              "#46039f"
             ],
             [
              0.2222222222222222,
              "#7201a8"
             ],
             [
              0.3333333333333333,
              "#9c179e"
             ],
             [
              0.4444444444444444,
              "#bd3786"
             ],
             [
              0.5555555555555556,
              "#d8576b"
             ],
             [
              0.6666666666666666,
              "#ed7953"
             ],
             [
              0.7777777777777778,
              "#fb9f3a"
             ],
             [
              0.8888888888888888,
              "#fdca26"
             ],
             [
              1,
              "#f0f921"
             ]
            ],
            "type": "heatmap"
           }
          ],
          "histogram": [
           {
            "marker": {
             "pattern": {
              "fillmode": "overlay",
              "size": 10,
              "solidity": 0.2
             }
            },
            "type": "histogram"
           }
          ],
          "histogram2d": [
           {
            "colorbar": {
             "outlinewidth": 0,
             "ticks": ""
            },
            "colorscale": [
             [
              0,
              "#0d0887"
             ],
             [
              0.1111111111111111,
              "#46039f"
             ],
             [
              0.2222222222222222,
              "#7201a8"
             ],
             [
              0.3333333333333333,
              "#9c179e"
             ],
             [
              0.4444444444444444,
              "#bd3786"
             ],
             [
              0.5555555555555556,
              "#d8576b"
             ],
             [
              0.6666666666666666,
              "#ed7953"
             ],
             [
              0.7777777777777778,
              "#fb9f3a"
             ],
             [
              0.8888888888888888,
              "#fdca26"
             ],
             [
              1,
              "#f0f921"
             ]
            ],
            "type": "histogram2d"
           }
          ],
          "histogram2dcontour": [
           {
            "colorbar": {
             "outlinewidth": 0,
             "ticks": ""
            },
            "colorscale": [
             [
              0,
              "#0d0887"
             ],
             [
              0.1111111111111111,
              "#46039f"
             ],
             [
              0.2222222222222222,
              "#7201a8"
             ],
             [
              0.3333333333333333,
              "#9c179e"
             ],
             [
              0.4444444444444444,
              "#bd3786"
             ],
             [
              0.5555555555555556,
              "#d8576b"
             ],
             [
              0.6666666666666666,
              "#ed7953"
             ],
             [
              0.7777777777777778,
              "#fb9f3a"
             ],
             [
              0.8888888888888888,
              "#fdca26"
             ],
             [
              1,
              "#f0f921"
             ]
            ],
            "type": "histogram2dcontour"
           }
          ],
          "mesh3d": [
           {
            "colorbar": {
             "outlinewidth": 0,
             "ticks": ""
            },
            "type": "mesh3d"
           }
          ],
          "parcoords": [
           {
            "line": {
             "colorbar": {
              "outlinewidth": 0,
              "ticks": ""
             }
            },
            "type": "parcoords"
           }
          ],
          "pie": [
           {
            "automargin": true,
            "type": "pie"
           }
          ],
          "scatter": [
           {
            "fillpattern": {
             "fillmode": "overlay",
             "size": 10,
             "solidity": 0.2
            },
            "type": "scatter"
           }
          ],
          "scatter3d": [
           {
            "line": {
             "colorbar": {
              "outlinewidth": 0,
              "ticks": ""
             }
            },
            "marker": {
             "colorbar": {
              "outlinewidth": 0,
              "ticks": ""
             }
            },
            "type": "scatter3d"
           }
          ],
          "scattercarpet": [
           {
            "marker": {
             "colorbar": {
              "outlinewidth": 0,
              "ticks": ""
             }
            },
            "type": "scattercarpet"
           }
          ],
          "scattergeo": [
           {
            "marker": {
             "colorbar": {
              "outlinewidth": 0,
              "ticks": ""
             }
            },
            "type": "scattergeo"
           }
          ],
          "scattergl": [
           {
            "marker": {
             "colorbar": {
              "outlinewidth": 0,
              "ticks": ""
             }
            },
            "type": "scattergl"
           }
          ],
          "scattermap": [
           {
            "marker": {
             "colorbar": {
              "outlinewidth": 0,
              "ticks": ""
             }
            },
            "type": "scattermap"
           }
          ],
          "scattermapbox": [
           {
            "marker": {
             "colorbar": {
              "outlinewidth": 0,
              "ticks": ""
             }
            },
            "type": "scattermapbox"
           }
          ],
          "scatterpolar": [
           {
            "marker": {
             "colorbar": {
              "outlinewidth": 0,
              "ticks": ""
             }
            },
            "type": "scatterpolar"
           }
          ],
          "scatterpolargl": [
           {
            "marker": {
             "colorbar": {
              "outlinewidth": 0,
              "ticks": ""
             }
            },
            "type": "scatterpolargl"
           }
          ],
          "scatterternary": [
           {
            "marker": {
             "colorbar": {
              "outlinewidth": 0,
              "ticks": ""
             }
            },
            "type": "scatterternary"
           }
          ],
          "surface": [
           {
            "colorbar": {
             "outlinewidth": 0,
             "ticks": ""
            },
            "colorscale": [
             [
              0,
              "#0d0887"
             ],
             [
              0.1111111111111111,
              "#46039f"
             ],
             [
              0.2222222222222222,
              "#7201a8"
             ],
             [
              0.3333333333333333,
              "#9c179e"
             ],
             [
              0.4444444444444444,
              "#bd3786"
             ],
             [
              0.5555555555555556,
              "#d8576b"
             ],
             [
              0.6666666666666666,
              "#ed7953"
             ],
             [
              0.7777777777777778,
              "#fb9f3a"
             ],
             [
              0.8888888888888888,
              "#fdca26"
             ],
             [
              1,
              "#f0f921"
             ]
            ],
            "type": "surface"
           }
          ],
          "table": [
           {
            "cells": {
             "fill": {
              "color": "#EBF0F8"
             },
             "line": {
              "color": "white"
             }
            },
            "header": {
             "fill": {
              "color": "#C8D4E3"
             },
             "line": {
              "color": "white"
             }
            },
            "type": "table"
           }
          ]
         },
         "layout": {
          "annotationdefaults": {
           "arrowcolor": "#2a3f5f",
           "arrowhead": 0,
           "arrowwidth": 1
          },
          "autotypenumbers": "strict",
          "coloraxis": {
           "colorbar": {
            "outlinewidth": 0,
            "ticks": ""
           }
          },
          "colorscale": {
           "diverging": [
            [
             0,
             "#8e0152"
            ],
            [
             0.1,
             "#c51b7d"
            ],
            [
             0.2,
             "#de77ae"
            ],
            [
             0.3,
             "#f1b6da"
            ],
            [
             0.4,
             "#fde0ef"
            ],
            [
             0.5,
             "#f7f7f7"
            ],
            [
             0.6,
             "#e6f5d0"
            ],
            [
             0.7,
             "#b8e186"
            ],
            [
             0.8,
             "#7fbc41"
            ],
            [
             0.9,
             "#4d9221"
            ],
            [
             1,
             "#276419"
            ]
           ],
           "sequential": [
            [
             0,
             "#0d0887"
            ],
            [
             0.1111111111111111,
             "#46039f"
            ],
            [
             0.2222222222222222,
             "#7201a8"
            ],
            [
             0.3333333333333333,
             "#9c179e"
            ],
            [
             0.4444444444444444,
             "#bd3786"
            ],
            [
             0.5555555555555556,
             "#d8576b"
            ],
            [
             0.6666666666666666,
             "#ed7953"
            ],
            [
             0.7777777777777778,
             "#fb9f3a"
            ],
            [
             0.8888888888888888,
             "#fdca26"
            ],
            [
             1,
             "#f0f921"
            ]
           ],
           "sequentialminus": [
            [
             0,
             "#0d0887"
            ],
            [
             0.1111111111111111,
             "#46039f"
            ],
            [
             0.2222222222222222,
             "#7201a8"
            ],
            [
             0.3333333333333333,
             "#9c179e"
            ],
            [
             0.4444444444444444,
             "#bd3786"
            ],
            [
             0.5555555555555556,
             "#d8576b"
            ],
            [
             0.6666666666666666,
             "#ed7953"
            ],
            [
             0.7777777777777778,
             "#fb9f3a"
            ],
            [
             0.8888888888888888,
             "#fdca26"
            ],
            [
             1,
             "#f0f921"
            ]
           ]
          },
          "colorway": [
           "#636efa",
           "#EF553B",
           "#00cc96",
           "#ab63fa",
           "#FFA15A",
           "#19d3f3",
           "#FF6692",
           "#B6E880",
           "#FF97FF",
           "#FECB52"
          ],
          "font": {
           "color": "#2a3f5f"
          },
          "geo": {
           "bgcolor": "white",
           "lakecolor": "white",
           "landcolor": "#E5ECF6",
           "showlakes": true,
           "showland": true,
           "subunitcolor": "white"
          },
          "hoverlabel": {
           "align": "left"
          },
          "hovermode": "closest",
          "mapbox": {
           "style": "light"
          },
          "paper_bgcolor": "white",
          "plot_bgcolor": "#E5ECF6",
          "polar": {
           "angularaxis": {
            "gridcolor": "white",
            "linecolor": "white",
            "ticks": ""
           },
           "bgcolor": "#E5ECF6",
           "radialaxis": {
            "gridcolor": "white",
            "linecolor": "white",
            "ticks": ""
           }
          },
          "scene": {
           "xaxis": {
            "backgroundcolor": "#E5ECF6",
            "gridcolor": "white",
            "gridwidth": 2,
            "linecolor": "white",
            "showbackground": true,
            "ticks": "",
            "zerolinecolor": "white"
           },
           "yaxis": {
            "backgroundcolor": "#E5ECF6",
            "gridcolor": "white",
            "gridwidth": 2,
            "linecolor": "white",
            "showbackground": true,
            "ticks": "",
            "zerolinecolor": "white"
           },
           "zaxis": {
            "backgroundcolor": "#E5ECF6",
            "gridcolor": "white",
            "gridwidth": 2,
            "linecolor": "white",
            "showbackground": true,
            "ticks": "",
            "zerolinecolor": "white"
           }
          },
          "shapedefaults": {
           "line": {
            "color": "#2a3f5f"
           }
          },
          "ternary": {
           "aaxis": {
            "gridcolor": "white",
            "linecolor": "white",
            "ticks": ""
           },
           "baxis": {
            "gridcolor": "white",
            "linecolor": "white",
            "ticks": ""
           },
           "bgcolor": "#E5ECF6",
           "caxis": {
            "gridcolor": "white",
            "linecolor": "white",
            "ticks": ""
           }
          },
          "title": {
           "x": 0.05
          },
          "xaxis": {
           "automargin": true,
           "gridcolor": "white",
           "linecolor": "white",
           "ticks": "",
           "title": {
            "standoff": 15
           },
           "zerolinecolor": "white",
           "zerolinewidth": 2
          },
          "yaxis": {
           "automargin": true,
           "gridcolor": "white",
           "linecolor": "white",
           "ticks": "",
           "title": {
            "standoff": 15
           },
           "zerolinecolor": "white",
           "zerolinewidth": 2
          }
         }
        },
        "title": {
         "text": "Model Performance Comparison"
        },
        "xaxis": {
         "title": {
          "text": "Feature Set"
         }
        },
        "yaxis": {
         "title": {
          "text": "R² Score"
         }
        }
       }
      }
     },
     "metadata": {},
     "output_type": "display_data"
    },
    {
     "data": {
      "application/vnd.plotly.v1+json": {
       "config": {
        "plotlyServerURL": "https://plot.ly"
       },
       "data": [
        {
         "error_y": {
          "array": {
           "bdata": "F3gefAOziT8XeB58A7OJP09io25cFX0/T2KjblwVfT8ORP4k1CyAPw5E/iTULIA/p96AwaLlkD92X44Ir2ePPw==",
           "dtype": "f8"
          },
          "type": "data"
         },
         "name": "MSE",
         "type": "bar",
         "x": [
          "Original (Standard)",
          "Original (MinMax)",
          "Original + Ratios (Standard)",
          "Original + Ratios (MinMax)",
          "All Features (Standard)",
          "All Features (MinMax)",
          "PCA (Standard)",
          "PCA (MinMax)"
         ],
         "y": {
          "bdata": "Tb5W4h2HuD9NvlbiHYe4P7K+IbJ5qLg/sr4hsnmouD8CZTIlIC64PwJlMiUgLrg/iFZalVKpuT94PAa73Iy2Pw==",
          "dtype": "f8"
         }
        }
       ],
       "layout": {
        "barmode": "group",
        "template": {
         "data": {
          "bar": [
           {
            "error_x": {
             "color": "#2a3f5f"
            },
            "error_y": {
             "color": "#2a3f5f"
            },
            "marker": {
             "line": {
              "color": "#E5ECF6",
              "width": 0.5
             },
             "pattern": {
              "fillmode": "overlay",
              "size": 10,
              "solidity": 0.2
             }
            },
            "type": "bar"
           }
          ],
          "barpolar": [
           {
            "marker": {
             "line": {
              "color": "#E5ECF6",
              "width": 0.5
             },
             "pattern": {
              "fillmode": "overlay",
              "size": 10,
              "solidity": 0.2
             }
            },
            "type": "barpolar"
           }
          ],
          "carpet": [
           {
            "aaxis": {
             "endlinecolor": "#2a3f5f",
             "gridcolor": "white",
             "linecolor": "white",
             "minorgridcolor": "white",
             "startlinecolor": "#2a3f5f"
            },
            "baxis": {
             "endlinecolor": "#2a3f5f",
             "gridcolor": "white",
             "linecolor": "white",
             "minorgridcolor": "white",
             "startlinecolor": "#2a3f5f"
            },
            "type": "carpet"
           }
          ],
          "choropleth": [
           {
            "colorbar": {
             "outlinewidth": 0,
             "ticks": ""
            },
            "type": "choropleth"
           }
          ],
          "contour": [
           {
            "colorbar": {
             "outlinewidth": 0,
             "ticks": ""
            },
            "colorscale": [
             [
              0,
              "#0d0887"
             ],
             [
              0.1111111111111111,
              "#46039f"
             ],
             [
              0.2222222222222222,
              "#7201a8"
             ],
             [
              0.3333333333333333,
              "#9c179e"
             ],
             [
              0.4444444444444444,
              "#bd3786"
             ],
             [
              0.5555555555555556,
              "#d8576b"
             ],
             [
              0.6666666666666666,
              "#ed7953"
             ],
             [
              0.7777777777777778,
              "#fb9f3a"
             ],
             [
              0.8888888888888888,
              "#fdca26"
             ],
             [
              1,
              "#f0f921"
             ]
            ],
            "type": "contour"
           }
          ],
          "contourcarpet": [
           {
            "colorbar": {
             "outlinewidth": 0,
             "ticks": ""
            },
            "type": "contourcarpet"
           }
          ],
          "heatmap": [
           {
            "colorbar": {
             "outlinewidth": 0,
             "ticks": ""
            },
            "colorscale": [
             [
              0,
              "#0d0887"
             ],
             [
              0.1111111111111111,
              "#46039f"
             ],
             [
              0.2222222222222222,
              "#7201a8"
             ],
             [
              0.3333333333333333,
              "#9c179e"
             ],
             [
              0.4444444444444444,
              "#bd3786"
             ],
             [
              0.5555555555555556,
              "#d8576b"
             ],
             [
              0.6666666666666666,
              "#ed7953"
             ],
             [
              0.7777777777777778,
              "#fb9f3a"
             ],
             [
              0.8888888888888888,
              "#fdca26"
             ],
             [
              1,
              "#f0f921"
             ]
            ],
            "type": "heatmap"
           }
          ],
          "histogram": [
           {
            "marker": {
             "pattern": {
              "fillmode": "overlay",
              "size": 10,
              "solidity": 0.2
             }
            },
            "type": "histogram"
           }
          ],
          "histogram2d": [
           {
            "colorbar": {
             "outlinewidth": 0,
             "ticks": ""
            },
            "colorscale": [
             [
              0,
              "#0d0887"
             ],
             [
              0.1111111111111111,
              "#46039f"
             ],
             [
              0.2222222222222222,
              "#7201a8"
             ],
             [
              0.3333333333333333,
              "#9c179e"
             ],
             [
              0.4444444444444444,
              "#bd3786"
             ],
             [
              0.5555555555555556,
              "#d8576b"
             ],
             [
              0.6666666666666666,
              "#ed7953"
             ],
             [
              0.7777777777777778,
              "#fb9f3a"
             ],
             [
              0.8888888888888888,
              "#fdca26"
             ],
             [
              1,
              "#f0f921"
             ]
            ],
            "type": "histogram2d"
           }
          ],
          "histogram2dcontour": [
           {
            "colorbar": {
             "outlinewidth": 0,
             "ticks": ""
            },
            "colorscale": [
             [
              0,
              "#0d0887"
             ],
             [
              0.1111111111111111,
              "#46039f"
             ],
             [
              0.2222222222222222,
              "#7201a8"
             ],
             [
              0.3333333333333333,
              "#9c179e"
             ],
             [
              0.4444444444444444,
              "#bd3786"
             ],
             [
              0.5555555555555556,
              "#d8576b"
             ],
             [
              0.6666666666666666,
              "#ed7953"
             ],
             [
              0.7777777777777778,
              "#fb9f3a"
             ],
             [
              0.8888888888888888,
              "#fdca26"
             ],
             [
              1,
              "#f0f921"
             ]
            ],
            "type": "histogram2dcontour"
           }
          ],
          "mesh3d": [
           {
            "colorbar": {
             "outlinewidth": 0,
             "ticks": ""
            },
            "type": "mesh3d"
           }
          ],
          "parcoords": [
           {
            "line": {
             "colorbar": {
              "outlinewidth": 0,
              "ticks": ""
             }
            },
            "type": "parcoords"
           }
          ],
          "pie": [
           {
            "automargin": true,
            "type": "pie"
           }
          ],
          "scatter": [
           {
            "fillpattern": {
             "fillmode": "overlay",
             "size": 10,
             "solidity": 0.2
            },
            "type": "scatter"
           }
          ],
          "scatter3d": [
           {
            "line": {
             "colorbar": {
              "outlinewidth": 0,
              "ticks": ""
             }
            },
            "marker": {
             "colorbar": {
              "outlinewidth": 0,
              "ticks": ""
             }
            },
            "type": "scatter3d"
           }
          ],
          "scattercarpet": [
           {
            "marker": {
             "colorbar": {
              "outlinewidth": 0,
              "ticks": ""
             }
            },
            "type": "scattercarpet"
           }
          ],
          "scattergeo": [
           {
            "marker": {
             "colorbar": {
              "outlinewidth": 0,
              "ticks": ""
             }
            },
            "type": "scattergeo"
           }
          ],
          "scattergl": [
           {
            "marker": {
             "colorbar": {
              "outlinewidth": 0,
              "ticks": ""
             }
            },
            "type": "scattergl"
           }
          ],
          "scattermap": [
           {
            "marker": {
             "colorbar": {
              "outlinewidth": 0,
              "ticks": ""
             }
            },
            "type": "scattermap"
           }
          ],
          "scattermapbox": [
           {
            "marker": {
             "colorbar": {
              "outlinewidth": 0,
              "ticks": ""
             }
            },
            "type": "scattermapbox"
           }
          ],
          "scatterpolar": [
           {
            "marker": {
             "colorbar": {
              "outlinewidth": 0,
              "ticks": ""
             }
            },
            "type": "scatterpolar"
           }
          ],
          "scatterpolargl": [
           {
            "marker": {
             "colorbar": {
              "outlinewidth": 0,
              "ticks": ""
             }
            },
            "type": "scatterpolargl"
           }
          ],
          "scatterternary": [
           {
            "marker": {
             "colorbar": {
              "outlinewidth": 0,
              "ticks": ""
             }
            },
            "type": "scatterternary"
           }
          ],
          "surface": [
           {
            "colorbar": {
             "outlinewidth": 0,
             "ticks": ""
            },
            "colorscale": [
             [
              0,
              "#0d0887"
             ],
             [
              0.1111111111111111,
              "#46039f"
             ],
             [
              0.2222222222222222,
              "#7201a8"
             ],
             [
              0.3333333333333333,
              "#9c179e"
             ],
             [
              0.4444444444444444,
              "#bd3786"
             ],
             [
              0.5555555555555556,
              "#d8576b"
             ],
             [
              0.6666666666666666,
              "#ed7953"
             ],
             [
              0.7777777777777778,
              "#fb9f3a"
             ],
             [
              0.8888888888888888,
              "#fdca26"
             ],
             [
              1,
              "#f0f921"
             ]
            ],
            "type": "surface"
           }
          ],
          "table": [
           {
            "cells": {
             "fill": {
              "color": "#EBF0F8"
             },
             "line": {
              "color": "white"
             }
            },
            "header": {
             "fill": {
              "color": "#C8D4E3"
             },
             "line": {
              "color": "white"
             }
            },
            "type": "table"
           }
          ]
         },
         "layout": {
          "annotationdefaults": {
           "arrowcolor": "#2a3f5f",
           "arrowhead": 0,
           "arrowwidth": 1
          },
          "autotypenumbers": "strict",
          "coloraxis": {
           "colorbar": {
            "outlinewidth": 0,
            "ticks": ""
           }
          },
          "colorscale": {
           "diverging": [
            [
             0,
             "#8e0152"
            ],
            [
             0.1,
             "#c51b7d"
            ],
            [
             0.2,
             "#de77ae"
            ],
            [
             0.3,
             "#f1b6da"
            ],
            [
             0.4,
             "#fde0ef"
            ],
            [
             0.5,
             "#f7f7f7"
            ],
            [
             0.6,
             "#e6f5d0"
            ],
            [
             0.7,
             "#b8e186"
            ],
            [
             0.8,
             "#7fbc41"
            ],
            [
             0.9,
             "#4d9221"
            ],
            [
             1,
             "#276419"
            ]
           ],
           "sequential": [
            [
             0,
             "#0d0887"
            ],
            [
             0.1111111111111111,
             "#46039f"
            ],
            [
             0.2222222222222222,
             "#7201a8"
            ],
            [
             0.3333333333333333,
             "#9c179e"
            ],
            [
             0.4444444444444444,
             "#bd3786"
            ],
            [
             0.5555555555555556,
             "#d8576b"
            ],
            [
             0.6666666666666666,
             "#ed7953"
            ],
            [
             0.7777777777777778,
             "#fb9f3a"
            ],
            [
             0.8888888888888888,
             "#fdca26"
            ],
            [
             1,
             "#f0f921"
            ]
           ],
           "sequentialminus": [
            [
             0,
             "#0d0887"
            ],
            [
             0.1111111111111111,
             "#46039f"
            ],
            [
             0.2222222222222222,
             "#7201a8"
            ],
            [
             0.3333333333333333,
             "#9c179e"
            ],
            [
             0.4444444444444444,
             "#bd3786"
            ],
            [
             0.5555555555555556,
             "#d8576b"
            ],
            [
             0.6666666666666666,
             "#ed7953"
            ],
            [
             0.7777777777777778,
             "#fb9f3a"
            ],
            [
             0.8888888888888888,
             "#fdca26"
            ],
            [
             1,
             "#f0f921"
            ]
           ]
          },
          "colorway": [
           "#636efa",
           "#EF553B",
           "#00cc96",
           "#ab63fa",
           "#FFA15A",
           "#19d3f3",
           "#FF6692",
           "#B6E880",
           "#FF97FF",
           "#FECB52"
          ],
          "font": {
           "color": "#2a3f5f"
          },
          "geo": {
           "bgcolor": "white",
           "lakecolor": "white",
           "landcolor": "#E5ECF6",
           "showlakes": true,
           "showland": true,
           "subunitcolor": "white"
          },
          "hoverlabel": {
           "align": "left"
          },
          "hovermode": "closest",
          "mapbox": {
           "style": "light"
          },
          "paper_bgcolor": "white",
          "plot_bgcolor": "#E5ECF6",
          "polar": {
           "angularaxis": {
            "gridcolor": "white",
            "linecolor": "white",
            "ticks": ""
           },
           "bgcolor": "#E5ECF6",
           "radialaxis": {
            "gridcolor": "white",
            "linecolor": "white",
            "ticks": ""
           }
          },
          "scene": {
           "xaxis": {
            "backgroundcolor": "#E5ECF6",
            "gridcolor": "white",
            "gridwidth": 2,
            "linecolor": "white",
            "showbackground": true,
            "ticks": "",
            "zerolinecolor": "white"
           },
           "yaxis": {
            "backgroundcolor": "#E5ECF6",
            "gridcolor": "white",
            "gridwidth": 2,
            "linecolor": "white",
            "showbackground": true,
            "ticks": "",
            "zerolinecolor": "white"
           },
           "zaxis": {
            "backgroundcolor": "#E5ECF6",
            "gridcolor": "white",
            "gridwidth": 2,
            "linecolor": "white",
            "showbackground": true,
            "ticks": "",
            "zerolinecolor": "white"
           }
          },
          "shapedefaults": {
           "line": {
            "color": "#2a3f5f"
           }
          },
          "ternary": {
           "aaxis": {
            "gridcolor": "white",
            "linecolor": "white",
            "ticks": ""
           },
           "baxis": {
            "gridcolor": "white",
            "linecolor": "white",
            "ticks": ""
           },
           "bgcolor": "#E5ECF6",
           "caxis": {
            "gridcolor": "white",
            "linecolor": "white",
            "ticks": ""
           }
          },
          "title": {
           "x": 0.05
          },
          "xaxis": {
           "automargin": true,
           "gridcolor": "white",
           "linecolor": "white",
           "ticks": "",
           "title": {
            "standoff": 15
           },
           "zerolinecolor": "white",
           "zerolinewidth": 2
          },
          "yaxis": {
           "automargin": true,
           "gridcolor": "white",
           "linecolor": "white",
           "ticks": "",
           "title": {
            "standoff": 15
           },
           "zerolinecolor": "white",
           "zerolinewidth": 2
          }
         }
        },
        "title": {
         "text": "Model Error Comparison"
        },
        "xaxis": {
         "title": {
          "text": "Feature Set"
         }
        },
        "yaxis": {
         "title": {
          "text": "Mean Squared Error"
         }
        }
       }
      }
     },
     "metadata": {},
     "output_type": "display_data"
    },
    {
     "name": "stdout",
     "output_type": "stream",
     "text": [
      "\n",
      "Detailed Performance Metrics:\n"
     ]
    },
    {
     "data": {
      "text/html": [
       "<div>\n",
       "<style scoped>\n",
       "    .dataframe tbody tr th:only-of-type {\n",
       "        vertical-align: middle;\n",
       "    }\n",
       "\n",
       "    .dataframe tbody tr th {\n",
       "        vertical-align: top;\n",
       "    }\n",
       "\n",
       "    .dataframe thead th {\n",
       "        text-align: right;\n",
       "    }\n",
       "</style>\n",
       "<table border=\"1\" class=\"dataframe\">\n",
       "  <thead>\n",
       "    <tr style=\"text-align: right;\">\n",
       "      <th></th>\n",
       "      <th>R² Score</th>\n",
       "      <th>R² Std</th>\n",
       "      <th>MSE</th>\n",
       "      <th>MSE Std</th>\n",
       "    </tr>\n",
       "  </thead>\n",
       "  <tbody>\n",
       "    <tr>\n",
       "      <th>Original (Standard)</th>\n",
       "      <td>-0.098157</td>\n",
       "      <td>0.037025</td>\n",
       "      <td>0.095812</td>\n",
       "      <td>0.012548</td>\n",
       "    </tr>\n",
       "    <tr>\n",
       "      <th>Original (MinMax)</th>\n",
       "      <td>-0.098157</td>\n",
       "      <td>0.037025</td>\n",
       "      <td>0.095812</td>\n",
       "      <td>0.012548</td>\n",
       "    </tr>\n",
       "    <tr>\n",
       "      <th>Original + Ratios (Standard)</th>\n",
       "      <td>-0.115228</td>\n",
       "      <td>0.106010</td>\n",
       "      <td>0.096321</td>\n",
       "      <td>0.007100</td>\n",
       "    </tr>\n",
       "    <tr>\n",
       "      <th>Original + Ratios (MinMax)</th>\n",
       "      <td>-0.115228</td>\n",
       "      <td>0.106010</td>\n",
       "      <td>0.096321</td>\n",
       "      <td>0.007100</td>\n",
       "    </tr>\n",
       "    <tr>\n",
       "      <th>All Features (Standard)</th>\n",
       "      <td>-0.091431</td>\n",
       "      <td>0.089503</td>\n",
       "      <td>0.094454</td>\n",
       "      <td>0.007898</td>\n",
       "    </tr>\n",
       "    <tr>\n",
       "      <th>All Features (MinMax)</th>\n",
       "      <td>-0.091431</td>\n",
       "      <td>0.089503</td>\n",
       "      <td>0.094454</td>\n",
       "      <td>0.007898</td>\n",
       "    </tr>\n",
       "    <tr>\n",
       "      <th>PCA (Standard)</th>\n",
       "      <td>-0.147964</td>\n",
       "      <td>0.113321</td>\n",
       "      <td>0.100240</td>\n",
       "      <td>0.016501</td>\n",
       "    </tr>\n",
       "    <tr>\n",
       "      <th>PCA (MinMax)</th>\n",
       "      <td>-0.005169</td>\n",
       "      <td>0.081097</td>\n",
       "      <td>0.088087</td>\n",
       "      <td>0.015334</td>\n",
       "    </tr>\n",
       "  </tbody>\n",
       "</table>\n",
       "</div>"
      ],
      "text/plain": [
       "                              R² Score    R² Std       MSE   MSE Std\n",
       "Original (Standard)          -0.098157  0.037025  0.095812  0.012548\n",
       "Original (MinMax)            -0.098157  0.037025  0.095812  0.012548\n",
       "Original + Ratios (Standard) -0.115228  0.106010  0.096321  0.007100\n",
       "Original + Ratios (MinMax)   -0.115228  0.106010  0.096321  0.007100\n",
       "All Features (Standard)      -0.091431  0.089503  0.094454  0.007898\n",
       "All Features (MinMax)        -0.091431  0.089503  0.094454  0.007898\n",
       "PCA (Standard)               -0.147964  0.113321  0.100240  0.016501\n",
       "PCA (MinMax)                 -0.005169  0.081097  0.088087  0.015334"
      ]
     },
     "metadata": {},
     "output_type": "display_data"
    }
   ],
   "source": [
    "# Feature set comparison functions\n",
    "def evaluate_feature_set(X, y, scaler=None, pca=None, cv=5):\n",
    "    \"\"\"Evaluate a feature set using cross-validation.\"\"\"\n",
    "    if scaler:\n",
    "        X = scaler.fit_transform(X)\n",
    "    if pca:\n",
    "        X = pca.fit_transform(X)\n",
    "        \n",
    "    model = RandomForestRegressor(n_estimators=100, random_state=42)\n",
    "    \n",
    "    # Calculate cross-validation scores\n",
    "    r2_scores = cross_val_score(model, X, y, cv=cv, scoring='r2')\n",
    "    mse_scores = -cross_val_score(model, X, y, cv=cv, scoring='neg_mean_squared_error')\n",
    "    \n",
    "    # Fit model on full data for feature importance\n",
    "    model.fit(X, y)\n",
    "    \n",
    "    # Calculate tree variance for confidence\n",
    "    if hasattr(model, 'estimators_'):\n",
    "        tree_predictions = np.array([tree.predict(X) for tree in model.estimators_])\n",
    "        variance = np.var(tree_predictions, axis=0)\n",
    "        confidence = 1 / (1 + variance)\n",
    "        confidence = np.clip(confidence, 0.1, 0.99)\n",
    "    else:\n",
    "        confidence = None\n",
    "    \n",
    "    return {\n",
    "        'r2_mean': r2_scores.mean(),\n",
    "        'r2_std': r2_scores.std(),\n",
    "        'mse_mean': mse_scores.mean(),\n",
    "        'mse_std': mse_scores.std(),\n",
    "        'model': model,\n",
    "        'confidence': confidence\n",
    "    }\n",
    "\n",
    "def compare_feature_sets(X_raw, y, cv=5):\n",
    "    \"\"\"Compare different feature combinations.\"\"\"\n",
    "    # Prepare feature sets\n",
    "    X_with_ratios = pd.concat([X_raw, calculate_ratios(X_raw)], axis=1)\n",
    "    X_all_features = pd.concat([X_with_ratios, calculate_derivatives(X_raw)], axis=1)\n",
    "    \n",
    "    # Prepare scalers and PCA\n",
    "    standard_scaler = StandardScaler()\n",
    "    minmax_scaler = MinMaxScaler()\n",
    "    pca = PCA(n_components=0.95)  # Keep 95% of variance\n",
    "    \n",
    "    # Evaluate each combination\n",
    "    results = {\n",
    "        'Original (Standard)': evaluate_feature_set(X_raw, y, standard_scaler),\n",
    "        'Original (MinMax)': evaluate_feature_set(X_raw, y, minmax_scaler),\n",
    "        'Original + Ratios (Standard)': evaluate_feature_set(X_with_ratios, y, standard_scaler),\n",
    "        'Original + Ratios (MinMax)': evaluate_feature_set(X_with_ratios, y, minmax_scaler),\n",
    "        'All Features (Standard)': evaluate_feature_set(X_all_features, y, standard_scaler),\n",
    "        'All Features (MinMax)': evaluate_feature_set(X_all_features, y, minmax_scaler),\n",
    "        'PCA (Standard)': evaluate_feature_set(X_all_features, y, standard_scaler, pca),\n",
    "        'PCA (MinMax)': evaluate_feature_set(X_all_features, y, minmax_scaler, pca)\n",
    "    }\n",
    "    \n",
    "    return results\n",
    "\n",
    "# Generate target variables for testing\n",
    "np.random.seed(42)\n",
    "y = np.random.uniform(0, 1, len(X_raw))\n",
    "\n",
    "# Compare feature sets\n",
    "print(\"Comparing feature sets...\")\n",
    "results = compare_feature_sets(X_raw, y)\n",
    "\n",
    "# Create performance comparison plot\n",
    "performance_data = pd.DataFrame({\n",
    "    name: {\n",
    "        'R² Score': metrics['r2_mean'],\n",
    "        'R² Std': metrics['r2_std'],\n",
    "        'MSE': metrics['mse_mean'],\n",
    "        'MSE Std': metrics['mse_std']\n",
    "    }\n",
    "    for name, metrics in results.items()\n",
    "}).T\n",
    "\n",
    "# Plot R² scores\n",
    "fig = go.Figure()\n",
    "fig.add_trace(go.Bar(\n",
    "    name='R² Score',\n",
    "    x=performance_data.index,\n",
    "    y=performance_data['R² Score'],\n",
    "    error_y=dict(type='data', array=performance_data['R² Std'])\n",
    "))\n",
    "\n",
    "fig.update_layout(\n",
    "    title='Model Performance Comparison',\n",
    "    xaxis_title='Feature Set',\n",
    "    yaxis_title='R² Score',\n",
    "    barmode='group'\n",
    ")\n",
    "fig.show()\n",
    "\n",
    "# Plot MSE scores\n",
    "fig = go.Figure()\n",
    "fig.add_trace(go.Bar(\n",
    "    name='MSE',\n",
    "    x=performance_data.index,\n",
    "    y=performance_data['MSE'],\n",
    "    error_y=dict(type='data', array=performance_data['MSE Std'])\n",
    "))\n",
    "\n",
    "fig.update_layout(\n",
    "    title='Model Error Comparison',\n",
    "    xaxis_title='Feature Set',\n",
    "    yaxis_title='Mean Squared Error',\n",
    "    barmode='group'\n",
    ")\n",
    "fig.show()\n",
    "\n",
    "# Display numerical results\n",
    "print(\"\\nDetailed Performance Metrics:\")\n",
    "display(performance_data)"
   ]
  }
 ],
 "metadata": {
  "kernelspec": {
   "display_name": "Python 3",
   "language": "python",
   "name": "python3"
  },
  "language_info": {
   "codemirror_mode": {
    "name": "ipython",
    "version": 3
   },
   "file_extension": ".py",
   "mimetype": "text/x-python",
   "name": "python",
   "nbconvert_exporter": "python",
   "pygments_lexer": "ipython3",
   "version": "3.11.0"
  }
 },
 "nbformat": 4,
 "nbformat_minor": 5
}
