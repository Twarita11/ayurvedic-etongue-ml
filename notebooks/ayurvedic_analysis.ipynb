{
 "cells": [
  {
   "cell_type": "markdown",
   "id": "c7e6e6d4",
   "metadata": {},
   "source": [
    "# Ayurvedic Medicine Sensor Analysis Pipeline\n",
    "\n",
    "This notebook demonstrates the complete machine learning pipeline for analyzing NIR sensor data from Ayurvedic medicines. We'll cover:\n",
    "\n",
    "1. Data loading and validation\n",
    "2. Exploratory data analysis\n",
    "3. Feature engineering\n",
    "4. Model development and training\n",
    "5. Evaluation and visualization\n",
    "6. Production deployment\n",
    "\n",
    "## Setup Requirements\n",
    "- Python 3.8+\n",
    "- Required packages: pandas, numpy, scikit-learn, tensorflow, plotly, fastapi\n",
    "- Git repository for version control"
   ]
  },
  {
   "cell_type": "code",
   "execution_count": 8,
   "id": "29d34cd8",
   "metadata": {},
   "outputs": [],
   "source": [
    "# Import required libraries\n",
    "import numpy as np\n",
    "import pandas as pd\n",
    "import plotly.express as px\n",
    "import plotly.graph_objects as go\n",
    "from plotly.subplots import make_subplots\n",
    "from sklearn.preprocessing import StandardScaler, MinMaxScaler\n",
    "from sklearn.model_selection import train_test_split\n",
    "from sklearn.ensemble import RandomForestRegressor, RandomForestClassifier\n",
    "from sklearn.svm import SVR, SVC\n",
    "import tensorflow as tf\n",
    "from tensorflow.keras.models import Sequential\n",
    "from tensorflow.keras.layers import Dense, Dropout\n",
    "from tensorflow.keras.optimizers import Adam\n",
    "import joblib\n",
    "import json\n",
    "import os\n",
    "\n",
    "# Import custom modules\n",
    "import sys\n",
    "sys.path.append('..')\n",
    "from src.data.preprocessing import DataPreprocessor\n",
    "from src.features.engineering import FeatureEngineer\n",
    "from src.models.ensemble import EnsembleModel\n",
    "from src.visualization.plots import Visualizer\n",
    "\n",
    "# Set random seed for reproducibility\n",
    "np.random.seed(42)\n",
    "tf.random.set_seed(42)"
   ]
  },
  {
   "cell_type": "markdown",
   "id": "dedf92a1",
   "metadata": {},
   "source": [
    "# Data Loading and Validation\n",
    "\n",
    "Let's create a sample dataset and demonstrate the data loading and validation pipeline. Our dataset should have the following structure:\n",
    "- 6 NIR wavelength sensors (R,S,T,U,V,W)\n",
    "- Temperature readings\n",
    "- Dilution percentages (100%, 75%, 50%, 25%, 10%)\n",
    "- Medicine names (3-4 different medicines)\n",
    "- Effectiveness scores\n",
    "- Reading IDs"
   ]
  },
  {
   "cell_type": "code",
   "execution_count": 3,
   "id": "da1e6c0a",
   "metadata": {},
   "outputs": [
    {
     "name": "stdout",
     "output_type": "stream",
     "text": [
      "\n",
      "Synthetic Data Sample:\n",
      "           R         S         T         U         V         W  Dilution_Percent Medicine_Name Primary_Taste Secondary_Taste  Effectiveness_Score  Reading_ID\n",
      "0   0.686640  0.764677  1.073680  1.226813  1.047590  0.879581               100   Ashwagandha        bitter      astringent             1.157921           1\n",
      "1   0.695709  0.751925  1.068213  1.113585  1.035316  0.900767               100   Ashwagandha        bitter      astringent             0.808672           2\n",
      "2   0.612215  0.748352  0.987333  1.157912  1.011875  0.827152               100   Ashwagandha        bitter      astringent             1.146565           3\n",
      "3   0.662436  0.772600  0.965913  1.108970  1.065879  0.838781               100   Ashwagandha        bitter      astringent             1.037570           4\n",
      "4   0.649879  0.758770  1.008711  1.245580  1.059285  0.842932               100   Ashwagandha        bitter      astringent             1.082254           5\n",
      "5   0.629102  0.778041  0.938097  1.064293  1.070434  0.922862               100   Ashwagandha        bitter      astringent             1.017137           6\n",
      "6   0.666126  0.758408  0.963117  1.098969  1.035586  0.937042               100   Ashwagandha        bitter      astringent             1.034362           7\n",
      "7   0.610938  0.782477  1.019976  1.101415  1.092419  0.935879               100   Ashwagandha        bitter      astringent             1.093128           8\n",
      "8   0.641886  0.758095  1.057226  1.195606  1.034604  0.881738               100   Ashwagandha        bitter      astringent             0.889367           9\n",
      "9   0.629927  0.801282  1.110524  1.135895  1.113187  0.906093               100   Ashwagandha        bitter      astringent             0.935488          10\n",
      "10  0.682107  0.829214  1.038137  1.229185  0.921154  0.926575               100   Ashwagandha        bitter      astringent             1.008705          11\n",
      "11  0.659983  0.773533  0.936646  1.127479  1.078927  0.955766               100   Ashwagandha        bitter      astringent             0.948173          12\n",
      "12  0.642915  0.750682  1.087601  1.158739  1.031923  0.912840               100   Ashwagandha        bitter      astringent             1.009708          13\n",
      "13  0.702450  0.742971  1.022962  1.117650  0.982434  0.903177               100   Ashwagandha        bitter      astringent             1.026106          14\n",
      "14  0.670171  0.760968  0.966401  1.116023  1.041836  0.854299               100   Ashwagandha        bitter      astringent             0.983871          15\n",
      "15  0.683536  0.842618  1.049078  1.154680  1.056054  0.804615               100   Ashwagandha        bitter      astringent             0.997349          16\n",
      "16  0.672018  0.864835  1.029997  1.157188  1.058160  0.837994               100   Ashwagandha        bitter      astringent             1.114282          17\n",
      "17  0.695190  0.800455  0.992712  1.219959  0.985702  0.916115               100   Ashwagandha        bitter      astringent             1.219046          18\n",
      "18  0.636817  0.748198  1.045182  1.111302  0.977815  0.893051               100   Ashwagandha        bitter      astringent             0.893770          19\n",
      "19  0.685865  0.734602  1.120597  1.095355  1.042931  0.926202               100   Ashwagandha        bitter      astringent             0.876914          20\n",
      "\n",
      "Data saved to '../data/sensor_readings_with_tastes.csv'\n"
     ]
    }
   ],
   "source": [
    "# Generate sample data with taste profiles\n",
    "np.random.seed(42)\n",
    "\n",
    "# Define parameters\n",
    "n_samples_per_dilution = 25\n",
    "dilution_levels = [100, 75, 50, 25, 10]\n",
    "medicines = {\n",
    "    'Ashwagandha': {\n",
    "        'primary_taste': 'bitter',  # Tikta\n",
    "        'secondary_taste': 'astringent'  # Kashaya\n",
    "    },\n",
    "    'Turmeric': {\n",
    "        'primary_taste': 'bitter',  # Tikta\n",
    "        'secondary_taste': 'pungent'  # Katu\n",
    "    },\n",
    "    'Tulsi': {\n",
    "        'primary_taste': 'pungent',  # Katu\n",
    "        'secondary_taste': 'bitter'  # Tikta\n",
    "    },\n",
    "    'Neem': {\n",
    "        'primary_taste': 'bitter',  # Tikta\n",
    "        'secondary_taste': 'astringent'  # Kashaya\n",
    "    }\n",
    "}\n",
    "\n",
    "# Taste profiles baseline sensor patterns\n",
    "taste_profiles = {\n",
    "    'sweet': {'R': 1.2, 'S': 1.1, 'T': 0.9, 'U': 0.8, 'V': 0.7, 'W': 0.6},  # Madhura\n",
    "    'sour': {'R': 0.8, 'S': 1.0, 'T': 1.2, 'U': 1.1, 'V': 0.9, 'W': 0.7},   # Amla\n",
    "    'salty': {'R': 0.9, 'S': 1.1, 'T': 1.0, 'U': 0.9, 'V': 0.8, 'W': 0.9},  # Lavana\n",
    "    'bitter': {'R': 0.7, 'S': 0.8, 'T': 1.1, 'U': 1.2, 'V': 1.0, 'W': 0.8}, # Tikta\n",
    "    'pungent': {'R': 1.0, 'S': 0.9, 'T': 0.8, 'U': 1.0, 'V': 1.1, 'W': 1.0},# Katu\n",
    "    'astringent': {'R': 0.6, 'S': 0.7, 'T': 0.9, 'U': 1.0, 'V': 1.2, 'W': 1.1} # Kashaya\n",
    "}\n",
    "\n",
    "# Generate synthetic data\n",
    "data = []\n",
    "reading_id = 1\n",
    "\n",
    "for medicine, tastes in medicines.items():\n",
    "    primary_profile = taste_profiles[tastes['primary_taste']]\n",
    "    secondary_profile = taste_profiles[tastes['secondary_taste']]\n",
    "    \n",
    "    for dilution in dilution_levels:\n",
    "        for _ in range(n_samples_per_dilution):\n",
    "            # Combine primary and secondary taste profiles\n",
    "            base_readings = {}\n",
    "            for channel in ['R', 'S', 'T', 'U', 'V', 'W']:\n",
    "                base_value = (0.7 * primary_profile[channel] + \n",
    "                            0.3 * secondary_profile[channel])\n",
    "                # Scale by dilution and add noise\n",
    "                base_readings[channel] = (base_value * dilution/100 * \n",
    "                                        np.random.normal(1, 0.05))\n",
    "            \n",
    "            # Effectiveness score (correlated with dilution and some noise)\n",
    "            effectiveness = (dilution/100) * np.random.normal(1, 0.1)\n",
    "            \n",
    "            # Ensure non-negative values and clip to reasonable range\n",
    "            for channel in base_readings:\n",
    "                base_readings[channel] = np.clip(base_readings[channel], 0.1, 5.0)\n",
    "            \n",
    "            data.append({\n",
    "                'R': base_readings['R'],\n",
    "                'S': base_readings['S'],\n",
    "                'T': base_readings['T'],\n",
    "                'U': base_readings['U'],\n",
    "                'V': base_readings['V'],\n",
    "                'W': base_readings['W'],\n",
    "                'Dilution_Percent': dilution,\n",
    "                'Medicine_Name': medicine,\n",
    "                'Primary_Taste': tastes['primary_taste'],\n",
    "                'Secondary_Taste': tastes['secondary_taste'],\n",
    "                'Effectiveness_Score': effectiveness,\n",
    "                'Reading_ID': reading_id\n",
    "            })\n",
    "            reading_id += 1\n",
    "\n",
    "# Create DataFrame\n",
    "df = pd.DataFrame(data)\n",
    "\n",
    "# Display the first 20 rows with specific columns\n",
    "print(\"\\nSynthetic Data Sample:\")\n",
    "pd.set_option('display.max_columns', None)\n",
    "pd.set_option('display.width', None)\n",
    "print(df.head(20).to_string())\n",
    "\n",
    "# Save to CSV\n",
    "os.makedirs('../data', exist_ok=True)\n",
    "df.to_csv('../data/sensor_readings_with_tastes.csv', index=False)\n",
    "print(\"\\nData saved to '../data/sensor_readings_with_tastes.csv'\")"
   ]
  },
  {
   "cell_type": "markdown",
   "id": "a83461d1",
   "metadata": {},
   "source": [
    "## Synthetic Data Generation with Taste Profiles\n",
    "\n",
    "Let's create synthetic data that includes:\n",
    "1. NIR sensor readings (R,S,T,U,V,W)\n",
    "2. Dilution levels\n",
    "3. Medicine names\n",
    "4. Effectiveness scores\n",
    "5. Reading IDs\n",
    "6. Taste profiles (Madhura, Amla, Lavana, Tikta, Katu, Kashaya)"
   ]
  },
  {
   "cell_type": "code",
   "execution_count": 2,
   "id": "849d63eb",
   "metadata": {},
   "outputs": [],
   "source": [
    "# Import required libraries\n",
    "import numpy as np\n",
    "import pandas as pd\n",
    "import os"
   ]
  },
  {
   "cell_type": "markdown",
   "id": "ff92e82d",
   "metadata": {},
   "source": [
    "# Data Preprocessing and Feature Engineering\n",
    "\n",
    "Now let's preprocess the data and create engineered features using our custom modules. We'll:\n",
    "1. Initialize the data preprocessor\n",
    "2. Load and validate the data\n",
    "3. Apply temperature compensation\n",
    "4. Normalize features\n",
    "5. Engineer additional features using wavelength ratios and spectral derivatives\n",
    "6. Apply PCA for dimensionality reduction"
   ]
  },
  {
   "cell_type": "code",
   "execution_count": 10,
   "id": "ed9403de",
   "metadata": {},
   "outputs": [
    {
     "name": "stdout",
     "output_type": "stream",
     "text": [
      "Original features shape: (500, 7)\n",
      "Engineered features shape: (500, 39)\n",
      "PCA features shape: (500, 3)\n"
     ]
    }
   ],
   "source": [
    "# Initialize processors\n",
    "preprocessor = DataPreprocessor()\n",
    "feature_engineer = FeatureEngineer()\n",
    "\n",
    "# Load and preprocess data\n",
    "df = preprocessor.load_data('../data/sensor_readings.csv')\n",
    "df_comp = preprocessor.temperature_compensation(df)\n",
    "df_norm = preprocessor.normalize_features(df_comp)\n",
    "\n",
    "# Prepare feature matrix\n",
    "X = np.hstack([\n",
    "    df_norm[preprocessor.sensor_columns].values,\n",
    "    df_norm[[preprocessor.temp_column]].values\n",
    "])\n",
    "\n",
    "# Engineer features\n",
    "features = feature_engineer.engineer_features(\n",
    "    df_norm[preprocessor.sensor_columns].values,\n",
    "    df_norm[preprocessor.temp_column].values\n",
    ")\n",
    "\n",
    "print(\"Original features shape:\", X.shape)\n",
    "print(\"Engineered features shape:\", features['combined'].shape)\n",
    "print(\"PCA features shape:\", features['pca'].shape)"
   ]
  },
  {
   "cell_type": "markdown",
   "id": "01e9c7af",
   "metadata": {},
   "source": [
    "# Data Visualization\n",
    "\n",
    "Let's create visualizations to understand our data better:\n",
    "1. Sensor reading distributions\n",
    "2. Temperature vs sensor response\n",
    "3. Dilution level effects\n",
    "4. Medicine type patterns\n",
    "5. Feature correlations"
   ]
  },
  {
   "cell_type": "code",
   "execution_count": null,
   "id": "afb4727e",
   "metadata": {},
   "outputs": [
    {
     "ename": "ValueError",
     "evalue": "Mime type rendering requires nbformat>=4.2.0 but it is not installed",
     "output_type": "error",
     "traceback": [
      "\u001b[31m---------------------------------------------------------------------------\u001b[39m",
      "\u001b[31mValueError\u001b[39m                                Traceback (most recent call last)",
      "\u001b[36mCell\u001b[39m\u001b[36m \u001b[39m\u001b[32mIn[5]\u001b[39m\u001b[32m, line 6\u001b[39m\n\u001b[32m      4\u001b[39m \u001b[38;5;66;03m# Plot sensor readings over time\u001b[39;00m\n\u001b[32m      5\u001b[39m fig_readings = visualizer.plot_sensor_readings(df)\n\u001b[32m----> \u001b[39m\u001b[32m6\u001b[39m \u001b[43mfig_readings\u001b[49m\u001b[43m.\u001b[49m\u001b[43mshow\u001b[49m\u001b[43m(\u001b[49m\u001b[43m)\u001b[49m\n\u001b[32m      8\u001b[39m \u001b[38;5;66;03m# Plot dilution curves\u001b[39;00m\n\u001b[32m      9\u001b[39m fig_dilution = visualizer.plot_dilution_curves(df)\n",
      "\u001b[36mFile \u001b[39m\u001b[32m~\\AppData\\Roaming\\Python\\Python311\\site-packages\\plotly\\basedatatypes.py:3420\u001b[39m, in \u001b[36mBaseFigure.show\u001b[39m\u001b[34m(self, *args, **kwargs)\u001b[39m\n\u001b[32m   3387\u001b[39m \u001b[38;5;250m\u001b[39m\u001b[33;03m\"\"\"\u001b[39;00m\n\u001b[32m   3388\u001b[39m \u001b[33;03mShow a figure using either the default renderer(s) or the renderer(s)\u001b[39;00m\n\u001b[32m   3389\u001b[39m \u001b[33;03mspecified by the renderer argument\u001b[39;00m\n\u001b[32m   (...)\u001b[39m\u001b[32m   3416\u001b[39m \u001b[33;03mNone\u001b[39;00m\n\u001b[32m   3417\u001b[39m \u001b[33;03m\"\"\"\u001b[39;00m\n\u001b[32m   3418\u001b[39m \u001b[38;5;28;01mimport\u001b[39;00m\u001b[38;5;250m \u001b[39m\u001b[34;01mplotly\u001b[39;00m\u001b[34;01m.\u001b[39;00m\u001b[34;01mio\u001b[39;00m\u001b[38;5;250m \u001b[39m\u001b[38;5;28;01mas\u001b[39;00m\u001b[38;5;250m \u001b[39m\u001b[34;01mpio\u001b[39;00m\n\u001b[32m-> \u001b[39m\u001b[32m3420\u001b[39m \u001b[38;5;28;01mreturn\u001b[39;00m \u001b[43mpio\u001b[49m\u001b[43m.\u001b[49m\u001b[43mshow\u001b[49m\u001b[43m(\u001b[49m\u001b[38;5;28;43mself\u001b[39;49m\u001b[43m,\u001b[49m\u001b[43m \u001b[49m\u001b[43m*\u001b[49m\u001b[43margs\u001b[49m\u001b[43m,\u001b[49m\u001b[43m \u001b[49m\u001b[43m*\u001b[49m\u001b[43m*\u001b[49m\u001b[43mkwargs\u001b[49m\u001b[43m)\u001b[49m\n",
      "\u001b[36mFile \u001b[39m\u001b[32m~\\AppData\\Roaming\\Python\\Python311\\site-packages\\plotly\\io\\_renderers.py:415\u001b[39m, in \u001b[36mshow\u001b[39m\u001b[34m(fig, renderer, validate, **kwargs)\u001b[39m\n\u001b[32m    410\u001b[39m     \u001b[38;5;28;01mraise\u001b[39;00m \u001b[38;5;167;01mValueError\u001b[39;00m(\n\u001b[32m    411\u001b[39m         \u001b[33m\"\u001b[39m\u001b[33mMime type rendering requires ipython but it is not installed\u001b[39m\u001b[33m\"\u001b[39m\n\u001b[32m    412\u001b[39m     )\n\u001b[32m    414\u001b[39m \u001b[38;5;28;01mif\u001b[39;00m \u001b[38;5;129;01mnot\u001b[39;00m nbformat \u001b[38;5;129;01mor\u001b[39;00m Version(nbformat.__version__) < Version(\u001b[33m\"\u001b[39m\u001b[33m4.2.0\u001b[39m\u001b[33m\"\u001b[39m):\n\u001b[32m--> \u001b[39m\u001b[32m415\u001b[39m     \u001b[38;5;28;01mraise\u001b[39;00m \u001b[38;5;167;01mValueError\u001b[39;00m(\n\u001b[32m    416\u001b[39m         \u001b[33m\"\u001b[39m\u001b[33mMime type rendering requires nbformat>=4.2.0 but it is not installed\u001b[39m\u001b[33m\"\u001b[39m\n\u001b[32m    417\u001b[39m     )\n\u001b[32m    419\u001b[39m display_jupyter_version_warnings()\n\u001b[32m    421\u001b[39m ipython_display.display(bundle, raw=\u001b[38;5;28;01mTrue\u001b[39;00m)\n",
      "\u001b[31mValueError\u001b[39m: Mime type rendering requires nbformat>=4.2.0 but it is not installed"
     ]
    }
   ],
   "source": [
    "# Visualization of sensor readings\n",
    "import plotly.express as px\n",
    "import plotly.graph_objects as go\n",
    "from plotly.subplots import make_subplots\n",
    "\n",
    "# Create subplots for all sensor readings\n",
    "fig = make_subplots(rows=2, cols=3, \n",
    "                    subplot_titles=('R Channel', 'S Channel', 'T Channel',\n",
    "                                  'U Channel', 'V Channel', 'W Channel'))\n",
    "\n",
    "channels = ['R', 'S', 'T', 'U', 'V', 'W']\n",
    "row_col = [(1,1), (1,2), (1,3), (2,1), (2,2), (2,3)]\n",
    "\n",
    "for (channel, (row, col)) in zip(channels, row_col):\n",
    "    for medicine in medicines:\n",
    "        med_data = df[df['Medicine_Name'] == medicine]\n",
    "        fig.add_trace(\n",
    "            go.Scatter(x=med_data['Dilution_Percent'], \n",
    "                      y=med_data[channel],\n",
    "                      name=f'{medicine} - {channel}',\n",
    "                      mode='markers',\n",
    "                      marker=dict(size=8),\n",
    "                      showlegend=True if row == 1 and col == 1 else False),\n",
    "            row=row, col=col\n",
    "        )\n",
    "\n",
    "fig.update_layout(height=800, width=1200, title_text=\"Sensor Readings vs Dilution by Medicine Type\")\n",
    "fig.update_xaxes(title_text=\"Dilution (%)\")\n",
    "fig.update_yaxes(title_text=\"Sensor Reading\")\n",
    "fig.show()\n",
    "\n",
    "# Create effectiveness heatmap\n",
    "df_pivot = df.pivot_table(values='Effectiveness_Score', \n",
    "                         index='Medicine_Name', \n",
    "                         columns='Dilution_Percent',\n",
    "                         aggfunc='mean')\n",
    "\n",
    "fig_heatmap = go.Figure(data=go.Heatmap(\n",
    "    z=df_pivot.values,\n",
    "    x=df_pivot.columns,\n",
    "    y=df_pivot.index,\n",
    "    colorscale='RdBu',\n",
    "    colorbar=dict(title='Effectiveness Score')\n",
    "))\n",
    "\n",
    "fig_heatmap.update_layout(\n",
    "    title='Effectiveness Score by Medicine and Dilution',\n",
    "    xaxis_title='Dilution (%)',\n",
    "    yaxis_title='Medicine',\n",
    "    width=1000,\n",
    "    height=500\n",
    ")\n",
    "fig_heatmap.show()"
   ]
  },
  {
   "cell_type": "markdown",
   "id": "75cb1e43",
   "metadata": {},
   "source": [
    "## Taste Profile and Dilution Analysis Visualizations\n",
    "\n",
    "Let's analyze the relationships between:\n",
    "1. Taste profiles and sensor patterns\n",
    "2. Dilution effects on different medicines\n",
    "3. Primary vs Secondary taste influences\n",
    "4. Effectiveness across dilution levels\n",
    "5. Sensor pattern fingerprints for each medicine"
   ]
  },
  {
   "cell_type": "code",
   "execution_count": 5,
   "id": "13bf031a",
   "metadata": {},
   "outputs": [],
   "source": [
    "# Import visualization libraries\n",
    "import plotly.graph_objects as go\n",
    "import plotly.express as px\n",
    "from plotly.subplots import make_subplots\n",
    "from sklearn.decomposition import PCA"
   ]
  },
  {
   "cell_type": "code",
   "execution_count": 7,
   "id": "8a6899e8",
   "metadata": {},
   "outputs": [
    {
     "data": {
      "application/vnd.plotly.v1+json": {
       "config": {
        "plotlyServerURL": "https://plot.ly"
       },
       "data": [
        {
         "fill": "toself",
         "name": "Sweet",
         "r": [
          1.2,
          1.1,
          0.9,
          0.8,
          0.7,
          0.6
         ],
         "theta": [
          "R",
          "S",
          "T",
          "U",
          "V",
          "W"
         ],
         "type": "scatterpolar"
        },
        {
         "fill": "toself",
         "name": "Sour",
         "r": [
          0.8,
          1,
          1.2,
          1.1,
          0.9,
          0.7
         ],
         "theta": [
          "R",
          "S",
          "T",
          "U",
          "V",
          "W"
         ],
         "type": "scatterpolar"
        },
        {
         "fill": "toself",
         "name": "Salty",
         "r": [
          0.9,
          1.1,
          1,
          0.9,
          0.8,
          0.9
         ],
         "theta": [
          "R",
          "S",
          "T",
          "U",
          "V",
          "W"
         ],
         "type": "scatterpolar"
        },
        {
         "fill": "toself",
         "name": "Bitter",
         "r": [
          0.7,
          0.8,
          1.1,
          1.2,
          1,
          0.8
         ],
         "theta": [
          "R",
          "S",
          "T",
          "U",
          "V",
          "W"
         ],
         "type": "scatterpolar"
        },
        {
         "fill": "toself",
         "name": "Pungent",
         "r": [
          1,
          0.9,
          0.8,
          1,
          1.1,
          1
         ],
         "theta": [
          "R",
          "S",
          "T",
          "U",
          "V",
          "W"
         ],
         "type": "scatterpolar"
        },
        {
         "fill": "toself",
         "name": "Astringent",
         "r": [
          0.6,
          0.7,
          0.9,
          1,
          1.2,
          1.1
         ],
         "theta": [
          "R",
          "S",
          "T",
          "U",
          "V",
          "W"
         ],
         "type": "scatterpolar"
        }
       ],
       "layout": {
        "height": 600,
        "polar": {
         "radialaxis": {
          "range": [
           0,
           1.5
          ]
         }
        },
        "showlegend": true,
        "template": {
         "data": {
          "bar": [
           {
            "error_x": {
             "color": "#2a3f5f"
            },
            "error_y": {
             "color": "#2a3f5f"
            },
            "marker": {
             "line": {
              "color": "#E5ECF6",
              "width": 0.5
             },
             "pattern": {
              "fillmode": "overlay",
              "size": 10,
              "solidity": 0.2
             }
            },
            "type": "bar"
           }
          ],
          "barpolar": [
           {
            "marker": {
             "line": {
              "color": "#E5ECF6",
              "width": 0.5
             },
             "pattern": {
              "fillmode": "overlay",
              "size": 10,
              "solidity": 0.2
             }
            },
            "type": "barpolar"
           }
          ],
          "carpet": [
           {
            "aaxis": {
             "endlinecolor": "#2a3f5f",
             "gridcolor": "white",
             "linecolor": "white",
             "minorgridcolor": "white",
             "startlinecolor": "#2a3f5f"
            },
            "baxis": {
             "endlinecolor": "#2a3f5f",
             "gridcolor": "white",
             "linecolor": "white",
             "minorgridcolor": "white",
             "startlinecolor": "#2a3f5f"
            },
            "type": "carpet"
           }
          ],
          "choropleth": [
           {
            "colorbar": {
             "outlinewidth": 0,
             "ticks": ""
            },
            "type": "choropleth"
           }
          ],
          "contour": [
           {
            "colorbar": {
             "outlinewidth": 0,
             "ticks": ""
            },
            "colorscale": [
             [
              0,
              "#0d0887"
             ],
             [
              0.1111111111111111,
              "#46039f"
             ],
             [
              0.2222222222222222,
              "#7201a8"
             ],
             [
              0.3333333333333333,
              "#9c179e"
             ],
             [
              0.4444444444444444,
              "#bd3786"
             ],
             [
              0.5555555555555556,
              "#d8576b"
             ],
             [
              0.6666666666666666,
              "#ed7953"
             ],
             [
              0.7777777777777778,
              "#fb9f3a"
             ],
             [
              0.8888888888888888,
              "#fdca26"
             ],
             [
              1,
              "#f0f921"
             ]
            ],
            "type": "contour"
           }
          ],
          "contourcarpet": [
           {
            "colorbar": {
             "outlinewidth": 0,
             "ticks": ""
            },
            "type": "contourcarpet"
           }
          ],
          "heatmap": [
           {
            "colorbar": {
             "outlinewidth": 0,
             "ticks": ""
            },
            "colorscale": [
             [
              0,
              "#0d0887"
             ],
             [
              0.1111111111111111,
              "#46039f"
             ],
             [
              0.2222222222222222,
              "#7201a8"
             ],
             [
              0.3333333333333333,
              "#9c179e"
             ],
             [
              0.4444444444444444,
              "#bd3786"
             ],
             [
              0.5555555555555556,
              "#d8576b"
             ],
             [
              0.6666666666666666,
              "#ed7953"
             ],
             [
              0.7777777777777778,
              "#fb9f3a"
             ],
             [
              0.8888888888888888,
              "#fdca26"
             ],
             [
              1,
              "#f0f921"
             ]
            ],
            "type": "heatmap"
           }
          ],
          "histogram": [
           {
            "marker": {
             "pattern": {
              "fillmode": "overlay",
              "size": 10,
              "solidity": 0.2
             }
            },
            "type": "histogram"
           }
          ],
          "histogram2d": [
           {
            "colorbar": {
             "outlinewidth": 0,
             "ticks": ""
            },
            "colorscale": [
             [
              0,
              "#0d0887"
             ],
             [
              0.1111111111111111,
              "#46039f"
             ],
             [
              0.2222222222222222,
              "#7201a8"
             ],
             [
              0.3333333333333333,
              "#9c179e"
             ],
             [
              0.4444444444444444,
              "#bd3786"
             ],
             [
              0.5555555555555556,
              "#d8576b"
             ],
             [
              0.6666666666666666,
              "#ed7953"
             ],
             [
              0.7777777777777778,
              "#fb9f3a"
             ],
             [
              0.8888888888888888,
              "#fdca26"
             ],
             [
              1,
              "#f0f921"
             ]
            ],
            "type": "histogram2d"
           }
          ],
          "histogram2dcontour": [
           {
            "colorbar": {
             "outlinewidth": 0,
             "ticks": ""
            },
            "colorscale": [
             [
              0,
              "#0d0887"
             ],
             [
              0.1111111111111111,
              "#46039f"
             ],
             [
              0.2222222222222222,
              "#7201a8"
             ],
             [
              0.3333333333333333,
              "#9c179e"
             ],
             [
              0.4444444444444444,
              "#bd3786"
             ],
             [
              0.5555555555555556,
              "#d8576b"
             ],
             [
              0.6666666666666666,
              "#ed7953"
             ],
             [
              0.7777777777777778,
              "#fb9f3a"
             ],
             [
              0.8888888888888888,
              "#fdca26"
             ],
             [
              1,
              "#f0f921"
             ]
            ],
            "type": "histogram2dcontour"
           }
          ],
          "mesh3d": [
           {
            "colorbar": {
             "outlinewidth": 0,
             "ticks": ""
            },
            "type": "mesh3d"
           }
          ],
          "parcoords": [
           {
            "line": {
             "colorbar": {
              "outlinewidth": 0,
              "ticks": ""
             }
            },
            "type": "parcoords"
           }
          ],
          "pie": [
           {
            "automargin": true,
            "type": "pie"
           }
          ],
          "scatter": [
           {
            "fillpattern": {
             "fillmode": "overlay",
             "size": 10,
             "solidity": 0.2
            },
            "type": "scatter"
           }
          ],
          "scatter3d": [
           {
            "line": {
             "colorbar": {
              "outlinewidth": 0,
              "ticks": ""
             }
            },
            "marker": {
             "colorbar": {
              "outlinewidth": 0,
              "ticks": ""
             }
            },
            "type": "scatter3d"
           }
          ],
          "scattercarpet": [
           {
            "marker": {
             "colorbar": {
              "outlinewidth": 0,
              "ticks": ""
             }
            },
            "type": "scattercarpet"
           }
          ],
          "scattergeo": [
           {
            "marker": {
             "colorbar": {
              "outlinewidth": 0,
              "ticks": ""
             }
            },
            "type": "scattergeo"
           }
          ],
          "scattergl": [
           {
            "marker": {
             "colorbar": {
              "outlinewidth": 0,
              "ticks": ""
             }
            },
            "type": "scattergl"
           }
          ],
          "scattermap": [
           {
            "marker": {
             "colorbar": {
              "outlinewidth": 0,
              "ticks": ""
             }
            },
            "type": "scattermap"
           }
          ],
          "scattermapbox": [
           {
            "marker": {
             "colorbar": {
              "outlinewidth": 0,
              "ticks": ""
             }
            },
            "type": "scattermapbox"
           }
          ],
          "scatterpolar": [
           {
            "marker": {
             "colorbar": {
              "outlinewidth": 0,
              "ticks": ""
             }
            },
            "type": "scatterpolar"
           }
          ],
          "scatterpolargl": [
           {
            "marker": {
             "colorbar": {
              "outlinewidth": 0,
              "ticks": ""
             }
            },
            "type": "scatterpolargl"
           }
          ],
          "scatterternary": [
           {
            "marker": {
             "colorbar": {
              "outlinewidth": 0,
              "ticks": ""
             }
            },
            "type": "scatterternary"
           }
          ],
          "surface": [
           {
            "colorbar": {
             "outlinewidth": 0,
             "ticks": ""
            },
            "colorscale": [
             [
              0,
              "#0d0887"
             ],
             [
              0.1111111111111111,
              "#46039f"
             ],
             [
              0.2222222222222222,
              "#7201a8"
             ],
             [
              0.3333333333333333,
              "#9c179e"
             ],
             [
              0.4444444444444444,
              "#bd3786"
             ],
             [
              0.5555555555555556,
              "#d8576b"
             ],
             [
              0.6666666666666666,
              "#ed7953"
             ],
             [
              0.7777777777777778,
              "#fb9f3a"
             ],
             [
              0.8888888888888888,
              "#fdca26"
             ],
             [
              1,
              "#f0f921"
             ]
            ],
            "type": "surface"
           }
          ],
          "table": [
           {
            "cells": {
             "fill": {
              "color": "#EBF0F8"
             },
             "line": {
              "color": "white"
             }
            },
            "header": {
             "fill": {
              "color": "#C8D4E3"
             },
             "line": {
              "color": "white"
             }
            },
            "type": "table"
           }
          ]
         },
         "layout": {
          "annotationdefaults": {
           "arrowcolor": "#2a3f5f",
           "arrowhead": 0,
           "arrowwidth": 1
          },
          "autotypenumbers": "strict",
          "coloraxis": {
           "colorbar": {
            "outlinewidth": 0,
            "ticks": ""
           }
          },
          "colorscale": {
           "diverging": [
            [
             0,
             "#8e0152"
            ],
            [
             0.1,
             "#c51b7d"
            ],
            [
             0.2,
             "#de77ae"
            ],
            [
             0.3,
             "#f1b6da"
            ],
            [
             0.4,
             "#fde0ef"
            ],
            [
             0.5,
             "#f7f7f7"
            ],
            [
             0.6,
             "#e6f5d0"
            ],
            [
             0.7,
             "#b8e186"
            ],
            [
             0.8,
             "#7fbc41"
            ],
            [
             0.9,
             "#4d9221"
            ],
            [
             1,
             "#276419"
            ]
           ],
           "sequential": [
            [
             0,
             "#0d0887"
            ],
            [
             0.1111111111111111,
             "#46039f"
            ],
            [
             0.2222222222222222,
             "#7201a8"
            ],
            [
             0.3333333333333333,
             "#9c179e"
            ],
            [
             0.4444444444444444,
             "#bd3786"
            ],
            [
             0.5555555555555556,
             "#d8576b"
            ],
            [
             0.6666666666666666,
             "#ed7953"
            ],
            [
             0.7777777777777778,
             "#fb9f3a"
            ],
            [
             0.8888888888888888,
             "#fdca26"
            ],
            [
             1,
             "#f0f921"
            ]
           ],
           "sequentialminus": [
            [
             0,
             "#0d0887"
            ],
            [
             0.1111111111111111,
             "#46039f"
            ],
            [
             0.2222222222222222,
             "#7201a8"
            ],
            [
             0.3333333333333333,
             "#9c179e"
            ],
            [
             0.4444444444444444,
             "#bd3786"
            ],
            [
             0.5555555555555556,
             "#d8576b"
            ],
            [
             0.6666666666666666,
             "#ed7953"
            ],
            [
             0.7777777777777778,
             "#fb9f3a"
            ],
            [
             0.8888888888888888,
             "#fdca26"
            ],
            [
             1,
             "#f0f921"
            ]
           ]
          },
          "colorway": [
           "#636efa",
           "#EF553B",
           "#00cc96",
           "#ab63fa",
           "#FFA15A",
           "#19d3f3",
           "#FF6692",
           "#B6E880",
           "#FF97FF",
           "#FECB52"
          ],
          "font": {
           "color": "#2a3f5f"
          },
          "geo": {
           "bgcolor": "white",
           "lakecolor": "white",
           "landcolor": "#E5ECF6",
           "showlakes": true,
           "showland": true,
           "subunitcolor": "white"
          },
          "hoverlabel": {
           "align": "left"
          },
          "hovermode": "closest",
          "mapbox": {
           "style": "light"
          },
          "paper_bgcolor": "white",
          "plot_bgcolor": "#E5ECF6",
          "polar": {
           "angularaxis": {
            "gridcolor": "white",
            "linecolor": "white",
            "ticks": ""
           },
           "bgcolor": "#E5ECF6",
           "radialaxis": {
            "gridcolor": "white",
            "linecolor": "white",
            "ticks": ""
           }
          },
          "scene": {
           "xaxis": {
            "backgroundcolor": "#E5ECF6",
            "gridcolor": "white",
            "gridwidth": 2,
            "linecolor": "white",
            "showbackground": true,
            "ticks": "",
            "zerolinecolor": "white"
           },
           "yaxis": {
            "backgroundcolor": "#E5ECF6",
            "gridcolor": "white",
            "gridwidth": 2,
            "linecolor": "white",
            "showbackground": true,
            "ticks": "",
            "zerolinecolor": "white"
           },
           "zaxis": {
            "backgroundcolor": "#E5ECF6",
            "gridcolor": "white",
            "gridwidth": 2,
            "linecolor": "white",
            "showbackground": true,
            "ticks": "",
            "zerolinecolor": "white"
           }
          },
          "shapedefaults": {
           "line": {
            "color": "#2a3f5f"
           }
          },
          "ternary": {
           "aaxis": {
            "gridcolor": "white",
            "linecolor": "white",
            "ticks": ""
           },
           "baxis": {
            "gridcolor": "white",
            "linecolor": "white",
            "ticks": ""
           },
           "bgcolor": "#E5ECF6",
           "caxis": {
            "gridcolor": "white",
            "linecolor": "white",
            "ticks": ""
           }
          },
          "title": {
           "x": 0.05
          },
          "xaxis": {
           "automargin": true,
           "gridcolor": "white",
           "linecolor": "white",
           "ticks": "",
           "title": {
            "standoff": 15
           },
           "zerolinecolor": "white",
           "zerolinewidth": 2
          },
          "yaxis": {
           "automargin": true,
           "gridcolor": "white",
           "linecolor": "white",
           "ticks": "",
           "title": {
            "standoff": 15
           },
           "zerolinecolor": "white",
           "zerolinewidth": 2
          }
         }
        },
        "title": {
         "text": "Taste Profile Sensor Patterns"
        },
        "width": 800
       }
      }
     },
     "metadata": {},
     "output_type": "display_data"
    },
    {
     "data": {
      "application/vnd.plotly.v1+json": {
       "config": {
        "plotlyServerURL": "https://plot.ly"
       },
       "data": [
        {
         "name": "100%",
         "r": {
          "bdata": "7P+Zmnsx5T9xXPrZN9/oPxdZtYPqZfA/fQKX5q9d8j+9zpr/vKjwPy3Yv64ImOw/",
          "dtype": "f8"
         },
         "showlegend": true,
         "subplot": "polar",
         "theta": [
          "R",
          "S",
          "T",
          "U",
          "V",
          "W"
         ],
         "type": "scatterpolar"
        },
        {
         "name": "75%",
         "r": {
          "bdata": "ITFj3Xch4D9ZUjIHkIjiP/x0PZZS7eg/e9dTTkJU6z8BKpOSmKXpP0HQtHtYZOU/",
          "dtype": "f8"
         },
         "showlegend": true,
         "subplot": "polar",
         "theta": [
          "R",
          "S",
          "T",
          "U",
          "V",
          "W"
         ],
         "type": "scatterpolar"
        },
        {
         "name": "50%",
         "r": {
          "bdata": "d+OP7Lyq1T8R5CkGd8TYP9lEqAyufOA/5FyKiWM84j/wwE95C9zgP0rb66eRwtw/",
          "dtype": "f8"
         },
         "showlegend": true,
         "subplot": "polar",
         "theta": [
          "R",
          "S",
          "T",
          "U",
          "V",
          "W"
         ],
         "type": "scatterpolar"
        },
        {
         "name": "25%",
         "r": {
          "bdata": "g7my1JGSxT8Tsrjaq6HIPzTgObOEctA/A309xwkz0j/RMdQ5QefQP5+1cJm4rsw/",
          "dtype": "f8"
         },
         "showlegend": true,
         "subplot": "polar",
         "theta": [
          "R",
          "S",
          "T",
          "U",
          "V",
          "W"
         ],
         "type": "scatterpolar"
        },
        {
         "name": "10%",
         "r": {
          "bdata": "m5mZmZmZuT+bmZmZmZm5Pzq4aoFZ4ro/hDa4qDY9vT/txAJNF/q6P5uZmZmZmbk/",
          "dtype": "f8"
         },
         "showlegend": true,
         "subplot": "polar",
         "theta": [
          "R",
          "S",
          "T",
          "U",
          "V",
          "W"
         ],
         "type": "scatterpolar"
        },
        {
         "name": "100%",
         "r": {
          "bdata": "PSwMewN86T8kPT8DKYDqP7fFMdYyKPA/VDfoqH6L8j/spIbxraLwP5ojTUplmes/",
          "dtype": "f8"
         },
         "showlegend": false,
         "subplot": "polar2",
         "theta": [
          "R",
          "S",
          "T",
          "U",
          "V",
          "W"
         ],
         "type": "scatterpolar"
        },
        {
         "name": "75%",
         "r": {
          "bdata": "333mR+4e4z/il+pIv/LjP/GBxK09OOg/GlRfyvKs6z/xnqz+3IjoP9z8in/grOQ/",
          "dtype": "f8"
         },
         "showlegend": false,
         "subplot": "polar2",
         "theta": [
          "R",
          "S",
          "T",
          "U",
          "V",
          "W"
         ],
         "type": "scatterpolar"
        },
        {
         "name": "50%",
         "r": {
          "bdata": "A7PAMndd2T9hSpBiJ5zaPyv/QIChKuA/X5Z1Qst14j8ZWJIsomfgP/HhNHBLLNs/",
          "dtype": "f8"
         },
         "showlegend": false,
         "subplot": "polar2",
         "theta": [
          "R",
          "S",
          "T",
          "U",
          "V",
          "W"
         ],
         "type": "scatterpolar"
        },
        {
         "name": "25%",
         "r": {
          "bdata": "T/RxT4WdyT8kW0bKB4rKP3gJINqjetA/xtqpO6FN0j+NlvVpg6zQP/shEOPqkss/",
          "dtype": "f8"
         },
         "showlegend": false,
         "subplot": "polar2",
         "theta": [
          "R",
          "S",
          "T",
          "U",
          "V",
          "W"
         ],
         "type": "scatterpolar"
        },
        {
         "name": "10%",
         "r": {
          "bdata": "m5mZmZmZuT+bmZmZmZm5P5yAo8R2TLo/4L7cOjGivT8spkDj2ni6P5uZmZmZmbk/",
          "dtype": "f8"
         },
         "showlegend": false,
         "subplot": "polar2",
         "theta": [
          "R",
          "S",
          "T",
          "U",
          "V",
          "W"
         ],
         "type": "scatterpolar"
        },
        {
         "name": "100%",
         "r": {
          "bdata": "nCVwP1sx7T8OBWfSWvjrP3IdhyiZCuw/mHJQSGC+8D8IuLTG8vTwPzh+5R/GXu4/",
          "dtype": "f8"
         },
         "showlegend": false,
         "subplot": "polar3",
         "theta": [
          "R",
          "S",
          "T",
          "U",
          "V",
          "W"
         ],
         "type": "scatterpolar"
        },
        {
         "name": "75%",
         "r": {
          "bdata": "VrmRb9d+5T8DKiIn41/kP1ZK0GtFkOU/asC4g3CE6T8OS5NwS6vpP/bIGyF/3eY/",
          "dtype": "f8"
         },
         "showlegend": false,
         "subplot": "polar3",
         "theta": [
          "R",
          "S",
          "T",
          "U",
          "V",
          "W"
         ],
         "type": "scatterpolar"
        },
        {
         "name": "50%",
         "r": {
          "bdata": "gEM37Jc23T9EcHokDD3cP7GN2lW+o9w/HKY9NEzu4D/Q7z01F8HgP8iMxSYn2d0/",
          "dtype": "f8"
         },
         "showlegend": false,
         "subplot": "polar3",
         "theta": [
          "R",
          "S",
          "T",
          "U",
          "V",
          "W"
         ],
         "type": "scatterpolar"
        },
        {
         "name": "25%",
         "r": {
          "bdata": "bvfxCu1FzT+y/NemzczLPyC/rynwcsw/F7M4iVQK0T/3dU+bYj3RPy7eOollzs0/",
          "dtype": "f8"
         },
         "showlegend": false,
         "subplot": "polar3",
         "theta": [
          "R",
          "S",
          "T",
          "U",
          "V",
          "W"
         ],
         "type": "scatterpolar"
        },
        {
         "name": "10%",
         "r": {
          "bdata": "Q5Oi5sipuT+bmZmZmZm5P5uZmZmZmbk/GyEgDxtIuz8krt+gs7i7P/Sv7f1nrrk/",
          "dtype": "f8"
         },
         "showlegend": false,
         "subplot": "polar3",
         "theta": [
          "R",
          "S",
          "T",
          "U",
          "V",
          "W"
         ],
         "type": "scatterpolar"
        },
        {
         "name": "100%",
         "r": {
          "bdata": "VGx/5puW5T8EEdmoV97oP7yyVGMGyfA/WkVCol0Y8j89UavwLBzxP7o76BhMVOw/",
          "dtype": "f8"
         },
         "showlegend": false,
         "subplot": "polar4",
         "theta": [
          "R",
          "S",
          "T",
          "U",
          "V",
          "W"
         ],
         "type": "scatterpolar"
        },
        {
         "name": "75%",
         "r": {
          "bdata": "v7gkkGXE3z9k3csRRr/iP3gKs6CB4eg/TZNGzoRZ6z+EsGGgqqXpP1PaLSzaNeU/",
          "dtype": "f8"
         },
         "showlegend": false,
         "subplot": "polar4",
         "theta": [
          "R",
          "S",
          "T",
          "U",
          "V",
          "W"
         ],
         "type": "scatterpolar"
        },
        {
         "name": "50%",
         "r": {
          "bdata": "V+4QA3mT1T+mucm54LHYPzpOD7x1luA/mpDXC4Ai4j+SzUWv8NLgP9/866LARdw/",
          "dtype": "f8"
         },
         "showlegend": false,
         "subplot": "polar4",
         "theta": [
          "R",
          "S",
          "T",
          "U",
          "V",
          "W"
         ],
         "type": "scatterpolar"
        },
        {
         "name": "25%",
         "r": {
          "bdata": "jr6ND2gCxj/UlMEPN37IP1HyiE8+6NA/PAHNRlI80j9HAdWD/vnQP2Y+ydHPzcs/",
          "dtype": "f8"
         },
         "showlegend": false,
         "subplot": "polar4",
         "theta": [
          "R",
          "S",
          "T",
          "U",
          "V",
          "W"
         ],
         "type": "scatterpolar"
        },
        {
         "name": "10%",
         "r": {
          "bdata": "m5mZmZmZuT+bmZmZmZm5P6+5NPG81Lo/lhoSGU+zvD/bnKpITzW7P5uZmZmZmbk/",
          "dtype": "f8"
         },
         "showlegend": false,
         "subplot": "polar4",
         "theta": [
          "R",
          "S",
          "T",
          "U",
          "V",
          "W"
         ],
         "type": "scatterpolar"
        }
       ],
       "layout": {
        "annotations": [
         {
          "font": {
           "size": 16
          },
          "showarrow": false,
          "text": "Ashwagandha",
          "x": 0.225,
          "xanchor": "center",
          "xref": "paper",
          "y": 1,
          "yanchor": "bottom",
          "yref": "paper"
         },
         {
          "font": {
           "size": 16
          },
          "showarrow": false,
          "text": "Turmeric",
          "x": 0.775,
          "xanchor": "center",
          "xref": "paper",
          "y": 1,
          "yanchor": "bottom",
          "yref": "paper"
         },
         {
          "font": {
           "size": 16
          },
          "showarrow": false,
          "text": "Tulsi",
          "x": 0.225,
          "xanchor": "center",
          "xref": "paper",
          "y": 0.375,
          "yanchor": "bottom",
          "yref": "paper"
         },
         {
          "font": {
           "size": 16
          },
          "showarrow": false,
          "text": "Neem",
          "x": 0.775,
          "xanchor": "center",
          "xref": "paper",
          "y": 0.375,
          "yanchor": "bottom",
          "yref": "paper"
         }
        ],
        "height": 800,
        "polar": {
         "domain": {
          "x": [
           0,
           0.45
          ],
          "y": [
           0.625,
           1
          ]
         }
        },
        "polar2": {
         "domain": {
          "x": [
           0.55,
           1
          ],
          "y": [
           0.625,
           1
          ]
         }
        },
        "polar3": {
         "domain": {
          "x": [
           0,
           0.45
          ],
          "y": [
           0,
           0.375
          ]
         }
        },
        "polar4": {
         "domain": {
          "x": [
           0.55,
           1
          ],
          "y": [
           0,
           0.375
          ]
         }
        },
        "template": {
         "data": {
          "bar": [
           {
            "error_x": {
             "color": "#2a3f5f"
            },
            "error_y": {
             "color": "#2a3f5f"
            },
            "marker": {
             "line": {
              "color": "#E5ECF6",
              "width": 0.5
             },
             "pattern": {
              "fillmode": "overlay",
              "size": 10,
              "solidity": 0.2
             }
            },
            "type": "bar"
           }
          ],
          "barpolar": [
           {
            "marker": {
             "line": {
              "color": "#E5ECF6",
              "width": 0.5
             },
             "pattern": {
              "fillmode": "overlay",
              "size": 10,
              "solidity": 0.2
             }
            },
            "type": "barpolar"
           }
          ],
          "carpet": [
           {
            "aaxis": {
             "endlinecolor": "#2a3f5f",
             "gridcolor": "white",
             "linecolor": "white",
             "minorgridcolor": "white",
             "startlinecolor": "#2a3f5f"
            },
            "baxis": {
             "endlinecolor": "#2a3f5f",
             "gridcolor": "white",
             "linecolor": "white",
             "minorgridcolor": "white",
             "startlinecolor": "#2a3f5f"
            },
            "type": "carpet"
           }
          ],
          "choropleth": [
           {
            "colorbar": {
             "outlinewidth": 0,
             "ticks": ""
            },
            "type": "choropleth"
           }
          ],
          "contour": [
           {
            "colorbar": {
             "outlinewidth": 0,
             "ticks": ""
            },
            "colorscale": [
             [
              0,
              "#0d0887"
             ],
             [
              0.1111111111111111,
              "#46039f"
             ],
             [
              0.2222222222222222,
              "#7201a8"
             ],
             [
              0.3333333333333333,
              "#9c179e"
             ],
             [
              0.4444444444444444,
              "#bd3786"
             ],
             [
              0.5555555555555556,
              "#d8576b"
             ],
             [
              0.6666666666666666,
              "#ed7953"
             ],
             [
              0.7777777777777778,
              "#fb9f3a"
             ],
             [
              0.8888888888888888,
              "#fdca26"
             ],
             [
              1,
              "#f0f921"
             ]
            ],
            "type": "contour"
           }
          ],
          "contourcarpet": [
           {
            "colorbar": {
             "outlinewidth": 0,
             "ticks": ""
            },
            "type": "contourcarpet"
           }
          ],
          "heatmap": [
           {
            "colorbar": {
             "outlinewidth": 0,
             "ticks": ""
            },
            "colorscale": [
             [
              0,
              "#0d0887"
             ],
             [
              0.1111111111111111,
              "#46039f"
             ],
             [
              0.2222222222222222,
              "#7201a8"
             ],
             [
              0.3333333333333333,
              "#9c179e"
             ],
             [
              0.4444444444444444,
              "#bd3786"
             ],
             [
              0.5555555555555556,
              "#d8576b"
             ],
             [
              0.6666666666666666,
              "#ed7953"
             ],
             [
              0.7777777777777778,
              "#fb9f3a"
             ],
             [
              0.8888888888888888,
              "#fdca26"
             ],
             [
              1,
              "#f0f921"
             ]
            ],
            "type": "heatmap"
           }
          ],
          "histogram": [
           {
            "marker": {
             "pattern": {
              "fillmode": "overlay",
              "size": 10,
              "solidity": 0.2
             }
            },
            "type": "histogram"
           }
          ],
          "histogram2d": [
           {
            "colorbar": {
             "outlinewidth": 0,
             "ticks": ""
            },
            "colorscale": [
             [
              0,
              "#0d0887"
             ],
             [
              0.1111111111111111,
              "#46039f"
             ],
             [
              0.2222222222222222,
              "#7201a8"
             ],
             [
              0.3333333333333333,
              "#9c179e"
             ],
             [
              0.4444444444444444,
              "#bd3786"
             ],
             [
              0.5555555555555556,
              "#d8576b"
             ],
             [
              0.6666666666666666,
              "#ed7953"
             ],
             [
              0.7777777777777778,
              "#fb9f3a"
             ],
             [
              0.8888888888888888,
              "#fdca26"
             ],
             [
              1,
              "#f0f921"
             ]
            ],
            "type": "histogram2d"
           }
          ],
          "histogram2dcontour": [
           {
            "colorbar": {
             "outlinewidth": 0,
             "ticks": ""
            },
            "colorscale": [
             [
              0,
              "#0d0887"
             ],
             [
              0.1111111111111111,
              "#46039f"
             ],
             [
              0.2222222222222222,
              "#7201a8"
             ],
             [
              0.3333333333333333,
              "#9c179e"
             ],
             [
              0.4444444444444444,
              "#bd3786"
             ],
             [
              0.5555555555555556,
              "#d8576b"
             ],
             [
              0.6666666666666666,
              "#ed7953"
             ],
             [
              0.7777777777777778,
              "#fb9f3a"
             ],
             [
              0.8888888888888888,
              "#fdca26"
             ],
             [
              1,
              "#f0f921"
             ]
            ],
            "type": "histogram2dcontour"
           }
          ],
          "mesh3d": [
           {
            "colorbar": {
             "outlinewidth": 0,
             "ticks": ""
            },
            "type": "mesh3d"
           }
          ],
          "parcoords": [
           {
            "line": {
             "colorbar": {
              "outlinewidth": 0,
              "ticks": ""
             }
            },
            "type": "parcoords"
           }
          ],
          "pie": [
           {
            "automargin": true,
            "type": "pie"
           }
          ],
          "scatter": [
           {
            "fillpattern": {
             "fillmode": "overlay",
             "size": 10,
             "solidity": 0.2
            },
            "type": "scatter"
           }
          ],
          "scatter3d": [
           {
            "line": {
             "colorbar": {
              "outlinewidth": 0,
              "ticks": ""
             }
            },
            "marker": {
             "colorbar": {
              "outlinewidth": 0,
              "ticks": ""
             }
            },
            "type": "scatter3d"
           }
          ],
          "scattercarpet": [
           {
            "marker": {
             "colorbar": {
              "outlinewidth": 0,
              "ticks": ""
             }
            },
            "type": "scattercarpet"
           }
          ],
          "scattergeo": [
           {
            "marker": {
             "colorbar": {
              "outlinewidth": 0,
              "ticks": ""
             }
            },
            "type": "scattergeo"
           }
          ],
          "scattergl": [
           {
            "marker": {
             "colorbar": {
              "outlinewidth": 0,
              "ticks": ""
             }
            },
            "type": "scattergl"
           }
          ],
          "scattermap": [
           {
            "marker": {
             "colorbar": {
              "outlinewidth": 0,
              "ticks": ""
             }
            },
            "type": "scattermap"
           }
          ],
          "scattermapbox": [
           {
            "marker": {
             "colorbar": {
              "outlinewidth": 0,
              "ticks": ""
             }
            },
            "type": "scattermapbox"
           }
          ],
          "scatterpolar": [
           {
            "marker": {
             "colorbar": {
              "outlinewidth": 0,
              "ticks": ""
             }
            },
            "type": "scatterpolar"
           }
          ],
          "scatterpolargl": [
           {
            "marker": {
             "colorbar": {
              "outlinewidth": 0,
              "ticks": ""
             }
            },
            "type": "scatterpolargl"
           }
          ],
          "scatterternary": [
           {
            "marker": {
             "colorbar": {
              "outlinewidth": 0,
              "ticks": ""
             }
            },
            "type": "scatterternary"
           }
          ],
          "surface": [
           {
            "colorbar": {
             "outlinewidth": 0,
             "ticks": ""
            },
            "colorscale": [
             [
              0,
              "#0d0887"
             ],
             [
              0.1111111111111111,
              "#46039f"
             ],
             [
              0.2222222222222222,
              "#7201a8"
             ],
             [
              0.3333333333333333,
              "#9c179e"
             ],
             [
              0.4444444444444444,
              "#bd3786"
             ],
             [
              0.5555555555555556,
              "#d8576b"
             ],
             [
              0.6666666666666666,
              "#ed7953"
             ],
             [
              0.7777777777777778,
              "#fb9f3a"
             ],
             [
              0.8888888888888888,
              "#fdca26"
             ],
             [
              1,
              "#f0f921"
             ]
            ],
            "type": "surface"
           }
          ],
          "table": [
           {
            "cells": {
             "fill": {
              "color": "#EBF0F8"
             },
             "line": {
              "color": "white"
             }
            },
            "header": {
             "fill": {
              "color": "#C8D4E3"
             },
             "line": {
              "color": "white"
             }
            },
            "type": "table"
           }
          ]
         },
         "layout": {
          "annotationdefaults": {
           "arrowcolor": "#2a3f5f",
           "arrowhead": 0,
           "arrowwidth": 1
          },
          "autotypenumbers": "strict",
          "coloraxis": {
           "colorbar": {
            "outlinewidth": 0,
            "ticks": ""
           }
          },
          "colorscale": {
           "diverging": [
            [
             0,
             "#8e0152"
            ],
            [
             0.1,
             "#c51b7d"
            ],
            [
             0.2,
             "#de77ae"
            ],
            [
             0.3,
             "#f1b6da"
            ],
            [
             0.4,
             "#fde0ef"
            ],
            [
             0.5,
             "#f7f7f7"
            ],
            [
             0.6,
             "#e6f5d0"
            ],
            [
             0.7,
             "#b8e186"
            ],
            [
             0.8,
             "#7fbc41"
            ],
            [
             0.9,
             "#4d9221"
            ],
            [
             1,
             "#276419"
            ]
           ],
           "sequential": [
            [
             0,
             "#0d0887"
            ],
            [
             0.1111111111111111,
             "#46039f"
            ],
            [
             0.2222222222222222,
             "#7201a8"
            ],
            [
             0.3333333333333333,
             "#9c179e"
            ],
            [
             0.4444444444444444,
             "#bd3786"
            ],
            [
             0.5555555555555556,
             "#d8576b"
            ],
            [
             0.6666666666666666,
             "#ed7953"
            ],
            [
             0.7777777777777778,
             "#fb9f3a"
            ],
            [
             0.8888888888888888,
             "#fdca26"
            ],
            [
             1,
             "#f0f921"
            ]
           ],
           "sequentialminus": [
            [
             0,
             "#0d0887"
            ],
            [
             0.1111111111111111,
             "#46039f"
            ],
            [
             0.2222222222222222,
             "#7201a8"
            ],
            [
             0.3333333333333333,
             "#9c179e"
            ],
            [
             0.4444444444444444,
             "#bd3786"
            ],
            [
             0.5555555555555556,
             "#d8576b"
            ],
            [
             0.6666666666666666,
             "#ed7953"
            ],
            [
             0.7777777777777778,
             "#fb9f3a"
            ],
            [
             0.8888888888888888,
             "#fdca26"
            ],
            [
             1,
             "#f0f921"
            ]
           ]
          },
          "colorway": [
           "#636efa",
           "#EF553B",
           "#00cc96",
           "#ab63fa",
           "#FFA15A",
           "#19d3f3",
           "#FF6692",
           "#B6E880",
           "#FF97FF",
           "#FECB52"
          ],
          "font": {
           "color": "#2a3f5f"
          },
          "geo": {
           "bgcolor": "white",
           "lakecolor": "white",
           "landcolor": "#E5ECF6",
           "showlakes": true,
           "showland": true,
           "subunitcolor": "white"
          },
          "hoverlabel": {
           "align": "left"
          },
          "hovermode": "closest",
          "mapbox": {
           "style": "light"
          },
          "paper_bgcolor": "white",
          "plot_bgcolor": "#E5ECF6",
          "polar": {
           "angularaxis": {
            "gridcolor": "white",
            "linecolor": "white",
            "ticks": ""
           },
           "bgcolor": "#E5ECF6",
           "radialaxis": {
            "gridcolor": "white",
            "linecolor": "white",
            "ticks": ""
           }
          },
          "scene": {
           "xaxis": {
            "backgroundcolor": "#E5ECF6",
            "gridcolor": "white",
            "gridwidth": 2,
            "linecolor": "white",
            "showbackground": true,
            "ticks": "",
            "zerolinecolor": "white"
           },
           "yaxis": {
            "backgroundcolor": "#E5ECF6",
            "gridcolor": "white",
            "gridwidth": 2,
            "linecolor": "white",
            "showbackground": true,
            "ticks": "",
            "zerolinecolor": "white"
           },
           "zaxis": {
            "backgroundcolor": "#E5ECF6",
            "gridcolor": "white",
            "gridwidth": 2,
            "linecolor": "white",
            "showbackground": true,
            "ticks": "",
            "zerolinecolor": "white"
           }
          },
          "shapedefaults": {
           "line": {
            "color": "#2a3f5f"
           }
          },
          "ternary": {
           "aaxis": {
            "gridcolor": "white",
            "linecolor": "white",
            "ticks": ""
           },
           "baxis": {
            "gridcolor": "white",
            "linecolor": "white",
            "ticks": ""
           },
           "bgcolor": "#E5ECF6",
           "caxis": {
            "gridcolor": "white",
            "linecolor": "white",
            "ticks": ""
           }
          },
          "title": {
           "x": 0.05
          },
          "xaxis": {
           "automargin": true,
           "gridcolor": "white",
           "linecolor": "white",
           "ticks": "",
           "title": {
            "standoff": 15
           },
           "zerolinecolor": "white",
           "zerolinewidth": 2
          },
          "yaxis": {
           "automargin": true,
           "gridcolor": "white",
           "linecolor": "white",
           "ticks": "",
           "title": {
            "standoff": 15
           },
           "zerolinecolor": "white",
           "zerolinewidth": 2
          }
         }
        },
        "title": {
         "text": "Medicine Sensor Patterns at Different Dilutions"
        },
        "width": 1000
       }
      }
     },
     "metadata": {},
     "output_type": "display_data"
    },
    {
     "data": {
      "application/vnd.plotly.v1+json": {
       "config": {
        "plotlyServerURL": "https://plot.ly"
       },
       "data": [
        {
         "hovertemplate": "Medicine_Name=Ashwagandha<br>Dilution (%)=%{x}<br>Effectiveness Score=%{y}<extra></extra>",
         "legendgroup": "Ashwagandha",
         "line": {
          "color": "#636efa",
          "dash": "solid"
         },
         "marker": {
          "symbol": "circle"
         },
         "mode": "lines+markers",
         "name": "Ashwagandha",
         "orientation": "v",
         "showlegend": true,
         "type": "scatter",
         "x": {
          "bdata": "ChkyS2Q=",
          "dtype": "i1"
         },
         "xaxis": "x",
         "y": {
          "bdata": "ab8Z1Sh0uj8RMVKELZTPP+nMQbunT98/JOjmusMy6D8MTP9cHjHwPw==",
          "dtype": "f8"
         },
         "yaxis": "y"
        },
        {
         "hovertemplate": "Medicine_Name=Neem<br>Dilution (%)=%{x}<br>Effectiveness Score=%{y}<extra></extra>",
         "legendgroup": "Neem",
         "line": {
          "color": "#EF553B",
          "dash": "solid"
         },
         "marker": {
          "symbol": "circle"
         },
         "mode": "lines+markers",
         "name": "Neem",
         "orientation": "v",
         "showlegend": true,
         "type": "scatter",
         "x": {
          "bdata": "ChkyS2Q=",
          "dtype": "i1"
         },
         "xaxis": "x",
         "y": {
          "bdata": "00yB5wuRuj8XhPnbXarPP7HtiWmGZN8/dlQbkV605z8yCpK665bvPw==",
          "dtype": "f8"
         },
         "yaxis": "y"
        },
        {
         "hovertemplate": "Medicine_Name=Tulsi<br>Dilution (%)=%{x}<br>Effectiveness Score=%{y}<extra></extra>",
         "legendgroup": "Tulsi",
         "line": {
          "color": "#00cc96",
          "dash": "solid"
         },
         "marker": {
          "symbol": "circle"
         },
         "mode": "lines+markers",
         "name": "Tulsi",
         "orientation": "v",
         "showlegend": true,
         "type": "scatter",
         "x": {
          "bdata": "ChkyS2Q=",
          "dtype": "i1"
         },
         "xaxis": "x",
         "y": {
          "bdata": "ZC6tdwUluT9qQYuL5w3QP/1NH27YBOA/UrLZga2F6D/VDYzfhQ/wPw==",
          "dtype": "f8"
         },
         "yaxis": "y"
        },
        {
         "hovertemplate": "Medicine_Name=Turmeric<br>Dilution (%)=%{x}<br>Effectiveness Score=%{y}<extra></extra>",
         "legendgroup": "Turmeric",
         "line": {
          "color": "#ab63fa",
          "dash": "solid"
         },
         "marker": {
          "symbol": "circle"
         },
         "mode": "lines+markers",
         "name": "Turmeric",
         "orientation": "v",
         "showlegend": true,
         "type": "scatter",
         "x": {
          "bdata": "ChkyS2Q=",
          "dtype": "i1"
         },
         "xaxis": "x",
         "y": {
          "bdata": "Zt1L+kYsuT8q2BcKN6jPP3eNZSHhFOA/G9/AojU96D9IMB/6qR3xPw==",
          "dtype": "f8"
         },
         "yaxis": "y"
        }
       ],
       "layout": {
        "legend": {
         "title": {
          "text": "Medicine_Name"
         },
         "tracegroupgap": 0
        },
        "template": {
         "data": {
          "bar": [
           {
            "error_x": {
             "color": "#2a3f5f"
            },
            "error_y": {
             "color": "#2a3f5f"
            },
            "marker": {
             "line": {
              "color": "#E5ECF6",
              "width": 0.5
             },
             "pattern": {
              "fillmode": "overlay",
              "size": 10,
              "solidity": 0.2
             }
            },
            "type": "bar"
           }
          ],
          "barpolar": [
           {
            "marker": {
             "line": {
              "color": "#E5ECF6",
              "width": 0.5
             },
             "pattern": {
              "fillmode": "overlay",
              "size": 10,
              "solidity": 0.2
             }
            },
            "type": "barpolar"
           }
          ],
          "carpet": [
           {
            "aaxis": {
             "endlinecolor": "#2a3f5f",
             "gridcolor": "white",
             "linecolor": "white",
             "minorgridcolor": "white",
             "startlinecolor": "#2a3f5f"
            },
            "baxis": {
             "endlinecolor": "#2a3f5f",
             "gridcolor": "white",
             "linecolor": "white",
             "minorgridcolor": "white",
             "startlinecolor": "#2a3f5f"
            },
            "type": "carpet"
           }
          ],
          "choropleth": [
           {
            "colorbar": {
             "outlinewidth": 0,
             "ticks": ""
            },
            "type": "choropleth"
           }
          ],
          "contour": [
           {
            "colorbar": {
             "outlinewidth": 0,
             "ticks": ""
            },
            "colorscale": [
             [
              0,
              "#0d0887"
             ],
             [
              0.1111111111111111,
              "#46039f"
             ],
             [
              0.2222222222222222,
              "#7201a8"
             ],
             [
              0.3333333333333333,
              "#9c179e"
             ],
             [
              0.4444444444444444,
              "#bd3786"
             ],
             [
              0.5555555555555556,
              "#d8576b"
             ],
             [
              0.6666666666666666,
              "#ed7953"
             ],
             [
              0.7777777777777778,
              "#fb9f3a"
             ],
             [
              0.8888888888888888,
              "#fdca26"
             ],
             [
              1,
              "#f0f921"
             ]
            ],
            "type": "contour"
           }
          ],
          "contourcarpet": [
           {
            "colorbar": {
             "outlinewidth": 0,
             "ticks": ""
            },
            "type": "contourcarpet"
           }
          ],
          "heatmap": [
           {
            "colorbar": {
             "outlinewidth": 0,
             "ticks": ""
            },
            "colorscale": [
             [
              0,
              "#0d0887"
             ],
             [
              0.1111111111111111,
              "#46039f"
             ],
             [
              0.2222222222222222,
              "#7201a8"
             ],
             [
              0.3333333333333333,
              "#9c179e"
             ],
             [
              0.4444444444444444,
              "#bd3786"
             ],
             [
              0.5555555555555556,
              "#d8576b"
             ],
             [
              0.6666666666666666,
              "#ed7953"
             ],
             [
              0.7777777777777778,
              "#fb9f3a"
             ],
             [
              0.8888888888888888,
              "#fdca26"
             ],
             [
              1,
              "#f0f921"
             ]
            ],
            "type": "heatmap"
           }
          ],
          "histogram": [
           {
            "marker": {
             "pattern": {
              "fillmode": "overlay",
              "size": 10,
              "solidity": 0.2
             }
            },
            "type": "histogram"
           }
          ],
          "histogram2d": [
           {
            "colorbar": {
             "outlinewidth": 0,
             "ticks": ""
            },
            "colorscale": [
             [
              0,
              "#0d0887"
             ],
             [
              0.1111111111111111,
              "#46039f"
             ],
             [
              0.2222222222222222,
              "#7201a8"
             ],
             [
              0.3333333333333333,
              "#9c179e"
             ],
             [
              0.4444444444444444,
              "#bd3786"
             ],
             [
              0.5555555555555556,
              "#d8576b"
             ],
             [
              0.6666666666666666,
              "#ed7953"
             ],
             [
              0.7777777777777778,
              "#fb9f3a"
             ],
             [
              0.8888888888888888,
              "#fdca26"
             ],
             [
              1,
              "#f0f921"
             ]
            ],
            "type": "histogram2d"
           }
          ],
          "histogram2dcontour": [
           {
            "colorbar": {
             "outlinewidth": 0,
             "ticks": ""
            },
            "colorscale": [
             [
              0,
              "#0d0887"
             ],
             [
              0.1111111111111111,
              "#46039f"
             ],
             [
              0.2222222222222222,
              "#7201a8"
             ],
             [
              0.3333333333333333,
              "#9c179e"
             ],
             [
              0.4444444444444444,
              "#bd3786"
             ],
             [
              0.5555555555555556,
              "#d8576b"
             ],
             [
              0.6666666666666666,
              "#ed7953"
             ],
             [
              0.7777777777777778,
              "#fb9f3a"
             ],
             [
              0.8888888888888888,
              "#fdca26"
             ],
             [
              1,
              "#f0f921"
             ]
            ],
            "type": "histogram2dcontour"
           }
          ],
          "mesh3d": [
           {
            "colorbar": {
             "outlinewidth": 0,
             "ticks": ""
            },
            "type": "mesh3d"
           }
          ],
          "parcoords": [
           {
            "line": {
             "colorbar": {
              "outlinewidth": 0,
              "ticks": ""
             }
            },
            "type": "parcoords"
           }
          ],
          "pie": [
           {
            "automargin": true,
            "type": "pie"
           }
          ],
          "scatter": [
           {
            "fillpattern": {
             "fillmode": "overlay",
             "size": 10,
             "solidity": 0.2
            },
            "type": "scatter"
           }
          ],
          "scatter3d": [
           {
            "line": {
             "colorbar": {
              "outlinewidth": 0,
              "ticks": ""
             }
            },
            "marker": {
             "colorbar": {
              "outlinewidth": 0,
              "ticks": ""
             }
            },
            "type": "scatter3d"
           }
          ],
          "scattercarpet": [
           {
            "marker": {
             "colorbar": {
              "outlinewidth": 0,
              "ticks": ""
             }
            },
            "type": "scattercarpet"
           }
          ],
          "scattergeo": [
           {
            "marker": {
             "colorbar": {
              "outlinewidth": 0,
              "ticks": ""
             }
            },
            "type": "scattergeo"
           }
          ],
          "scattergl": [
           {
            "marker": {
             "colorbar": {
              "outlinewidth": 0,
              "ticks": ""
             }
            },
            "type": "scattergl"
           }
          ],
          "scattermap": [
           {
            "marker": {
             "colorbar": {
              "outlinewidth": 0,
              "ticks": ""
             }
            },
            "type": "scattermap"
           }
          ],
          "scattermapbox": [
           {
            "marker": {
             "colorbar": {
              "outlinewidth": 0,
              "ticks": ""
             }
            },
            "type": "scattermapbox"
           }
          ],
          "scatterpolar": [
           {
            "marker": {
             "colorbar": {
              "outlinewidth": 0,
              "ticks": ""
             }
            },
            "type": "scatterpolar"
           }
          ],
          "scatterpolargl": [
           {
            "marker": {
             "colorbar": {
              "outlinewidth": 0,
              "ticks": ""
             }
            },
            "type": "scatterpolargl"
           }
          ],
          "scatterternary": [
           {
            "marker": {
             "colorbar": {
              "outlinewidth": 0,
              "ticks": ""
             }
            },
            "type": "scatterternary"
           }
          ],
          "surface": [
           {
            "colorbar": {
             "outlinewidth": 0,
             "ticks": ""
            },
            "colorscale": [
             [
              0,
              "#0d0887"
             ],
             [
              0.1111111111111111,
              "#46039f"
             ],
             [
              0.2222222222222222,
              "#7201a8"
             ],
             [
              0.3333333333333333,
              "#9c179e"
             ],
             [
              0.4444444444444444,
              "#bd3786"
             ],
             [
              0.5555555555555556,
              "#d8576b"
             ],
             [
              0.6666666666666666,
              "#ed7953"
             ],
             [
              0.7777777777777778,
              "#fb9f3a"
             ],
             [
              0.8888888888888888,
              "#fdca26"
             ],
             [
              1,
              "#f0f921"
             ]
            ],
            "type": "surface"
           }
          ],
          "table": [
           {
            "cells": {
             "fill": {
              "color": "#EBF0F8"
             },
             "line": {
              "color": "white"
             }
            },
            "header": {
             "fill": {
              "color": "#C8D4E3"
             },
             "line": {
              "color": "white"
             }
            },
            "type": "table"
           }
          ]
         },
         "layout": {
          "annotationdefaults": {
           "arrowcolor": "#2a3f5f",
           "arrowhead": 0,
           "arrowwidth": 1
          },
          "autotypenumbers": "strict",
          "coloraxis": {
           "colorbar": {
            "outlinewidth": 0,
            "ticks": ""
           }
          },
          "colorscale": {
           "diverging": [
            [
             0,
             "#8e0152"
            ],
            [
             0.1,
             "#c51b7d"
            ],
            [
             0.2,
             "#de77ae"
            ],
            [
             0.3,
             "#f1b6da"
            ],
            [
             0.4,
             "#fde0ef"
            ],
            [
             0.5,
             "#f7f7f7"
            ],
            [
             0.6,
             "#e6f5d0"
            ],
            [
             0.7,
             "#b8e186"
            ],
            [
             0.8,
             "#7fbc41"
            ],
            [
             0.9,
             "#4d9221"
            ],
            [
             1,
             "#276419"
            ]
           ],
           "sequential": [
            [
             0,
             "#0d0887"
            ],
            [
             0.1111111111111111,
             "#46039f"
            ],
            [
             0.2222222222222222,
             "#7201a8"
            ],
            [
             0.3333333333333333,
             "#9c179e"
            ],
            [
             0.4444444444444444,
             "#bd3786"
            ],
            [
             0.5555555555555556,
             "#d8576b"
            ],
            [
             0.6666666666666666,
             "#ed7953"
            ],
            [
             0.7777777777777778,
             "#fb9f3a"
            ],
            [
             0.8888888888888888,
             "#fdca26"
            ],
            [
             1,
             "#f0f921"
            ]
           ],
           "sequentialminus": [
            [
             0,
             "#0d0887"
            ],
            [
             0.1111111111111111,
             "#46039f"
            ],
            [
             0.2222222222222222,
             "#7201a8"
            ],
            [
             0.3333333333333333,
             "#9c179e"
            ],
            [
             0.4444444444444444,
             "#bd3786"
            ],
            [
             0.5555555555555556,
             "#d8576b"
            ],
            [
             0.6666666666666666,
             "#ed7953"
            ],
            [
             0.7777777777777778,
             "#fb9f3a"
            ],
            [
             0.8888888888888888,
             "#fdca26"
            ],
            [
             1,
             "#f0f921"
            ]
           ]
          },
          "colorway": [
           "#636efa",
           "#EF553B",
           "#00cc96",
           "#ab63fa",
           "#FFA15A",
           "#19d3f3",
           "#FF6692",
           "#B6E880",
           "#FF97FF",
           "#FECB52"
          ],
          "font": {
           "color": "#2a3f5f"
          },
          "geo": {
           "bgcolor": "white",
           "lakecolor": "white",
           "landcolor": "#E5ECF6",
           "showlakes": true,
           "showland": true,
           "subunitcolor": "white"
          },
          "hoverlabel": {
           "align": "left"
          },
          "hovermode": "closest",
          "mapbox": {
           "style": "light"
          },
          "paper_bgcolor": "white",
          "plot_bgcolor": "#E5ECF6",
          "polar": {
           "angularaxis": {
            "gridcolor": "white",
            "linecolor": "white",
            "ticks": ""
           },
           "bgcolor": "#E5ECF6",
           "radialaxis": {
            "gridcolor": "white",
            "linecolor": "white",
            "ticks": ""
           }
          },
          "scene": {
           "xaxis": {
            "backgroundcolor": "#E5ECF6",
            "gridcolor": "white",
            "gridwidth": 2,
            "linecolor": "white",
            "showbackground": true,
            "ticks": "",
            "zerolinecolor": "white"
           },
           "yaxis": {
            "backgroundcolor": "#E5ECF6",
            "gridcolor": "white",
            "gridwidth": 2,
            "linecolor": "white",
            "showbackground": true,
            "ticks": "",
            "zerolinecolor": "white"
           },
           "zaxis": {
            "backgroundcolor": "#E5ECF6",
            "gridcolor": "white",
            "gridwidth": 2,
            "linecolor": "white",
            "showbackground": true,
            "ticks": "",
            "zerolinecolor": "white"
           }
          },
          "shapedefaults": {
           "line": {
            "color": "#2a3f5f"
           }
          },
          "ternary": {
           "aaxis": {
            "gridcolor": "white",
            "linecolor": "white",
            "ticks": ""
           },
           "baxis": {
            "gridcolor": "white",
            "linecolor": "white",
            "ticks": ""
           },
           "bgcolor": "#E5ECF6",
           "caxis": {
            "gridcolor": "white",
            "linecolor": "white",
            "ticks": ""
           }
          },
          "title": {
           "x": 0.05
          },
          "xaxis": {
           "automargin": true,
           "gridcolor": "white",
           "linecolor": "white",
           "ticks": "",
           "title": {
            "standoff": 15
           },
           "zerolinecolor": "white",
           "zerolinewidth": 2
          },
          "yaxis": {
           "automargin": true,
           "gridcolor": "white",
           "linecolor": "white",
           "ticks": "",
           "title": {
            "standoff": 15
           },
           "zerolinecolor": "white",
           "zerolinewidth": 2
          }
         }
        },
        "title": {
         "text": "Medicine Effectiveness vs Dilution"
        },
        "xaxis": {
         "anchor": "y",
         "domain": [
          0,
          1
         ],
         "title": {
          "text": "Dilution (%)"
         }
        },
        "yaxis": {
         "anchor": "x",
         "domain": [
          0,
          1
         ],
         "title": {
          "text": "Effectiveness Score"
         }
        }
       }
      }
     },
     "metadata": {},
     "output_type": "display_data"
    },
    {
     "data": {
      "application/vnd.plotly.v1+json": {
       "config": {
        "plotlyServerURL": "https://plot.ly"
       },
       "data": [
        {
         "name": "Primary Taste",
         "type": "bar",
         "x": [
          "bitter",
          "pungent",
          "astringent"
         ],
         "y": {
          "bdata": "AAAAAABwd0AAAAAAAEBfQAAAAAAAAAAA",
          "dtype": "f8"
         }
        },
        {
         "name": "Secondary Taste",
         "type": "bar",
         "x": [
          "bitter",
          "pungent",
          "astringent"
         ],
         "y": {
          "bdata": "fQB9APoA",
          "dtype": "i2"
         }
        }
       ],
       "layout": {
        "barmode": "group",
        "template": {
         "data": {
          "bar": [
           {
            "error_x": {
             "color": "#2a3f5f"
            },
            "error_y": {
             "color": "#2a3f5f"
            },
            "marker": {
             "line": {
              "color": "#E5ECF6",
              "width": 0.5
             },
             "pattern": {
              "fillmode": "overlay",
              "size": 10,
              "solidity": 0.2
             }
            },
            "type": "bar"
           }
          ],
          "barpolar": [
           {
            "marker": {
             "line": {
              "color": "#E5ECF6",
              "width": 0.5
             },
             "pattern": {
              "fillmode": "overlay",
              "size": 10,
              "solidity": 0.2
             }
            },
            "type": "barpolar"
           }
          ],
          "carpet": [
           {
            "aaxis": {
             "endlinecolor": "#2a3f5f",
             "gridcolor": "white",
             "linecolor": "white",
             "minorgridcolor": "white",
             "startlinecolor": "#2a3f5f"
            },
            "baxis": {
             "endlinecolor": "#2a3f5f",
             "gridcolor": "white",
             "linecolor": "white",
             "minorgridcolor": "white",
             "startlinecolor": "#2a3f5f"
            },
            "type": "carpet"
           }
          ],
          "choropleth": [
           {
            "colorbar": {
             "outlinewidth": 0,
             "ticks": ""
            },
            "type": "choropleth"
           }
          ],
          "contour": [
           {
            "colorbar": {
             "outlinewidth": 0,
             "ticks": ""
            },
            "colorscale": [
             [
              0,
              "#0d0887"
             ],
             [
              0.1111111111111111,
              "#46039f"
             ],
             [
              0.2222222222222222,
              "#7201a8"
             ],
             [
              0.3333333333333333,
              "#9c179e"
             ],
             [
              0.4444444444444444,
              "#bd3786"
             ],
             [
              0.5555555555555556,
              "#d8576b"
             ],
             [
              0.6666666666666666,
              "#ed7953"
             ],
             [
              0.7777777777777778,
              "#fb9f3a"
             ],
             [
              0.8888888888888888,
              "#fdca26"
             ],
             [
              1,
              "#f0f921"
             ]
            ],
            "type": "contour"
           }
          ],
          "contourcarpet": [
           {
            "colorbar": {
             "outlinewidth": 0,
             "ticks": ""
            },
            "type": "contourcarpet"
           }
          ],
          "heatmap": [
           {
            "colorbar": {
             "outlinewidth": 0,
             "ticks": ""
            },
            "colorscale": [
             [
              0,
              "#0d0887"
             ],
             [
              0.1111111111111111,
              "#46039f"
             ],
             [
              0.2222222222222222,
              "#7201a8"
             ],
             [
              0.3333333333333333,
              "#9c179e"
             ],
             [
              0.4444444444444444,
              "#bd3786"
             ],
             [
              0.5555555555555556,
              "#d8576b"
             ],
             [
              0.6666666666666666,
              "#ed7953"
             ],
             [
              0.7777777777777778,
              "#fb9f3a"
             ],
             [
              0.8888888888888888,
              "#fdca26"
             ],
             [
              1,
              "#f0f921"
             ]
            ],
            "type": "heatmap"
           }
          ],
          "histogram": [
           {
            "marker": {
             "pattern": {
              "fillmode": "overlay",
              "size": 10,
              "solidity": 0.2
             }
            },
            "type": "histogram"
           }
          ],
          "histogram2d": [
           {
            "colorbar": {
             "outlinewidth": 0,
             "ticks": ""
            },
            "colorscale": [
             [
              0,
              "#0d0887"
             ],
             [
              0.1111111111111111,
              "#46039f"
             ],
             [
              0.2222222222222222,
              "#7201a8"
             ],
             [
              0.3333333333333333,
              "#9c179e"
             ],
             [
              0.4444444444444444,
              "#bd3786"
             ],
             [
              0.5555555555555556,
              "#d8576b"
             ],
             [
              0.6666666666666666,
              "#ed7953"
             ],
             [
              0.7777777777777778,
              "#fb9f3a"
             ],
             [
              0.8888888888888888,
              "#fdca26"
             ],
             [
              1,
              "#f0f921"
             ]
            ],
            "type": "histogram2d"
           }
          ],
          "histogram2dcontour": [
           {
            "colorbar": {
             "outlinewidth": 0,
             "ticks": ""
            },
            "colorscale": [
             [
              0,
              "#0d0887"
             ],
             [
              0.1111111111111111,
              "#46039f"
             ],
             [
              0.2222222222222222,
              "#7201a8"
             ],
             [
              0.3333333333333333,
              "#9c179e"
             ],
             [
              0.4444444444444444,
              "#bd3786"
             ],
             [
              0.5555555555555556,
              "#d8576b"
             ],
             [
              0.6666666666666666,
              "#ed7953"
             ],
             [
              0.7777777777777778,
              "#fb9f3a"
             ],
             [
              0.8888888888888888,
              "#fdca26"
             ],
             [
              1,
              "#f0f921"
             ]
            ],
            "type": "histogram2dcontour"
           }
          ],
          "mesh3d": [
           {
            "colorbar": {
             "outlinewidth": 0,
             "ticks": ""
            },
            "type": "mesh3d"
           }
          ],
          "parcoords": [
           {
            "line": {
             "colorbar": {
              "outlinewidth": 0,
              "ticks": ""
             }
            },
            "type": "parcoords"
           }
          ],
          "pie": [
           {
            "automargin": true,
            "type": "pie"
           }
          ],
          "scatter": [
           {
            "fillpattern": {
             "fillmode": "overlay",
             "size": 10,
             "solidity": 0.2
            },
            "type": "scatter"
           }
          ],
          "scatter3d": [
           {
            "line": {
             "colorbar": {
              "outlinewidth": 0,
              "ticks": ""
             }
            },
            "marker": {
             "colorbar": {
              "outlinewidth": 0,
              "ticks": ""
             }
            },
            "type": "scatter3d"
           }
          ],
          "scattercarpet": [
           {
            "marker": {
             "colorbar": {
              "outlinewidth": 0,
              "ticks": ""
             }
            },
            "type": "scattercarpet"
           }
          ],
          "scattergeo": [
           {
            "marker": {
             "colorbar": {
              "outlinewidth": 0,
              "ticks": ""
             }
            },
            "type": "scattergeo"
           }
          ],
          "scattergl": [
           {
            "marker": {
             "colorbar": {
              "outlinewidth": 0,
              "ticks": ""
             }
            },
            "type": "scattergl"
           }
          ],
          "scattermap": [
           {
            "marker": {
             "colorbar": {
              "outlinewidth": 0,
              "ticks": ""
             }
            },
            "type": "scattermap"
           }
          ],
          "scattermapbox": [
           {
            "marker": {
             "colorbar": {
              "outlinewidth": 0,
              "ticks": ""
             }
            },
            "type": "scattermapbox"
           }
          ],
          "scatterpolar": [
           {
            "marker": {
             "colorbar": {
              "outlinewidth": 0,
              "ticks": ""
             }
            },
            "type": "scatterpolar"
           }
          ],
          "scatterpolargl": [
           {
            "marker": {
             "colorbar": {
              "outlinewidth": 0,
              "ticks": ""
             }
            },
            "type": "scatterpolargl"
           }
          ],
          "scatterternary": [
           {
            "marker": {
             "colorbar": {
              "outlinewidth": 0,
              "ticks": ""
             }
            },
            "type": "scatterternary"
           }
          ],
          "surface": [
           {
            "colorbar": {
             "outlinewidth": 0,
             "ticks": ""
            },
            "colorscale": [
             [
              0,
              "#0d0887"
             ],
             [
              0.1111111111111111,
              "#46039f"
             ],
             [
              0.2222222222222222,
              "#7201a8"
             ],
             [
              0.3333333333333333,
              "#9c179e"
             ],
             [
              0.4444444444444444,
              "#bd3786"
             ],
             [
              0.5555555555555556,
              "#d8576b"
             ],
             [
              0.6666666666666666,
              "#ed7953"
             ],
             [
              0.7777777777777778,
              "#fb9f3a"
             ],
             [
              0.8888888888888888,
              "#fdca26"
             ],
             [
              1,
              "#f0f921"
             ]
            ],
            "type": "surface"
           }
          ],
          "table": [
           {
            "cells": {
             "fill": {
              "color": "#EBF0F8"
             },
             "line": {
              "color": "white"
             }
            },
            "header": {
             "fill": {
              "color": "#C8D4E3"
             },
             "line": {
              "color": "white"
             }
            },
            "type": "table"
           }
          ]
         },
         "layout": {
          "annotationdefaults": {
           "arrowcolor": "#2a3f5f",
           "arrowhead": 0,
           "arrowwidth": 1
          },
          "autotypenumbers": "strict",
          "coloraxis": {
           "colorbar": {
            "outlinewidth": 0,
            "ticks": ""
           }
          },
          "colorscale": {
           "diverging": [
            [
             0,
             "#8e0152"
            ],
            [
             0.1,
             "#c51b7d"
            ],
            [
             0.2,
             "#de77ae"
            ],
            [
             0.3,
             "#f1b6da"
            ],
            [
             0.4,
             "#fde0ef"
            ],
            [
             0.5,
             "#f7f7f7"
            ],
            [
             0.6,
             "#e6f5d0"
            ],
            [
             0.7,
             "#b8e186"
            ],
            [
             0.8,
             "#7fbc41"
            ],
            [
             0.9,
             "#4d9221"
            ],
            [
             1,
             "#276419"
            ]
           ],
           "sequential": [
            [
             0,
             "#0d0887"
            ],
            [
             0.1111111111111111,
             "#46039f"
            ],
            [
             0.2222222222222222,
             "#7201a8"
            ],
            [
             0.3333333333333333,
             "#9c179e"
            ],
            [
             0.4444444444444444,
             "#bd3786"
            ],
            [
             0.5555555555555556,
             "#d8576b"
            ],
            [
             0.6666666666666666,
             "#ed7953"
            ],
            [
             0.7777777777777778,
             "#fb9f3a"
            ],
            [
             0.8888888888888888,
             "#fdca26"
            ],
            [
             1,
             "#f0f921"
            ]
           ],
           "sequentialminus": [
            [
             0,
             "#0d0887"
            ],
            [
             0.1111111111111111,
             "#46039f"
            ],
            [
             0.2222222222222222,
             "#7201a8"
            ],
            [
             0.3333333333333333,
             "#9c179e"
            ],
            [
             0.4444444444444444,
             "#bd3786"
            ],
            [
             0.5555555555555556,
             "#d8576b"
            ],
            [
             0.6666666666666666,
             "#ed7953"
            ],
            [
             0.7777777777777778,
             "#fb9f3a"
            ],
            [
             0.8888888888888888,
             "#fdca26"
            ],
            [
             1,
             "#f0f921"
            ]
           ]
          },
          "colorway": [
           "#636efa",
           "#EF553B",
           "#00cc96",
           "#ab63fa",
           "#FFA15A",
           "#19d3f3",
           "#FF6692",
           "#B6E880",
           "#FF97FF",
           "#FECB52"
          ],
          "font": {
           "color": "#2a3f5f"
          },
          "geo": {
           "bgcolor": "white",
           "lakecolor": "white",
           "landcolor": "#E5ECF6",
           "showlakes": true,
           "showland": true,
           "subunitcolor": "white"
          },
          "hoverlabel": {
           "align": "left"
          },
          "hovermode": "closest",
          "mapbox": {
           "style": "light"
          },
          "paper_bgcolor": "white",
          "plot_bgcolor": "#E5ECF6",
          "polar": {
           "angularaxis": {
            "gridcolor": "white",
            "linecolor": "white",
            "ticks": ""
           },
           "bgcolor": "#E5ECF6",
           "radialaxis": {
            "gridcolor": "white",
            "linecolor": "white",
            "ticks": ""
           }
          },
          "scene": {
           "xaxis": {
            "backgroundcolor": "#E5ECF6",
            "gridcolor": "white",
            "gridwidth": 2,
            "linecolor": "white",
            "showbackground": true,
            "ticks": "",
            "zerolinecolor": "white"
           },
           "yaxis": {
            "backgroundcolor": "#E5ECF6",
            "gridcolor": "white",
            "gridwidth": 2,
            "linecolor": "white",
            "showbackground": true,
            "ticks": "",
            "zerolinecolor": "white"
           },
           "zaxis": {
            "backgroundcolor": "#E5ECF6",
            "gridcolor": "white",
            "gridwidth": 2,
            "linecolor": "white",
            "showbackground": true,
            "ticks": "",
            "zerolinecolor": "white"
           }
          },
          "shapedefaults": {
           "line": {
            "color": "#2a3f5f"
           }
          },
          "ternary": {
           "aaxis": {
            "gridcolor": "white",
            "linecolor": "white",
            "ticks": ""
           },
           "baxis": {
            "gridcolor": "white",
            "linecolor": "white",
            "ticks": ""
           },
           "bgcolor": "#E5ECF6",
           "caxis": {
            "gridcolor": "white",
            "linecolor": "white",
            "ticks": ""
           }
          },
          "title": {
           "x": 0.05
          },
          "xaxis": {
           "automargin": true,
           "gridcolor": "white",
           "linecolor": "white",
           "ticks": "",
           "title": {
            "standoff": 15
           },
           "zerolinecolor": "white",
           "zerolinewidth": 2
          },
          "yaxis": {
           "automargin": true,
           "gridcolor": "white",
           "linecolor": "white",
           "ticks": "",
           "title": {
            "standoff": 15
           },
           "zerolinecolor": "white",
           "zerolinewidth": 2
          }
         }
        },
        "title": {
         "text": "Distribution of Primary and Secondary Tastes"
        },
        "xaxis": {
         "title": {
          "text": "Taste"
         }
        },
        "yaxis": {
         "title": {
          "text": "Count"
         }
        }
       }
      }
     },
     "metadata": {},
     "output_type": "display_data"
    },
    {
     "data": {
      "application/vnd.plotly.v1+json": {
       "config": {
        "plotlyServerURL": "https://plot.ly"
       },
       "data": [
        {
         "coloraxis": "coloraxis",
         "hovertemplate": "Sensor: %{x}<br>Sensor: %{y}<br>Correlation: %{z}<extra></extra>",
         "name": "0",
         "type": "heatmap",
         "x": [
          "R",
          "S",
          "T",
          "U",
          "V",
          "W"
         ],
         "xaxis": "x",
         "y": [
          "R",
          "S",
          "T",
          "U",
          "V",
          "W"
         ],
         "yaxis": "y",
         "z": {
          "bdata": "AAAAAAAA8D+a/rET21zvP86MyaEjsO0/frdYlltP7j9FlHqcurTuP1eonTN/Be8/mv6xE9tc7z8AAAAAAADwPxP6KZUVEe8/IfyIxHtn7z995Ymvj5LvP+WPivmYoO8/zozJoSOw7T8T+imVFRHvPwAAAAAAAPA/bs0Jcnyt7z8YFIXWMH3vP7uY3wO4Ou8/frdYlltP7j8h/IjEe2fvP27NCXJ8re8/AAAAAAAA8D/xBL7VXqDvP9SaGT3Pfe8/RZR6nLq07j995Ymvj5LvPxgUhdYwfe8/8QS+1V6g7z8AAAAAAADwP4AlbHCPq+8/V6idM38F7z/lj4r5mKDvP7uY3wO4Ou8/1JoZPc997z+AJWxwj6vvPwAAAAAAAPA/",
          "dtype": "f8",
          "shape": "6, 6"
         }
        }
       ],
       "layout": {
        "coloraxis": {
         "colorbar": {
          "title": {
           "text": "Correlation"
          }
         },
         "colorscale": [
          [
           0,
           "rgb(103,0,31)"
          ],
          [
           0.1,
           "rgb(178,24,43)"
          ],
          [
           0.2,
           "rgb(214,96,77)"
          ],
          [
           0.3,
           "rgb(244,165,130)"
          ],
          [
           0.4,
           "rgb(253,219,199)"
          ],
          [
           0.5,
           "rgb(247,247,247)"
          ],
          [
           0.6,
           "rgb(209,229,240)"
          ],
          [
           0.7,
           "rgb(146,197,222)"
          ],
          [
           0.8,
           "rgb(67,147,195)"
          ],
          [
           0.9,
           "rgb(33,102,172)"
          ],
          [
           1,
           "rgb(5,48,97)"
          ]
         ]
        },
        "height": 700,
        "template": {
         "data": {
          "bar": [
           {
            "error_x": {
             "color": "#2a3f5f"
            },
            "error_y": {
             "color": "#2a3f5f"
            },
            "marker": {
             "line": {
              "color": "#E5ECF6",
              "width": 0.5
             },
             "pattern": {
              "fillmode": "overlay",
              "size": 10,
              "solidity": 0.2
             }
            },
            "type": "bar"
           }
          ],
          "barpolar": [
           {
            "marker": {
             "line": {
              "color": "#E5ECF6",
              "width": 0.5
             },
             "pattern": {
              "fillmode": "overlay",
              "size": 10,
              "solidity": 0.2
             }
            },
            "type": "barpolar"
           }
          ],
          "carpet": [
           {
            "aaxis": {
             "endlinecolor": "#2a3f5f",
             "gridcolor": "white",
             "linecolor": "white",
             "minorgridcolor": "white",
             "startlinecolor": "#2a3f5f"
            },
            "baxis": {
             "endlinecolor": "#2a3f5f",
             "gridcolor": "white",
             "linecolor": "white",
             "minorgridcolor": "white",
             "startlinecolor": "#2a3f5f"
            },
            "type": "carpet"
           }
          ],
          "choropleth": [
           {
            "colorbar": {
             "outlinewidth": 0,
             "ticks": ""
            },
            "type": "choropleth"
           }
          ],
          "contour": [
           {
            "colorbar": {
             "outlinewidth": 0,
             "ticks": ""
            },
            "colorscale": [
             [
              0,
              "#0d0887"
             ],
             [
              0.1111111111111111,
              "#46039f"
             ],
             [
              0.2222222222222222,
              "#7201a8"
             ],
             [
              0.3333333333333333,
              "#9c179e"
             ],
             [
              0.4444444444444444,
              "#bd3786"
             ],
             [
              0.5555555555555556,
              "#d8576b"
             ],
             [
              0.6666666666666666,
              "#ed7953"
             ],
             [
              0.7777777777777778,
              "#fb9f3a"
             ],
             [
              0.8888888888888888,
              "#fdca26"
             ],
             [
              1,
              "#f0f921"
             ]
            ],
            "type": "contour"
           }
          ],
          "contourcarpet": [
           {
            "colorbar": {
             "outlinewidth": 0,
             "ticks": ""
            },
            "type": "contourcarpet"
           }
          ],
          "heatmap": [
           {
            "colorbar": {
             "outlinewidth": 0,
             "ticks": ""
            },
            "colorscale": [
             [
              0,
              "#0d0887"
             ],
             [
              0.1111111111111111,
              "#46039f"
             ],
             [
              0.2222222222222222,
              "#7201a8"
             ],
             [
              0.3333333333333333,
              "#9c179e"
             ],
             [
              0.4444444444444444,
              "#bd3786"
             ],
             [
              0.5555555555555556,
              "#d8576b"
             ],
             [
              0.6666666666666666,
              "#ed7953"
             ],
             [
              0.7777777777777778,
              "#fb9f3a"
             ],
             [
              0.8888888888888888,
              "#fdca26"
             ],
             [
              1,
              "#f0f921"
             ]
            ],
            "type": "heatmap"
           }
          ],
          "histogram": [
           {
            "marker": {
             "pattern": {
              "fillmode": "overlay",
              "size": 10,
              "solidity": 0.2
             }
            },
            "type": "histogram"
           }
          ],
          "histogram2d": [
           {
            "colorbar": {
             "outlinewidth": 0,
             "ticks": ""
            },
            "colorscale": [
             [
              0,
              "#0d0887"
             ],
             [
              0.1111111111111111,
              "#46039f"
             ],
             [
              0.2222222222222222,
              "#7201a8"
             ],
             [
              0.3333333333333333,
              "#9c179e"
             ],
             [
              0.4444444444444444,
              "#bd3786"
             ],
             [
              0.5555555555555556,
              "#d8576b"
             ],
             [
              0.6666666666666666,
              "#ed7953"
             ],
             [
              0.7777777777777778,
              "#fb9f3a"
             ],
             [
              0.8888888888888888,
              "#fdca26"
             ],
             [
              1,
              "#f0f921"
             ]
            ],
            "type": "histogram2d"
           }
          ],
          "histogram2dcontour": [
           {
            "colorbar": {
             "outlinewidth": 0,
             "ticks": ""
            },
            "colorscale": [
             [
              0,
              "#0d0887"
             ],
             [
              0.1111111111111111,
              "#46039f"
             ],
             [
              0.2222222222222222,
              "#7201a8"
             ],
             [
              0.3333333333333333,
              "#9c179e"
             ],
             [
              0.4444444444444444,
              "#bd3786"
             ],
             [
              0.5555555555555556,
              "#d8576b"
             ],
             [
              0.6666666666666666,
              "#ed7953"
             ],
             [
              0.7777777777777778,
              "#fb9f3a"
             ],
             [
              0.8888888888888888,
              "#fdca26"
             ],
             [
              1,
              "#f0f921"
             ]
            ],
            "type": "histogram2dcontour"
           }
          ],
          "mesh3d": [
           {
            "colorbar": {
             "outlinewidth": 0,
             "ticks": ""
            },
            "type": "mesh3d"
           }
          ],
          "parcoords": [
           {
            "line": {
             "colorbar": {
              "outlinewidth": 0,
              "ticks": ""
             }
            },
            "type": "parcoords"
           }
          ],
          "pie": [
           {
            "automargin": true,
            "type": "pie"
           }
          ],
          "scatter": [
           {
            "fillpattern": {
             "fillmode": "overlay",
             "size": 10,
             "solidity": 0.2
            },
            "type": "scatter"
           }
          ],
          "scatter3d": [
           {
            "line": {
             "colorbar": {
              "outlinewidth": 0,
              "ticks": ""
             }
            },
            "marker": {
             "colorbar": {
              "outlinewidth": 0,
              "ticks": ""
             }
            },
            "type": "scatter3d"
           }
          ],
          "scattercarpet": [
           {
            "marker": {
             "colorbar": {
              "outlinewidth": 0,
              "ticks": ""
             }
            },
            "type": "scattercarpet"
           }
          ],
          "scattergeo": [
           {
            "marker": {
             "colorbar": {
              "outlinewidth": 0,
              "ticks": ""
             }
            },
            "type": "scattergeo"
           }
          ],
          "scattergl": [
           {
            "marker": {
             "colorbar": {
              "outlinewidth": 0,
              "ticks": ""
             }
            },
            "type": "scattergl"
           }
          ],
          "scattermap": [
           {
            "marker": {
             "colorbar": {
              "outlinewidth": 0,
              "ticks": ""
             }
            },
            "type": "scattermap"
           }
          ],
          "scattermapbox": [
           {
            "marker": {
             "colorbar": {
              "outlinewidth": 0,
              "ticks": ""
             }
            },
            "type": "scattermapbox"
           }
          ],
          "scatterpolar": [
           {
            "marker": {
             "colorbar": {
              "outlinewidth": 0,
              "ticks": ""
             }
            },
            "type": "scatterpolar"
           }
          ],
          "scatterpolargl": [
           {
            "marker": {
             "colorbar": {
              "outlinewidth": 0,
              "ticks": ""
             }
            },
            "type": "scatterpolargl"
           }
          ],
          "scatterternary": [
           {
            "marker": {
             "colorbar": {
              "outlinewidth": 0,
              "ticks": ""
             }
            },
            "type": "scatterternary"
           }
          ],
          "surface": [
           {
            "colorbar": {
             "outlinewidth": 0,
             "ticks": ""
            },
            "colorscale": [
             [
              0,
              "#0d0887"
             ],
             [
              0.1111111111111111,
              "#46039f"
             ],
             [
              0.2222222222222222,
              "#7201a8"
             ],
             [
              0.3333333333333333,
              "#9c179e"
             ],
             [
              0.4444444444444444,
              "#bd3786"
             ],
             [
              0.5555555555555556,
              "#d8576b"
             ],
             [
              0.6666666666666666,
              "#ed7953"
             ],
             [
              0.7777777777777778,
              "#fb9f3a"
             ],
             [
              0.8888888888888888,
              "#fdca26"
             ],
             [
              1,
              "#f0f921"
             ]
            ],
            "type": "surface"
           }
          ],
          "table": [
           {
            "cells": {
             "fill": {
              "color": "#EBF0F8"
             },
             "line": {
              "color": "white"
             }
            },
            "header": {
             "fill": {
              "color": "#C8D4E3"
             },
             "line": {
              "color": "white"
             }
            },
            "type": "table"
           }
          ]
         },
         "layout": {
          "annotationdefaults": {
           "arrowcolor": "#2a3f5f",
           "arrowhead": 0,
           "arrowwidth": 1
          },
          "autotypenumbers": "strict",
          "coloraxis": {
           "colorbar": {
            "outlinewidth": 0,
            "ticks": ""
           }
          },
          "colorscale": {
           "diverging": [
            [
             0,
             "#8e0152"
            ],
            [
             0.1,
             "#c51b7d"
            ],
            [
             0.2,
             "#de77ae"
            ],
            [
             0.3,
             "#f1b6da"
            ],
            [
             0.4,
             "#fde0ef"
            ],
            [
             0.5,
             "#f7f7f7"
            ],
            [
             0.6,
             "#e6f5d0"
            ],
            [
             0.7,
             "#b8e186"
            ],
            [
             0.8,
             "#7fbc41"
            ],
            [
             0.9,
             "#4d9221"
            ],
            [
             1,
             "#276419"
            ]
           ],
           "sequential": [
            [
             0,
             "#0d0887"
            ],
            [
             0.1111111111111111,
             "#46039f"
            ],
            [
             0.2222222222222222,
             "#7201a8"
            ],
            [
             0.3333333333333333,
             "#9c179e"
            ],
            [
             0.4444444444444444,
             "#bd3786"
            ],
            [
             0.5555555555555556,
             "#d8576b"
            ],
            [
             0.6666666666666666,
             "#ed7953"
            ],
            [
             0.7777777777777778,
             "#fb9f3a"
            ],
            [
             0.8888888888888888,
             "#fdca26"
            ],
            [
             1,
             "#f0f921"
            ]
           ],
           "sequentialminus": [
            [
             0,
             "#0d0887"
            ],
            [
             0.1111111111111111,
             "#46039f"
            ],
            [
             0.2222222222222222,
             "#7201a8"
            ],
            [
             0.3333333333333333,
             "#9c179e"
            ],
            [
             0.4444444444444444,
             "#bd3786"
            ],
            [
             0.5555555555555556,
             "#d8576b"
            ],
            [
             0.6666666666666666,
             "#ed7953"
            ],
            [
             0.7777777777777778,
             "#fb9f3a"
            ],
            [
             0.8888888888888888,
             "#fdca26"
            ],
            [
             1,
             "#f0f921"
            ]
           ]
          },
          "colorway": [
           "#636efa",
           "#EF553B",
           "#00cc96",
           "#ab63fa",
           "#FFA15A",
           "#19d3f3",
           "#FF6692",
           "#B6E880",
           "#FF97FF",
           "#FECB52"
          ],
          "font": {
           "color": "#2a3f5f"
          },
          "geo": {
           "bgcolor": "white",
           "lakecolor": "white",
           "landcolor": "#E5ECF6",
           "showlakes": true,
           "showland": true,
           "subunitcolor": "white"
          },
          "hoverlabel": {
           "align": "left"
          },
          "hovermode": "closest",
          "mapbox": {
           "style": "light"
          },
          "paper_bgcolor": "white",
          "plot_bgcolor": "#E5ECF6",
          "polar": {
           "angularaxis": {
            "gridcolor": "white",
            "linecolor": "white",
            "ticks": ""
           },
           "bgcolor": "#E5ECF6",
           "radialaxis": {
            "gridcolor": "white",
            "linecolor": "white",
            "ticks": ""
           }
          },
          "scene": {
           "xaxis": {
            "backgroundcolor": "#E5ECF6",
            "gridcolor": "white",
            "gridwidth": 2,
            "linecolor": "white",
            "showbackground": true,
            "ticks": "",
            "zerolinecolor": "white"
           },
           "yaxis": {
            "backgroundcolor": "#E5ECF6",
            "gridcolor": "white",
            "gridwidth": 2,
            "linecolor": "white",
            "showbackground": true,
            "ticks": "",
            "zerolinecolor": "white"
           },
           "zaxis": {
            "backgroundcolor": "#E5ECF6",
            "gridcolor": "white",
            "gridwidth": 2,
            "linecolor": "white",
            "showbackground": true,
            "ticks": "",
            "zerolinecolor": "white"
           }
          },
          "shapedefaults": {
           "line": {
            "color": "#2a3f5f"
           }
          },
          "ternary": {
           "aaxis": {
            "gridcolor": "white",
            "linecolor": "white",
            "ticks": ""
           },
           "baxis": {
            "gridcolor": "white",
            "linecolor": "white",
            "ticks": ""
           },
           "bgcolor": "#E5ECF6",
           "caxis": {
            "gridcolor": "white",
            "linecolor": "white",
            "ticks": ""
           }
          },
          "title": {
           "x": 0.05
          },
          "xaxis": {
           "automargin": true,
           "gridcolor": "white",
           "linecolor": "white",
           "ticks": "",
           "title": {
            "standoff": 15
           },
           "zerolinecolor": "white",
           "zerolinewidth": 2
          },
          "yaxis": {
           "automargin": true,
           "gridcolor": "white",
           "linecolor": "white",
           "ticks": "",
           "title": {
            "standoff": 15
           },
           "zerolinecolor": "white",
           "zerolinewidth": 2
          }
         }
        },
        "title": {
         "text": "Sensor Cross-Correlation Matrix"
        },
        "width": 700,
        "xaxis": {
         "anchor": "y",
         "constrain": "domain",
         "domain": [
          0,
          1
         ],
         "scaleanchor": "y",
         "title": {
          "text": "Sensor"
         }
        },
        "yaxis": {
         "anchor": "x",
         "autorange": "reversed",
         "constrain": "domain",
         "domain": [
          0,
          1
         ],
         "title": {
          "text": "Sensor"
         }
        }
       }
      }
     },
     "metadata": {},
     "output_type": "display_data"
    },
    {
     "data": {
      "application/vnd.plotly.v1+json": {
       "config": {
        "plotlyServerURL": "https://plot.ly"
       },
       "data": [
        {
         "marker": {
          "color": {
           "bdata": "ZGRkZGRkZGRkZGRkZGRkZGRkZGRkZGRkZEtLS0tLS0tLS0tLS0tLS0tLS0tLS0tLS0syMjIyMjIyMjIyMjIyMjIyMjIyMjIyMjIyGRkZGRkZGRkZGRkZGRkZGRkZGRkZGRkZGQoKCgoKCgoKCgoKCgoKCgoKCgoKCgoKCgo=",
           "dtype": "i1"
          },
          "colorscale": [
           [
            0,
            "#440154"
           ],
           [
            0.1111111111111111,
            "#482878"
           ],
           [
            0.2222222222222222,
            "#3e4989"
           ],
           [
            0.3333333333333333,
            "#31688e"
           ],
           [
            0.4444444444444444,
            "#26828e"
           ],
           [
            0.5555555555555556,
            "#1f9e89"
           ],
           [
            0.6666666666666666,
            "#35b779"
           ],
           [
            0.7777777777777778,
            "#6ece58"
           ],
           [
            0.8888888888888888,
            "#b5de2b"
           ],
           [
            1,
            "#fde725"
           ]
          ],
          "showscale": true,
          "size": 5
         },
         "mode": "markers",
         "name": "Ashwagandha",
         "text": [
          "Dilution: 100%",
          "Dilution: 100%",
          "Dilution: 100%",
          "Dilution: 100%",
          "Dilution: 100%",
          "Dilution: 100%",
          "Dilution: 100%",
          "Dilution: 100%",
          "Dilution: 100%",
          "Dilution: 100%",
          "Dilution: 100%",
          "Dilution: 100%",
          "Dilution: 100%",
          "Dilution: 100%",
          "Dilution: 100%",
          "Dilution: 100%",
          "Dilution: 100%",
          "Dilution: 100%",
          "Dilution: 100%",
          "Dilution: 100%",
          "Dilution: 100%",
          "Dilution: 100%",
          "Dilution: 100%",
          "Dilution: 100%",
          "Dilution: 100%",
          "Dilution: 75%",
          "Dilution: 75%",
          "Dilution: 75%",
          "Dilution: 75%",
          "Dilution: 75%",
          "Dilution: 75%",
          "Dilution: 75%",
          "Dilution: 75%",
          "Dilution: 75%",
          "Dilution: 75%",
          "Dilution: 75%",
          "Dilution: 75%",
          "Dilution: 75%",
          "Dilution: 75%",
          "Dilution: 75%",
          "Dilution: 75%",
          "Dilution: 75%",
          "Dilution: 75%",
          "Dilution: 75%",
          "Dilution: 75%",
          "Dilution: 75%",
          "Dilution: 75%",
          "Dilution: 75%",
          "Dilution: 75%",
          "Dilution: 75%",
          "Dilution: 50%",
          "Dilution: 50%",
          "Dilution: 50%",
          "Dilution: 50%",
          "Dilution: 50%",
          "Dilution: 50%",
          "Dilution: 50%",
          "Dilution: 50%",
          "Dilution: 50%",
          "Dilution: 50%",
          "Dilution: 50%",
          "Dilution: 50%",
          "Dilution: 50%",
          "Dilution: 50%",
          "Dilution: 50%",
          "Dilution: 50%",
          "Dilution: 50%",
          "Dilution: 50%",
          "Dilution: 50%",
          "Dilution: 50%",
          "Dilution: 50%",
          "Dilution: 50%",
          "Dilution: 50%",
          "Dilution: 50%",
          "Dilution: 50%",
          "Dilution: 25%",
          "Dilution: 25%",
          "Dilution: 25%",
          "Dilution: 25%",
          "Dilution: 25%",
          "Dilution: 25%",
          "Dilution: 25%",
          "Dilution: 25%",
          "Dilution: 25%",
          "Dilution: 25%",
          "Dilution: 25%",
          "Dilution: 25%",
          "Dilution: 25%",
          "Dilution: 25%",
          "Dilution: 25%",
          "Dilution: 25%",
          "Dilution: 25%",
          "Dilution: 25%",
          "Dilution: 25%",
          "Dilution: 25%",
          "Dilution: 25%",
          "Dilution: 25%",
          "Dilution: 25%",
          "Dilution: 25%",
          "Dilution: 25%",
          "Dilution: 10%",
          "Dilution: 10%",
          "Dilution: 10%",
          "Dilution: 10%",
          "Dilution: 10%",
          "Dilution: 10%",
          "Dilution: 10%",
          "Dilution: 10%",
          "Dilution: 10%",
          "Dilution: 10%",
          "Dilution: 10%",
          "Dilution: 10%",
          "Dilution: 10%",
          "Dilution: 10%",
          "Dilution: 10%",
          "Dilution: 10%",
          "Dilution: 10%",
          "Dilution: 10%",
          "Dilution: 10%",
          "Dilution: 10%",
          "Dilution: 10%",
          "Dilution: 10%",
          "Dilution: 10%",
          "Dilution: 10%",
          "Dilution: 10%"
         ],
         "type": "scatter3d",
         "x": {
          "bdata": "iBsR3wJb8j9Y/2NKPXTxP5hA4WGyK/A/kvodoYiA8D9y+L+KwbHxP/CwRdAGYPA/zLgwARe78D/K/FMMe2XxPwZkhZ3ipvE/gBUV9Tp08j9+/+Q46NTxPy55CQyEQfE/wOje76C18T/k+ccVK8rwP1qoDeqxdPA/Fiu11ASk8T+mPvbToNDxP6SgqAmLw/E/lJq/hs988D+A8Hd2lrzxP7zExOkNsfE/KpN5WaOY8T/+F0keLAryP6I7quW2c/I/cPg6yg+78D/Omutbb0jjP9CoDVkwG+E/7qxwDo0K4D/K0Zi9eyjgPyy9cW7sz+A/PGNsZhE24j8sGk2bozHhPySoRwNOCeA/1ByEIJNP4T+u6OAoXuHgP1wZZCFf7uA/FPmItE7R4D+UdGTZ0UnbP8I5h5CFsOA/YgzPIjxg4D8ciGN+g1PhPwSnAVppvd8/XN6c+yTq4T9AXcDh+6DhPy7tTbNVIuI/cuKDfrnd4D8qveLYZr3gP7Ry6LLZXeA/WInc1GqP3z9UEMIWWMncP4BML5CoVai/4F3epzknpb9gsvEmV1iuvwDtlFMbZXq/gCp8CzxWub/A62hi1Pahv4C8BuUJHay/kBz50XtFsr9AXIy3RhStv8A87cXbSpi/AEAOBHtMcr8wnBbiHxa8v4BBHELRL7K/oEmUSEhNtL/gYVuaFPOvvwC+1o7ZTbS/4BrbCSm5qb+AleUY6xG0v4BIml9IQ4m/EJrHk2G4tb9gl7h8lUqiv0A1jUSNlay/EImGmrzhtr+wBDIwd2Swv0A72HeX7bC/W/BeAtao5L8O1iM528Tkv5L6JerwaeS/MhFFPJJa5L9Eq5n2W3bkv/LDqELJzeO/jl9fvuRI5L/UQtvuzWPkv9HEBtcp2eO/QRTBnKNI5L9J9OzVSXrkv/r55wez6+O/7ps5Fbjw47+euIfx6izkv9u7B4rBWeS/RO/F74PW5L9CucVnRHXkv6AnHrzszOS/cXP/PYna47+T42Agqpzkv8SIv+TpQ+S/FzpK5Y/G5L/pk5JUXoPkv4jz5Fg5DuS/8nxIWHtK5L+rFuqYT+zuvz7J4btEh+6/1gIEicOq7r8yElG2Rpvuv2jeSgads+6/GIi0njdd7r9WScH9Zqzuv+AcoQpZuO6/Lf4o4ZGy7r9wAEWaj5Puv7Bp4gAee+6/RVBFNiWw7r+egkQI0pDuv7vfiRe/uu6/Gh+W2MWh7r/ag5vq+6buvwl+bUizsu6/LBG/fFpi7r+bHplqi83uvzT1e0hble6/RPpyARWr7r/sEm9s48vuv5YVMPFNt+6/OAlsVe+d7r+G+9Ub2NTuvw==",
          "dtype": "f8"
         },
         "y": {
          "bdata": "kGGvbb4Owr9sX7pZg6G4v+zZ+3nN+sG/tO2R7Agpsr9MMvpipubCvzlFOvzW1aq/xYdvC1oqqr+u4t5tIAm+v2/Ma9+XB8S/M0shc0SuxL9W7ZhNkeC4v1cfmFocGKe/gkQx3uQdxL+sJD3Z8rexv0fw8WjeULG/YwkHkHNRub+GSxxyW0C2v8wtPOahqLK/zpM4cGc3wL+KLjY3lSHAv3bL+8cMSKW/chC3MDNLw792lUVy/0rEvxzM+/bHhLC/7RBUUMI4tL+SIIkpeAy4vyTwqhYkv7q/R7dt/sbWwL/rnBp1Q820v8JHf1C2vq6/Ah/qwDU8tr/BijCiEPW9v2tO/Pe6sLC/gZ5+us3jur9aF+5+/w+xvz09/NubILy/TK4MlwRob7+w52X92x6gvwDRndM1/bC/176ZfeTeub9fRaNKU7a6vwk7P2ECBK2/Kl5NNaMOur9EQYQ737e3vxsVb10R0LS/Krz6N4gAs7+Eb/csK5Clvz1BGwnpk6i/kDJLShpNub9ytwogoj61vxf4AWkzba+/6SROPSvTrL/y8eWY4CSuv86k3omy5bK/0LGPq+ltlL848YS9EI+3v8iRtUyhPrK/XGs2Kh6Xp7+jCBaCe3W1v7LFrerWPaW/aLwoO/KFmr/i4pKEQ6qEv046nZxBEqm/uRIhES9Crb/oxZdue3ezvxaOziDH1aW/K6OTjuFOr7/c4iKVZC6Tv59oCgeZ+bq/V8PpILGYnb+0aQcIM8+mv4TEEjgw6a+/FXzz76U3rb9m8DvuId6lvw5U90G0QaG/EPD/UR4qqr9KITN4ji6iv/y+1SMM36K/V3yqu2PnoL/+DoR/1T2cv8C4zZVDlqG/UIc3FiD2pr/sfQlBte2jvxCgxD+njau/338dxILKn7/75LtLpqqevyBTM9JYa6S/ygf+03WSlb+ytLjoLpqiv2hebwippY+/waIgTItQpb+pxPV+Un6ev0kcyS3YspK/fFBoACswob9b+5JuC16ev7LE8qrJuaC/nvhaiiXtlr+fxM0T/AeTv4/UsgVc9qW/eGuWDHxZnL/SxpJ+qXyOP0Q2UWFD1XU/fno9hZQChD+uO7H2NmGAP7rHxLn7WYc/qBu7mUhdcj9E4lbAmryEP/Sqehxocow/JLb7vSX/hj/uPQzaRWaIP+Ta43QrkXs/kNosEl1lgT8I6eUSN5R9PzhdvNb704w/gpX8+gaugT8KBDwU936DP4D0VJuHm4Q/wEJlrIQwZD/gbUfSrNSIP9wbdYnNB30/kNSNQITdhz/uWMtPNXaKPxYuSPEZ0Yc/yOcdeIzrej88pgAbYVqJPw==",
          "dtype": "f8"
         },
         "z": {
          "bdata": "S6+CHXRpqL+CCYMx48+LP4orQk++8JW/cJmS1wrynj9PR5Ms6Jenvx7LYDTrYrk/vwEPN31lqj9ZtnSVK364P9wxsFQm3Ze/kzBO4+djsD/OI15uimi/v1p7HG/p5rI/f0PAqoDzcT/xyLvl9MaUv14rAkMfvo4/s/wZKC8Oo7+W7Q9D0wOYv4+D1cYhwbK/UV5vGiVgfr8PiZBhHcCjP4HZQD6v7qA/SZYfRjvnlT9kRycujR6ivwYtXfThKXs/3PKbdUGzrT/Z4l2zT2e3P4pIHEXWdJE/ADs+yyrphr9IgqaX1XCwP5OfpqNIRpk/PgLPp+JHh7/n3+yNut2zv3Gzz62fBJ0/Y0GioPdFpb+BCDWmU5SnP/Q7CTHqHpi/tPlkwleJoz9V1bW6V4GuP4lwuQ1HeZ4/YsaiXLhHYb+z+0LUctqxPwR7cmN2QWq/NsR4gV3boT+lb3j8mgKhP1QxzwSdrJM//y3wcEBsbT+dr9QLx9e1P/NiDQjeUXc/lEg6V2d/jz/MhEXRwCWAPxQWLtTwdlm/x+td3Ca7oD/8Cw2urFdyPyj6yNfSJqO/injAAOEmnL+5gO6kDjSbvwClVRm6d2K/HIlz2qoGgj8wURQeaziKPyef+eCsUnq/8b4tfE/Lcz8SDo143L+FvzAj/Rsn5IG/ro9h/PNEqz86XSee0TKHv74z5H7IkZU/trHKBdwWoj87L//gmvq0P4wZo/sm9Jq/3TM1marHlD8C0R8UrfmqPyTyxHBpj5s/0WpgKN8Imj9GwVjY5CulP6gpCVPOM2e//jtSlQ++fD+mZcnjTDZRP0tbjdSCjYE/4q3bmbR3hz/i20vZW2yCPzZdPYbcOY8/oMnUF3Bsnj9lKgeujg14v1EMxB7Y2HI/pzOE2Jv4kD9nyvcqKzCVP/9zJCstgJe/RPXeDyvUUT9AG9cOPsxGv+zzN5jJqoQ/7NIT5O0jYb+ctPbAyG2cP2BAMq7MKYs/0NdJeLi6ib9GJOgHMBuFP7JXEJdMgqU/gMNW5Uj0jD+Zz8k7u2CCPyg2CkmurHk/b3rQJdM7cL8WuFLd8sNivzvvm1KMcnO/2/xsXy+ic787ojFouW5yvxRwcrBPPlg/G9NxvmJ0dL8wqVtA+K4wv605OWb9UnE/oyh7udopfL+K/IxTAVNvP+OX/gArrHC/NqXzE9QdgL8DzLdno6F0v72OzoD+qnI/rI6HXS5sV7+qAJGQAkSEv2p/PezZ3mE/klFSFPjRiL8byQATjWJ4v55awneEloe/RnaM6OZVar8W2WOK9KBmv4OeYTgZ4Xi/pqEXl8qpar87cB40sjRyvw==",
          "dtype": "f8"
         }
        },
        {
         "marker": {
          "color": {
           "bdata": "ZGRkZGRkZGRkZGRkZGRkZGRkZGRkZGRkZEtLS0tLS0tLS0tLS0tLS0tLS0tLS0tLS0syMjIyMjIyMjIyMjIyMjIyMjIyMjIyMjIyGRkZGRkZGRkZGRkZGRkZGRkZGRkZGRkZGQoKCgoKCgoKCgoKCgoKCgoKCgoKCgoKCgo=",
           "dtype": "i1"
          },
          "colorscale": [
           [
            0,
            "#440154"
           ],
           [
            0.1111111111111111,
            "#482878"
           ],
           [
            0.2222222222222222,
            "#3e4989"
           ],
           [
            0.3333333333333333,
            "#31688e"
           ],
           [
            0.4444444444444444,
            "#26828e"
           ],
           [
            0.5555555555555556,
            "#1f9e89"
           ],
           [
            0.6666666666666666,
            "#35b779"
           ],
           [
            0.7777777777777778,
            "#6ece58"
           ],
           [
            0.8888888888888888,
            "#b5de2b"
           ],
           [
            1,
            "#fde725"
           ]
          ],
          "showscale": false,
          "size": 5
         },
         "mode": "markers",
         "name": "Turmeric",
         "text": [
          "Dilution: 100%",
          "Dilution: 100%",
          "Dilution: 100%",
          "Dilution: 100%",
          "Dilution: 100%",
          "Dilution: 100%",
          "Dilution: 100%",
          "Dilution: 100%",
          "Dilution: 100%",
          "Dilution: 100%",
          "Dilution: 100%",
          "Dilution: 100%",
          "Dilution: 100%",
          "Dilution: 100%",
          "Dilution: 100%",
          "Dilution: 100%",
          "Dilution: 100%",
          "Dilution: 100%",
          "Dilution: 100%",
          "Dilution: 100%",
          "Dilution: 100%",
          "Dilution: 100%",
          "Dilution: 100%",
          "Dilution: 100%",
          "Dilution: 100%",
          "Dilution: 75%",
          "Dilution: 75%",
          "Dilution: 75%",
          "Dilution: 75%",
          "Dilution: 75%",
          "Dilution: 75%",
          "Dilution: 75%",
          "Dilution: 75%",
          "Dilution: 75%",
          "Dilution: 75%",
          "Dilution: 75%",
          "Dilution: 75%",
          "Dilution: 75%",
          "Dilution: 75%",
          "Dilution: 75%",
          "Dilution: 75%",
          "Dilution: 75%",
          "Dilution: 75%",
          "Dilution: 75%",
          "Dilution: 75%",
          "Dilution: 75%",
          "Dilution: 75%",
          "Dilution: 75%",
          "Dilution: 75%",
          "Dilution: 75%",
          "Dilution: 50%",
          "Dilution: 50%",
          "Dilution: 50%",
          "Dilution: 50%",
          "Dilution: 50%",
          "Dilution: 50%",
          "Dilution: 50%",
          "Dilution: 50%",
          "Dilution: 50%",
          "Dilution: 50%",
          "Dilution: 50%",
          "Dilution: 50%",
          "Dilution: 50%",
          "Dilution: 50%",
          "Dilution: 50%",
          "Dilution: 50%",
          "Dilution: 50%",
          "Dilution: 50%",
          "Dilution: 50%",
          "Dilution: 50%",
          "Dilution: 50%",
          "Dilution: 50%",
          "Dilution: 50%",
          "Dilution: 50%",
          "Dilution: 50%",
          "Dilution: 25%",
          "Dilution: 25%",
          "Dilution: 25%",
          "Dilution: 25%",
          "Dilution: 25%",
          "Dilution: 25%",
          "Dilution: 25%",
          "Dilution: 25%",
          "Dilution: 25%",
          "Dilution: 25%",
          "Dilution: 25%",
          "Dilution: 25%",
          "Dilution: 25%",
          "Dilution: 25%",
          "Dilution: 25%",
          "Dilution: 25%",
          "Dilution: 25%",
          "Dilution: 25%",
          "Dilution: 25%",
          "Dilution: 25%",
          "Dilution: 25%",
          "Dilution: 25%",
          "Dilution: 25%",
          "Dilution: 25%",
          "Dilution: 25%",
          "Dilution: 10%",
          "Dilution: 10%",
          "Dilution: 10%",
          "Dilution: 10%",
          "Dilution: 10%",
          "Dilution: 10%",
          "Dilution: 10%",
          "Dilution: 10%",
          "Dilution: 10%",
          "Dilution: 10%",
          "Dilution: 10%",
          "Dilution: 10%",
          "Dilution: 10%",
          "Dilution: 10%",
          "Dilution: 10%",
          "Dilution: 10%",
          "Dilution: 10%",
          "Dilution: 10%",
          "Dilution: 10%",
          "Dilution: 10%",
          "Dilution: 10%",
          "Dilution: 10%",
          "Dilution: 10%",
          "Dilution: 10%",
          "Dilution: 10%"
         ],
         "type": "scatter3d",
         "x": {
          "bdata": "eCy1m1lS8z8YYBbXQjXzP0C0/anjwfM/mGv5VhT68T/ef5WLig7yP671TWtHs/I/AiBRohsE8j9AUpMUj1PyP1yBzYKx6fA/jsfDyY748T+86JghmhbxPzT1Jt30rvI/vKiX9Jfq8j8a9zRUQWLxP+ySc6hA7+4/atPgSEd78T+idOWDqEjxPxgNpUV8dvI/7rAmmseP8j+WqPeFdR7zPyKCqCKJxPE/KiBEy2428z9aQYIeRFbxP07aLyAwW/I//h0G/Qg88j8mb1E2ee/gPwq1Si+42uA/lGhPJ+Cd4D8m8A5xxGjgP9BcyGvvHuI//K3zD7tv4T92yignzPPgPxgO4Omq1uE/BPFpn/zj4T9uGaveRC3jP7LCjYd/6+E/sCsdMJ4m4j/ujVoM48/hP760yQQPB+E/2Fyaw8D+3D/ciqhnwdnhPx5Z/jJZTuM/GISTjQ+K4T+8qZLVjP7fP5Ka1FuHPuA/aArEBHHG3z+EPo0F+vrhP7KLJlBjROA/0o4R0Olh4T/EwJzUdrzhP4DkBznhOo2/AHDlont4MD8QPFNDtR2xvwC73G2g866/AIKRn/0im7+Aajz+JXWuv+CMm/RWDKC/ANs8zFVagL/QYtf0JQCzv0Af7fneTJi/ILJnm02Ppb9gfJU3v6OuvwAANQLkFIO/oJz4F8Ozrr/ArCXDyeS2vwA14nLowIa/oNbWn093pr+gwoh8d4e1v7ARLmCR17a/4DRGUpmHq78wPvgrEn+zv2BIfrsVXqu/ADBkRuOwe7+gy8AE2lCjv+AL7PWiGbG//l4AIZS7479ihIvEh5vjv1Qdt9J3rOO/E8HYtcSL5L+JVwH0B+DjvzW3X57AhuO/XFIj3vRd5L9c2tiwkzDjv1Ju42nZ1eO/FFhEBKXn47/2p9v+WSvkv2rfAmR69OO/OYaeNaXD5L8Vo40AZOviv8y6qp/4G+S/PexVrFTL47+sEreGgRnkv4Fix8F3/eO/SbsMxr1P5L8y8XCt/p/kvxoHsh/BzeO/dlFft1L847+zF18dR+XjvzlyK9bEOOS/bS9DY+mf5L/68SOFE8buv/KrVucNpO6/fDJrFPam7r9eHFNzeNLuv7Bsf7E1oO6/WdUPZ2a07r/ilyWUG7Puv5RiAjbio+6/eIz4b++77r8afg/pz5/uv/8z9C2AYO6/oa8g6UG87r+aHqj+R/zuv5YuVJYXqO6/kDpUlleJ7r+olP8NI8buv3juRykbvu6/BEl+78fH7r+eeMpSfKbuvzT3o3clue6/4bVZRa+z7r/swmUt8bPuvw1e8KiQyO6/bN0RjSCJ7r+f3cG+w5ruvw==",
          "dtype": "f8"
         },
         "y": {
          "bdata": "jJ0vRYqgsD8eNYeEE9CnvwTDPERxspo/Z55o6h2DjL+3z0wKsRyzPwAGbWnRqZ2/W+++canyhr+e8ilTRD+gP/UVYf/tdrc/RGTOIN15mz/ZzaO9x+aVvxbHVANynpm/Do16ZWYWhb+fPflB+YegP6e7WDidHaM/7KUCt8SLrD/4e7CFmfSePyrTcGiccLO/tcu9gCIgqD8C+V7tmamJvzKRXlrY+p0/ZwlvuGVwk79MLky7ZBSEP1+8GxBemrK/eAqcsxgqj7+iyRgv9USWv0N7tHcm+aQ/kJmEbT9AQ78g3yPfspWUP4IArZfy/LA/SuRnXfpxlT8IryY9GOBpv9wR20y6YKw/HCSjgykpar9TBLtvq0GWv2HP2vxcy6A/NtlAwF4ikL9EhGM4FHFmP9Yzajm2nZs/QmVO8bvksj8/zwBF00qpv9t5Ob0QYbe/j6iLX/bxkj+gF3iWSrx/P8g7jNuuwaS/hHZyMRxwfT8ezbOwQvaCv/prlLke/KM/WIM/PT5Cor9GFg/6vZSZPwwTJZY5cou/2JjGJhJhcz8IPXpLaDCbP8T5ijzGZoA/mnbMmdI9gz/YdcCUiBhrP4OsXabC5qi/98khalClkr+h8jSkQ7CEv4v0VA2og6u/iNNfSmWtVj+Ioy8zuNJ9v9YFUCSBj5K/GMK93QqifL/ACm9e+aGiP1CvNSOWZJA/BtIVsP+ahL9swaJVxHOeP/nm9IdYRZ2/5xSgVkabnr8UR3QxcOqJP7DWeRyYU6a/DLiuGX+wkz+qeX9ouY6eP3DdGHCim4o/4NATcVQ1mr9AgdBrVllGv/JY1r5/DYW/AILR3V1LjT+V+6XSs6SQv9ykxJtq6pG/fjhNtCrSf78c0hcgPMOSvyvEPzpSToy/zcmRFrnEnL+ok13PQKtiP2RnvdIslG2/Brrm5Mu5kT+Mbv3WeWNyPwA30dlNciG/mV/AW6HYkb/jlfjrtkCQv/RihJ3PXXw/quNx9NiVkD8AeUHpf8dmv7fYoXLsPoS/e5Q8i1ahh7+tZMvE+qGGv+CporqeoZy/LG5KUU8/lr+IGkhVlhGFPyKRkS0tlIM/gESGoBOdhz8uMgRqVA6LPzTowLbMe4g/nLzjVLAOhD+0nPFO4RWCP4KtWg1U3YQ/2hs1Sa1HhD9A8wCzVT+DP8Ayx7n7yns/+qlrYwSmhz8O8OO3BICQP0rU1TGsC4I/+v3R1sCOhD+YapDnBpKIPyS9XGCUlIc/2ijJMEXLiz+YJ0vG9heBP2DECk6LJ4M/dmWJWYIHhT/Qx3ZhacuFP8aTlfVOtok/hKtGEBphej9i0uWuVXaDPw==",
          "dtype": "f8"
         },
         "z": {
          "bdata": "pj9c/voKhT8CffesGFy5v9aAKIvbOqa/qfdMqJ7GmL+/PeZw9m2FP9zL3rdLh7m/kuXnRP66vr9MFpL+mJmJv10knaNXLLq/gOu1Yya8qr+IXHZkX0+Wv+XLT3tP9a+/GLe2V16Nqb/jmdC1RLmQv/JLNRNYdcC/bZ/GSXlts7+47oe0ykDCv6f7n1m4FbS/7N8MLcf9q79Qt/UmpgGHvwxTMQTPAJC/LNLI97M9tb+mKYcIKNadv7o6gEGTLIi/gWVyQxWFu7+ctmJ6YoKwv+ywOIkUesC/EQbeT2ler7+qq+U2O7G3v0jUhtW5f56/AIp5TEUXqL+JGf9dGemwvyrfeYanbbO/1V7mIo+Dtb/r0m47S5W5v1Izlyc9tVc/CplPUZNchb+dwcmJO++AP7lPF+7kja2/8nXXYTeKmr+caFORjYy8v0BOZX5M8qK/CwnxI3D+r78CGCt821ibPwA+sMtb5Rk/HJFLnlU+s79nU4tJBEyvv2VfkCnfG6O/oFZ5+qvcJr82w/RVdyWXv25b4ImRlW+/WtRvcqXFnr+8imfbtB+nv2ZVWJpJGo0/usGvhpVOqr95Tws3iImWv8GI40lWiaG/LzRutuJJpb/vEsIkhcqqvw4NXOCj+qa/Br+bZM7mnb/xFYcj+Dx+v9I4XBhtqqS/U4Oop2Vef788YgGPHBKUvy9YOFyMSa6/8gIuW2oNlb8vMkvX5XCuvw43rBfpYa2/Iu1WjppJn7+uNKEoqXKfv5YbzkbhwI6/PMRyd4Tssr9oCBpC6fCVv7wJGBoFy4W/HrBwyVj6gb8LsuYngHyRv/Pnug9e924/kKf8aBhiib+23frLEuaEv0+idkh+Kny/VbadsanCeL/g1wRyDxyGP7A/NO+Hspm/K4yv6Cfolb+33cep7PiQv/IbR2/+aIe/iRaet4P7c78gJwIq2Qdpv4L1wiW1qZG/BplD9b3GZr8qXCGCofyHP6sbisy6IJq/xM/hKl/7i79fpAeTd4qUv4gcvaGvxIy/eKedVGLqkb+gm438fg1/P86GKcddm4q/JJ1a+eKQXD+rdatCNGR0v2vPZiQKjHq/dkf82MhvZ79G/wYNU2Bpv+hfScxi5UQ/q9Nm6QCSdr/7buTjakB/vzIyDNNvQYG/E1wqs9C5dr8OiogFk1qDv6BeplXpYSI/xmZ5eQCaa7+AxVgR0TYPvwNVNn2rWX+/JkTFJELYab+74JhQdoR/vwJMaU+srIC/WJiotQ/WR797l8w4Gh1+v+vKVhXvLHy/doiFZLaIgb++E/H1L1GEv4vNe39DHHe/+ovjfstJhr+7gV1Qby95vw==",
          "dtype": "f8"
         }
        },
        {
         "marker": {
          "color": {
           "bdata": "ZGRkZGRkZGRkZGRkZGRkZGRkZGRkZGRkZEtLS0tLS0tLS0tLS0tLS0tLS0tLS0tLS0syMjIyMjIyMjIyMjIyMjIyMjIyMjIyMjIyGRkZGRkZGRkZGRkZGRkZGRkZGRkZGRkZGQoKCgoKCgoKCgoKCgoKCgoKCgoKCgoKCgo=",
           "dtype": "i1"
          },
          "colorscale": [
           [
            0,
            "#440154"
           ],
           [
            0.1111111111111111,
            "#482878"
           ],
           [
            0.2222222222222222,
            "#3e4989"
           ],
           [
            0.3333333333333333,
            "#31688e"
           ],
           [
            0.4444444444444444,
            "#26828e"
           ],
           [
            0.5555555555555556,
            "#1f9e89"
           ],
           [
            0.6666666666666666,
            "#35b779"
           ],
           [
            0.7777777777777778,
            "#6ece58"
           ],
           [
            0.8888888888888888,
            "#b5de2b"
           ],
           [
            1,
            "#fde725"
           ]
          ],
          "showscale": false,
          "size": 5
         },
         "mode": "markers",
         "name": "Tulsi",
         "text": [
          "Dilution: 100%",
          "Dilution: 100%",
          "Dilution: 100%",
          "Dilution: 100%",
          "Dilution: 100%",
          "Dilution: 100%",
          "Dilution: 100%",
          "Dilution: 100%",
          "Dilution: 100%",
          "Dilution: 100%",
          "Dilution: 100%",
          "Dilution: 100%",
          "Dilution: 100%",
          "Dilution: 100%",
          "Dilution: 100%",
          "Dilution: 100%",
          "Dilution: 100%",
          "Dilution: 100%",
          "Dilution: 100%",
          "Dilution: 100%",
          "Dilution: 100%",
          "Dilution: 100%",
          "Dilution: 100%",
          "Dilution: 100%",
          "Dilution: 100%",
          "Dilution: 75%",
          "Dilution: 75%",
          "Dilution: 75%",
          "Dilution: 75%",
          "Dilution: 75%",
          "Dilution: 75%",
          "Dilution: 75%",
          "Dilution: 75%",
          "Dilution: 75%",
          "Dilution: 75%",
          "Dilution: 75%",
          "Dilution: 75%",
          "Dilution: 75%",
          "Dilution: 75%",
          "Dilution: 75%",
          "Dilution: 75%",
          "Dilution: 75%",
          "Dilution: 75%",
          "Dilution: 75%",
          "Dilution: 75%",
          "Dilution: 75%",
          "Dilution: 75%",
          "Dilution: 75%",
          "Dilution: 75%",
          "Dilution: 75%",
          "Dilution: 50%",
          "Dilution: 50%",
          "Dilution: 50%",
          "Dilution: 50%",
          "Dilution: 50%",
          "Dilution: 50%",
          "Dilution: 50%",
          "Dilution: 50%",
          "Dilution: 50%",
          "Dilution: 50%",
          "Dilution: 50%",
          "Dilution: 50%",
          "Dilution: 50%",
          "Dilution: 50%",
          "Dilution: 50%",
          "Dilution: 50%",
          "Dilution: 50%",
          "Dilution: 50%",
          "Dilution: 50%",
          "Dilution: 50%",
          "Dilution: 50%",
          "Dilution: 50%",
          "Dilution: 50%",
          "Dilution: 50%",
          "Dilution: 50%",
          "Dilution: 25%",
          "Dilution: 25%",
          "Dilution: 25%",
          "Dilution: 25%",
          "Dilution: 25%",
          "Dilution: 25%",
          "Dilution: 25%",
          "Dilution: 25%",
          "Dilution: 25%",
          "Dilution: 25%",
          "Dilution: 25%",
          "Dilution: 25%",
          "Dilution: 25%",
          "Dilution: 25%",
          "Dilution: 25%",
          "Dilution: 25%",
          "Dilution: 25%",
          "Dilution: 25%",
          "Dilution: 25%",
          "Dilution: 25%",
          "Dilution: 25%",
          "Dilution: 25%",
          "Dilution: 25%",
          "Dilution: 25%",
          "Dilution: 25%",
          "Dilution: 10%",
          "Dilution: 10%",
          "Dilution: 10%",
          "Dilution: 10%",
          "Dilution: 10%",
          "Dilution: 10%",
          "Dilution: 10%",
          "Dilution: 10%",
          "Dilution: 10%",
          "Dilution: 10%",
          "Dilution: 10%",
          "Dilution: 10%",
          "Dilution: 10%",
          "Dilution: 10%",
          "Dilution: 10%",
          "Dilution: 10%",
          "Dilution: 10%",
          "Dilution: 10%",
          "Dilution: 10%",
          "Dilution: 10%",
          "Dilution: 10%",
          "Dilution: 10%",
          "Dilution: 10%",
          "Dilution: 10%",
          "Dilution: 10%"
         ],
         "type": "scatter3d",
         "x": {
          "bdata": "rHqCFIY+8T/O8a5Y0hH0P1IGCQXvmvI/ziFOaSdg8T/cYwVP1vjwP9DSa9U5ifE/skY/Z8CX8T9M7uDPcBvxP4gXa2r3/vE/8nGUG5i28D+eSzWEKerxP3Y637uQCvM/fqAv0uKi8T8mbWRifo7xPw79XywivPI/hPveQIxa8j/CHo7qgkbyP1R3jRr1MvI/8Kj04Fvj8T9WfHNUNLTxPzQKPO/z4PE/1tDZkG388j+8lx6+scjwP9Z002fYtvE/2Ku7Ca9F8T+K1tU51FXhP6ydRUuQ1uE/4me4Lr2c4T/Sgyi4GobhP7w6XVzmkeI/uiWUxs9+4j+uS3SSqrvgP5S680gaFuI/Vpa6DHNM4j8K0sHtjC3jP/QGhwKXiuA/aNVRL0Dd3z9gfLnorCTgP86wftGFReA/aNL9xrXf4T+wmI/GlbHjP6RzRN8OCN8/YAOwuFRl4T+kOfF2qmreP5SLBYEsD+I/MOdo/vAa4j9WT6FuT+vhP/xCWZlSGN4/XjlT5Q4x4j+iDVlfD3bgP4CXaXu5zaO/ADymt5t4pb/gt6l8gnO2v2AVX/LdcaW/gNOXKdfIib/gJZ85z+ivv6AG4y+Hoqi/wNe9c5QeqL9g18zWqp+jvwC2xWcQ/62/gDAv1XmTm78g47IzgOmgv8AjYsbBELC/AJh4FfYgo78AZje24Tafv4AV0cDdw6O/QAKXI4cgp79AIaCd9s+pvwBdbeVuK6W/gFi/+F+kqr/Al1MKyx+Rv4D9ljvzdqS/gAFo2Xobs79A2qLjn12gv0B+LeBa56y/d0JzTZxK5L8F2vjF2+LjvzT1FuHZyOO/HWxlUCz747/BHUjmfCPjv+DWU59/iuO/GK0Fv+oL5L9nUGHOsPTjv9Jty+4A7eO/NDa2mRzq47+ZkQchqOPjvwtrOn1E8uO/SKQrbdKE5L9yL1YcpVfkvzFU8M4zB+S/SQ0UH5VW5L88/yVQ5qvkv1xgd3u0h+S/uXt6JYS347/bNJu/uADkvyBPeKjj7OO/F79ZTe0a5L9xMR/Kai7kv2gJ5sf40eO/vM1XhmAW5L9OOE1Yi9Huv81MNbK9wu6/KRqDOLvE7r+DXpmIurnuv1KDT5QHh+6/LvcgLtjs7r9k3cJ4nMfuv/qLufxy5u6/73HhI9bV7r87sgATkevuv0B2E/lhx+6/rUqIMbzb7r9U5sDlutjuv26kfhVLl+6/iLHw763F7r/4AnT+ybnuv6pWgLq+7+6/rQ0/PpHG7r+0bpuwnqbuvw6kfxUs7+6/FA8tCAHB7r8mYp9+tt7uv+UE3vYp2e6/BB0b1C+57r/IIH3S377uvw==",
          "dtype": "f8"
         },
         "y": {
          "bdata": "CfdFp3H4xj+mE7CX74DJP9ADPGAJjsI/ln+Hm4K40D9agJKPhgHNP4RLU4zYQ8M/76o1Wf4Tyz8kcstxQsfNP02Hovytbc8/qgPHswmB0j8fJzJQMm7MP6vGdLHjmc8/ttXRo/hhyz+OrYXRO3XCP1uPWGLyj84/UPvHPoWsyT/vUaRp9J3LP22h2EurXck/10ASY4K7zz+PwkorNDrIPxSaZwn+/M0/9BZZes9Z0T+C9E7vihHRP9IYxTN+TdM/bTyLjUrOzT+jrInGW5y2P6JreXp7Pb0/5kzQae4OxT+RIALEemfDPzAZrNwALsE/4qA8HzJiwT/DALtIMEfAP5oDpus9wL4/MwQffn+qtj8oiTgFK2y+P2qbykbhs8g/ATsN/vPdwz+dcpDiU0TIP2XhmHvKC8E/zOrNqCECsT+b3PtPms/EP84NSXG7h8Y/a7BwgNpJwj+ay6CtPYvCP2z0IGSPr8I/fTZpNxfAuj/8Msu7SJHGP3CrZJro+sI/liXTWRWHwD9ksyM1pmq+P1I8TmSfI7s/fQz12sODuj9m+zjpBXG+P0X/s6jiqLs/cMS12wUOvD/0y4RSzhu1P9G4/wrqGrc/m9qKbu/Opj+pCEDuxFCyP6knhroudcI/xoTBoEG/vz8Ewelp/Aa9PwDA1RmRPrc/v+XXB7cOwT/0gYovJouwPyhb9C8Qj7s/k3F6HUXOvD+Eu1gu2Q63P9pNds+yJ8E/fYFa0193uD9u5lAbLFm3P/xrao6adq0/yZANHUsrsz9LrZzCGD+8P7qp9UNuyrY/za2w7lpeoj8djD4iKT6pP2xagxySs6o/jlzJXmSiqT90/6FNt6mfP88tAG4kj6U/ewDofMvKpD8WorHNn1yrP53WzvdllqI/RedhXL0ioT9OaGuB7M6rP02q6RvllqI/oGEtoi01rD9VqXZ45wmhP+Qo9In556U/cpmQErf7nD+qxGDuNL2iPwDdZAcu/Kc/+zRfzYlWoT+YNvCjjx+hPyir+DtFJqc/TGh/Uk/npz/N4DDYK3OoP3Z/UqCH8Ks/q+r/0tfDpT9zaXAjS2WQP7SEbDevyI0/Bjiii07vjT+c6M051qWPP0qoD56zxIc/1j5i+0W+jj/6umOPqrGLP4KhALY+rY8/BLUa1PZGlD+eQPjHG4qOPzgaIDDYBo8/CI4BEDEWjT/i5ltcIbaLPxwKBgVy/IU/70NFpou1kD9Ofwbtpt2MPxoC/x6dCpA/njGzpNiwkD8cuGZDckKIPwOpP7GqG5E/DlytKLvNjT8DtYtHKPOQP70fUhiA5ZA/UtlZmjsNjD+kc4Bcc9aLPw==",
          "dtype": "f8"
         },
         "z": {
          "bdata": "hGw+V5O7wj+UZUnd/EOevx4pCk0XwKI/xwLs9ltOo7/5/o98NzB5v/4KjwapTqk/3Hvba6YtiD8bfFQHEQquv9FhSYIDcZi/WDgnZ9Szpj+pHiHY386qP3cM2ttaSW4/O3raJjeUlD9gmRtpc1qZPzKMsvxsGrO/E0sLC+H2kT9k8T28NDm+P8zFk9irErc/xUouCANcvj+HmmPuj3SsPzgqhJzc2ng/lkpr7ouckr9SxsRqgqmNP9ycEWX8wGI/E3+I29qlmr+lmwS82n2pP9PQQpbvYK0/+iYngBKvdz+jC3NhAyuYv9bx+ULWGsU/+JPLtwkbjT9J59OpYDayv6AA43WgB5i/J7wuQNtQnz86RAeg2welP0K7qUgM/JK/Tlr3FHgsjT8qaDSB8SORPxmCnvECEa0/zAnQLRVboz8zKfEe6tuvP5nKNE/gs5Y/gojAxXBshT8/zEVKE7mcP2bUnvH1QpU/K8fhBzeNoz/3lHKLL0SrPxreFKdINZW/zFr8iEYGYz/OmPron7ylv0DRHyf7j4a/2eyg7LjBiD/lqG+xWNmZv9zhkaYGZHk/oP3Bo6CrlD/ko0V5QsNxP7qlES4jnKi/rAqBladliT8gjDelRwqNv+QqM+fcGIm/lhP8s8Jedz947pzRyKpbvw+DDl1DJpk/n43YTWXMe78kcclxzhWPP/LyMDWl+Gq/QS/myaA4c795SNpwjXhyv2KFtCPQ24q/yADA+fc8i7+vymjN6oitPzgEA9wFO6I/uBdinImMl78VbBsM+gNsP543AYKFn4I/cG1clWQabD/OXXtXpmqBP5i51gNomIi/uqGMaNRRlD9QkonYjidpv4esStlkV4Q/xXynhT7mkT8795VuFfaUP5ptW3xYmIc/FCEYo6CvfT/snJjWPipaP6RjclfvuF0/uwdBHqGKnD9UAw//4EFBP1JuzpNaxIC/mcbscsd7gz/kquYvrhl9P30+VzziKZU/35D+CGu1Zj/yDWSjCpuTv9s4mxsYsHO/nDOlmf39hj+MCIf+pl+BP9PKMqyv0qQ/+P3FXrRBWb9hST1DGzh+P2WPZcHkNnQ/NRbJipPJcz8aJiPyfjtuP61eaqfwI3M/FndDh6BBY79YLR2WUQtOvzTV+o7k3FM/NR71RqCTeT+W7vgflrNkvzWfCzZThns/xuTHh/WeYr+jnvC17Vxzv/aPoX0J6mi/IL3fBd+xiT9FVvkf6uZzP4BuwEi5Lwg/feVwCm0udj8MFTSN14ZVv3VL1R6ZmnQ/ldnq+pH/dT8CCA+dcWiAP7oW3Yhtd4I/WoXzvNe7aT/omvFRALdGPw==",
          "dtype": "f8"
         }
        },
        {
         "marker": {
          "color": {
           "bdata": "ZGRkZGRkZGRkZGRkZGRkZGRkZGRkZGRkZEtLS0tLS0tLS0tLS0tLS0tLS0tLS0tLS0syMjIyMjIyMjIyMjIyMjIyMjIyMjIyMjIyGRkZGRkZGRkZGRkZGRkZGRkZGRkZGRkZGQoKCgoKCgoKCgoKCgoKCgoKCgoKCgoKCgo=",
           "dtype": "i1"
          },
          "colorscale": [
           [
            0,
            "#440154"
           ],
           [
            0.1111111111111111,
            "#482878"
           ],
           [
            0.2222222222222222,
            "#3e4989"
           ],
           [
            0.3333333333333333,
            "#31688e"
           ],
           [
            0.4444444444444444,
            "#26828e"
           ],
           [
            0.5555555555555556,
            "#1f9e89"
           ],
           [
            0.6666666666666666,
            "#35b779"
           ],
           [
            0.7777777777777778,
            "#6ece58"
           ],
           [
            0.8888888888888888,
            "#b5de2b"
           ],
           [
            1,
            "#fde725"
           ]
          ],
          "showscale": false,
          "size": 5
         },
         "mode": "markers",
         "name": "Neem",
         "text": [
          "Dilution: 100%",
          "Dilution: 100%",
          "Dilution: 100%",
          "Dilution: 100%",
          "Dilution: 100%",
          "Dilution: 100%",
          "Dilution: 100%",
          "Dilution: 100%",
          "Dilution: 100%",
          "Dilution: 100%",
          "Dilution: 100%",
          "Dilution: 100%",
          "Dilution: 100%",
          "Dilution: 100%",
          "Dilution: 100%",
          "Dilution: 100%",
          "Dilution: 100%",
          "Dilution: 100%",
          "Dilution: 100%",
          "Dilution: 100%",
          "Dilution: 100%",
          "Dilution: 100%",
          "Dilution: 100%",
          "Dilution: 100%",
          "Dilution: 100%",
          "Dilution: 75%",
          "Dilution: 75%",
          "Dilution: 75%",
          "Dilution: 75%",
          "Dilution: 75%",
          "Dilution: 75%",
          "Dilution: 75%",
          "Dilution: 75%",
          "Dilution: 75%",
          "Dilution: 75%",
          "Dilution: 75%",
          "Dilution: 75%",
          "Dilution: 75%",
          "Dilution: 75%",
          "Dilution: 75%",
          "Dilution: 75%",
          "Dilution: 75%",
          "Dilution: 75%",
          "Dilution: 75%",
          "Dilution: 75%",
          "Dilution: 75%",
          "Dilution: 75%",
          "Dilution: 75%",
          "Dilution: 75%",
          "Dilution: 75%",
          "Dilution: 50%",
          "Dilution: 50%",
          "Dilution: 50%",
          "Dilution: 50%",
          "Dilution: 50%",
          "Dilution: 50%",
          "Dilution: 50%",
          "Dilution: 50%",
          "Dilution: 50%",
          "Dilution: 50%",
          "Dilution: 50%",
          "Dilution: 50%",
          "Dilution: 50%",
          "Dilution: 50%",
          "Dilution: 50%",
          "Dilution: 50%",
          "Dilution: 50%",
          "Dilution: 50%",
          "Dilution: 50%",
          "Dilution: 50%",
          "Dilution: 50%",
          "Dilution: 50%",
          "Dilution: 50%",
          "Dilution: 50%",
          "Dilution: 50%",
          "Dilution: 25%",
          "Dilution: 25%",
          "Dilution: 25%",
          "Dilution: 25%",
          "Dilution: 25%",
          "Dilution: 25%",
          "Dilution: 25%",
          "Dilution: 25%",
          "Dilution: 25%",
          "Dilution: 25%",
          "Dilution: 25%",
          "Dilution: 25%",
          "Dilution: 25%",
          "Dilution: 25%",
          "Dilution: 25%",
          "Dilution: 25%",
          "Dilution: 25%",
          "Dilution: 25%",
          "Dilution: 25%",
          "Dilution: 25%",
          "Dilution: 25%",
          "Dilution: 25%",
          "Dilution: 25%",
          "Dilution: 25%",
          "Dilution: 25%",
          "Dilution: 10%",
          "Dilution: 10%",
          "Dilution: 10%",
          "Dilution: 10%",
          "Dilution: 10%",
          "Dilution: 10%",
          "Dilution: 10%",
          "Dilution: 10%",
          "Dilution: 10%",
          "Dilution: 10%",
          "Dilution: 10%",
          "Dilution: 10%",
          "Dilution: 10%",
          "Dilution: 10%",
          "Dilution: 10%",
          "Dilution: 10%",
          "Dilution: 10%",
          "Dilution: 10%",
          "Dilution: 10%",
          "Dilution: 10%",
          "Dilution: 10%",
          "Dilution: 10%",
          "Dilution: 10%",
          "Dilution: 10%",
          "Dilution: 10%"
         ],
         "type": "scatter3d",
         "x": {
          "bdata": "eqToC6Gl8T9wtlhdtA/zP+jcSwBZ//A/aqqERgyo8T+QVQzcC8zxPwpMh+QZwPA/FOTn/gaq8T+WxOpex1nwP7wqr3gbFvI/TK31WIFJ8T/Ob7oBlHTyP1AO9yF0uvI/6Mq+uCv48T9ojbrFc07yP3YfxInP/PI/PLjpZZuN8j+eipbFNp7yP1gxhKnHt/A/0hXLmSCD8T8I3ZUy04bxP4hRnTWLe/E/LNJD4Ym48D9InYfU6YPwP8Atx3ZxIvE/Qpo6mE6L8D+o4h2stkTgPwDMebqdruA/5PXZXY1M4T9gWW1vlozhP+yBq7POBuA/Yrv4/5GI4z8UsXLRUqvePwoSMZUep+A/RsQ8DrsE4T+ciBdMC9bfP/B7Adqcbd0/rCrhQc302j+CgDt+0FXgP9qbVJaDMuI/7BH78tok4D/E21HCp0vgP3pU2It+c+I/lhQ8dmIA4T8EvFKPTXviP4IG9g/+uuA/znhi0KSq4D8CB26G/17gPyrHEblMfOE/HMi/xdmL4D/I6ruYZmfePwAKf7WpaKe/0B5oBQaEtb/gnDXuqC+jv+CEl1ZL47e/wOmfJVtTr7+wf2HdPL20v6AXbJNz0K+/YNXUKwdVsb8ARSwZhNCwv6Cd/XFP3q6/4CM/yFunrL+As4FtqqqvvxDgAAC++bS/oKvWsK66or8A9aAm6paMv5BJUUciSra/wLRHVcVFtL+AkVcskUqfvyBuMoCq/ae/gEMmGHAyub9AJ6QLEieiv2CYiT3A5K6/UEepPZP5sL+w2MsKrc+wv5CZX3y1cLK/dmPN0jNN5b/v1l0sNzbkv3BCrFirtOS/B8yCwibU5L+bbQXEsiPkvxyr0lbbquO/P80jR0z95L9x64vDmQLkv6ADfPSz9eO/PPYUrUBa5L/RVwJSbwDkv/M8jMHhweS/K16IbHpV5L+LLyqnTuHjvyvAZG2ZC+S/hr/OEjsC5L8dI8dnY+/jv3TqEZ0DOeS/wncAGkM45L81cVsTUVXkv+n+BQcXiOS/KEZmZFpj5L9FEFDm5pXjv01JFTFQPOS/GR1tmStl5L8wLYN4DLzuvxYv4A95xO6/ViEt+mes7r+KTUGZFqruvyTRrOa4wO6/zkdfe+fj7r964QRA3L7uv759zUcHuu6/OQ8ntGaI7r+EpQ84xMruv/Pv+OlYYu6/6uGW9l/L7r8cBiF3p5Puv2TEE9Uwz+6/QlbXnH107r9M47rTuHTuv8FlI+iVrO6/RiCT1QzF7r8GNWtSXMLuv/ydDOL1W+6/3rWMRU617r/ZxLsv6b/uv6SvxnKLwO6/GnohNNXh7r+YivsPOnTuvw==",
          "dtype": "f8"
         },
         "y": {
          "bdata": "bMxeoEvXvr++pBEVoBDEv8hRPAxjFbC/pLkqsfsnwb/0HDMER5S3vwU+ko5ft8O/svjwAVYwwb8+liPRHU7Bv/P+vSNj68G/VtBeG06xqb+xu7Jin+mhv5d8PKdvTLK/KbHM/Vskv78EcH9ZiCazv/V1azF6LLO/CMPxHZa7sL+C3UxNo8W8v1AiHjDjZcS/fGgS7BWhsL9WmwD6hWrBv69FtMiENLe/lCnsqm8NvL8S+PZb03Sov1QSaWMqNMG/v/yqxqeMvb+/EfEs3zuvv5a48OEka7G/3AKIjNxmsb+ScKhymoOhv6UhMuwCfZm/Vmmo8z0hwb9nzBNZx8+tv3jnmVXN1Le/tWmTmDb0vr96aGu5r1Onv9Ljlzj7Nae/mVUtYqxhrr/eD8G52jLCv8QjtP1WU8K/Zj2mKOucs7/AH95mj3+ov5tK/g+X8r+/b/j6gUWas7/oVmpFn9/AvwL1Njhpoba/hZhwCUHEtb/UXwsogNq+v6FcI66+BLy/TvA5TRYwt78afLnfUa+vv0MnFHTbf6a/pJrHhXXjkb/EUgsB4EShvz5e8PKJKLG/JSemyX4+jb/u8PvtTPeTv6qsKyuhhr2/TRck7csRt7+iItRHuoarvyBpz3Sql7S/6pdSKRNVtb9MpAXQTeO0v0+vb24PsK+/0Lj81mBepL/w0xvAIQizvwOTi8Nl/Xi/3CkYOYFEpb+VZ7IXyYi0v86Txx+DJau/aTRMIYU+qb8YzsDZAHWuv5HIc6ALW6u/LPQDCDCzqb9r5dEtvLSwvzSzmg2pbrC/lIkT5DAIir/A+P7/43Sgv/RI8EXCrqe/4gSdj0jHo78QchEzcTejv31YuhDduaW/KXq6VvhOgb9qmSUWPN+jv2bLlIelIam/ZqcpdhIdn78M9ey0CeWrv3E4XOLflJm//nLkd/v2pb/8gCzfdGWdv1Rs17edHaa/sjiaPZTao78NccqvvW+qvxx8LtbglaC/2a3eTqSgn7/tT+Xxr7Cmv3pEsIvLIae/gtJN36koq78rgoE1+JCgv8xOKqsG6ZO/i8TOptWDk7/mTbfOLfSLP54xrG4YlYI/Njy6tLSkiT8kw7avs/qBPxBDb7dAHYY/FuMzRFN+jj9+0gm20wiFP3woveu05ok/dOAfeDghdz8uVUnG9T+MP6CczCK04WI/ZIFBqbFEiz8YHHJHNWOAPz5CfiUJeYs/BGKaKJxqez/2r+Cmd6SBPzqs+z4hIoM/lGsmOBG7iD+UIfp+ryKQP5BL1RqK3WI/KrMpCycMhj/UFa7F8U2NP6ZUC3uepYo/9s8fhJY5jz+gp7bqdIptPw==",
          "dtype": "f8"
         },
         "z": {
          "bdata": "RP3OSwlTkj+3N//aJFVwv9bIxcU7C4C/9/Wsu52seb+IBkurGvSzP+iOk1d9Wa0/Bzq6rHJusj/NLkdixiC2Py/CMIc4kJ0/sJhIFnarkT8ARmg5vV2kP5AIKPuVfaG/sVIOIkjkrb/GZC79dbexP8DTYzoOhlW/Ytc8U1j/tT9KWDt6pol/P28uLc7SOrc/+johqj9ybL8+Tv+CzS+yP0Ic4eNxQ48/kSdhnMw+nD8Qm4unE4x1P3Tacl371KU/KxMv25mBrL98uJRFA7VaPzE7EU5Tkpo/Wh+YpiVmmL8qyKUgzo6zPwmY8Jy5l7M/Ud+QQ6v3qL8h8akskTqCP7bDc9/os7A/oeq1Z6xZcj+wFcF03eSIP/fQ1xOFCZw/7RoEUSJtgD+cNFVL6Y5HP1dzh0xuh7g/uPjPZLPjjj9vIbN7iICrP8vvb3vFkJm/PKXLVmOKhT+fj11bpbtzP3IQwogCzYe/YUJwStHwfj9D+lQRT0WlP04e77Hr06E/O183c27wd78pjHmcTQ6XP7DJMp8/L3w/sKEHKWlvmT9t1jmxMVCSv7PXMlPaCpq/Dasg2usZl7/2oQaTz/GfP0FPzNf9iXS/1oiiUoyCdj8f7agKw8yUP1vZnvW1+XE/WrJURqiqlz9fh6Fkm92QP8VRqsr6q3q/R61hV0m7kb8QzjkfvulXP1rXFlaUaJs/T2XWZwvTqj+gA5/DDuNpP/IO1vJQBIE/+gsq7UcifD80l8W9Jc6WPzwrzc11PZm/O2kxfBCDsT+aJ2NtfmyHP9jtNri9KoQ/8p1FdJNTaL/qwybY/euJP9g9mid9b4Q/X5cj8dxEZz9CKH/UaVWHv9z9xTanSos/WaQ+3zpRkz/oxDZrFheJP+kwx6cO14Q/MDrt0KyZez8WI2GNSD9TP6ifGB868I6/Q9oHGfCVmT9gq2qTA0aJP9CfL11scJE/Tj1mxiVsiT/LZt5FVh6Rv/hbdOb/w24/7VonD0h5fL9r6sDcL/JyP6iXKVt/tYa/kKeg9SvNPT81FjfCuryQP2y6JdG82Ic/ukvDZilUb7/adFRuWYZuP5Yh7jWqVmy/DYro29mUcz/joMF3WkpzvzvqbKJLfX2/GBJaxdvETb9b+uLDVgp8v1rtXrFNa2A/BvKxEK9Hgr8wf0eqgK83v3aqI6kpBom/dbtuBVmefD9u95e8DZqIv7barpmsmWm/qAEjOATfRz8l+KFcK451P9vZdzr6lne/bHidk2cvXb9cD2JWJlKJP3a3kFhdsIK/pkCjfGOIY78llMawlhN0P0wSrPpNB1y/dAVzeKsGVD9jSBIsVPF6vw==",
          "dtype": "f8"
         }
        }
       ],
       "layout": {
        "height": 800,
        "scene": {
         "xaxis": {
          "title": {
           "text": "PC1"
          }
         },
         "yaxis": {
          "title": {
           "text": "PC2"
          }
         },
         "zaxis": {
          "title": {
           "text": "PC3"
          }
         }
        },
        "template": {
         "data": {
          "bar": [
           {
            "error_x": {
             "color": "#2a3f5f"
            },
            "error_y": {
             "color": "#2a3f5f"
            },
            "marker": {
             "line": {
              "color": "#E5ECF6",
              "width": 0.5
             },
             "pattern": {
              "fillmode": "overlay",
              "size": 10,
              "solidity": 0.2
             }
            },
            "type": "bar"
           }
          ],
          "barpolar": [
           {
            "marker": {
             "line": {
              "color": "#E5ECF6",
              "width": 0.5
             },
             "pattern": {
              "fillmode": "overlay",
              "size": 10,
              "solidity": 0.2
             }
            },
            "type": "barpolar"
           }
          ],
          "carpet": [
           {
            "aaxis": {
             "endlinecolor": "#2a3f5f",
             "gridcolor": "white",
             "linecolor": "white",
             "minorgridcolor": "white",
             "startlinecolor": "#2a3f5f"
            },
            "baxis": {
             "endlinecolor": "#2a3f5f",
             "gridcolor": "white",
             "linecolor": "white",
             "minorgridcolor": "white",
             "startlinecolor": "#2a3f5f"
            },
            "type": "carpet"
           }
          ],
          "choropleth": [
           {
            "colorbar": {
             "outlinewidth": 0,
             "ticks": ""
            },
            "type": "choropleth"
           }
          ],
          "contour": [
           {
            "colorbar": {
             "outlinewidth": 0,
             "ticks": ""
            },
            "colorscale": [
             [
              0,
              "#0d0887"
             ],
             [
              0.1111111111111111,
              "#46039f"
             ],
             [
              0.2222222222222222,
              "#7201a8"
             ],
             [
              0.3333333333333333,
              "#9c179e"
             ],
             [
              0.4444444444444444,
              "#bd3786"
             ],
             [
              0.5555555555555556,
              "#d8576b"
             ],
             [
              0.6666666666666666,
              "#ed7953"
             ],
             [
              0.7777777777777778,
              "#fb9f3a"
             ],
             [
              0.8888888888888888,
              "#fdca26"
             ],
             [
              1,
              "#f0f921"
             ]
            ],
            "type": "contour"
           }
          ],
          "contourcarpet": [
           {
            "colorbar": {
             "outlinewidth": 0,
             "ticks": ""
            },
            "type": "contourcarpet"
           }
          ],
          "heatmap": [
           {
            "colorbar": {
             "outlinewidth": 0,
             "ticks": ""
            },
            "colorscale": [
             [
              0,
              "#0d0887"
             ],
             [
              0.1111111111111111,
              "#46039f"
             ],
             [
              0.2222222222222222,
              "#7201a8"
             ],
             [
              0.3333333333333333,
              "#9c179e"
             ],
             [
              0.4444444444444444,
              "#bd3786"
             ],
             [
              0.5555555555555556,
              "#d8576b"
             ],
             [
              0.6666666666666666,
              "#ed7953"
             ],
             [
              0.7777777777777778,
              "#fb9f3a"
             ],
             [
              0.8888888888888888,
              "#fdca26"
             ],
             [
              1,
              "#f0f921"
             ]
            ],
            "type": "heatmap"
           }
          ],
          "histogram": [
           {
            "marker": {
             "pattern": {
              "fillmode": "overlay",
              "size": 10,
              "solidity": 0.2
             }
            },
            "type": "histogram"
           }
          ],
          "histogram2d": [
           {
            "colorbar": {
             "outlinewidth": 0,
             "ticks": ""
            },
            "colorscale": [
             [
              0,
              "#0d0887"
             ],
             [
              0.1111111111111111,
              "#46039f"
             ],
             [
              0.2222222222222222,
              "#7201a8"
             ],
             [
              0.3333333333333333,
              "#9c179e"
             ],
             [
              0.4444444444444444,
              "#bd3786"
             ],
             [
              0.5555555555555556,
              "#d8576b"
             ],
             [
              0.6666666666666666,
              "#ed7953"
             ],
             [
              0.7777777777777778,
              "#fb9f3a"
             ],
             [
              0.8888888888888888,
              "#fdca26"
             ],
             [
              1,
              "#f0f921"
             ]
            ],
            "type": "histogram2d"
           }
          ],
          "histogram2dcontour": [
           {
            "colorbar": {
             "outlinewidth": 0,
             "ticks": ""
            },
            "colorscale": [
             [
              0,
              "#0d0887"
             ],
             [
              0.1111111111111111,
              "#46039f"
             ],
             [
              0.2222222222222222,
              "#7201a8"
             ],
             [
              0.3333333333333333,
              "#9c179e"
             ],
             [
              0.4444444444444444,
              "#bd3786"
             ],
             [
              0.5555555555555556,
              "#d8576b"
             ],
             [
              0.6666666666666666,
              "#ed7953"
             ],
             [
              0.7777777777777778,
              "#fb9f3a"
             ],
             [
              0.8888888888888888,
              "#fdca26"
             ],
             [
              1,
              "#f0f921"
             ]
            ],
            "type": "histogram2dcontour"
           }
          ],
          "mesh3d": [
           {
            "colorbar": {
             "outlinewidth": 0,
             "ticks": ""
            },
            "type": "mesh3d"
           }
          ],
          "parcoords": [
           {
            "line": {
             "colorbar": {
              "outlinewidth": 0,
              "ticks": ""
             }
            },
            "type": "parcoords"
           }
          ],
          "pie": [
           {
            "automargin": true,
            "type": "pie"
           }
          ],
          "scatter": [
           {
            "fillpattern": {
             "fillmode": "overlay",
             "size": 10,
             "solidity": 0.2
            },
            "type": "scatter"
           }
          ],
          "scatter3d": [
           {
            "line": {
             "colorbar": {
              "outlinewidth": 0,
              "ticks": ""
             }
            },
            "marker": {
             "colorbar": {
              "outlinewidth": 0,
              "ticks": ""
             }
            },
            "type": "scatter3d"
           }
          ],
          "scattercarpet": [
           {
            "marker": {
             "colorbar": {
              "outlinewidth": 0,
              "ticks": ""
             }
            },
            "type": "scattercarpet"
           }
          ],
          "scattergeo": [
           {
            "marker": {
             "colorbar": {
              "outlinewidth": 0,
              "ticks": ""
             }
            },
            "type": "scattergeo"
           }
          ],
          "scattergl": [
           {
            "marker": {
             "colorbar": {
              "outlinewidth": 0,
              "ticks": ""
             }
            },
            "type": "scattergl"
           }
          ],
          "scattermap": [
           {
            "marker": {
             "colorbar": {
              "outlinewidth": 0,
              "ticks": ""
             }
            },
            "type": "scattermap"
           }
          ],
          "scattermapbox": [
           {
            "marker": {
             "colorbar": {
              "outlinewidth": 0,
              "ticks": ""
             }
            },
            "type": "scattermapbox"
           }
          ],
          "scatterpolar": [
           {
            "marker": {
             "colorbar": {
              "outlinewidth": 0,
              "ticks": ""
             }
            },
            "type": "scatterpolar"
           }
          ],
          "scatterpolargl": [
           {
            "marker": {
             "colorbar": {
              "outlinewidth": 0,
              "ticks": ""
             }
            },
            "type": "scatterpolargl"
           }
          ],
          "scatterternary": [
           {
            "marker": {
             "colorbar": {
              "outlinewidth": 0,
              "ticks": ""
             }
            },
            "type": "scatterternary"
           }
          ],
          "surface": [
           {
            "colorbar": {
             "outlinewidth": 0,
             "ticks": ""
            },
            "colorscale": [
             [
              0,
              "#0d0887"
             ],
             [
              0.1111111111111111,
              "#46039f"
             ],
             [
              0.2222222222222222,
              "#7201a8"
             ],
             [
              0.3333333333333333,
              "#9c179e"
             ],
             [
              0.4444444444444444,
              "#bd3786"
             ],
             [
              0.5555555555555556,
              "#d8576b"
             ],
             [
              0.6666666666666666,
              "#ed7953"
             ],
             [
              0.7777777777777778,
              "#fb9f3a"
             ],
             [
              0.8888888888888888,
              "#fdca26"
             ],
             [
              1,
              "#f0f921"
             ]
            ],
            "type": "surface"
           }
          ],
          "table": [
           {
            "cells": {
             "fill": {
              "color": "#EBF0F8"
             },
             "line": {
              "color": "white"
             }
            },
            "header": {
             "fill": {
              "color": "#C8D4E3"
             },
             "line": {
              "color": "white"
             }
            },
            "type": "table"
           }
          ]
         },
         "layout": {
          "annotationdefaults": {
           "arrowcolor": "#2a3f5f",
           "arrowhead": 0,
           "arrowwidth": 1
          },
          "autotypenumbers": "strict",
          "coloraxis": {
           "colorbar": {
            "outlinewidth": 0,
            "ticks": ""
           }
          },
          "colorscale": {
           "diverging": [
            [
             0,
             "#8e0152"
            ],
            [
             0.1,
             "#c51b7d"
            ],
            [
             0.2,
             "#de77ae"
            ],
            [
             0.3,
             "#f1b6da"
            ],
            [
             0.4,
             "#fde0ef"
            ],
            [
             0.5,
             "#f7f7f7"
            ],
            [
             0.6,
             "#e6f5d0"
            ],
            [
             0.7,
             "#b8e186"
            ],
            [
             0.8,
             "#7fbc41"
            ],
            [
             0.9,
             "#4d9221"
            ],
            [
             1,
             "#276419"
            ]
           ],
           "sequential": [
            [
             0,
             "#0d0887"
            ],
            [
             0.1111111111111111,
             "#46039f"
            ],
            [
             0.2222222222222222,
             "#7201a8"
            ],
            [
             0.3333333333333333,
             "#9c179e"
            ],
            [
             0.4444444444444444,
             "#bd3786"
            ],
            [
             0.5555555555555556,
             "#d8576b"
            ],
            [
             0.6666666666666666,
             "#ed7953"
            ],
            [
             0.7777777777777778,
             "#fb9f3a"
            ],
            [
             0.8888888888888888,
             "#fdca26"
            ],
            [
             1,
             "#f0f921"
            ]
           ],
           "sequentialminus": [
            [
             0,
             "#0d0887"
            ],
            [
             0.1111111111111111,
             "#46039f"
            ],
            [
             0.2222222222222222,
             "#7201a8"
            ],
            [
             0.3333333333333333,
             "#9c179e"
            ],
            [
             0.4444444444444444,
             "#bd3786"
            ],
            [
             0.5555555555555556,
             "#d8576b"
            ],
            [
             0.6666666666666666,
             "#ed7953"
            ],
            [
             0.7777777777777778,
             "#fb9f3a"
            ],
            [
             0.8888888888888888,
             "#fdca26"
            ],
            [
             1,
             "#f0f921"
            ]
           ]
          },
          "colorway": [
           "#636efa",
           "#EF553B",
           "#00cc96",
           "#ab63fa",
           "#FFA15A",
           "#19d3f3",
           "#FF6692",
           "#B6E880",
           "#FF97FF",
           "#FECB52"
          ],
          "font": {
           "color": "#2a3f5f"
          },
          "geo": {
           "bgcolor": "white",
           "lakecolor": "white",
           "landcolor": "#E5ECF6",
           "showlakes": true,
           "showland": true,
           "subunitcolor": "white"
          },
          "hoverlabel": {
           "align": "left"
          },
          "hovermode": "closest",
          "mapbox": {
           "style": "light"
          },
          "paper_bgcolor": "white",
          "plot_bgcolor": "#E5ECF6",
          "polar": {
           "angularaxis": {
            "gridcolor": "white",
            "linecolor": "white",
            "ticks": ""
           },
           "bgcolor": "#E5ECF6",
           "radialaxis": {
            "gridcolor": "white",
            "linecolor": "white",
            "ticks": ""
           }
          },
          "scene": {
           "xaxis": {
            "backgroundcolor": "#E5ECF6",
            "gridcolor": "white",
            "gridwidth": 2,
            "linecolor": "white",
            "showbackground": true,
            "ticks": "",
            "zerolinecolor": "white"
           },
           "yaxis": {
            "backgroundcolor": "#E5ECF6",
            "gridcolor": "white",
            "gridwidth": 2,
            "linecolor": "white",
            "showbackground": true,
            "ticks": "",
            "zerolinecolor": "white"
           },
           "zaxis": {
            "backgroundcolor": "#E5ECF6",
            "gridcolor": "white",
            "gridwidth": 2,
            "linecolor": "white",
            "showbackground": true,
            "ticks": "",
            "zerolinecolor": "white"
           }
          },
          "shapedefaults": {
           "line": {
            "color": "#2a3f5f"
           }
          },
          "ternary": {
           "aaxis": {
            "gridcolor": "white",
            "linecolor": "white",
            "ticks": ""
           },
           "baxis": {
            "gridcolor": "white",
            "linecolor": "white",
            "ticks": ""
           },
           "bgcolor": "#E5ECF6",
           "caxis": {
            "gridcolor": "white",
            "linecolor": "white",
            "ticks": ""
           }
          },
          "title": {
           "x": 0.05
          },
          "xaxis": {
           "automargin": true,
           "gridcolor": "white",
           "linecolor": "white",
           "ticks": "",
           "title": {
            "standoff": 15
           },
           "zerolinecolor": "white",
           "zerolinewidth": 2
          },
          "yaxis": {
           "automargin": true,
           "gridcolor": "white",
           "linecolor": "white",
           "ticks": "",
           "title": {
            "standoff": 15
           },
           "zerolinecolor": "white",
           "zerolinewidth": 2
          }
         }
        },
        "title": {
         "text": "3D PCA Visualization of Medicines and Dilutions"
        },
        "width": 1000
       }
      }
     },
     "metadata": {},
     "output_type": "display_data"
    },
    {
     "name": "stdout",
     "output_type": "stream",
     "text": [
      "\n",
      "PCA Explained Variance Ratio:\n",
      "Principal Component  Explained Variance (%)\n",
      "                PC1               98.157675\n",
      "                PC2                1.187483\n",
      "                PC3                0.238301\n"
     ]
    }
   ],
   "source": [
    "# 1. Taste Profile Radar Charts\n",
    "fig = go.Figure()\n",
    "\n",
    "# Create radar chart for each taste profile\n",
    "for taste, profile in taste_profiles.items():\n",
    "    fig.add_trace(go.Scatterpolar(\n",
    "        r=[profile[ch] for ch in ['R', 'S', 'T', 'U', 'V', 'W']],\n",
    "        theta=['R', 'S', 'T', 'U', 'V', 'W'],\n",
    "        name=taste.capitalize(),\n",
    "        fill='toself'\n",
    "    ))\n",
    "\n",
    "fig.update_layout(\n",
    "    polar=dict(radialaxis=dict(range=[0, 1.5])),\n",
    "    title='Taste Profile Sensor Patterns',\n",
    "    showlegend=True,\n",
    "    width=800,\n",
    "    height=600\n",
    ")\n",
    "fig.show()\n",
    "\n",
    "# 2. Medicine Sensor Patterns by Dilution\n",
    "fig = make_subplots(rows=2, cols=2, \n",
    "                    subplot_titles=list(medicines.keys()),\n",
    "                    specs=[[{'type': 'polar'}]*2]*2)\n",
    "\n",
    "row_col = [(1,1), (1,2), (2,1), (2,2)]\n",
    "for (medicine, tastes), (row, col) in zip(medicines.items(), row_col):\n",
    "    for dilution in dilution_levels:\n",
    "        med_data = df[(df['Medicine_Name'] == medicine) & \n",
    "                     (df['Dilution_Percent'] == dilution)][['R', 'S', 'T', 'U', 'V', 'W']].mean()\n",
    "        fig.add_trace(\n",
    "            go.Scatterpolar(\n",
    "                r=med_data.values,\n",
    "                theta=['R', 'S', 'T', 'U', 'V', 'W'],\n",
    "                name=f'{dilution}%',\n",
    "                showlegend=(row == 1 and col == 1)\n",
    "            ),\n",
    "            row=row, col=col\n",
    "        )\n",
    "\n",
    "fig.update_layout(\n",
    "    height=800, width=1000,\n",
    "    title_text=\"Medicine Sensor Patterns at Different Dilutions\"\n",
    ")\n",
    "fig.show()\n",
    "\n",
    "# 3. Effectiveness vs Dilution by Medicine\n",
    "effectiveness_by_dilution = df.groupby(['Medicine_Name', 'Dilution_Percent'])['Effectiveness_Score'].mean().reset_index()\n",
    "fig = px.line(effectiveness_by_dilution,\n",
    "              x='Dilution_Percent',\n",
    "              y='Effectiveness_Score',\n",
    "              color='Medicine_Name',\n",
    "              title='Medicine Effectiveness vs Dilution',\n",
    "              labels={'Dilution_Percent': 'Dilution (%)',\n",
    "                     'Effectiveness_Score': 'Effectiveness Score'},\n",
    "              markers=True)\n",
    "fig.show()\n",
    "\n",
    "# 4. Taste Profile Distribution\n",
    "taste_counts = pd.concat([\n",
    "    df['Primary_Taste'].value_counts().rename('Primary'),\n",
    "    df['Secondary_Taste'].value_counts().rename('Secondary')\n",
    "], axis=1).fillna(0)\n",
    "\n",
    "fig = go.Figure(data=[\n",
    "    go.Bar(name='Primary Taste', x=taste_counts.index, y=taste_counts['Primary']),\n",
    "    go.Bar(name='Secondary Taste', x=taste_counts.index, y=taste_counts['Secondary'])\n",
    "])\n",
    "fig.update_layout(\n",
    "    barmode='group',\n",
    "    title='Distribution of Primary and Secondary Tastes',\n",
    "    xaxis_title='Taste',\n",
    "    yaxis_title='Count'\n",
    ")\n",
    "fig.show()\n",
    "\n",
    "# 5. Sensor Response Heatmap\n",
    "sensor_corr = df[['R', 'S', 'T', 'U', 'V', 'W']].corr()\n",
    "fig = px.imshow(sensor_corr,\n",
    "                labels=dict(x=\"Sensor\", y=\"Sensor\", color=\"Correlation\"),\n",
    "                x=sensor_corr.columns,\n",
    "                y=sensor_corr.columns,\n",
    "                title=\"Sensor Cross-Correlation Matrix\",\n",
    "                color_continuous_scale='RdBu',\n",
    "                width=700,\n",
    "                height=700)\n",
    "fig.show()\n",
    "\n",
    "# 6. 3D Scatter Plot of Principal Components by Medicine and Dilution\n",
    "# Prepare data for PCA\n",
    "X = df[['R', 'S', 'T', 'U', 'V', 'W']].values\n",
    "pca = PCA(n_components=3)\n",
    "X_pca = pca.fit_transform(X)\n",
    "\n",
    "fig = go.Figure()\n",
    "\n",
    "for medicine in medicines:\n",
    "    mask = df['Medicine_Name'] == medicine\n",
    "    fig.add_trace(go.Scatter3d(\n",
    "        x=X_pca[mask, 0],\n",
    "        y=X_pca[mask, 1],\n",
    "        z=X_pca[mask, 2],\n",
    "        mode='markers',\n",
    "        name=medicine,\n",
    "        marker=dict(\n",
    "            size=5,\n",
    "            color=df[mask]['Dilution_Percent'],\n",
    "            colorscale='Viridis',\n",
    "            showscale=True if medicine == list(medicines.keys())[0] else False\n",
    "        ),\n",
    "        text=[f\"Dilution: {d}%\" for d in df[mask]['Dilution_Percent']]\n",
    "    ))\n",
    "\n",
    "fig.update_layout(\n",
    "    title='3D PCA Visualization of Medicines and Dilutions',\n",
    "    scene=dict(\n",
    "        xaxis_title='PC1',\n",
    "        yaxis_title='PC2',\n",
    "        zaxis_title='PC3'\n",
    "    ),\n",
    "    width=1000,\n",
    "    height=800\n",
    ")\n",
    "fig.show()\n",
    "\n",
    "# Print explained variance ratio\n",
    "print(\"\\nPCA Explained Variance Ratio:\")\n",
    "print(pd.DataFrame({\n",
    "    'Principal Component': [f'PC{i+1}' for i in range(3)],\n",
    "    'Explained Variance (%)': pca.explained_variance_ratio_ * 100\n",
    "}).to_string(index=False))"
   ]
  },
  {
   "cell_type": "markdown",
   "id": "1eeb55e5",
   "metadata": {},
   "source": [
    "## Detailed Statistical Analysis\n",
    "\n",
    "Let's analyze:\n",
    "1. Statistical summaries by taste profile and dilution\n",
    "2. Channel sensitivity analysis\n",
    "3. Taste-specific correlations\n",
    "4. Dilution impact analysis\n",
    "5. Effect size calculations"
   ]
  },
  {
   "cell_type": "code",
   "execution_count": 8,
   "id": "b83901de",
   "metadata": {},
   "outputs": [
    {
     "name": "stdout",
     "output_type": "stream",
     "text": [
      "Channel Statistics by Primary Taste:\n",
      "     bitter                                    pungent                       \\\n",
      "          R      S      T      U      V      W       R      S      T      U   \n",
      "mean  0.376  0.417  0.535  0.595  0.546  0.459   0.474  0.454  0.464  0.549   \n",
      "std   0.229  0.256  0.337  0.376  0.345  0.286   0.296  0.282  0.287  0.345   \n",
      "min   0.100  0.100  0.100  0.100  0.100  0.100   0.100  0.100  0.100  0.100   \n",
      "max   0.864  0.919  1.137  1.246  1.165  0.969   1.012  0.953  0.987  1.154   \n",
      "\n",
      "                    \n",
      "          V      W  \n",
      "mean  0.553  0.493  \n",
      "std   0.349  0.312  \n",
      "min   0.100  0.100  \n",
      "max   1.142  1.016  \n"
     ]
    },
    {
     "data": {
      "application/vnd.plotly.v1+json": {
       "config": {
        "plotlyServerURL": "https://plot.ly"
       },
       "data": [
        {
         "hovertemplate": "Channel=R<br>Dilution (%)=%{x}<br>Coefficient of Variation=%{y}<extra></extra>",
         "legendgroup": "R",
         "line": {
          "color": "#636efa",
          "dash": "solid"
         },
         "marker": {
          "symbol": "circle"
         },
         "mode": "lines",
         "name": "R",
         "orientation": "v",
         "showlegend": true,
         "type": "scatter",
         "x": {
          "bdata": "ZEsyGQo=",
          "dtype": "i1"
         },
         "xaxis": "x",
         "y": {
          "bdata": "IEGqFYJjwj+ZG5q0r2TBP3MWs64AwME/hG0QOhkzwT8S3WUb+GRzPw==",
          "dtype": "f8"
         },
         "yaxis": "y"
        },
        {
         "hovertemplate": "Channel=S<br>Dilution (%)=%{x}<br>Coefficient of Variation=%{y}<extra></extra>",
         "legendgroup": "S",
         "line": {
          "color": "#EF553B",
          "dash": "solid"
         },
         "marker": {
          "symbol": "circle"
         },
         "mode": "lines",
         "name": "S",
         "orientation": "v",
         "showlegend": true,
         "type": "scatter",
         "x": {
          "bdata": "ZEsyGQo=",
          "dtype": "i1"
         },
         "xaxis": "x",
         "y": {
          "bdata": "2zp1DyuVsT/8cGHUDqSvP+4XBdOPC7M/5WGP+pvlsz/UoUsqyxm0PA==",
          "dtype": "f8"
         },
         "yaxis": "y"
        },
        {
         "hovertemplate": "Channel=T<br>Dilution (%)=%{x}<br>Coefficient of Variation=%{y}<extra></extra>",
         "legendgroup": "T",
         "line": {
          "color": "#00cc96",
          "dash": "solid"
         },
         "marker": {
          "symbol": "circle"
         },
         "mode": "lines",
         "name": "T",
         "orientation": "v",
         "showlegend": true,
         "type": "scatter",
         "x": {
          "bdata": "ZEsyGQo=",
          "dtype": "i1"
         },
         "xaxis": "x",
         "y": {
          "bdata": "fZfvMaN2tT95NXrolJmzP1VJ6zi4ZLQ/k3EGAkc1tT8VPLWM4pmjPw==",
          "dtype": "f8"
         },
         "yaxis": "y"
        },
        {
         "hovertemplate": "Channel=U<br>Dilution (%)=%{x}<br>Coefficient of Variation=%{y}<extra></extra>",
         "legendgroup": "U",
         "line": {
          "color": "#ab63fa",
          "dash": "solid"
         },
         "marker": {
          "symbol": "circle"
         },
         "mode": "lines",
         "name": "U",
         "orientation": "v",
         "showlegend": true,
         "type": "scatter",
         "x": {
          "bdata": "ZEsyGQo=",
          "dtype": "i1"
         },
         "xaxis": "x",
         "y": {
          "bdata": "GrtXBAPjrT8/jbTsxzewP9RQByOxUa0/Y0rySBSrqz8uxF2HC1SuPw==",
          "dtype": "f8"
         },
         "yaxis": "y"
        },
        {
         "hovertemplate": "Channel=V<br>Dilution (%)=%{x}<br>Coefficient of Variation=%{y}<extra></extra>",
         "legendgroup": "V",
         "line": {
          "color": "#FFA15A",
          "dash": "solid"
         },
         "marker": {
          "symbol": "circle"
         },
         "mode": "lines",
         "name": "V",
         "orientation": "v",
         "showlegend": true,
         "type": "scatter",
         "x": {
          "bdata": "ZEsyGQo=",
          "dtype": "i1"
         },
         "xaxis": "x",
         "y": {
          "bdata": "+byKTBY5qD/3P/xSGXGuP9CCRsyZOKs/lhqZf+raqT8Id6InzoKnPw==",
          "dtype": "f8"
         },
         "yaxis": "y"
        },
        {
         "hovertemplate": "Channel=W<br>Dilution (%)=%{x}<br>Coefficient of Variation=%{y}<extra></extra>",
         "legendgroup": "W",
         "line": {
          "color": "#19d3f3",
          "dash": "solid"
         },
         "marker": {
          "symbol": "circle"
         },
         "mode": "lines",
         "name": "W",
         "orientation": "v",
         "showlegend": true,
         "type": "scatter",
         "x": {
          "bdata": "ZEsyGQo=",
          "dtype": "i1"
         },
         "xaxis": "x",
         "y": {
          "bdata": "P3oZ1CcerD9bc5yFeEiwPxO3/ZeiHK0/PhAEIlu+rD/KlYMlmjp6Pw==",
          "dtype": "f8"
         },
         "yaxis": "y"
        }
       ],
       "layout": {
        "legend": {
         "title": {
          "text": "Channel"
         },
         "tracegroupgap": 0
        },
        "template": {
         "data": {
          "bar": [
           {
            "error_x": {
             "color": "#2a3f5f"
            },
            "error_y": {
             "color": "#2a3f5f"
            },
            "marker": {
             "line": {
              "color": "#E5ECF6",
              "width": 0.5
             },
             "pattern": {
              "fillmode": "overlay",
              "size": 10,
              "solidity": 0.2
             }
            },
            "type": "bar"
           }
          ],
          "barpolar": [
           {
            "marker": {
             "line": {
              "color": "#E5ECF6",
              "width": 0.5
             },
             "pattern": {
              "fillmode": "overlay",
              "size": 10,
              "solidity": 0.2
             }
            },
            "type": "barpolar"
           }
          ],
          "carpet": [
           {
            "aaxis": {
             "endlinecolor": "#2a3f5f",
             "gridcolor": "white",
             "linecolor": "white",
             "minorgridcolor": "white",
             "startlinecolor": "#2a3f5f"
            },
            "baxis": {
             "endlinecolor": "#2a3f5f",
             "gridcolor": "white",
             "linecolor": "white",
             "minorgridcolor": "white",
             "startlinecolor": "#2a3f5f"
            },
            "type": "carpet"
           }
          ],
          "choropleth": [
           {
            "colorbar": {
             "outlinewidth": 0,
             "ticks": ""
            },
            "type": "choropleth"
           }
          ],
          "contour": [
           {
            "colorbar": {
             "outlinewidth": 0,
             "ticks": ""
            },
            "colorscale": [
             [
              0,
              "#0d0887"
             ],
             [
              0.1111111111111111,
              "#46039f"
             ],
             [
              0.2222222222222222,
              "#7201a8"
             ],
             [
              0.3333333333333333,
              "#9c179e"
             ],
             [
              0.4444444444444444,
              "#bd3786"
             ],
             [
              0.5555555555555556,
              "#d8576b"
             ],
             [
              0.6666666666666666,
              "#ed7953"
             ],
             [
              0.7777777777777778,
              "#fb9f3a"
             ],
             [
              0.8888888888888888,
              "#fdca26"
             ],
             [
              1,
              "#f0f921"
             ]
            ],
            "type": "contour"
           }
          ],
          "contourcarpet": [
           {
            "colorbar": {
             "outlinewidth": 0,
             "ticks": ""
            },
            "type": "contourcarpet"
           }
          ],
          "heatmap": [
           {
            "colorbar": {
             "outlinewidth": 0,
             "ticks": ""
            },
            "colorscale": [
             [
              0,
              "#0d0887"
             ],
             [
              0.1111111111111111,
              "#46039f"
             ],
             [
              0.2222222222222222,
              "#7201a8"
             ],
             [
              0.3333333333333333,
              "#9c179e"
             ],
             [
              0.4444444444444444,
              "#bd3786"
             ],
             [
              0.5555555555555556,
              "#d8576b"
             ],
             [
              0.6666666666666666,
              "#ed7953"
             ],
             [
              0.7777777777777778,
              "#fb9f3a"
             ],
             [
              0.8888888888888888,
              "#fdca26"
             ],
             [
              1,
              "#f0f921"
             ]
            ],
            "type": "heatmap"
           }
          ],
          "histogram": [
           {
            "marker": {
             "pattern": {
              "fillmode": "overlay",
              "size": 10,
              "solidity": 0.2
             }
            },
            "type": "histogram"
           }
          ],
          "histogram2d": [
           {
            "colorbar": {
             "outlinewidth": 0,
             "ticks": ""
            },
            "colorscale": [
             [
              0,
              "#0d0887"
             ],
             [
              0.1111111111111111,
              "#46039f"
             ],
             [
              0.2222222222222222,
              "#7201a8"
             ],
             [
              0.3333333333333333,
              "#9c179e"
             ],
             [
              0.4444444444444444,
              "#bd3786"
             ],
             [
              0.5555555555555556,
              "#d8576b"
             ],
             [
              0.6666666666666666,
              "#ed7953"
             ],
             [
              0.7777777777777778,
              "#fb9f3a"
             ],
             [
              0.8888888888888888,
              "#fdca26"
             ],
             [
              1,
              "#f0f921"
             ]
            ],
            "type": "histogram2d"
           }
          ],
          "histogram2dcontour": [
           {
            "colorbar": {
             "outlinewidth": 0,
             "ticks": ""
            },
            "colorscale": [
             [
              0,
              "#0d0887"
             ],
             [
              0.1111111111111111,
              "#46039f"
             ],
             [
              0.2222222222222222,
              "#7201a8"
             ],
             [
              0.3333333333333333,
              "#9c179e"
             ],
             [
              0.4444444444444444,
              "#bd3786"
             ],
             [
              0.5555555555555556,
              "#d8576b"
             ],
             [
              0.6666666666666666,
              "#ed7953"
             ],
             [
              0.7777777777777778,
              "#fb9f3a"
             ],
             [
              0.8888888888888888,
              "#fdca26"
             ],
             [
              1,
              "#f0f921"
             ]
            ],
            "type": "histogram2dcontour"
           }
          ],
          "mesh3d": [
           {
            "colorbar": {
             "outlinewidth": 0,
             "ticks": ""
            },
            "type": "mesh3d"
           }
          ],
          "parcoords": [
           {
            "line": {
             "colorbar": {
              "outlinewidth": 0,
              "ticks": ""
             }
            },
            "type": "parcoords"
           }
          ],
          "pie": [
           {
            "automargin": true,
            "type": "pie"
           }
          ],
          "scatter": [
           {
            "fillpattern": {
             "fillmode": "overlay",
             "size": 10,
             "solidity": 0.2
            },
            "type": "scatter"
           }
          ],
          "scatter3d": [
           {
            "line": {
             "colorbar": {
              "outlinewidth": 0,
              "ticks": ""
             }
            },
            "marker": {
             "colorbar": {
              "outlinewidth": 0,
              "ticks": ""
             }
            },
            "type": "scatter3d"
           }
          ],
          "scattercarpet": [
           {
            "marker": {
             "colorbar": {
              "outlinewidth": 0,
              "ticks": ""
             }
            },
            "type": "scattercarpet"
           }
          ],
          "scattergeo": [
           {
            "marker": {
             "colorbar": {
              "outlinewidth": 0,
              "ticks": ""
             }
            },
            "type": "scattergeo"
           }
          ],
          "scattergl": [
           {
            "marker": {
             "colorbar": {
              "outlinewidth": 0,
              "ticks": ""
             }
            },
            "type": "scattergl"
           }
          ],
          "scattermap": [
           {
            "marker": {
             "colorbar": {
              "outlinewidth": 0,
              "ticks": ""
             }
            },
            "type": "scattermap"
           }
          ],
          "scattermapbox": [
           {
            "marker": {
             "colorbar": {
              "outlinewidth": 0,
              "ticks": ""
             }
            },
            "type": "scattermapbox"
           }
          ],
          "scatterpolar": [
           {
            "marker": {
             "colorbar": {
              "outlinewidth": 0,
              "ticks": ""
             }
            },
            "type": "scatterpolar"
           }
          ],
          "scatterpolargl": [
           {
            "marker": {
             "colorbar": {
              "outlinewidth": 0,
              "ticks": ""
             }
            },
            "type": "scatterpolargl"
           }
          ],
          "scatterternary": [
           {
            "marker": {
             "colorbar": {
              "outlinewidth": 0,
              "ticks": ""
             }
            },
            "type": "scatterternary"
           }
          ],
          "surface": [
           {
            "colorbar": {
             "outlinewidth": 0,
             "ticks": ""
            },
            "colorscale": [
             [
              0,
              "#0d0887"
             ],
             [
              0.1111111111111111,
              "#46039f"
             ],
             [
              0.2222222222222222,
              "#7201a8"
             ],
             [
              0.3333333333333333,
              "#9c179e"
             ],
             [
              0.4444444444444444,
              "#bd3786"
             ],
             [
              0.5555555555555556,
              "#d8576b"
             ],
             [
              0.6666666666666666,
              "#ed7953"
             ],
             [
              0.7777777777777778,
              "#fb9f3a"
             ],
             [
              0.8888888888888888,
              "#fdca26"
             ],
             [
              1,
              "#f0f921"
             ]
            ],
            "type": "surface"
           }
          ],
          "table": [
           {
            "cells": {
             "fill": {
              "color": "#EBF0F8"
             },
             "line": {
              "color": "white"
             }
            },
            "header": {
             "fill": {
              "color": "#C8D4E3"
             },
             "line": {
              "color": "white"
             }
            },
            "type": "table"
           }
          ]
         },
         "layout": {
          "annotationdefaults": {
           "arrowcolor": "#2a3f5f",
           "arrowhead": 0,
           "arrowwidth": 1
          },
          "autotypenumbers": "strict",
          "coloraxis": {
           "colorbar": {
            "outlinewidth": 0,
            "ticks": ""
           }
          },
          "colorscale": {
           "diverging": [
            [
             0,
             "#8e0152"
            ],
            [
             0.1,
             "#c51b7d"
            ],
            [
             0.2,
             "#de77ae"
            ],
            [
             0.3,
             "#f1b6da"
            ],
            [
             0.4,
             "#fde0ef"
            ],
            [
             0.5,
             "#f7f7f7"
            ],
            [
             0.6,
             "#e6f5d0"
            ],
            [
             0.7,
             "#b8e186"
            ],
            [
             0.8,
             "#7fbc41"
            ],
            [
             0.9,
             "#4d9221"
            ],
            [
             1,
             "#276419"
            ]
           ],
           "sequential": [
            [
             0,
             "#0d0887"
            ],
            [
             0.1111111111111111,
             "#46039f"
            ],
            [
             0.2222222222222222,
             "#7201a8"
            ],
            [
             0.3333333333333333,
             "#9c179e"
            ],
            [
             0.4444444444444444,
             "#bd3786"
            ],
            [
             0.5555555555555556,
             "#d8576b"
            ],
            [
             0.6666666666666666,
             "#ed7953"
            ],
            [
             0.7777777777777778,
             "#fb9f3a"
            ],
            [
             0.8888888888888888,
             "#fdca26"
            ],
            [
             1,
             "#f0f921"
            ]
           ],
           "sequentialminus": [
            [
             0,
             "#0d0887"
            ],
            [
             0.1111111111111111,
             "#46039f"
            ],
            [
             0.2222222222222222,
             "#7201a8"
            ],
            [
             0.3333333333333333,
             "#9c179e"
            ],
            [
             0.4444444444444444,
             "#bd3786"
            ],
            [
             0.5555555555555556,
             "#d8576b"
            ],
            [
             0.6666666666666666,
             "#ed7953"
            ],
            [
             0.7777777777777778,
             "#fb9f3a"
            ],
            [
             0.8888888888888888,
             "#fdca26"
            ],
            [
             1,
             "#f0f921"
            ]
           ]
          },
          "colorway": [
           "#636efa",
           "#EF553B",
           "#00cc96",
           "#ab63fa",
           "#FFA15A",
           "#19d3f3",
           "#FF6692",
           "#B6E880",
           "#FF97FF",
           "#FECB52"
          ],
          "font": {
           "color": "#2a3f5f"
          },
          "geo": {
           "bgcolor": "white",
           "lakecolor": "white",
           "landcolor": "#E5ECF6",
           "showlakes": true,
           "showland": true,
           "subunitcolor": "white"
          },
          "hoverlabel": {
           "align": "left"
          },
          "hovermode": "closest",
          "mapbox": {
           "style": "light"
          },
          "paper_bgcolor": "white",
          "plot_bgcolor": "#E5ECF6",
          "polar": {
           "angularaxis": {
            "gridcolor": "white",
            "linecolor": "white",
            "ticks": ""
           },
           "bgcolor": "#E5ECF6",
           "radialaxis": {
            "gridcolor": "white",
            "linecolor": "white",
            "ticks": ""
           }
          },
          "scene": {
           "xaxis": {
            "backgroundcolor": "#E5ECF6",
            "gridcolor": "white",
            "gridwidth": 2,
            "linecolor": "white",
            "showbackground": true,
            "ticks": "",
            "zerolinecolor": "white"
           },
           "yaxis": {
            "backgroundcolor": "#E5ECF6",
            "gridcolor": "white",
            "gridwidth": 2,
            "linecolor": "white",
            "showbackground": true,
            "ticks": "",
            "zerolinecolor": "white"
           },
           "zaxis": {
            "backgroundcolor": "#E5ECF6",
            "gridcolor": "white",
            "gridwidth": 2,
            "linecolor": "white",
            "showbackground": true,
            "ticks": "",
            "zerolinecolor": "white"
           }
          },
          "shapedefaults": {
           "line": {
            "color": "#2a3f5f"
           }
          },
          "ternary": {
           "aaxis": {
            "gridcolor": "white",
            "linecolor": "white",
            "ticks": ""
           },
           "baxis": {
            "gridcolor": "white",
            "linecolor": "white",
            "ticks": ""
           },
           "bgcolor": "#E5ECF6",
           "caxis": {
            "gridcolor": "white",
            "linecolor": "white",
            "ticks": ""
           }
          },
          "title": {
           "x": 0.05
          },
          "xaxis": {
           "automargin": true,
           "gridcolor": "white",
           "linecolor": "white",
           "ticks": "",
           "title": {
            "standoff": 15
           },
           "zerolinecolor": "white",
           "zerolinewidth": 2
          },
          "yaxis": {
           "automargin": true,
           "gridcolor": "white",
           "linecolor": "white",
           "ticks": "",
           "title": {
            "standoff": 15
           },
           "zerolinecolor": "white",
           "zerolinewidth": 2
          }
         }
        },
        "title": {
         "text": "Channel Sensitivity vs Dilution"
        },
        "xaxis": {
         "anchor": "y",
         "domain": [
          0,
          1
         ],
         "title": {
          "text": "Dilution (%)"
         }
        },
        "yaxis": {
         "anchor": "x",
         "domain": [
          0,
          1
         ],
         "title": {
          "text": "Coefficient of Variation"
         }
        }
       }
      }
     },
     "metadata": {},
     "output_type": "display_data"
    },
    {
     "name": "stdout",
     "output_type": "stream",
     "text": [
      "\n",
      "Correlations for Bitter Taste:\n"
     ]
    },
    {
     "data": {
      "application/vnd.plotly.v1+json": {
       "config": {
        "plotlyServerURL": "https://plot.ly"
       },
       "data": [
        {
         "coloraxis": "coloraxis",
         "hovertemplate": "Channel: %{x}<br>Channel: %{y}<br>Correlation: %{z}<extra></extra>",
         "name": "0",
         "type": "heatmap",
         "x": [
          "R",
          "S",
          "T",
          "U",
          "V",
          "W"
         ],
         "xaxis": "x",
         "y": [
          "R",
          "S",
          "T",
          "U",
          "V",
          "W"
         ],
         "yaxis": "y",
         "z": {
          "bdata": "AAAAAAAA8D9EnTb625PvP6/E1XMWJ+8/29C3Mpdd7z+Snzz4xinvP41ShBqtJe8/RJ02+tuT7z8AAAAAAADwP8KSARNHnu8/H9NU+zO27z9qWw+ScKLvP0Qr5t7+mu8/r8TVcxYn7z/CkgETR57vPwAAAAAAAPA/Wglx4v+57z+1GC90vbvvP1fCYPERuu8/29C3Mpdd7z8f01T7M7bvP1oJceL/ue8/AAAAAAAA8D+slJTl17bvP6l7ejwYv+8/kp88+MYp7z9qWw+ScKLvP7UYL3S9u+8/rJSU5de27z8AAAAAAADwP/i6J0r1su8/jVKEGq0l7z9EK+be/prvP1fCYPERuu8/qXt6PBi/7z/4uidK9bLvPwAAAAAAAPA/",
          "dtype": "f8",
          "shape": "6, 6"
         }
        }
       ],
       "layout": {
        "coloraxis": {
         "colorbar": {
          "title": {
           "text": "Correlation"
          }
         },
         "colorscale": [
          [
           0,
           "rgb(103,0,31)"
          ],
          [
           0.1,
           "rgb(178,24,43)"
          ],
          [
           0.2,
           "rgb(214,96,77)"
          ],
          [
           0.3,
           "rgb(244,165,130)"
          ],
          [
           0.4,
           "rgb(253,219,199)"
          ],
          [
           0.5,
           "rgb(247,247,247)"
          ],
          [
           0.6,
           "rgb(209,229,240)"
          ],
          [
           0.7,
           "rgb(146,197,222)"
          ],
          [
           0.8,
           "rgb(67,147,195)"
          ],
          [
           0.9,
           "rgb(33,102,172)"
          ],
          [
           1,
           "rgb(5,48,97)"
          ]
         ]
        },
        "template": {
         "data": {
          "bar": [
           {
            "error_x": {
             "color": "#2a3f5f"
            },
            "error_y": {
             "color": "#2a3f5f"
            },
            "marker": {
             "line": {
              "color": "#E5ECF6",
              "width": 0.5
             },
             "pattern": {
              "fillmode": "overlay",
              "size": 10,
              "solidity": 0.2
             }
            },
            "type": "bar"
           }
          ],
          "barpolar": [
           {
            "marker": {
             "line": {
              "color": "#E5ECF6",
              "width": 0.5
             },
             "pattern": {
              "fillmode": "overlay",
              "size": 10,
              "solidity": 0.2
             }
            },
            "type": "barpolar"
           }
          ],
          "carpet": [
           {
            "aaxis": {
             "endlinecolor": "#2a3f5f",
             "gridcolor": "white",
             "linecolor": "white",
             "minorgridcolor": "white",
             "startlinecolor": "#2a3f5f"
            },
            "baxis": {
             "endlinecolor": "#2a3f5f",
             "gridcolor": "white",
             "linecolor": "white",
             "minorgridcolor": "white",
             "startlinecolor": "#2a3f5f"
            },
            "type": "carpet"
           }
          ],
          "choropleth": [
           {
            "colorbar": {
             "outlinewidth": 0,
             "ticks": ""
            },
            "type": "choropleth"
           }
          ],
          "contour": [
           {
            "colorbar": {
             "outlinewidth": 0,
             "ticks": ""
            },
            "colorscale": [
             [
              0,
              "#0d0887"
             ],
             [
              0.1111111111111111,
              "#46039f"
             ],
             [
              0.2222222222222222,
              "#7201a8"
             ],
             [
              0.3333333333333333,
              "#9c179e"
             ],
             [
              0.4444444444444444,
              "#bd3786"
             ],
             [
              0.5555555555555556,
              "#d8576b"
             ],
             [
              0.6666666666666666,
              "#ed7953"
             ],
             [
              0.7777777777777778,
              "#fb9f3a"
             ],
             [
              0.8888888888888888,
              "#fdca26"
             ],
             [
              1,
              "#f0f921"
             ]
            ],
            "type": "contour"
           }
          ],
          "contourcarpet": [
           {
            "colorbar": {
             "outlinewidth": 0,
             "ticks": ""
            },
            "type": "contourcarpet"
           }
          ],
          "heatmap": [
           {
            "colorbar": {
             "outlinewidth": 0,
             "ticks": ""
            },
            "colorscale": [
             [
              0,
              "#0d0887"
             ],
             [
              0.1111111111111111,
              "#46039f"
             ],
             [
              0.2222222222222222,
              "#7201a8"
             ],
             [
              0.3333333333333333,
              "#9c179e"
             ],
             [
              0.4444444444444444,
              "#bd3786"
             ],
             [
              0.5555555555555556,
              "#d8576b"
             ],
             [
              0.6666666666666666,
              "#ed7953"
             ],
             [
              0.7777777777777778,
              "#fb9f3a"
             ],
             [
              0.8888888888888888,
              "#fdca26"
             ],
             [
              1,
              "#f0f921"
             ]
            ],
            "type": "heatmap"
           }
          ],
          "histogram": [
           {
            "marker": {
             "pattern": {
              "fillmode": "overlay",
              "size": 10,
              "solidity": 0.2
             }
            },
            "type": "histogram"
           }
          ],
          "histogram2d": [
           {
            "colorbar": {
             "outlinewidth": 0,
             "ticks": ""
            },
            "colorscale": [
             [
              0,
              "#0d0887"
             ],
             [
              0.1111111111111111,
              "#46039f"
             ],
             [
              0.2222222222222222,
              "#7201a8"
             ],
             [
              0.3333333333333333,
              "#9c179e"
             ],
             [
              0.4444444444444444,
              "#bd3786"
             ],
             [
              0.5555555555555556,
              "#d8576b"
             ],
             [
              0.6666666666666666,
              "#ed7953"
             ],
             [
              0.7777777777777778,
              "#fb9f3a"
             ],
             [
              0.8888888888888888,
              "#fdca26"
             ],
             [
              1,
              "#f0f921"
             ]
            ],
            "type": "histogram2d"
           }
          ],
          "histogram2dcontour": [
           {
            "colorbar": {
             "outlinewidth": 0,
             "ticks": ""
            },
            "colorscale": [
             [
              0,
              "#0d0887"
             ],
             [
              0.1111111111111111,
              "#46039f"
             ],
             [
              0.2222222222222222,
              "#7201a8"
             ],
             [
              0.3333333333333333,
              "#9c179e"
             ],
             [
              0.4444444444444444,
              "#bd3786"
             ],
             [
              0.5555555555555556,
              "#d8576b"
             ],
             [
              0.6666666666666666,
              "#ed7953"
             ],
             [
              0.7777777777777778,
              "#fb9f3a"
             ],
             [
              0.8888888888888888,
              "#fdca26"
             ],
             [
              1,
              "#f0f921"
             ]
            ],
            "type": "histogram2dcontour"
           }
          ],
          "mesh3d": [
           {
            "colorbar": {
             "outlinewidth": 0,
             "ticks": ""
            },
            "type": "mesh3d"
           }
          ],
          "parcoords": [
           {
            "line": {
             "colorbar": {
              "outlinewidth": 0,
              "ticks": ""
             }
            },
            "type": "parcoords"
           }
          ],
          "pie": [
           {
            "automargin": true,
            "type": "pie"
           }
          ],
          "scatter": [
           {
            "fillpattern": {
             "fillmode": "overlay",
             "size": 10,
             "solidity": 0.2
            },
            "type": "scatter"
           }
          ],
          "scatter3d": [
           {
            "line": {
             "colorbar": {
              "outlinewidth": 0,
              "ticks": ""
             }
            },
            "marker": {
             "colorbar": {
              "outlinewidth": 0,
              "ticks": ""
             }
            },
            "type": "scatter3d"
           }
          ],
          "scattercarpet": [
           {
            "marker": {
             "colorbar": {
              "outlinewidth": 0,
              "ticks": ""
             }
            },
            "type": "scattercarpet"
           }
          ],
          "scattergeo": [
           {
            "marker": {
             "colorbar": {
              "outlinewidth": 0,
              "ticks": ""
             }
            },
            "type": "scattergeo"
           }
          ],
          "scattergl": [
           {
            "marker": {
             "colorbar": {
              "outlinewidth": 0,
              "ticks": ""
             }
            },
            "type": "scattergl"
           }
          ],
          "scattermap": [
           {
            "marker": {
             "colorbar": {
              "outlinewidth": 0,
              "ticks": ""
             }
            },
            "type": "scattermap"
           }
          ],
          "scattermapbox": [
           {
            "marker": {
             "colorbar": {
              "outlinewidth": 0,
              "ticks": ""
             }
            },
            "type": "scattermapbox"
           }
          ],
          "scatterpolar": [
           {
            "marker": {
             "colorbar": {
              "outlinewidth": 0,
              "ticks": ""
             }
            },
            "type": "scatterpolar"
           }
          ],
          "scatterpolargl": [
           {
            "marker": {
             "colorbar": {
              "outlinewidth": 0,
              "ticks": ""
             }
            },
            "type": "scatterpolargl"
           }
          ],
          "scatterternary": [
           {
            "marker": {
             "colorbar": {
              "outlinewidth": 0,
              "ticks": ""
             }
            },
            "type": "scatterternary"
           }
          ],
          "surface": [
           {
            "colorbar": {
             "outlinewidth": 0,
             "ticks": ""
            },
            "colorscale": [
             [
              0,
              "#0d0887"
             ],
             [
              0.1111111111111111,
              "#46039f"
             ],
             [
              0.2222222222222222,
              "#7201a8"
             ],
             [
              0.3333333333333333,
              "#9c179e"
             ],
             [
              0.4444444444444444,
              "#bd3786"
             ],
             [
              0.5555555555555556,
              "#d8576b"
             ],
             [
              0.6666666666666666,
              "#ed7953"
             ],
             [
              0.7777777777777778,
              "#fb9f3a"
             ],
             [
              0.8888888888888888,
              "#fdca26"
             ],
             [
              1,
              "#f0f921"
             ]
            ],
            "type": "surface"
           }
          ],
          "table": [
           {
            "cells": {
             "fill": {
              "color": "#EBF0F8"
             },
             "line": {
              "color": "white"
             }
            },
            "header": {
             "fill": {
              "color": "#C8D4E3"
             },
             "line": {
              "color": "white"
             }
            },
            "type": "table"
           }
          ]
         },
         "layout": {
          "annotationdefaults": {
           "arrowcolor": "#2a3f5f",
           "arrowhead": 0,
           "arrowwidth": 1
          },
          "autotypenumbers": "strict",
          "coloraxis": {
           "colorbar": {
            "outlinewidth": 0,
            "ticks": ""
           }
          },
          "colorscale": {
           "diverging": [
            [
             0,
             "#8e0152"
            ],
            [
             0.1,
             "#c51b7d"
            ],
            [
             0.2,
             "#de77ae"
            ],
            [
             0.3,
             "#f1b6da"
            ],
            [
             0.4,
             "#fde0ef"
            ],
            [
             0.5,
             "#f7f7f7"
            ],
            [
             0.6,
             "#e6f5d0"
            ],
            [
             0.7,
             "#b8e186"
            ],
            [
             0.8,
             "#7fbc41"
            ],
            [
             0.9,
             "#4d9221"
            ],
            [
             1,
             "#276419"
            ]
           ],
           "sequential": [
            [
             0,
             "#0d0887"
            ],
            [
             0.1111111111111111,
             "#46039f"
            ],
            [
             0.2222222222222222,
             "#7201a8"
            ],
            [
             0.3333333333333333,
             "#9c179e"
            ],
            [
             0.4444444444444444,
             "#bd3786"
            ],
            [
             0.5555555555555556,
             "#d8576b"
            ],
            [
             0.6666666666666666,
             "#ed7953"
            ],
            [
             0.7777777777777778,
             "#fb9f3a"
            ],
            [
             0.8888888888888888,
             "#fdca26"
            ],
            [
             1,
             "#f0f921"
            ]
           ],
           "sequentialminus": [
            [
             0,
             "#0d0887"
            ],
            [
             0.1111111111111111,
             "#46039f"
            ],
            [
             0.2222222222222222,
             "#7201a8"
            ],
            [
             0.3333333333333333,
             "#9c179e"
            ],
            [
             0.4444444444444444,
             "#bd3786"
            ],
            [
             0.5555555555555556,
             "#d8576b"
            ],
            [
             0.6666666666666666,
             "#ed7953"
            ],
            [
             0.7777777777777778,
             "#fb9f3a"
            ],
            [
             0.8888888888888888,
             "#fdca26"
            ],
            [
             1,
             "#f0f921"
            ]
           ]
          },
          "colorway": [
           "#636efa",
           "#EF553B",
           "#00cc96",
           "#ab63fa",
           "#FFA15A",
           "#19d3f3",
           "#FF6692",
           "#B6E880",
           "#FF97FF",
           "#FECB52"
          ],
          "font": {
           "color": "#2a3f5f"
          },
          "geo": {
           "bgcolor": "white",
           "lakecolor": "white",
           "landcolor": "#E5ECF6",
           "showlakes": true,
           "showland": true,
           "subunitcolor": "white"
          },
          "hoverlabel": {
           "align": "left"
          },
          "hovermode": "closest",
          "mapbox": {
           "style": "light"
          },
          "paper_bgcolor": "white",
          "plot_bgcolor": "#E5ECF6",
          "polar": {
           "angularaxis": {
            "gridcolor": "white",
            "linecolor": "white",
            "ticks": ""
           },
           "bgcolor": "#E5ECF6",
           "radialaxis": {
            "gridcolor": "white",
            "linecolor": "white",
            "ticks": ""
           }
          },
          "scene": {
           "xaxis": {
            "backgroundcolor": "#E5ECF6",
            "gridcolor": "white",
            "gridwidth": 2,
            "linecolor": "white",
            "showbackground": true,
            "ticks": "",
            "zerolinecolor": "white"
           },
           "yaxis": {
            "backgroundcolor": "#E5ECF6",
            "gridcolor": "white",
            "gridwidth": 2,
            "linecolor": "white",
            "showbackground": true,
            "ticks": "",
            "zerolinecolor": "white"
           },
           "zaxis": {
            "backgroundcolor": "#E5ECF6",
            "gridcolor": "white",
            "gridwidth": 2,
            "linecolor": "white",
            "showbackground": true,
            "ticks": "",
            "zerolinecolor": "white"
           }
          },
          "shapedefaults": {
           "line": {
            "color": "#2a3f5f"
           }
          },
          "ternary": {
           "aaxis": {
            "gridcolor": "white",
            "linecolor": "white",
            "ticks": ""
           },
           "baxis": {
            "gridcolor": "white",
            "linecolor": "white",
            "ticks": ""
           },
           "bgcolor": "#E5ECF6",
           "caxis": {
            "gridcolor": "white",
            "linecolor": "white",
            "ticks": ""
           }
          },
          "title": {
           "x": 0.05
          },
          "xaxis": {
           "automargin": true,
           "gridcolor": "white",
           "linecolor": "white",
           "ticks": "",
           "title": {
            "standoff": 15
           },
           "zerolinecolor": "white",
           "zerolinewidth": 2
          },
          "yaxis": {
           "automargin": true,
           "gridcolor": "white",
           "linecolor": "white",
           "ticks": "",
           "title": {
            "standoff": 15
           },
           "zerolinecolor": "white",
           "zerolinewidth": 2
          }
         }
        },
        "title": {
         "text": "Channel Correlations for Bitter Taste"
        },
        "xaxis": {
         "anchor": "y",
         "constrain": "domain",
         "domain": [
          0,
          1
         ],
         "scaleanchor": "y",
         "title": {
          "text": "Channel"
         }
        },
        "yaxis": {
         "anchor": "x",
         "autorange": "reversed",
         "constrain": "domain",
         "domain": [
          0,
          1
         ],
         "title": {
          "text": "Channel"
         }
        }
       }
      }
     },
     "metadata": {},
     "output_type": "display_data"
    },
    {
     "name": "stdout",
     "output_type": "stream",
     "text": [
      "\n",
      "Correlations for Pungent Taste:\n"
     ]
    },
    {
     "data": {
      "application/vnd.plotly.v1+json": {
       "config": {
        "plotlyServerURL": "https://plot.ly"
       },
       "data": [
        {
         "coloraxis": "coloraxis",
         "hovertemplate": "Channel: %{x}<br>Channel: %{y}<br>Correlation: %{z}<extra></extra>",
         "name": "0",
         "type": "heatmap",
         "x": [
          "R",
          "S",
          "T",
          "U",
          "V",
          "W"
         ],
         "xaxis": "x",
         "y": [
          "R",
          "S",
          "T",
          "U",
          "V",
          "W"
         ],
         "yaxis": "y",
         "z": {
          "bdata": "AAAAAAAA8D8vvS8fm8HvP+4JHHqLu+8/bjTM0kG67z9mVnwN16bvPwGFW/B+we8/L70vH5vB7z8AAAAAAADwP3ukpV9+su8/I++FKB237z+D7FRQmqbvPwZLgOXor+8/7gkceou77z97pKVffrLvPwAAAAAAAPA/SBx+cZut7z+J6Va7Zr/vP5bhvBnnvu8/bjTM0kG67z8j74UoHbfvP0gcfnGbre8/AAAAAAAA8D+ixagTJbfvP65Qw3U8wu8/ZlZ8Ddem7z+D7FRQmqbvP4npVrtmv+8/osWoEyW37z8AAAAAAADwP2X3bO/4we8/AYVb8H7B7z8GS4Dl6K/vP5bhvBnnvu8/rlDDdTzC7z9l92zv+MHvPwAAAAAAAPA/",
          "dtype": "f8",
          "shape": "6, 6"
         }
        }
       ],
       "layout": {
        "coloraxis": {
         "colorbar": {
          "title": {
           "text": "Correlation"
          }
         },
         "colorscale": [
          [
           0,
           "rgb(103,0,31)"
          ],
          [
           0.1,
           "rgb(178,24,43)"
          ],
          [
           0.2,
           "rgb(214,96,77)"
          ],
          [
           0.3,
           "rgb(244,165,130)"
          ],
          [
           0.4,
           "rgb(253,219,199)"
          ],
          [
           0.5,
           "rgb(247,247,247)"
          ],
          [
           0.6,
           "rgb(209,229,240)"
          ],
          [
           0.7,
           "rgb(146,197,222)"
          ],
          [
           0.8,
           "rgb(67,147,195)"
          ],
          [
           0.9,
           "rgb(33,102,172)"
          ],
          [
           1,
           "rgb(5,48,97)"
          ]
         ]
        },
        "template": {
         "data": {
          "bar": [
           {
            "error_x": {
             "color": "#2a3f5f"
            },
            "error_y": {
             "color": "#2a3f5f"
            },
            "marker": {
             "line": {
              "color": "#E5ECF6",
              "width": 0.5
             },
             "pattern": {
              "fillmode": "overlay",
              "size": 10,
              "solidity": 0.2
             }
            },
            "type": "bar"
           }
          ],
          "barpolar": [
           {
            "marker": {
             "line": {
              "color": "#E5ECF6",
              "width": 0.5
             },
             "pattern": {
              "fillmode": "overlay",
              "size": 10,
              "solidity": 0.2
             }
            },
            "type": "barpolar"
           }
          ],
          "carpet": [
           {
            "aaxis": {
             "endlinecolor": "#2a3f5f",
             "gridcolor": "white",
             "linecolor": "white",
             "minorgridcolor": "white",
             "startlinecolor": "#2a3f5f"
            },
            "baxis": {
             "endlinecolor": "#2a3f5f",
             "gridcolor": "white",
             "linecolor": "white",
             "minorgridcolor": "white",
             "startlinecolor": "#2a3f5f"
            },
            "type": "carpet"
           }
          ],
          "choropleth": [
           {
            "colorbar": {
             "outlinewidth": 0,
             "ticks": ""
            },
            "type": "choropleth"
           }
          ],
          "contour": [
           {
            "colorbar": {
             "outlinewidth": 0,
             "ticks": ""
            },
            "colorscale": [
             [
              0,
              "#0d0887"
             ],
             [
              0.1111111111111111,
              "#46039f"
             ],
             [
              0.2222222222222222,
              "#7201a8"
             ],
             [
              0.3333333333333333,
              "#9c179e"
             ],
             [
              0.4444444444444444,
              "#bd3786"
             ],
             [
              0.5555555555555556,
              "#d8576b"
             ],
             [
              0.6666666666666666,
              "#ed7953"
             ],
             [
              0.7777777777777778,
              "#fb9f3a"
             ],
             [
              0.8888888888888888,
              "#fdca26"
             ],
             [
              1,
              "#f0f921"
             ]
            ],
            "type": "contour"
           }
          ],
          "contourcarpet": [
           {
            "colorbar": {
             "outlinewidth": 0,
             "ticks": ""
            },
            "type": "contourcarpet"
           }
          ],
          "heatmap": [
           {
            "colorbar": {
             "outlinewidth": 0,
             "ticks": ""
            },
            "colorscale": [
             [
              0,
              "#0d0887"
             ],
             [
              0.1111111111111111,
              "#46039f"
             ],
             [
              0.2222222222222222,
              "#7201a8"
             ],
             [
              0.3333333333333333,
              "#9c179e"
             ],
             [
              0.4444444444444444,
              "#bd3786"
             ],
             [
              0.5555555555555556,
              "#d8576b"
             ],
             [
              0.6666666666666666,
              "#ed7953"
             ],
             [
              0.7777777777777778,
              "#fb9f3a"
             ],
             [
              0.8888888888888888,
              "#fdca26"
             ],
             [
              1,
              "#f0f921"
             ]
            ],
            "type": "heatmap"
           }
          ],
          "histogram": [
           {
            "marker": {
             "pattern": {
              "fillmode": "overlay",
              "size": 10,
              "solidity": 0.2
             }
            },
            "type": "histogram"
           }
          ],
          "histogram2d": [
           {
            "colorbar": {
             "outlinewidth": 0,
             "ticks": ""
            },
            "colorscale": [
             [
              0,
              "#0d0887"
             ],
             [
              0.1111111111111111,
              "#46039f"
             ],
             [
              0.2222222222222222,
              "#7201a8"
             ],
             [
              0.3333333333333333,
              "#9c179e"
             ],
             [
              0.4444444444444444,
              "#bd3786"
             ],
             [
              0.5555555555555556,
              "#d8576b"
             ],
             [
              0.6666666666666666,
              "#ed7953"
             ],
             [
              0.7777777777777778,
              "#fb9f3a"
             ],
             [
              0.8888888888888888,
              "#fdca26"
             ],
             [
              1,
              "#f0f921"
             ]
            ],
            "type": "histogram2d"
           }
          ],
          "histogram2dcontour": [
           {
            "colorbar": {
             "outlinewidth": 0,
             "ticks": ""
            },
            "colorscale": [
             [
              0,
              "#0d0887"
             ],
             [
              0.1111111111111111,
              "#46039f"
             ],
             [
              0.2222222222222222,
              "#7201a8"
             ],
             [
              0.3333333333333333,
              "#9c179e"
             ],
             [
              0.4444444444444444,
              "#bd3786"
             ],
             [
              0.5555555555555556,
              "#d8576b"
             ],
             [
              0.6666666666666666,
              "#ed7953"
             ],
             [
              0.7777777777777778,
              "#fb9f3a"
             ],
             [
              0.8888888888888888,
              "#fdca26"
             ],
             [
              1,
              "#f0f921"
             ]
            ],
            "type": "histogram2dcontour"
           }
          ],
          "mesh3d": [
           {
            "colorbar": {
             "outlinewidth": 0,
             "ticks": ""
            },
            "type": "mesh3d"
           }
          ],
          "parcoords": [
           {
            "line": {
             "colorbar": {
              "outlinewidth": 0,
              "ticks": ""
             }
            },
            "type": "parcoords"
           }
          ],
          "pie": [
           {
            "automargin": true,
            "type": "pie"
           }
          ],
          "scatter": [
           {
            "fillpattern": {
             "fillmode": "overlay",
             "size": 10,
             "solidity": 0.2
            },
            "type": "scatter"
           }
          ],
          "scatter3d": [
           {
            "line": {
             "colorbar": {
              "outlinewidth": 0,
              "ticks": ""
             }
            },
            "marker": {
             "colorbar": {
              "outlinewidth": 0,
              "ticks": ""
             }
            },
            "type": "scatter3d"
           }
          ],
          "scattercarpet": [
           {
            "marker": {
             "colorbar": {
              "outlinewidth": 0,
              "ticks": ""
             }
            },
            "type": "scattercarpet"
           }
          ],
          "scattergeo": [
           {
            "marker": {
             "colorbar": {
              "outlinewidth": 0,
              "ticks": ""
             }
            },
            "type": "scattergeo"
           }
          ],
          "scattergl": [
           {
            "marker": {
             "colorbar": {
              "outlinewidth": 0,
              "ticks": ""
             }
            },
            "type": "scattergl"
           }
          ],
          "scattermap": [
           {
            "marker": {
             "colorbar": {
              "outlinewidth": 0,
              "ticks": ""
             }
            },
            "type": "scattermap"
           }
          ],
          "scattermapbox": [
           {
            "marker": {
             "colorbar": {
              "outlinewidth": 0,
              "ticks": ""
             }
            },
            "type": "scattermapbox"
           }
          ],
          "scatterpolar": [
           {
            "marker": {
             "colorbar": {
              "outlinewidth": 0,
              "ticks": ""
             }
            },
            "type": "scatterpolar"
           }
          ],
          "scatterpolargl": [
           {
            "marker": {
             "colorbar": {
              "outlinewidth": 0,
              "ticks": ""
             }
            },
            "type": "scatterpolargl"
           }
          ],
          "scatterternary": [
           {
            "marker": {
             "colorbar": {
              "outlinewidth": 0,
              "ticks": ""
             }
            },
            "type": "scatterternary"
           }
          ],
          "surface": [
           {
            "colorbar": {
             "outlinewidth": 0,
             "ticks": ""
            },
            "colorscale": [
             [
              0,
              "#0d0887"
             ],
             [
              0.1111111111111111,
              "#46039f"
             ],
             [
              0.2222222222222222,
              "#7201a8"
             ],
             [
              0.3333333333333333,
              "#9c179e"
             ],
             [
              0.4444444444444444,
              "#bd3786"
             ],
             [
              0.5555555555555556,
              "#d8576b"
             ],
             [
              0.6666666666666666,
              "#ed7953"
             ],
             [
              0.7777777777777778,
              "#fb9f3a"
             ],
             [
              0.8888888888888888,
              "#fdca26"
             ],
             [
              1,
              "#f0f921"
             ]
            ],
            "type": "surface"
           }
          ],
          "table": [
           {
            "cells": {
             "fill": {
              "color": "#EBF0F8"
             },
             "line": {
              "color": "white"
             }
            },
            "header": {
             "fill": {
              "color": "#C8D4E3"
             },
             "line": {
              "color": "white"
             }
            },
            "type": "table"
           }
          ]
         },
         "layout": {
          "annotationdefaults": {
           "arrowcolor": "#2a3f5f",
           "arrowhead": 0,
           "arrowwidth": 1
          },
          "autotypenumbers": "strict",
          "coloraxis": {
           "colorbar": {
            "outlinewidth": 0,
            "ticks": ""
           }
          },
          "colorscale": {
           "diverging": [
            [
             0,
             "#8e0152"
            ],
            [
             0.1,
             "#c51b7d"
            ],
            [
             0.2,
             "#de77ae"
            ],
            [
             0.3,
             "#f1b6da"
            ],
            [
             0.4,
             "#fde0ef"
            ],
            [
             0.5,
             "#f7f7f7"
            ],
            [
             0.6,
             "#e6f5d0"
            ],
            [
             0.7,
             "#b8e186"
            ],
            [
             0.8,
             "#7fbc41"
            ],
            [
             0.9,
             "#4d9221"
            ],
            [
             1,
             "#276419"
            ]
           ],
           "sequential": [
            [
             0,
             "#0d0887"
            ],
            [
             0.1111111111111111,
             "#46039f"
            ],
            [
             0.2222222222222222,
             "#7201a8"
            ],
            [
             0.3333333333333333,
             "#9c179e"
            ],
            [
             0.4444444444444444,
             "#bd3786"
            ],
            [
             0.5555555555555556,
             "#d8576b"
            ],
            [
             0.6666666666666666,
             "#ed7953"
            ],
            [
             0.7777777777777778,
             "#fb9f3a"
            ],
            [
             0.8888888888888888,
             "#fdca26"
            ],
            [
             1,
             "#f0f921"
            ]
           ],
           "sequentialminus": [
            [
             0,
             "#0d0887"
            ],
            [
             0.1111111111111111,
             "#46039f"
            ],
            [
             0.2222222222222222,
             "#7201a8"
            ],
            [
             0.3333333333333333,
             "#9c179e"
            ],
            [
             0.4444444444444444,
             "#bd3786"
            ],
            [
             0.5555555555555556,
             "#d8576b"
            ],
            [
             0.6666666666666666,
             "#ed7953"
            ],
            [
             0.7777777777777778,
             "#fb9f3a"
            ],
            [
             0.8888888888888888,
             "#fdca26"
            ],
            [
             1,
             "#f0f921"
            ]
           ]
          },
          "colorway": [
           "#636efa",
           "#EF553B",
           "#00cc96",
           "#ab63fa",
           "#FFA15A",
           "#19d3f3",
           "#FF6692",
           "#B6E880",
           "#FF97FF",
           "#FECB52"
          ],
          "font": {
           "color": "#2a3f5f"
          },
          "geo": {
           "bgcolor": "white",
           "lakecolor": "white",
           "landcolor": "#E5ECF6",
           "showlakes": true,
           "showland": true,
           "subunitcolor": "white"
          },
          "hoverlabel": {
           "align": "left"
          },
          "hovermode": "closest",
          "mapbox": {
           "style": "light"
          },
          "paper_bgcolor": "white",
          "plot_bgcolor": "#E5ECF6",
          "polar": {
           "angularaxis": {
            "gridcolor": "white",
            "linecolor": "white",
            "ticks": ""
           },
           "bgcolor": "#E5ECF6",
           "radialaxis": {
            "gridcolor": "white",
            "linecolor": "white",
            "ticks": ""
           }
          },
          "scene": {
           "xaxis": {
            "backgroundcolor": "#E5ECF6",
            "gridcolor": "white",
            "gridwidth": 2,
            "linecolor": "white",
            "showbackground": true,
            "ticks": "",
            "zerolinecolor": "white"
           },
           "yaxis": {
            "backgroundcolor": "#E5ECF6",
            "gridcolor": "white",
            "gridwidth": 2,
            "linecolor": "white",
            "showbackground": true,
            "ticks": "",
            "zerolinecolor": "white"
           },
           "zaxis": {
            "backgroundcolor": "#E5ECF6",
            "gridcolor": "white",
            "gridwidth": 2,
            "linecolor": "white",
            "showbackground": true,
            "ticks": "",
            "zerolinecolor": "white"
           }
          },
          "shapedefaults": {
           "line": {
            "color": "#2a3f5f"
           }
          },
          "ternary": {
           "aaxis": {
            "gridcolor": "white",
            "linecolor": "white",
            "ticks": ""
           },
           "baxis": {
            "gridcolor": "white",
            "linecolor": "white",
            "ticks": ""
           },
           "bgcolor": "#E5ECF6",
           "caxis": {
            "gridcolor": "white",
            "linecolor": "white",
            "ticks": ""
           }
          },
          "title": {
           "x": 0.05
          },
          "xaxis": {
           "automargin": true,
           "gridcolor": "white",
           "linecolor": "white",
           "ticks": "",
           "title": {
            "standoff": 15
           },
           "zerolinecolor": "white",
           "zerolinewidth": 2
          },
          "yaxis": {
           "automargin": true,
           "gridcolor": "white",
           "linecolor": "white",
           "ticks": "",
           "title": {
            "standoff": 15
           },
           "zerolinecolor": "white",
           "zerolinewidth": 2
          }
         }
        },
        "title": {
         "text": "Channel Correlations for Pungent Taste"
        },
        "xaxis": {
         "anchor": "y",
         "constrain": "domain",
         "domain": [
          0,
          1
         ],
         "scaleanchor": "y",
         "title": {
          "text": "Channel"
         }
        },
        "yaxis": {
         "anchor": "x",
         "autorange": "reversed",
         "constrain": "domain",
         "domain": [
          0,
          1
         ],
         "title": {
          "text": "Channel"
         }
        }
       }
      }
     },
     "metadata": {},
     "output_type": "display_data"
    },
    {
     "name": "stderr",
     "output_type": "stream",
     "text": [
      "C:\\Users\\Twarita Singh\\AppData\\Local\\Temp\\ipykernel_14452\\3765550573.py:60: FutureWarning:\n",
      "\n",
      "DataFrameGroupBy.apply operated on the grouping columns. This behavior is deprecated, and in a future version of pandas the grouping columns will be excluded from the operation. Either pass `include_groups=False` to exclude the groupings or explicitly select the grouping columns after groupby to silence this warning.\n",
      "\n"
     ]
    },
    {
     "data": {
      "application/vnd.plotly.v1+json": {
       "config": {
        "plotlyServerURL": "https://plot.ly"
       },
       "data": [
        {
         "hovertemplate": "Medicine_Name=Ashwagandha<br>Dilution_Percent=%{x}<br>Relative Change from Base Concentration=%{y}<extra></extra>",
         "legendgroup": "Ashwagandha",
         "line": {
          "color": "#636efa",
          "dash": "solid"
         },
         "marker": {
          "symbol": "circle"
         },
         "mode": "lines",
         "name": "Ashwagandha",
         "orientation": "v",
         "showlegend": true,
         "type": "scatter",
         "x": {
          "bdata": "ChkyS2Q=",
          "dtype": "i1"
         },
         "xaxis": "x",
         "y": {
          "bdata": "ruFIpEOznj8aaX6HkDevP9aMshV/d6s/zNim2gBVrT8tLJ2jQienPw==",
          "dtype": "f8"
         },
         "yaxis": "y"
        },
        {
         "hovertemplate": "Medicine_Name=Neem<br>Dilution_Percent=%{x}<br>Relative Change from Base Concentration=%{y}<extra></extra>",
         "legendgroup": "Neem",
         "line": {
          "color": "#EF553B",
          "dash": "solid"
         },
         "marker": {
          "symbol": "circle"
         },
         "mode": "lines",
         "name": "Neem",
         "orientation": "v",
         "showlegend": true,
         "type": "scatter",
         "x": {
          "bdata": "ChkyS2Q=",
          "dtype": "i1"
         },
         "xaxis": "x",
         "y": {
          "bdata": "bjp4AWrWmT+q2h0NgFKzP9Nv2ARQB6g/8pPBMkfpsD98KFFHMTenPw==",
          "dtype": "f8"
         },
         "yaxis": "y"
        },
        {
         "hovertemplate": "Medicine_Name=Tulsi<br>Dilution_Percent=%{x}<br>Relative Change from Base Concentration=%{y}<extra></extra>",
         "legendgroup": "Tulsi",
         "line": {
          "color": "#00cc96",
          "dash": "solid"
         },
         "marker": {
          "symbol": "circle"
         },
         "mode": "lines",
         "name": "Tulsi",
         "orientation": "v",
         "showlegend": true,
         "type": "scatter",
         "x": {
          "bdata": "ChkyS2Q=",
          "dtype": "i1"
         },
         "xaxis": "x",
         "y": {
          "bdata": "T7YRv3j3kD8XEAv+laWsPxGfFCh1aq4/OATIczhLsj+FfBadrUCyPw==",
          "dtype": "f8"
         },
         "yaxis": "y"
        },
        {
         "hovertemplate": "Medicine_Name=Turmeric<br>Dilution_Percent=%{x}<br>Relative Change from Base Concentration=%{y}<extra></extra>",
         "legendgroup": "Turmeric",
         "line": {
          "color": "#ab63fa",
          "dash": "solid"
         },
         "marker": {
          "symbol": "circle"
         },
         "mode": "lines",
         "name": "Turmeric",
         "orientation": "v",
         "showlegend": true,
         "type": "scatter",
         "x": {
          "bdata": "ChkyS2Q=",
          "dtype": "i1"
         },
         "xaxis": "x",
         "y": {
          "bdata": "kpYyqDCqlj+8yFufLU+qP6Qah/YcMKo/JcrJ48Xqpz+bbjcEqWmuPw==",
          "dtype": "f8"
         },
         "yaxis": "y"
        }
       ],
       "layout": {
        "legend": {
         "title": {
          "text": "Medicine_Name"
         },
         "tracegroupgap": 0
        },
        "template": {
         "data": {
          "bar": [
           {
            "error_x": {
             "color": "#2a3f5f"
            },
            "error_y": {
             "color": "#2a3f5f"
            },
            "marker": {
             "line": {
              "color": "#E5ECF6",
              "width": 0.5
             },
             "pattern": {
              "fillmode": "overlay",
              "size": 10,
              "solidity": 0.2
             }
            },
            "type": "bar"
           }
          ],
          "barpolar": [
           {
            "marker": {
             "line": {
              "color": "#E5ECF6",
              "width": 0.5
             },
             "pattern": {
              "fillmode": "overlay",
              "size": 10,
              "solidity": 0.2
             }
            },
            "type": "barpolar"
           }
          ],
          "carpet": [
           {
            "aaxis": {
             "endlinecolor": "#2a3f5f",
             "gridcolor": "white",
             "linecolor": "white",
             "minorgridcolor": "white",
             "startlinecolor": "#2a3f5f"
            },
            "baxis": {
             "endlinecolor": "#2a3f5f",
             "gridcolor": "white",
             "linecolor": "white",
             "minorgridcolor": "white",
             "startlinecolor": "#2a3f5f"
            },
            "type": "carpet"
           }
          ],
          "choropleth": [
           {
            "colorbar": {
             "outlinewidth": 0,
             "ticks": ""
            },
            "type": "choropleth"
           }
          ],
          "contour": [
           {
            "colorbar": {
             "outlinewidth": 0,
             "ticks": ""
            },
            "colorscale": [
             [
              0,
              "#0d0887"
             ],
             [
              0.1111111111111111,
              "#46039f"
             ],
             [
              0.2222222222222222,
              "#7201a8"
             ],
             [
              0.3333333333333333,
              "#9c179e"
             ],
             [
              0.4444444444444444,
              "#bd3786"
             ],
             [
              0.5555555555555556,
              "#d8576b"
             ],
             [
              0.6666666666666666,
              "#ed7953"
             ],
             [
              0.7777777777777778,
              "#fb9f3a"
             ],
             [
              0.8888888888888888,
              "#fdca26"
             ],
             [
              1,
              "#f0f921"
             ]
            ],
            "type": "contour"
           }
          ],
          "contourcarpet": [
           {
            "colorbar": {
             "outlinewidth": 0,
             "ticks": ""
            },
            "type": "contourcarpet"
           }
          ],
          "heatmap": [
           {
            "colorbar": {
             "outlinewidth": 0,
             "ticks": ""
            },
            "colorscale": [
             [
              0,
              "#0d0887"
             ],
             [
              0.1111111111111111,
              "#46039f"
             ],
             [
              0.2222222222222222,
              "#7201a8"
             ],
             [
              0.3333333333333333,
              "#9c179e"
             ],
             [
              0.4444444444444444,
              "#bd3786"
             ],
             [
              0.5555555555555556,
              "#d8576b"
             ],
             [
              0.6666666666666666,
              "#ed7953"
             ],
             [
              0.7777777777777778,
              "#fb9f3a"
             ],
             [
              0.8888888888888888,
              "#fdca26"
             ],
             [
              1,
              "#f0f921"
             ]
            ],
            "type": "heatmap"
           }
          ],
          "histogram": [
           {
            "marker": {
             "pattern": {
              "fillmode": "overlay",
              "size": 10,
              "solidity": 0.2
             }
            },
            "type": "histogram"
           }
          ],
          "histogram2d": [
           {
            "colorbar": {
             "outlinewidth": 0,
             "ticks": ""
            },
            "colorscale": [
             [
              0,
              "#0d0887"
             ],
             [
              0.1111111111111111,
              "#46039f"
             ],
             [
              0.2222222222222222,
              "#7201a8"
             ],
             [
              0.3333333333333333,
              "#9c179e"
             ],
             [
              0.4444444444444444,
              "#bd3786"
             ],
             [
              0.5555555555555556,
              "#d8576b"
             ],
             [
              0.6666666666666666,
              "#ed7953"
             ],
             [
              0.7777777777777778,
              "#fb9f3a"
             ],
             [
              0.8888888888888888,
              "#fdca26"
             ],
             [
              1,
              "#f0f921"
             ]
            ],
            "type": "histogram2d"
           }
          ],
          "histogram2dcontour": [
           {
            "colorbar": {
             "outlinewidth": 0,
             "ticks": ""
            },
            "colorscale": [
             [
              0,
              "#0d0887"
             ],
             [
              0.1111111111111111,
              "#46039f"
             ],
             [
              0.2222222222222222,
              "#7201a8"
             ],
             [
              0.3333333333333333,
              "#9c179e"
             ],
             [
              0.4444444444444444,
              "#bd3786"
             ],
             [
              0.5555555555555556,
              "#d8576b"
             ],
             [
              0.6666666666666666,
              "#ed7953"
             ],
             [
              0.7777777777777778,
              "#fb9f3a"
             ],
             [
              0.8888888888888888,
              "#fdca26"
             ],
             [
              1,
              "#f0f921"
             ]
            ],
            "type": "histogram2dcontour"
           }
          ],
          "mesh3d": [
           {
            "colorbar": {
             "outlinewidth": 0,
             "ticks": ""
            },
            "type": "mesh3d"
           }
          ],
          "parcoords": [
           {
            "line": {
             "colorbar": {
              "outlinewidth": 0,
              "ticks": ""
             }
            },
            "type": "parcoords"
           }
          ],
          "pie": [
           {
            "automargin": true,
            "type": "pie"
           }
          ],
          "scatter": [
           {
            "fillpattern": {
             "fillmode": "overlay",
             "size": 10,
             "solidity": 0.2
            },
            "type": "scatter"
           }
          ],
          "scatter3d": [
           {
            "line": {
             "colorbar": {
              "outlinewidth": 0,
              "ticks": ""
             }
            },
            "marker": {
             "colorbar": {
              "outlinewidth": 0,
              "ticks": ""
             }
            },
            "type": "scatter3d"
           }
          ],
          "scattercarpet": [
           {
            "marker": {
             "colorbar": {
              "outlinewidth": 0,
              "ticks": ""
             }
            },
            "type": "scattercarpet"
           }
          ],
          "scattergeo": [
           {
            "marker": {
             "colorbar": {
              "outlinewidth": 0,
              "ticks": ""
             }
            },
            "type": "scattergeo"
           }
          ],
          "scattergl": [
           {
            "marker": {
             "colorbar": {
              "outlinewidth": 0,
              "ticks": ""
             }
            },
            "type": "scattergl"
           }
          ],
          "scattermap": [
           {
            "marker": {
             "colorbar": {
              "outlinewidth": 0,
              "ticks": ""
             }
            },
            "type": "scattermap"
           }
          ],
          "scattermapbox": [
           {
            "marker": {
             "colorbar": {
              "outlinewidth": 0,
              "ticks": ""
             }
            },
            "type": "scattermapbox"
           }
          ],
          "scatterpolar": [
           {
            "marker": {
             "colorbar": {
              "outlinewidth": 0,
              "ticks": ""
             }
            },
            "type": "scatterpolar"
           }
          ],
          "scatterpolargl": [
           {
            "marker": {
             "colorbar": {
              "outlinewidth": 0,
              "ticks": ""
             }
            },
            "type": "scatterpolargl"
           }
          ],
          "scatterternary": [
           {
            "marker": {
             "colorbar": {
              "outlinewidth": 0,
              "ticks": ""
             }
            },
            "type": "scatterternary"
           }
          ],
          "surface": [
           {
            "colorbar": {
             "outlinewidth": 0,
             "ticks": ""
            },
            "colorscale": [
             [
              0,
              "#0d0887"
             ],
             [
              0.1111111111111111,
              "#46039f"
             ],
             [
              0.2222222222222222,
              "#7201a8"
             ],
             [
              0.3333333333333333,
              "#9c179e"
             ],
             [
              0.4444444444444444,
              "#bd3786"
             ],
             [
              0.5555555555555556,
              "#d8576b"
             ],
             [
              0.6666666666666666,
              "#ed7953"
             ],
             [
              0.7777777777777778,
              "#fb9f3a"
             ],
             [
              0.8888888888888888,
              "#fdca26"
             ],
             [
              1,
              "#f0f921"
             ]
            ],
            "type": "surface"
           }
          ],
          "table": [
           {
            "cells": {
             "fill": {
              "color": "#EBF0F8"
             },
             "line": {
              "color": "white"
             }
            },
            "header": {
             "fill": {
              "color": "#C8D4E3"
             },
             "line": {
              "color": "white"
             }
            },
            "type": "table"
           }
          ]
         },
         "layout": {
          "annotationdefaults": {
           "arrowcolor": "#2a3f5f",
           "arrowhead": 0,
           "arrowwidth": 1
          },
          "autotypenumbers": "strict",
          "coloraxis": {
           "colorbar": {
            "outlinewidth": 0,
            "ticks": ""
           }
          },
          "colorscale": {
           "diverging": [
            [
             0,
             "#8e0152"
            ],
            [
             0.1,
             "#c51b7d"
            ],
            [
             0.2,
             "#de77ae"
            ],
            [
             0.3,
             "#f1b6da"
            ],
            [
             0.4,
             "#fde0ef"
            ],
            [
             0.5,
             "#f7f7f7"
            ],
            [
             0.6,
             "#e6f5d0"
            ],
            [
             0.7,
             "#b8e186"
            ],
            [
             0.8,
             "#7fbc41"
            ],
            [
             0.9,
             "#4d9221"
            ],
            [
             1,
             "#276419"
            ]
           ],
           "sequential": [
            [
             0,
             "#0d0887"
            ],
            [
             0.1111111111111111,
             "#46039f"
            ],
            [
             0.2222222222222222,
             "#7201a8"
            ],
            [
             0.3333333333333333,
             "#9c179e"
            ],
            [
             0.4444444444444444,
             "#bd3786"
            ],
            [
             0.5555555555555556,
             "#d8576b"
            ],
            [
             0.6666666666666666,
             "#ed7953"
            ],
            [
             0.7777777777777778,
             "#fb9f3a"
            ],
            [
             0.8888888888888888,
             "#fdca26"
            ],
            [
             1,
             "#f0f921"
            ]
           ],
           "sequentialminus": [
            [
             0,
             "#0d0887"
            ],
            [
             0.1111111111111111,
             "#46039f"
            ],
            [
             0.2222222222222222,
             "#7201a8"
            ],
            [
             0.3333333333333333,
             "#9c179e"
            ],
            [
             0.4444444444444444,
             "#bd3786"
            ],
            [
             0.5555555555555556,
             "#d8576b"
            ],
            [
             0.6666666666666666,
             "#ed7953"
            ],
            [
             0.7777777777777778,
             "#fb9f3a"
            ],
            [
             0.8888888888888888,
             "#fdca26"
            ],
            [
             1,
             "#f0f921"
            ]
           ]
          },
          "colorway": [
           "#636efa",
           "#EF553B",
           "#00cc96",
           "#ab63fa",
           "#FFA15A",
           "#19d3f3",
           "#FF6692",
           "#B6E880",
           "#FF97FF",
           "#FECB52"
          ],
          "font": {
           "color": "#2a3f5f"
          },
          "geo": {
           "bgcolor": "white",
           "lakecolor": "white",
           "landcolor": "#E5ECF6",
           "showlakes": true,
           "showland": true,
           "subunitcolor": "white"
          },
          "hoverlabel": {
           "align": "left"
          },
          "hovermode": "closest",
          "mapbox": {
           "style": "light"
          },
          "paper_bgcolor": "white",
          "plot_bgcolor": "#E5ECF6",
          "polar": {
           "angularaxis": {
            "gridcolor": "white",
            "linecolor": "white",
            "ticks": ""
           },
           "bgcolor": "#E5ECF6",
           "radialaxis": {
            "gridcolor": "white",
            "linecolor": "white",
            "ticks": ""
           }
          },
          "scene": {
           "xaxis": {
            "backgroundcolor": "#E5ECF6",
            "gridcolor": "white",
            "gridwidth": 2,
            "linecolor": "white",
            "showbackground": true,
            "ticks": "",
            "zerolinecolor": "white"
           },
           "yaxis": {
            "backgroundcolor": "#E5ECF6",
            "gridcolor": "white",
            "gridwidth": 2,
            "linecolor": "white",
            "showbackground": true,
            "ticks": "",
            "zerolinecolor": "white"
           },
           "zaxis": {
            "backgroundcolor": "#E5ECF6",
            "gridcolor": "white",
            "gridwidth": 2,
            "linecolor": "white",
            "showbackground": true,
            "ticks": "",
            "zerolinecolor": "white"
           }
          },
          "shapedefaults": {
           "line": {
            "color": "#2a3f5f"
           }
          },
          "ternary": {
           "aaxis": {
            "gridcolor": "white",
            "linecolor": "white",
            "ticks": ""
           },
           "baxis": {
            "gridcolor": "white",
            "linecolor": "white",
            "ticks": ""
           },
           "bgcolor": "#E5ECF6",
           "caxis": {
            "gridcolor": "white",
            "linecolor": "white",
            "ticks": ""
           }
          },
          "title": {
           "x": 0.05
          },
          "xaxis": {
           "automargin": true,
           "gridcolor": "white",
           "linecolor": "white",
           "ticks": "",
           "title": {
            "standoff": 15
           },
           "zerolinecolor": "white",
           "zerolinewidth": 2
          },
          "yaxis": {
           "automargin": true,
           "gridcolor": "white",
           "linecolor": "white",
           "ticks": "",
           "title": {
            "standoff": 15
           },
           "zerolinecolor": "white",
           "zerolinewidth": 2
          }
         }
        },
        "title": {
         "text": "Average Impact of Dilution by Medicine"
        },
        "xaxis": {
         "anchor": "y",
         "domain": [
          0,
          1
         ],
         "title": {
          "text": "Dilution_Percent"
         }
        },
        "yaxis": {
         "anchor": "x",
         "domain": [
          0,
          1
         ],
         "title": {
          "text": "Relative Change from Base Concentration"
         }
        }
       }
      }
     },
     "metadata": {},
     "output_type": "display_data"
    },
    {
     "name": "stdout",
     "output_type": "stream",
     "text": [
      "\n",
      "Effect Sizes (Cohen's d) by Channel:\n",
      "                      R       S       T       U       V       W\n",
      "Ashwagandha_75%   6.407   6.544   5.424   5.884   5.520   6.287\n",
      "Ashwagandha_50%  14.610  13.754  11.105  14.575  13.861  13.701\n",
      "Ashwagandha_25%  24.718  22.646  18.826  24.203  24.673  22.599\n",
      "Ashwagandha_10%  29.112  27.426  23.104  29.897  30.807  27.984\n",
      "Turmeric_75%      5.990   5.811   5.200   6.121   5.785   5.607\n",
      "Turmeric_50%     13.366  12.651  11.758  14.631  12.113  14.689\n",
      "Turmeric_25%     21.745  20.863  19.065  25.980  18.983  22.756\n",
      "Turmeric_10%     26.290  25.269  23.447  32.022  23.505  28.013\n",
      "Tulsi_75%         6.036   6.644   5.149   5.140   5.246   6.062\n",
      "Tulsi_50%        11.544  14.753  12.028  12.632  14.029  13.801\n",
      "Tulsi_25%        18.512  24.058  20.089  19.666  23.915  22.315\n",
      "Tulsi_10%        22.222  29.946  24.751  24.211  29.478  27.079\n",
      "Neem_75%          5.042   5.345   6.508   6.147   5.507   6.790\n",
      "Neem_50%         10.862  11.639  15.952  15.465  13.683  18.225\n",
      "Neem_25%         18.019  18.307  26.679  25.323  21.763  33.016\n",
      "Neem_10%         21.161  22.012  33.847  31.292  26.949  40.537\n",
      "\n",
      "Key Findings:\n",
      "--------------------------------------------------\n",
      "Most sensitive channel: R (avg CV: 0.111)\n",
      "Strongest taste-specific correlation: pungent (0.992)\n",
      "Most impacted by dilution: Ashwagandha\n",
      "Largest dilution effect: W (d = 40.537)\n"
     ]
    }
   ],
   "source": [
    "# 1. Statistical Summary by Taste Profile\n",
    "taste_stats = pd.DataFrame()\n",
    "channels = ['R', 'S', 'T', 'U', 'V', 'W']\n",
    "\n",
    "# Calculate statistics for primary tastes\n",
    "for taste in df['Primary_Taste'].unique():\n",
    "    stats = df[df['Primary_Taste'] == taste][channels].agg(['mean', 'std', 'min', 'max'])\n",
    "    stats.columns = pd.MultiIndex.from_product([[taste], stats.columns])\n",
    "    taste_stats = pd.concat([taste_stats, stats], axis=1)\n",
    "\n",
    "print(\"Channel Statistics by Primary Taste:\")\n",
    "print(taste_stats.round(3))\n",
    "\n",
    "# 2. Channel Sensitivity Analysis\n",
    "sensitivity_data = []\n",
    "for channel in channels:\n",
    "    for dilution in dilution_levels:\n",
    "        sensitivity = df[df['Dilution_Percent'] == dilution][channel].std() / \\\n",
    "                     df[df['Dilution_Percent'] == dilution][channel].mean()\n",
    "        sensitivity_data.append({\n",
    "            'Channel': channel,\n",
    "            'Dilution': dilution,\n",
    "            'Sensitivity': sensitivity\n",
    "        })\n",
    "\n",
    "sensitivity_df = pd.DataFrame(sensitivity_data)\n",
    "fig = px.line(sensitivity_df, x='Dilution', y='Sensitivity', \n",
    "              color='Channel', title='Channel Sensitivity vs Dilution',\n",
    "              labels={'Dilution': 'Dilution (%)', 'Sensitivity': 'Coefficient of Variation'})\n",
    "fig.show()\n",
    "\n",
    "# 3. Taste-Specific Correlations\n",
    "def plot_taste_correlations(taste):\n",
    "    data = df[df['Primary_Taste'] == taste][channels]\n",
    "    corr = data.corr()\n",
    "    \n",
    "    fig = px.imshow(corr, \n",
    "                    title=f'Channel Correlations for {taste.capitalize()} Taste',\n",
    "                    labels=dict(x=\"Channel\", y=\"Channel\", color=\"Correlation\"),\n",
    "                    color_continuous_scale='RdBu')\n",
    "    fig.show()\n",
    "    return corr\n",
    "\n",
    "taste_correlations = {}\n",
    "for taste in df['Primary_Taste'].unique():\n",
    "    print(f\"\\nCorrelations for {taste.capitalize()} Taste:\")\n",
    "    taste_correlations[taste] = plot_taste_correlations(taste)\n",
    "\n",
    "# 4. Dilution Impact Analysis\n",
    "def calculate_dilution_impact(group):\n",
    "    base_readings = group[channels].iloc[0]  # 100% concentration\n",
    "    impacts = []\n",
    "    \n",
    "    for _, row in group.iterrows():\n",
    "        impact = np.mean(np.abs(row[channels] - base_readings) / base_readings)\n",
    "        impacts.append(impact)\n",
    "    \n",
    "    return np.mean(impacts)\n",
    "\n",
    "dilution_impacts = df.groupby(['Medicine_Name', 'Dilution_Percent']).apply(calculate_dilution_impact)\n",
    "dilution_impacts = dilution_impacts.reset_index()\n",
    "dilution_impacts.columns = ['Medicine_Name', 'Dilution_Percent', 'Impact']\n",
    "\n",
    "fig = px.line(dilution_impacts, x='Dilution_Percent', y='Impact',\n",
    "              color='Medicine_Name', title='Average Impact of Dilution by Medicine',\n",
    "              labels={'Impact': 'Relative Change from Base Concentration'})\n",
    "fig.show()\n",
    "\n",
    "# 5. Effect Size Analysis\n",
    "from scipy import stats\n",
    "\n",
    "effect_sizes = pd.DataFrame()\n",
    "for channel in channels:\n",
    "    effects = {}\n",
    "    for medicine in medicines:\n",
    "        # Calculate Cohen's d for each dilution level\n",
    "        base_group = df[(df['Medicine_Name'] == medicine) & \n",
    "                       (df['Dilution_Percent'] == 100)][channel]\n",
    "        \n",
    "        for dilution in dilution_levels[1:]:  # Skip 100%\n",
    "            test_group = df[(df['Medicine_Name'] == medicine) & \n",
    "                          (df['Dilution_Percent'] == dilution)][channel]\n",
    "            \n",
    "            # Calculate Cohen's d\n",
    "            d = (base_group.mean() - test_group.mean()) / \\\n",
    "                np.sqrt((base_group.var() + test_group.var()) / 2)\n",
    "            \n",
    "            effects[f'{medicine}_{dilution}%'] = d\n",
    "    \n",
    "    effect_sizes[channel] = pd.Series(effects)\n",
    "\n",
    "print(\"\\nEffect Sizes (Cohen's d) by Channel:\")\n",
    "print(effect_sizes.round(3))\n",
    "\n",
    "# 6. Summary Statistics\n",
    "print(\"\\nKey Findings:\")\n",
    "print(\"-\" * 50)\n",
    "\n",
    "# Most sensitive channel\n",
    "sensitivity_summary = sensitivity_df.groupby('Channel')['Sensitivity'].mean()\n",
    "print(f\"Most sensitive channel: {sensitivity_summary.idxmax()} (avg CV: {sensitivity_summary.max():.3f})\")\n",
    "\n",
    "# Strongest correlations\n",
    "strongest_corr = pd.DataFrame()\n",
    "for taste, corr in taste_correlations.items():\n",
    "    mask = np.triu(np.ones_like(corr), k=1).astype(bool)\n",
    "    strongest = corr.abs().where(mask).max().max()\n",
    "    strongest_corr[taste] = [strongest]\n",
    "print(f\"Strongest taste-specific correlation: {strongest_corr.iloc[0].idxmax()} ({strongest_corr.iloc[0].max():.3f})\")\n",
    "\n",
    "# Most impacted medicine\n",
    "most_impacted = dilution_impacts[dilution_impacts['Dilution_Percent'] == dilution_levels[-1]]\n",
    "print(f\"Most impacted by dilution: {most_impacted.iloc[most_impacted['Impact'].idxmax()]['Medicine_Name']}\")\n",
    "\n",
    "# Largest effect size\n",
    "max_effect = effect_sizes.abs().max().max()\n",
    "max_effect_channel = effect_sizes.abs().max().idxmax()\n",
    "print(f\"Largest dilution effect: {max_effect_channel} (d = {max_effect:.3f})\")"
   ]
  },
  {
   "cell_type": "code",
   "execution_count": null,
   "id": "3d9595e9",
   "metadata": {},
   "outputs": [
    {
     "name": "stderr",
     "output_type": "stream",
     "text": [
      "C:\\Users\\Twarita Singh\\AppData\\Roaming\\Python\\Python311\\site-packages\\keras\\src\\layers\\core\\dense.py:92: UserWarning:\n",
      "\n",
      "Do not pass an `input_shape`/`input_dim` argument to a layer. When using Sequential models, prefer using an `Input(shape)` object as the first layer in the model instead.\n",
      "\n",
      "C:\\Users\\Twarita Singh\\AppData\\Roaming\\Python\\Python311\\site-packages\\keras\\src\\layers\\core\\dense.py:92: UserWarning:\n",
      "\n",
      "Do not pass an `input_shape`/`input_dim` argument to a layer. When using Sequential models, prefer using an `Input(shape)` object as the first layer in the model instead.\n",
      "\n",
      "C:\\Users\\Twarita Singh\\AppData\\Roaming\\Python\\Python311\\site-packages\\keras\\src\\layers\\core\\dense.py:92: UserWarning:\n",
      "\n",
      "Do not pass an `input_shape`/`input_dim` argument to a layer. When using Sequential models, prefer using an `Input(shape)` object as the first layer in the model instead.\n",
      "\n",
      "C:\\Users\\Twarita Singh\\AppData\\Roaming\\Python\\Python311\\site-packages\\keras\\src\\layers\\core\\dense.py:92: UserWarning:\n",
      "\n",
      "Do not pass an `input_shape`/`input_dim` argument to a layer. When using Sequential models, prefer using an `Input(shape)` object as the first layer in the model instead.\n",
      "\n",
      "C:\\Users\\Twarita Singh\\AppData\\Roaming\\Python\\Python311\\site-packages\\keras\\src\\layers\\core\\dense.py:92: UserWarning:\n",
      "\n",
      "Do not pass an `input_shape`/`input_dim` argument to a layer. When using Sequential models, prefer using an `Input(shape)` object as the first layer in the model instead.\n",
      "\n"
     ]
    },
    {
     "ename": "TypeError",
     "evalue": "ForestRegressor.predict() got an unexpected keyword argument 'return_std'",
     "output_type": "error",
     "traceback": [
      "\u001b[31m---------------------------------------------------------------------------\u001b[39m",
      "\u001b[31mTypeError\u001b[39m                                 Traceback (most recent call last)",
      "\u001b[36mCell\u001b[39m\u001b[36m \u001b[39m\u001b[32mIn[12]\u001b[39m\u001b[32m, line 14\u001b[39m\n\u001b[32m      6\u001b[39m cv_scores = model.train(\n\u001b[32m      7\u001b[39m     train_data[\u001b[33m'\u001b[39m\u001b[33mX\u001b[39m\u001b[33m'\u001b[39m],\n\u001b[32m      8\u001b[39m     train_data[\u001b[33m'\u001b[39m\u001b[33my_dilution\u001b[39m\u001b[33m'\u001b[39m],\n\u001b[32m      9\u001b[39m     train_data[\u001b[33m'\u001b[39m\u001b[33my_medicine\u001b[39m\u001b[33m'\u001b[39m],\n\u001b[32m     10\u001b[39m     train_data[\u001b[33m'\u001b[39m\u001b[33my_effectiveness\u001b[39m\u001b[33m'\u001b[39m]\n\u001b[32m     11\u001b[39m )\n\u001b[32m     13\u001b[39m \u001b[38;5;66;03m# Generate predictions for test data\u001b[39;00m\n\u001b[32m---> \u001b[39m\u001b[32m14\u001b[39m test_predictions = \u001b[43mmodel\u001b[49m\u001b[43m.\u001b[49m\u001b[43mpredict\u001b[49m\u001b[43m(\u001b[49m\u001b[43mtest_data\u001b[49m\u001b[43m[\u001b[49m\u001b[33;43m'\u001b[39;49m\u001b[33;43mX\u001b[39;49m\u001b[33;43m'\u001b[39;49m\u001b[43m]\u001b[49m\u001b[43m)\u001b[49m\n\u001b[32m     16\u001b[39m \u001b[38;5;66;03m# Create true values dictionary for visualization\u001b[39;00m\n\u001b[32m     17\u001b[39m true_values = {\n\u001b[32m     18\u001b[39m     \u001b[33m'\u001b[39m\u001b[33mdilution\u001b[39m\u001b[33m'\u001b[39m: test_data[\u001b[33m'\u001b[39m\u001b[33my_dilution\u001b[39m\u001b[33m'\u001b[39m],\n\u001b[32m     19\u001b[39m     \u001b[33m'\u001b[39m\u001b[33mmedicine\u001b[39m\u001b[33m'\u001b[39m: test_data[\u001b[33m'\u001b[39m\u001b[33my_medicine\u001b[39m\u001b[33m'\u001b[39m],\n\u001b[32m     20\u001b[39m     \u001b[33m'\u001b[39m\u001b[33meffectiveness\u001b[39m\u001b[33m'\u001b[39m: test_data[\u001b[33m'\u001b[39m\u001b[33my_effectiveness\u001b[39m\u001b[33m'\u001b[39m]\n\u001b[32m     21\u001b[39m }\n",
      "\u001b[36mFile \u001b[39m\u001b[32mc:\\Users\\Twarita Singh\\OneDrive\\Desktop\\Etongue\\ayurvedic-ml-pipeline\\notebooks\\..\\src\\models\\ensemble.py:169\u001b[39m, in \u001b[36mEnsembleModel.predict\u001b[39m\u001b[34m(self, X)\u001b[39m\n\u001b[32m    167\u001b[39m \u001b[38;5;66;03m# Use model-specific confidence estimation\u001b[39;00m\n\u001b[32m    168\u001b[39m \u001b[38;5;28;01mif\u001b[39;00m model_name == \u001b[33m'\u001b[39m\u001b[33mrf\u001b[39m\u001b[33m'\u001b[39m:\n\u001b[32m--> \u001b[39m\u001b[32m169\u001b[39m     conf = \u001b[32m1.0\u001b[39m - \u001b[43mmodel\u001b[49m\u001b[43m.\u001b[49m\u001b[43mpredict\u001b[49m\u001b[43m(\u001b[49m\u001b[43mX\u001b[49m\u001b[43m,\u001b[49m\u001b[43m \u001b[49m\u001b[43mreturn_std\u001b[49m\u001b[43m=\u001b[49m\u001b[38;5;28;43;01mTrue\u001b[39;49;00m\u001b[43m)\u001b[49m[\u001b[32m1\u001b[39m]\n\u001b[32m    170\u001b[39m \u001b[38;5;28;01melse\u001b[39;00m:\n\u001b[32m    171\u001b[39m     conf = np.ones_like(pred)  \u001b[38;5;66;03m# placeholder for SVM\u001b[39;00m\n",
      "\u001b[31mTypeError\u001b[39m: ForestRegressor.predict() got an unexpected keyword argument 'return_std'"
     ]
    }
   ],
   "source": [
    "# Visualize model predictions and performance\n",
    "import plotly.express as px\n",
    "from sklearn.metrics import confusion_matrix, mean_squared_error, r2_score\n",
    "\n",
    "# Dilution Model Performance\n",
    "y_pred_dilution = cv_scores['dilution']['predictions']\n",
    "y_true_dilution = cv_scores['dilution']['true_values']\n",
    "\n",
    "fig_dilution = px.scatter(\n",
    "    x=y_true_dilution, \n",
    "    y=y_pred_dilution,\n",
    "    labels={'x': 'True Dilution (%)', 'y': 'Predicted Dilution (%)'},\n",
    "    title=f'Dilution Predictions (R² = {r2_score(y_true_dilution, y_pred_dilution):.3f})'\n",
    ")\n",
    "fig_dilution.add_trace(\n",
    "    go.Scatter(x=[0, 100], y=[0, 100], mode='lines', \n",
    "               name='Perfect Prediction', line=dict(dash='dash'))\n",
    ")\n",
    "fig_dilution.show()\n",
    "\n",
    "# Medicine Classification Performance\n",
    "y_pred_medicine = cv_scores['medicine']['predictions']\n",
    "y_true_medicine = cv_scores['medicine']['true_values']\n",
    "\n",
    "conf_matrix = confusion_matrix(y_true_medicine, y_pred_medicine)\n",
    "fig_conf = px.imshow(conf_matrix,\n",
    "                     labels=dict(x=\"Predicted Medicine\", y=\"True Medicine\"),\n",
    "                     x=medicines,\n",
    "                     y=medicines,\n",
    "                     title=\"Medicine Classification Confusion Matrix\",\n",
    "                     color_continuous_scale='Blues')\n",
    "fig_conf.show()\n",
    "\n",
    "# Effectiveness Model Performance\n",
    "y_pred_effectiveness = cv_scores['effectiveness']['predictions']\n",
    "y_true_effectiveness = cv_scores['effectiveness']['true_values']\n",
    "\n",
    "fig_effectiveness = px.scatter(\n",
    "    x=y_true_effectiveness, \n",
    "    y=y_pred_effectiveness,\n",
    "    labels={'x': 'True Effectiveness', 'y': 'Predicted Effectiveness'},\n",
    "    title=f'Effectiveness Predictions (R² = {r2_score(y_true_effectiveness, y_pred_effectiveness):.3f})'\n",
    ")\n",
    "fig_effectiveness.add_trace(\n",
    "    go.Scatter(x=[0, 1], y=[0, 1], mode='lines', \n",
    "               name='Perfect Prediction', line=dict(dash='dash'))\n",
    ")\n",
    "fig_effectiveness.show()"
   ]
  },
  {
   "cell_type": "markdown",
   "id": "4c0c28af",
   "metadata": {},
   "source": [
    "# Real-time Prediction Example\n",
    "\n",
    "Finally, let's demonstrate how to use the API for real-time predictions:\n",
    "1. Create a sample sensor reading\n",
    "2. Send it to the prediction endpoint\n",
    "3. Visualize the results with confidence intervals"
   ]
  },
  {
   "cell_type": "code",
   "execution_count": 7,
   "id": "e13e7089",
   "metadata": {},
   "outputs": [
    {
     "ename": "ValueError",
     "evalue": "X has 39 features, but RandomForestRegressor is expecting 7 features as input.",
     "output_type": "error",
     "traceback": [
      "\u001b[31m---------------------------------------------------------------------------\u001b[39m",
      "\u001b[31mValueError\u001b[39m                                Traceback (most recent call last)",
      "\u001b[36mCell\u001b[39m\u001b[36m \u001b[39m\u001b[32mIn[7]\u001b[39m\u001b[32m, line 36\u001b[39m\n\u001b[32m     29\u001b[39m sample_features = feature_engineer.engineer_features(\n\u001b[32m     30\u001b[39m     sample_X_norm[:, :-\u001b[32m1\u001b[39m],\n\u001b[32m     31\u001b[39m     sample_X_norm[:, -\u001b[32m1\u001b[39m],\n\u001b[32m     32\u001b[39m     fit=\u001b[38;5;28;01mFalse\u001b[39;00m\n\u001b[32m     33\u001b[39m )\n\u001b[32m     35\u001b[39m \u001b[38;5;66;03m# Generate predictions\u001b[39;00m\n\u001b[32m---> \u001b[39m\u001b[32m36\u001b[39m sample_predictions = \u001b[43mmodel\u001b[49m\u001b[43m.\u001b[49m\u001b[43mpredict\u001b[49m\u001b[43m(\u001b[49m\u001b[43msample_features\u001b[49m\u001b[43m[\u001b[49m\u001b[33;43m'\u001b[39;49m\u001b[33;43mcombined\u001b[39;49m\u001b[33;43m'\u001b[39;49m\u001b[43m]\u001b[49m\u001b[43m)\u001b[49m\n\u001b[32m     38\u001b[39m \u001b[38;5;66;03m# Display results\u001b[39;00m\n\u001b[32m     39\u001b[39m \u001b[38;5;28mprint\u001b[39m(\u001b[33m\"\u001b[39m\u001b[33mPrediction Results:\u001b[39m\u001b[33m\"\u001b[39m)\n",
      "\u001b[36mFile \u001b[39m\u001b[32mc:\\Users\\Twarita Singh\\OneDrive\\Desktop\\Etongue\\ayurvedic-ml-pipeline\\notebooks\\..\\src\\models\\ensemble.py:166\u001b[39m, in \u001b[36mEnsembleModel.predict\u001b[39m\u001b[34m(self, X)\u001b[39m\n\u001b[32m    164\u001b[39m \u001b[38;5;28;01melse\u001b[39;00m:\n\u001b[32m    165\u001b[39m     \u001b[38;5;28;01mif\u001b[39;00m model_name != \u001b[33m'\u001b[39m\u001b[33mnn\u001b[39m\u001b[33m'\u001b[39m:\n\u001b[32m--> \u001b[39m\u001b[32m166\u001b[39m         pred = \u001b[43mmodel\u001b[49m\u001b[43m.\u001b[49m\u001b[43mpredict\u001b[49m\u001b[43m(\u001b[49m\u001b[43mX\u001b[49m\u001b[43m)\u001b[49m\n\u001b[32m    167\u001b[39m         \u001b[38;5;66;03m# Use model-specific confidence estimation\u001b[39;00m\n\u001b[32m    168\u001b[39m         \u001b[38;5;28;01mif\u001b[39;00m model_name == \u001b[33m'\u001b[39m\u001b[33mrf\u001b[39m\u001b[33m'\u001b[39m:\n",
      "\u001b[36mFile \u001b[39m\u001b[32m~\\AppData\\Roaming\\Python\\Python311\\site-packages\\sklearn\\ensemble\\_forest.py:1065\u001b[39m, in \u001b[36mForestRegressor.predict\u001b[39m\u001b[34m(self, X)\u001b[39m\n\u001b[32m   1063\u001b[39m check_is_fitted(\u001b[38;5;28mself\u001b[39m)\n\u001b[32m   1064\u001b[39m \u001b[38;5;66;03m# Check data\u001b[39;00m\n\u001b[32m-> \u001b[39m\u001b[32m1065\u001b[39m X = \u001b[38;5;28;43mself\u001b[39;49m\u001b[43m.\u001b[49m\u001b[43m_validate_X_predict\u001b[49m\u001b[43m(\u001b[49m\u001b[43mX\u001b[49m\u001b[43m)\u001b[49m\n\u001b[32m   1067\u001b[39m \u001b[38;5;66;03m# Assign chunk of trees to jobs\u001b[39;00m\n\u001b[32m   1068\u001b[39m n_jobs, _, _ = _partition_estimators(\u001b[38;5;28mself\u001b[39m.n_estimators, \u001b[38;5;28mself\u001b[39m.n_jobs)\n",
      "\u001b[36mFile \u001b[39m\u001b[32m~\\AppData\\Roaming\\Python\\Python311\\site-packages\\sklearn\\ensemble\\_forest.py:637\u001b[39m, in \u001b[36mBaseForest._validate_X_predict\u001b[39m\u001b[34m(self, X)\u001b[39m\n\u001b[32m    634\u001b[39m \u001b[38;5;28;01melse\u001b[39;00m:\n\u001b[32m    635\u001b[39m     ensure_all_finite = \u001b[38;5;28;01mTrue\u001b[39;00m\n\u001b[32m--> \u001b[39m\u001b[32m637\u001b[39m X = \u001b[43mvalidate_data\u001b[49m\u001b[43m(\u001b[49m\n\u001b[32m    638\u001b[39m \u001b[43m    \u001b[49m\u001b[38;5;28;43mself\u001b[39;49m\u001b[43m,\u001b[49m\n\u001b[32m    639\u001b[39m \u001b[43m    \u001b[49m\u001b[43mX\u001b[49m\u001b[43m,\u001b[49m\n\u001b[32m    640\u001b[39m \u001b[43m    \u001b[49m\u001b[43mdtype\u001b[49m\u001b[43m=\u001b[49m\u001b[43mDTYPE\u001b[49m\u001b[43m,\u001b[49m\n\u001b[32m    641\u001b[39m \u001b[43m    \u001b[49m\u001b[43maccept_sparse\u001b[49m\u001b[43m=\u001b[49m\u001b[33;43m\"\u001b[39;49m\u001b[33;43mcsr\u001b[39;49m\u001b[33;43m\"\u001b[39;49m\u001b[43m,\u001b[49m\n\u001b[32m    642\u001b[39m \u001b[43m    \u001b[49m\u001b[43mreset\u001b[49m\u001b[43m=\u001b[49m\u001b[38;5;28;43;01mFalse\u001b[39;49;00m\u001b[43m,\u001b[49m\n\u001b[32m    643\u001b[39m \u001b[43m    \u001b[49m\u001b[43mensure_all_finite\u001b[49m\u001b[43m=\u001b[49m\u001b[43mensure_all_finite\u001b[49m\u001b[43m,\u001b[49m\n\u001b[32m    644\u001b[39m \u001b[43m\u001b[49m\u001b[43m)\u001b[49m\n\u001b[32m    645\u001b[39m \u001b[38;5;28;01mif\u001b[39;00m issparse(X) \u001b[38;5;129;01mand\u001b[39;00m (X.indices.dtype != np.intc \u001b[38;5;129;01mor\u001b[39;00m X.indptr.dtype != np.intc):\n\u001b[32m    646\u001b[39m     \u001b[38;5;28;01mraise\u001b[39;00m \u001b[38;5;167;01mValueError\u001b[39;00m(\u001b[33m\"\u001b[39m\u001b[33mNo support for np.int64 index based sparse matrices\u001b[39m\u001b[33m\"\u001b[39m)\n",
      "\u001b[36mFile \u001b[39m\u001b[32m~\\AppData\\Roaming\\Python\\Python311\\site-packages\\sklearn\\utils\\validation.py:2975\u001b[39m, in \u001b[36mvalidate_data\u001b[39m\u001b[34m(_estimator, X, y, reset, validate_separately, skip_check_array, **check_params)\u001b[39m\n\u001b[32m   2972\u001b[39m     out = X, y\n\u001b[32m   2974\u001b[39m \u001b[38;5;28;01mif\u001b[39;00m \u001b[38;5;129;01mnot\u001b[39;00m no_val_X \u001b[38;5;129;01mand\u001b[39;00m check_params.get(\u001b[33m\"\u001b[39m\u001b[33mensure_2d\u001b[39m\u001b[33m\"\u001b[39m, \u001b[38;5;28;01mTrue\u001b[39;00m):\n\u001b[32m-> \u001b[39m\u001b[32m2975\u001b[39m     \u001b[43m_check_n_features\u001b[49m\u001b[43m(\u001b[49m\u001b[43m_estimator\u001b[49m\u001b[43m,\u001b[49m\u001b[43m \u001b[49m\u001b[43mX\u001b[49m\u001b[43m,\u001b[49m\u001b[43m \u001b[49m\u001b[43mreset\u001b[49m\u001b[43m=\u001b[49m\u001b[43mreset\u001b[49m\u001b[43m)\u001b[49m\n\u001b[32m   2977\u001b[39m \u001b[38;5;28;01mreturn\u001b[39;00m out\n",
      "\u001b[36mFile \u001b[39m\u001b[32m~\\AppData\\Roaming\\Python\\Python311\\site-packages\\sklearn\\utils\\validation.py:2839\u001b[39m, in \u001b[36m_check_n_features\u001b[39m\u001b[34m(estimator, X, reset)\u001b[39m\n\u001b[32m   2836\u001b[39m     \u001b[38;5;28;01mreturn\u001b[39;00m\n\u001b[32m   2838\u001b[39m \u001b[38;5;28;01mif\u001b[39;00m n_features != estimator.n_features_in_:\n\u001b[32m-> \u001b[39m\u001b[32m2839\u001b[39m     \u001b[38;5;28;01mraise\u001b[39;00m \u001b[38;5;167;01mValueError\u001b[39;00m(\n\u001b[32m   2840\u001b[39m         \u001b[33mf\u001b[39m\u001b[33m\"\u001b[39m\u001b[33mX has \u001b[39m\u001b[38;5;132;01m{\u001b[39;00mn_features\u001b[38;5;132;01m}\u001b[39;00m\u001b[33m features, but \u001b[39m\u001b[38;5;132;01m{\u001b[39;00mestimator.\u001b[34m__class__\u001b[39m.\u001b[34m__name__\u001b[39m\u001b[38;5;132;01m}\u001b[39;00m\u001b[33m \u001b[39m\u001b[33m\"\u001b[39m\n\u001b[32m   2841\u001b[39m         \u001b[33mf\u001b[39m\u001b[33m\"\u001b[39m\u001b[33mis expecting \u001b[39m\u001b[38;5;132;01m{\u001b[39;00mestimator.n_features_in_\u001b[38;5;132;01m}\u001b[39;00m\u001b[33m features as input.\u001b[39m\u001b[33m\"\u001b[39m\n\u001b[32m   2842\u001b[39m     )\n",
      "\u001b[31mValueError\u001b[39m: X has 39 features, but RandomForestRegressor is expecting 7 features as input."
     ]
    }
   ],
   "source": [
    "# Create a sample reading\n",
    "sample_reading = {\n",
    "    'R': 3.5,\n",
    "    'S': 2.8,\n",
    "    'T': 4.2,\n",
    "    'U': 3.0,\n",
    "    'V': 3.8,\n",
    "    'W': 2.5,\n",
    "    'Temperature': 25.0\n",
    "}\n",
    "\n",
    "# Convert to numpy array\n",
    "sample_X = np.array([[\n",
    "    sample_reading['R'],\n",
    "    sample_reading['S'],\n",
    "    sample_reading['T'],\n",
    "    sample_reading['U'],\n",
    "    sample_reading['V'],\n",
    "    sample_reading['W'],\n",
    "    sample_reading['Temperature']\n",
    "]])\n",
    "\n",
    "# Preprocess the sample\n",
    "sample_X_norm = preprocessor.normalize_features(\n",
    "    preprocessor.temperature_compensation(pd.DataFrame([sample_reading]))\n",
    ").values\n",
    "\n",
    "# Engineer features\n",
    "sample_features = feature_engineer.engineer_features(\n",
    "    sample_X_norm[:, :-1],\n",
    "    sample_X_norm[:, -1],\n",
    "    fit=False\n",
    ")\n",
    "\n",
    "# Generate predictions\n",
    "sample_predictions = model.predict(sample_features['combined'])\n",
    "\n",
    "# Display results\n",
    "print(\"Prediction Results:\")\n",
    "print(f\"Dilution: {sample_predictions['dilution']['predictions'][0]:.1f}% (confidence: {sample_predictions['dilution']['confidence'][0]:.2f})\")\n",
    "print(f\"Medicine: {sample_predictions['medicine']['predictions'][0]} (confidence: {sample_predictions['medicine']['confidence'][0]:.2f})\")\n",
    "print(f\"Effectiveness: {sample_predictions['effectiveness']['predictions'][0]:.2f} (confidence: {sample_predictions['effectiveness']['confidence'][0]:.2f})\")"
   ]
  }
 ],
 "metadata": {
  "kernelspec": {
   "display_name": "Python 3",
   "language": "python",
   "name": "python3"
  },
  "language_info": {
   "codemirror_mode": {
    "name": "ipython",
    "version": 3
   },
   "file_extension": ".py",
   "mimetype": "text/x-python",
   "name": "python",
   "nbconvert_exporter": "python",
   "pygments_lexer": "ipython3",
   "version": "3.11.0"
  }
 },
 "nbformat": 4,
 "nbformat_minor": 5
}
