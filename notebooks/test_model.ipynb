{
 "cells": [
  {
   "cell_type": "markdown",
   "id": "fe2d68c1",
   "metadata": {},
   "source": [
    "# Ayurvedic E-tongue Test Model\n",
    "\n",
    "This notebook implements a simplified version of the ML pipeline to verify basic functionality:\n",
    "1. Generate sample data\n",
    "2. Train a basic RandomForest model\n",
    "3. Make predictions\n",
    "4. Save the model"
   ]
  },
  {
   "cell_type": "code",
   "execution_count": 1,
   "id": "7bbfefbf",
   "metadata": {},
   "outputs": [],
   "source": [
    "# Import required libraries\n",
    "import numpy as np\n",
    "import pandas as pd\n",
    "from sklearn.ensemble import RandomForestRegressor, RandomForestClassifier\n",
    "from sklearn.model_selection import train_test_split\n",
    "from sklearn.preprocessing import StandardScaler\n",
    "import joblib\n",
    "import os\n",
    "\n",
    "# Set random seed\n",
    "np.random.seed(42)"
   ]
  },
  {
   "cell_type": "code",
   "execution_count": 2,
   "id": "e9d2ff8c",
   "metadata": {},
   "outputs": [
    {
     "name": "stdout",
     "output_type": "stream",
     "text": [
      "Sample data shape: (100, 10)\n"
     ]
    },
    {
     "data": {
      "text/html": [
       "<div>\n",
       "<style scoped>\n",
       "    .dataframe tbody tr th:only-of-type {\n",
       "        vertical-align: middle;\n",
       "    }\n",
       "\n",
       "    .dataframe tbody tr th {\n",
       "        vertical-align: top;\n",
       "    }\n",
       "\n",
       "    .dataframe thead th {\n",
       "        text-align: right;\n",
       "    }\n",
       "</style>\n",
       "<table border=\"1\" class=\"dataframe\">\n",
       "  <thead>\n",
       "    <tr style=\"text-align: right;\">\n",
       "      <th></th>\n",
       "      <th>R</th>\n",
       "      <th>S</th>\n",
       "      <th>T</th>\n",
       "      <th>U</th>\n",
       "      <th>V</th>\n",
       "      <th>W</th>\n",
       "      <th>Temperature</th>\n",
       "      <th>Dilution_Percent</th>\n",
       "      <th>Medicine_Name</th>\n",
       "      <th>Effectiveness_Score</th>\n",
       "    </tr>\n",
       "  </thead>\n",
       "  <tbody>\n",
       "    <tr>\n",
       "      <th>0</th>\n",
       "      <td>0.496714</td>\n",
       "      <td>-0.138264</td>\n",
       "      <td>0.647689</td>\n",
       "      <td>1.523030</td>\n",
       "      <td>-0.234153</td>\n",
       "      <td>-0.234137</td>\n",
       "      <td>1.579213</td>\n",
       "      <td>83.569921</td>\n",
       "      <td>Turmeric</td>\n",
       "      <td>0.658214</td>\n",
       "    </tr>\n",
       "    <tr>\n",
       "      <th>1</th>\n",
       "      <td>0.767435</td>\n",
       "      <td>-0.469474</td>\n",
       "      <td>0.542560</td>\n",
       "      <td>-0.463418</td>\n",
       "      <td>-0.465730</td>\n",
       "      <td>0.241962</td>\n",
       "      <td>-1.913280</td>\n",
       "      <td>40.763562</td>\n",
       "      <td>Neem</td>\n",
       "      <td>0.354295</td>\n",
       "    </tr>\n",
       "    <tr>\n",
       "      <th>2</th>\n",
       "      <td>-1.724918</td>\n",
       "      <td>-0.562288</td>\n",
       "      <td>-1.012831</td>\n",
       "      <td>0.314247</td>\n",
       "      <td>-0.908024</td>\n",
       "      <td>-1.412304</td>\n",
       "      <td>1.465649</td>\n",
       "      <td>33.348109</td>\n",
       "      <td>Turmeric</td>\n",
       "      <td>0.312763</td>\n",
       "    </tr>\n",
       "    <tr>\n",
       "      <th>3</th>\n",
       "      <td>-0.225776</td>\n",
       "      <td>0.067528</td>\n",
       "      <td>-1.424748</td>\n",
       "      <td>-0.544383</td>\n",
       "      <td>0.110923</td>\n",
       "      <td>-1.150994</td>\n",
       "      <td>0.375698</td>\n",
       "      <td>44.172317</td>\n",
       "      <td>Neem</td>\n",
       "      <td>0.346122</td>\n",
       "    </tr>\n",
       "    <tr>\n",
       "      <th>4</th>\n",
       "      <td>-0.600639</td>\n",
       "      <td>-0.291694</td>\n",
       "      <td>-0.601707</td>\n",
       "      <td>1.852278</td>\n",
       "      <td>-0.013497</td>\n",
       "      <td>-1.057711</td>\n",
       "      <td>0.822545</td>\n",
       "      <td>63.126545</td>\n",
       "      <td>Ashwagandha</td>\n",
       "      <td>0.496102</td>\n",
       "    </tr>\n",
       "  </tbody>\n",
       "</table>\n",
       "</div>"
      ],
      "text/plain": [
       "          R         S         T         U         V         W  Temperature  \\\n",
       "0  0.496714 -0.138264  0.647689  1.523030 -0.234153 -0.234137     1.579213   \n",
       "1  0.767435 -0.469474  0.542560 -0.463418 -0.465730  0.241962    -1.913280   \n",
       "2 -1.724918 -0.562288 -1.012831  0.314247 -0.908024 -1.412304     1.465649   \n",
       "3 -0.225776  0.067528 -1.424748 -0.544383  0.110923 -1.150994     0.375698   \n",
       "4 -0.600639 -0.291694 -0.601707  1.852278 -0.013497 -1.057711     0.822545   \n",
       "\n",
       "   Dilution_Percent Medicine_Name  Effectiveness_Score  \n",
       "0         83.569921      Turmeric             0.658214  \n",
       "1         40.763562          Neem             0.354295  \n",
       "2         33.348109      Turmeric             0.312763  \n",
       "3         44.172317          Neem             0.346122  \n",
       "4         63.126545   Ashwagandha             0.496102  "
      ]
     },
     "execution_count": 2,
     "metadata": {},
     "output_type": "execute_result"
    }
   ],
   "source": [
    "# Generate sample data\n",
    "n_samples = 100\n",
    "n_features = 7  # 6 wavelengths + temperature\n",
    "\n",
    "# Generate random sensor readings\n",
    "X = np.random.normal(0, 1, (n_samples, n_features))\n",
    "\n",
    "# Generate target variables\n",
    "y_dilution = np.random.uniform(10, 100, n_samples)  # Dilution percentage\n",
    "y_medicine = np.random.choice(['Ashwagandha', 'Turmeric', 'Tulsi', 'Neem'], n_samples)\n",
    "y_effectiveness = 0.8 * y_dilution/100 + 0.2 * np.random.normal(0, 0.1, n_samples)\n",
    "\n",
    "# Create DataFrame\n",
    "df = pd.DataFrame(X, columns=['R', 'S', 'T', 'U', 'V', 'W', 'Temperature'])\n",
    "df['Dilution_Percent'] = y_dilution\n",
    "df['Medicine_Name'] = y_medicine\n",
    "df['Effectiveness_Score'] = y_effectiveness\n",
    "\n",
    "print(\"Sample data shape:\", df.shape)\n",
    "df.head()"
   ]
  },
  {
   "cell_type": "code",
   "execution_count": 3,
   "id": "3722822e",
   "metadata": {},
   "outputs": [
    {
     "name": "stdout",
     "output_type": "stream",
     "text": [
      "Training data shape: (80, 7)\n",
      "Test data shape: (20, 7)\n"
     ]
    }
   ],
   "source": [
    "# Preprocess data\n",
    "scaler = StandardScaler()\n",
    "X_scaled = scaler.fit_transform(X)\n",
    "\n",
    "# Split data\n",
    "X_train, X_test, y_train_dil, y_test_dil = train_test_split(X_scaled, y_dilution, test_size=0.2, random_state=42)\n",
    "_, _, y_train_med, y_test_med = train_test_split(X_scaled, y_medicine, test_size=0.2, random_state=42)\n",
    "_, _, y_train_eff, y_test_eff = train_test_split(X_scaled, y_effectiveness, test_size=0.2, random_state=42)\n",
    "\n",
    "print(\"Training data shape:\", X_train.shape)\n",
    "print(\"Test data shape:\", X_test.shape)"
   ]
  },
  {
   "cell_type": "code",
   "execution_count": 4,
   "id": "6431ff83",
   "metadata": {},
   "outputs": [
    {
     "name": "stdout",
     "output_type": "stream",
     "text": [
      "Models trained successfully\n"
     ]
    }
   ],
   "source": [
    "# Train models\n",
    "dilution_model = RandomForestRegressor(n_estimators=100, random_state=42)\n",
    "medicine_model = RandomForestClassifier(n_estimators=100, random_state=42)\n",
    "effectiveness_model = RandomForestRegressor(n_estimators=100, random_state=42)\n",
    "\n",
    "# Fit models\n",
    "dilution_model.fit(X_train, y_train_dil)\n",
    "medicine_model.fit(X_train, y_train_med)\n",
    "effectiveness_model.fit(X_train, y_train_eff)\n",
    "\n",
    "print(\"Models trained successfully\")"
   ]
  },
  {
   "cell_type": "code",
   "execution_count": 5,
   "id": "f46e0944",
   "metadata": {},
   "outputs": [
    {
     "name": "stdout",
     "output_type": "stream",
     "text": [
      "\n",
      "Dilution Predictions:\n",
      "True: 83.7%, Predicted: 53.4%, Confidence: -23.86\n",
      "True: 76.4%, Predicted: 50.9%, Confidence: -18.79\n",
      "True: 63.6%, Predicted: 35.6%, Confidence: -18.97\n",
      "True: 69.9%, Predicted: 61.4%, Confidence: -22.78\n",
      "True: 64.0%, Predicted: 67.9%, Confidence: -23.60\n",
      "\n",
      "Medicine Predictions:\n",
      "True: Tulsi, Predicted: Tulsi, Confidence: 0.38\n",
      "True: Neem, Predicted: Tulsi, Confidence: 0.44\n",
      "True: Ashwagandha, Predicted: Tulsi, Confidence: 0.34\n",
      "True: Tulsi, Predicted: Turmeric, Confidence: 0.36\n",
      "True: Turmeric, Predicted: Turmeric, Confidence: 0.43\n",
      "\n",
      "Effectiveness Predictions:\n",
      "True: 0.70, Predicted: 0.46, Confidence: 0.80\n",
      "True: 0.60, Predicted: 0.40, Confidence: 0.85\n",
      "True: 0.52, Predicted: 0.28, Confidence: 0.82\n",
      "True: 0.55, Predicted: 0.54, Confidence: 0.82\n",
      "True: 0.50, Predicted: 0.52, Confidence: 0.80\n"
     ]
    }
   ],
   "source": [
    "# Make predictions\n",
    "dilution_pred = dilution_model.predict(X_test)\n",
    "medicine_pred = medicine_model.predict(X_test)\n",
    "effectiveness_pred = effectiveness_model.predict(X_test)\n",
    "\n",
    "# Get confidence scores\n",
    "dilution_conf = 1 - np.std([tree.predict(X_test) for tree in dilution_model.estimators_], axis=0)\n",
    "medicine_conf = np.max(medicine_model.predict_proba(X_test), axis=1)\n",
    "effectiveness_conf = 1 - np.std([tree.predict(X_test) for tree in effectiveness_model.estimators_], axis=0)\n",
    "\n",
    "# Display results\n",
    "print(\"\\nDilution Predictions:\")\n",
    "for i in range(5):\n",
    "    print(f\"True: {y_test_dil[i]:.1f}%, Predicted: {dilution_pred[i]:.1f}%, Confidence: {dilution_conf[i]:.2f}\")\n",
    "\n",
    "print(\"\\nMedicine Predictions:\")\n",
    "for i in range(5):\n",
    "    print(f\"True: {y_test_med[i]}, Predicted: {medicine_pred[i]}, Confidence: {medicine_conf[i]:.2f}\")\n",
    "\n",
    "print(\"\\nEffectiveness Predictions:\")\n",
    "for i in range(5):\n",
    "    print(f\"True: {y_test_eff[i]:.2f}, Predicted: {effectiveness_pred[i]:.2f}, Confidence: {effectiveness_conf[i]:.2f}\")"
   ]
  },
  {
   "cell_type": "code",
   "execution_count": 6,
   "id": "43c12165",
   "metadata": {},
   "outputs": [
    {
     "name": "stdout",
     "output_type": "stream",
     "text": [
      "Models saved successfully\n"
     ]
    }
   ],
   "source": [
    "# Save models\n",
    "os.makedirs('../models', exist_ok=True)\n",
    "joblib.dump(dilution_model, '../models/dilution_model.pkl')\n",
    "joblib.dump(medicine_model, '../models/medicine_model.pkl')\n",
    "joblib.dump(effectiveness_model, '../models/effectiveness_model.pkl')\n",
    "print(\"Models saved successfully\")"
   ]
  },
  {
   "cell_type": "code",
   "execution_count": null,
   "id": "b840fc54",
   "metadata": {},
   "outputs": [],
   "source": [
    "# Visualize predictions\n",
    "import matplotlib.pyplot as plt\n",
    "import seaborn as sns\n",
    "\n",
    "# Set style\n",
    "plt.style.use('seaborn')\n",
    "fig, (ax1, ax2) = plt.subplots(1, 2, figsize=(15, 5))\n",
    "\n",
    "# Plot dilution predictions\n",
    "ax1.scatter(y_test_dil, dilution_pred, alpha=0.5)\n",
    "ax1.plot([0, 100], [0, 100], '--k')  # Perfect prediction line\n",
    "ax1.set_xlabel('True Dilution (%)')\n",
    "ax1.set_ylabel('Predicted Dilution (%)')\n",
    "ax1.set_title('Dilution Predictions vs True Values')\n",
    "\n",
    "# Plot effectiveness predictions\n",
    "ax2.scatter(y_test_eff, effectiveness_pred, alpha=0.5)\n",
    "ax2.plot([0, 1], [0, 1], '--k')  # Perfect prediction line\n",
    "ax2.set_xlabel('True Effectiveness')\n",
    "ax2.set_ylabel('Predicted Effectiveness')\n",
    "ax2.set_title('Effectiveness Predictions vs True Values')\n",
    "\n",
    "plt.tight_layout()\n",
    "plt.show()\n",
    "\n",
    "# Medicine prediction confusion matrix\n",
    "plt.figure(figsize=(8, 6))\n",
    "from sklearn.metrics import confusion_matrix\n",
    "import seaborn as sns\n",
    "\n",
    "cm = confusion_matrix(y_test_med, medicine_pred)\n",
    "sns.heatmap(cm, annot=True, fmt='d', cmap='Blues',\n",
    "            xticklabels=medicine_model.classes_,\n",
    "            yticklabels=medicine_model.classes_)\n",
    "plt.title('Medicine Prediction Confusion Matrix')\n",
    "plt.xlabel('Predicted')\n",
    "plt.ylabel('True')\n",
    "plt.show()"
   ]
  }
 ],
 "metadata": {
  "kernelspec": {
   "display_name": "Python 3",
   "language": "python",
   "name": "python3"
  },
  "language_info": {
   "codemirror_mode": {
    "name": "ipython",
    "version": 3
   },
   "file_extension": ".py",
   "mimetype": "text/x-python",
   "name": "python",
   "nbconvert_exporter": "python",
   "pygments_lexer": "ipython3",
   "version": "3.11.0"
  }
 },
 "nbformat": 4,
 "nbformat_minor": 5
}
